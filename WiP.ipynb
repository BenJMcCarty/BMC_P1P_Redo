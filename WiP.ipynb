{
 "cells": [
  {
   "cell_type": "markdown",
   "metadata": {},
   "source": [
    "# **Phases 1 and 2 Revisited**"
   ]
  },
  {
   "cell_type": "markdown",
   "metadata": {},
   "source": [
    "## *Prompt*"
   ]
  },
  {
   "cell_type": "markdown",
   "metadata": {},
   "source": [
    "**Microsoft's Making Moves into Movies**\n",
    "\n",
    ">* What types of movies are performing the best a the box offices?\n",
    ">* What actions should they take based on the data?"
   ]
  },
  {
   "cell_type": "markdown",
   "metadata": {},
   "source": [
    "## *Questions*"
   ]
  },
  {
   "cell_type": "markdown",
   "metadata": {},
   "source": [
    "---\n",
    "**What questions will guide my process?**\n",
    "\n",
    ">* **What genres show the best performance?**\n",
    "    * What is the best way to evaluate the *profitability* of the movies?\n",
    "        * Gross\n",
    "        * Profit\n",
    "        * ROI\n",
    "    * What is the best way to determine the best *quality* of each movie?\n",
    ">\n",
    ">\n",
    ">* **How do we determine the \"best\" features?**\n",
    "    * Which features would have the greatest impact on each of the performance metrics?\n",
    "    * How to optimize for all three metrics?\n",
    ">\n",
    ">\n",
    ">* **What release times are best for gross value?**\n",
    "    * Seasons vs. Quarters?\n",
    "        * *Would it make more sense either way? Could there be a benefit for inferences/predictions via LinReg modeling?*\n",
    ">\n",
    ">\n",
    ">* **Which directors show the strongest/weakest performance?**\n",
    "    * Get director names, ID\n",
    "    * Add names to dataframe including the movie ID and gross performance/highest reviews\n",
    ">\n",
    ">\n",
    ">* **What features would give the strongest indications of performance?**\n",
    ">\n",
    ">\n",
    ">* **How can we determine whether or not a movie is \"successful\" or not?**\n",
    "\n",
    "---\n",
    "\n",
    "**Goals:**\n",
    ">\n",
    ">* **Determine KPIs**\n",
    "    * How to measure a movie's success?\n",
    ">\n",
    ">\n",
    ">* **Use linear regression modeling to determine the top 5 features for each target.**\n",
    "    * To what degree do the features overlap?\n",
    "    * What would be the top 3-5 features on which to focus to create the \"best\" movie (balancing all of the metrics)?\n",
    "\n",
    "---"
   ]
  },
  {
   "cell_type": "markdown",
   "metadata": {},
   "source": [
    "## 🎇 **WIP Current Status** 🎇"
   ]
  },
  {
   "cell_type": "markdown",
   "metadata": {},
   "source": [
    "---\n",
    ">*Update this section after each coding session - quick review/AAG overview of what is done and what is do-do*\n",
    ">\n",
    ">*Imagine its a scrum/kanban board in the notebook*\n",
    "\n",
    "---\n",
    "\n",
    "**Done**\n",
    "\n",
    ">* **Data Cleaning:** pulled, df'ed, coverted datatypes, filled \"N/A\" values\n",
    ">\n",
    ">\n",
    ">* **FE:** \n",
    ">   * Months, Seasons, Quarters\n",
    ">   * Genres to list, then to individual rows\n",
    ">   * Profit and ROI metrics\n",
    ">\n",
    ">\n",
    ">* **Visualizations:**\n",
    ">   * Seasonal performance - gross, profit, ROI\n",
    "\n",
    "**To-Do**\n",
    "\n",
    ">* MultiCollinearity and Correlations\n",
    ">\n",
    ">\n",
    ">* Statistical Testing\n",
    ">\n",
    ">\n",
    ">* LinReg\n",
    ">\n",
    ">\n",
    "---"
   ]
  },
  {
   "cell_type": "markdown",
   "metadata": {},
   "source": [
    "## *Process*\n",
    "\n",
    ">1. Import .csv's\n",
    ">2. Clean data\n",
    ">3. EDA w. visuals\n",
    ">4. **Determine initial insights and actions**\n",
    ">5. Create new features\n",
    ">6. Test for correlations/multicollinearity\n",
    ">7. Perform statistical testing\n",
    ">8. Create LinReg model for **inference**\n",
    ">9. Create LinReg model for **predictions**\n",
    ">10. **Present final results for inferences, predictions**\n",
    "    1. Include initial, final insights and recommendations"
   ]
  },
  {
   "cell_type": "markdown",
   "metadata": {},
   "source": [
    "# **Imports**"
   ]
  },
  {
   "cell_type": "markdown",
   "metadata": {},
   "source": [
    "## Packages"
   ]
  },
  {
   "cell_type": "code",
   "execution_count": 57,
   "metadata": {
    "ExecuteTime": {
     "end_time": "2021-06-23T18:48:33.823373Z",
     "start_time": "2021-06-23T18:48:33.800348Z"
    }
   },
   "outputs": [],
   "source": [
    "## Accessing stored data\n",
    "import csv\n",
    "import os,glob\n",
    "\n",
    "## Data exploration and statistics\n",
    "import pandas as pd\n",
    "import numpy as np\n",
    "from sklearn import preprocessing\n",
    "\n",
    "## Creating Visualizations\n",
    "import seaborn as sns\n",
    "import matplotlib.pyplot as plt\n",
    "\n",
    "## Settings\n",
    "%matplotlib inline\n",
    "pd.set_option('display.float_format', lambda x: '%.2f' % x)\n",
    "sns.set_context('notebook', font_scale=1.25)"
   ]
  },
  {
   "cell_type": "markdown",
   "metadata": {},
   "source": [
    "## Data"
   ]
  },
  {
   "cell_type": "code",
   "execution_count": 58,
   "metadata": {
    "ExecuteTime": {
     "end_time": "2021-06-23T18:48:33.838347Z",
     "start_time": "2021-06-23T18:48:33.826348Z"
    },
    "code_folding": []
   },
   "outputs": [
    {
     "data": {
      "text/plain": [
       "['zippedData\\\\bom.movie_gross.csv.gz',\n",
       " 'zippedData\\\\imdb.name.basics.csv.gz',\n",
       " 'zippedData\\\\imdb.title.akas.csv.gz',\n",
       " 'zippedData\\\\imdb.title.basics.csv.gz',\n",
       " 'zippedData\\\\imdb.title.crew.csv.gz',\n",
       " 'zippedData\\\\imdb.title.principals.csv.gz',\n",
       " 'zippedData\\\\imdb.title.ratings.csv.gz',\n",
       " 'zippedData\\\\tmdb.movies.csv.gz',\n",
       " 'zippedData\\\\tn.movie_budgets.csv.gz']"
      ]
     },
     "execution_count": 58,
     "metadata": {},
     "output_type": "execute_result"
    }
   ],
   "source": [
    "## Creating list of files to loop through for data\n",
    "data_folder = 'zippedData/'\n",
    "data_files = glob.glob(f'{data_folder}*.csv*')\n",
    "data_files"
   ]
  },
  {
   "cell_type": "code",
   "execution_count": 59,
   "metadata": {
    "ExecuteTime": {
     "end_time": "2021-06-23T18:48:39.913363Z",
     "start_time": "2021-06-23T18:48:33.841348Z"
    },
    "code_folding": [],
    "scrolled": false
   },
   "outputs": [
    {
     "name": "stdout",
     "output_type": "stream",
     "text": [
      "-----------------------------------------------------------------------------------------------------------------------------\n",
      "Preview of bom_movie_gross:\n"
     ]
    },
    {
     "data": {
      "text/html": [
       "<div>\n",
       "<style scoped>\n",
       "    .dataframe tbody tr th:only-of-type {\n",
       "        vertical-align: middle;\n",
       "    }\n",
       "\n",
       "    .dataframe tbody tr th {\n",
       "        vertical-align: top;\n",
       "    }\n",
       "\n",
       "    .dataframe thead th {\n",
       "        text-align: right;\n",
       "    }\n",
       "</style>\n",
       "<table border=\"1\" class=\"dataframe\">\n",
       "  <thead>\n",
       "    <tr style=\"text-align: right;\">\n",
       "      <th></th>\n",
       "      <th>title</th>\n",
       "      <th>studio</th>\n",
       "      <th>domestic_gross</th>\n",
       "      <th>foreign_gross</th>\n",
       "      <th>year</th>\n",
       "    </tr>\n",
       "  </thead>\n",
       "  <tbody>\n",
       "    <tr>\n",
       "      <th>0</th>\n",
       "      <td>Toy Story 3</td>\n",
       "      <td>BV</td>\n",
       "      <td>415000000.00</td>\n",
       "      <td>652000000</td>\n",
       "      <td>2010</td>\n",
       "    </tr>\n",
       "    <tr>\n",
       "      <th>1</th>\n",
       "      <td>Alice in Wonderland (2010)</td>\n",
       "      <td>BV</td>\n",
       "      <td>334200000.00</td>\n",
       "      <td>691300000</td>\n",
       "      <td>2010</td>\n",
       "    </tr>\n",
       "    <tr>\n",
       "      <th>2</th>\n",
       "      <td>Harry Potter and the Deathly Hallows Part 1</td>\n",
       "      <td>WB</td>\n",
       "      <td>296000000.00</td>\n",
       "      <td>664300000</td>\n",
       "      <td>2010</td>\n",
       "    </tr>\n",
       "    <tr>\n",
       "      <th>3</th>\n",
       "      <td>Inception</td>\n",
       "      <td>WB</td>\n",
       "      <td>292600000.00</td>\n",
       "      <td>535700000</td>\n",
       "      <td>2010</td>\n",
       "    </tr>\n",
       "    <tr>\n",
       "      <th>4</th>\n",
       "      <td>Shrek Forever After</td>\n",
       "      <td>P/DW</td>\n",
       "      <td>238700000.00</td>\n",
       "      <td>513900000</td>\n",
       "      <td>2010</td>\n",
       "    </tr>\n",
       "  </tbody>\n",
       "</table>\n",
       "</div>"
      ],
      "text/plain": [
       "                                         title studio  domestic_gross  \\\n",
       "0                                  Toy Story 3     BV    415000000.00   \n",
       "1                   Alice in Wonderland (2010)     BV    334200000.00   \n",
       "2  Harry Potter and the Deathly Hallows Part 1     WB    296000000.00   \n",
       "3                                    Inception     WB    292600000.00   \n",
       "4                          Shrek Forever After   P/DW    238700000.00   \n",
       "\n",
       "  foreign_gross  year  \n",
       "0     652000000  2010  \n",
       "1     691300000  2010  \n",
       "2     664300000  2010  \n",
       "3     535700000  2010  \n",
       "4     513900000  2010  "
      ]
     },
     "metadata": {},
     "output_type": "display_data"
    },
    {
     "name": "stdout",
     "output_type": "stream",
     "text": [
      "\n",
      "-----------------------------------------------------------------------------------------------------------------------------\n",
      "Preview of imdb_name_basics:\n"
     ]
    },
    {
     "data": {
      "text/html": [
       "<div>\n",
       "<style scoped>\n",
       "    .dataframe tbody tr th:only-of-type {\n",
       "        vertical-align: middle;\n",
       "    }\n",
       "\n",
       "    .dataframe tbody tr th {\n",
       "        vertical-align: top;\n",
       "    }\n",
       "\n",
       "    .dataframe thead th {\n",
       "        text-align: right;\n",
       "    }\n",
       "</style>\n",
       "<table border=\"1\" class=\"dataframe\">\n",
       "  <thead>\n",
       "    <tr style=\"text-align: right;\">\n",
       "      <th></th>\n",
       "      <th>nconst</th>\n",
       "      <th>primary_name</th>\n",
       "      <th>birth_year</th>\n",
       "      <th>death_year</th>\n",
       "      <th>primary_profession</th>\n",
       "      <th>known_for_titles</th>\n",
       "    </tr>\n",
       "  </thead>\n",
       "  <tbody>\n",
       "    <tr>\n",
       "      <th>0</th>\n",
       "      <td>nm0061671</td>\n",
       "      <td>Mary Ellen Bauder</td>\n",
       "      <td>nan</td>\n",
       "      <td>nan</td>\n",
       "      <td>miscellaneous,production_manager,producer</td>\n",
       "      <td>tt0837562,tt2398241,tt0844471,tt0118553</td>\n",
       "    </tr>\n",
       "    <tr>\n",
       "      <th>1</th>\n",
       "      <td>nm0061865</td>\n",
       "      <td>Joseph Bauer</td>\n",
       "      <td>nan</td>\n",
       "      <td>nan</td>\n",
       "      <td>composer,music_department,sound_department</td>\n",
       "      <td>tt0896534,tt6791238,tt0287072,tt1682940</td>\n",
       "    </tr>\n",
       "    <tr>\n",
       "      <th>2</th>\n",
       "      <td>nm0062070</td>\n",
       "      <td>Bruce Baum</td>\n",
       "      <td>nan</td>\n",
       "      <td>nan</td>\n",
       "      <td>miscellaneous,actor,writer</td>\n",
       "      <td>tt1470654,tt0363631,tt0104030,tt0102898</td>\n",
       "    </tr>\n",
       "    <tr>\n",
       "      <th>3</th>\n",
       "      <td>nm0062195</td>\n",
       "      <td>Axel Baumann</td>\n",
       "      <td>nan</td>\n",
       "      <td>nan</td>\n",
       "      <td>camera_department,cinematographer,art_department</td>\n",
       "      <td>tt0114371,tt2004304,tt1618448,tt1224387</td>\n",
       "    </tr>\n",
       "    <tr>\n",
       "      <th>4</th>\n",
       "      <td>nm0062798</td>\n",
       "      <td>Pete Baxter</td>\n",
       "      <td>nan</td>\n",
       "      <td>nan</td>\n",
       "      <td>production_designer,art_department,set_decorator</td>\n",
       "      <td>tt0452644,tt0452692,tt3458030,tt2178256</td>\n",
       "    </tr>\n",
       "  </tbody>\n",
       "</table>\n",
       "</div>"
      ],
      "text/plain": [
       "      nconst       primary_name  birth_year  death_year  \\\n",
       "0  nm0061671  Mary Ellen Bauder         nan         nan   \n",
       "1  nm0061865       Joseph Bauer         nan         nan   \n",
       "2  nm0062070         Bruce Baum         nan         nan   \n",
       "3  nm0062195       Axel Baumann         nan         nan   \n",
       "4  nm0062798        Pete Baxter         nan         nan   \n",
       "\n",
       "                                 primary_profession  \\\n",
       "0         miscellaneous,production_manager,producer   \n",
       "1        composer,music_department,sound_department   \n",
       "2                        miscellaneous,actor,writer   \n",
       "3  camera_department,cinematographer,art_department   \n",
       "4  production_designer,art_department,set_decorator   \n",
       "\n",
       "                          known_for_titles  \n",
       "0  tt0837562,tt2398241,tt0844471,tt0118553  \n",
       "1  tt0896534,tt6791238,tt0287072,tt1682940  \n",
       "2  tt1470654,tt0363631,tt0104030,tt0102898  \n",
       "3  tt0114371,tt2004304,tt1618448,tt1224387  \n",
       "4  tt0452644,tt0452692,tt3458030,tt2178256  "
      ]
     },
     "metadata": {},
     "output_type": "display_data"
    },
    {
     "name": "stdout",
     "output_type": "stream",
     "text": [
      "\n",
      "-----------------------------------------------------------------------------------------------------------------------------\n",
      "Preview of imdb_title_akas:\n"
     ]
    },
    {
     "data": {
      "text/html": [
       "<div>\n",
       "<style scoped>\n",
       "    .dataframe tbody tr th:only-of-type {\n",
       "        vertical-align: middle;\n",
       "    }\n",
       "\n",
       "    .dataframe tbody tr th {\n",
       "        vertical-align: top;\n",
       "    }\n",
       "\n",
       "    .dataframe thead th {\n",
       "        text-align: right;\n",
       "    }\n",
       "</style>\n",
       "<table border=\"1\" class=\"dataframe\">\n",
       "  <thead>\n",
       "    <tr style=\"text-align: right;\">\n",
       "      <th></th>\n",
       "      <th>title_id</th>\n",
       "      <th>ordering</th>\n",
       "      <th>title</th>\n",
       "      <th>region</th>\n",
       "      <th>language</th>\n",
       "      <th>types</th>\n",
       "      <th>attributes</th>\n",
       "      <th>is_original_title</th>\n",
       "    </tr>\n",
       "  </thead>\n",
       "  <tbody>\n",
       "    <tr>\n",
       "      <th>0</th>\n",
       "      <td>tt0369610</td>\n",
       "      <td>10</td>\n",
       "      <td>Джурасик свят</td>\n",
       "      <td>BG</td>\n",
       "      <td>bg</td>\n",
       "      <td>NaN</td>\n",
       "      <td>NaN</td>\n",
       "      <td>0.00</td>\n",
       "    </tr>\n",
       "    <tr>\n",
       "      <th>1</th>\n",
       "      <td>tt0369610</td>\n",
       "      <td>11</td>\n",
       "      <td>Jurashikku warudo</td>\n",
       "      <td>JP</td>\n",
       "      <td>NaN</td>\n",
       "      <td>imdbDisplay</td>\n",
       "      <td>NaN</td>\n",
       "      <td>0.00</td>\n",
       "    </tr>\n",
       "    <tr>\n",
       "      <th>2</th>\n",
       "      <td>tt0369610</td>\n",
       "      <td>12</td>\n",
       "      <td>Jurassic World: O Mundo dos Dinossauros</td>\n",
       "      <td>BR</td>\n",
       "      <td>NaN</td>\n",
       "      <td>imdbDisplay</td>\n",
       "      <td>NaN</td>\n",
       "      <td>0.00</td>\n",
       "    </tr>\n",
       "    <tr>\n",
       "      <th>3</th>\n",
       "      <td>tt0369610</td>\n",
       "      <td>13</td>\n",
       "      <td>O Mundo dos Dinossauros</td>\n",
       "      <td>BR</td>\n",
       "      <td>NaN</td>\n",
       "      <td>NaN</td>\n",
       "      <td>short title</td>\n",
       "      <td>0.00</td>\n",
       "    </tr>\n",
       "    <tr>\n",
       "      <th>4</th>\n",
       "      <td>tt0369610</td>\n",
       "      <td>14</td>\n",
       "      <td>Jurassic World</td>\n",
       "      <td>FR</td>\n",
       "      <td>NaN</td>\n",
       "      <td>imdbDisplay</td>\n",
       "      <td>NaN</td>\n",
       "      <td>0.00</td>\n",
       "    </tr>\n",
       "  </tbody>\n",
       "</table>\n",
       "</div>"
      ],
      "text/plain": [
       "    title_id  ordering                                    title region  \\\n",
       "0  tt0369610        10                            Джурасик свят     BG   \n",
       "1  tt0369610        11                        Jurashikku warudo     JP   \n",
       "2  tt0369610        12  Jurassic World: O Mundo dos Dinossauros     BR   \n",
       "3  tt0369610        13                  O Mundo dos Dinossauros     BR   \n",
       "4  tt0369610        14                           Jurassic World     FR   \n",
       "\n",
       "  language        types   attributes  is_original_title  \n",
       "0       bg          NaN          NaN               0.00  \n",
       "1      NaN  imdbDisplay          NaN               0.00  \n",
       "2      NaN  imdbDisplay          NaN               0.00  \n",
       "3      NaN          NaN  short title               0.00  \n",
       "4      NaN  imdbDisplay          NaN               0.00  "
      ]
     },
     "metadata": {},
     "output_type": "display_data"
    },
    {
     "name": "stdout",
     "output_type": "stream",
     "text": [
      "\n",
      "-----------------------------------------------------------------------------------------------------------------------------\n",
      "Preview of imdb_title_basics:\n"
     ]
    },
    {
     "data": {
      "text/html": [
       "<div>\n",
       "<style scoped>\n",
       "    .dataframe tbody tr th:only-of-type {\n",
       "        vertical-align: middle;\n",
       "    }\n",
       "\n",
       "    .dataframe tbody tr th {\n",
       "        vertical-align: top;\n",
       "    }\n",
       "\n",
       "    .dataframe thead th {\n",
       "        text-align: right;\n",
       "    }\n",
       "</style>\n",
       "<table border=\"1\" class=\"dataframe\">\n",
       "  <thead>\n",
       "    <tr style=\"text-align: right;\">\n",
       "      <th></th>\n",
       "      <th>tconst</th>\n",
       "      <th>primary_title</th>\n",
       "      <th>original_title</th>\n",
       "      <th>start_year</th>\n",
       "      <th>runtime_minutes</th>\n",
       "      <th>genres</th>\n",
       "    </tr>\n",
       "  </thead>\n",
       "  <tbody>\n",
       "    <tr>\n",
       "      <th>0</th>\n",
       "      <td>tt0063540</td>\n",
       "      <td>Sunghursh</td>\n",
       "      <td>Sunghursh</td>\n",
       "      <td>2013</td>\n",
       "      <td>175.00</td>\n",
       "      <td>Action,Crime,Drama</td>\n",
       "    </tr>\n",
       "    <tr>\n",
       "      <th>1</th>\n",
       "      <td>tt0066787</td>\n",
       "      <td>One Day Before the Rainy Season</td>\n",
       "      <td>Ashad Ka Ek Din</td>\n",
       "      <td>2019</td>\n",
       "      <td>114.00</td>\n",
       "      <td>Biography,Drama</td>\n",
       "    </tr>\n",
       "    <tr>\n",
       "      <th>2</th>\n",
       "      <td>tt0069049</td>\n",
       "      <td>The Other Side of the Wind</td>\n",
       "      <td>The Other Side of the Wind</td>\n",
       "      <td>2018</td>\n",
       "      <td>122.00</td>\n",
       "      <td>Drama</td>\n",
       "    </tr>\n",
       "    <tr>\n",
       "      <th>3</th>\n",
       "      <td>tt0069204</td>\n",
       "      <td>Sabse Bada Sukh</td>\n",
       "      <td>Sabse Bada Sukh</td>\n",
       "      <td>2018</td>\n",
       "      <td>nan</td>\n",
       "      <td>Comedy,Drama</td>\n",
       "    </tr>\n",
       "    <tr>\n",
       "      <th>4</th>\n",
       "      <td>tt0100275</td>\n",
       "      <td>The Wandering Soap Opera</td>\n",
       "      <td>La Telenovela Errante</td>\n",
       "      <td>2017</td>\n",
       "      <td>80.00</td>\n",
       "      <td>Comedy,Drama,Fantasy</td>\n",
       "    </tr>\n",
       "  </tbody>\n",
       "</table>\n",
       "</div>"
      ],
      "text/plain": [
       "      tconst                    primary_title              original_title  \\\n",
       "0  tt0063540                        Sunghursh                   Sunghursh   \n",
       "1  tt0066787  One Day Before the Rainy Season             Ashad Ka Ek Din   \n",
       "2  tt0069049       The Other Side of the Wind  The Other Side of the Wind   \n",
       "3  tt0069204                  Sabse Bada Sukh             Sabse Bada Sukh   \n",
       "4  tt0100275         The Wandering Soap Opera       La Telenovela Errante   \n",
       "\n",
       "   start_year  runtime_minutes                genres  \n",
       "0        2013           175.00    Action,Crime,Drama  \n",
       "1        2019           114.00       Biography,Drama  \n",
       "2        2018           122.00                 Drama  \n",
       "3        2018              nan          Comedy,Drama  \n",
       "4        2017            80.00  Comedy,Drama,Fantasy  "
      ]
     },
     "metadata": {},
     "output_type": "display_data"
    },
    {
     "name": "stdout",
     "output_type": "stream",
     "text": [
      "\n",
      "-----------------------------------------------------------------------------------------------------------------------------\n",
      "Preview of imdb_title_crew:\n"
     ]
    },
    {
     "data": {
      "text/html": [
       "<div>\n",
       "<style scoped>\n",
       "    .dataframe tbody tr th:only-of-type {\n",
       "        vertical-align: middle;\n",
       "    }\n",
       "\n",
       "    .dataframe tbody tr th {\n",
       "        vertical-align: top;\n",
       "    }\n",
       "\n",
       "    .dataframe thead th {\n",
       "        text-align: right;\n",
       "    }\n",
       "</style>\n",
       "<table border=\"1\" class=\"dataframe\">\n",
       "  <thead>\n",
       "    <tr style=\"text-align: right;\">\n",
       "      <th></th>\n",
       "      <th>tconst</th>\n",
       "      <th>directors</th>\n",
       "      <th>writers</th>\n",
       "    </tr>\n",
       "  </thead>\n",
       "  <tbody>\n",
       "    <tr>\n",
       "      <th>0</th>\n",
       "      <td>tt0285252</td>\n",
       "      <td>nm0899854</td>\n",
       "      <td>nm0899854</td>\n",
       "    </tr>\n",
       "    <tr>\n",
       "      <th>1</th>\n",
       "      <td>tt0438973</td>\n",
       "      <td>NaN</td>\n",
       "      <td>nm0175726,nm1802864</td>\n",
       "    </tr>\n",
       "    <tr>\n",
       "      <th>2</th>\n",
       "      <td>tt0462036</td>\n",
       "      <td>nm1940585</td>\n",
       "      <td>nm1940585</td>\n",
       "    </tr>\n",
       "    <tr>\n",
       "      <th>3</th>\n",
       "      <td>tt0835418</td>\n",
       "      <td>nm0151540</td>\n",
       "      <td>nm0310087,nm0841532</td>\n",
       "    </tr>\n",
       "    <tr>\n",
       "      <th>4</th>\n",
       "      <td>tt0878654</td>\n",
       "      <td>nm0089502,nm2291498,nm2292011</td>\n",
       "      <td>nm0284943</td>\n",
       "    </tr>\n",
       "  </tbody>\n",
       "</table>\n",
       "</div>"
      ],
      "text/plain": [
       "      tconst                      directors              writers\n",
       "0  tt0285252                      nm0899854            nm0899854\n",
       "1  tt0438973                            NaN  nm0175726,nm1802864\n",
       "2  tt0462036                      nm1940585            nm1940585\n",
       "3  tt0835418                      nm0151540  nm0310087,nm0841532\n",
       "4  tt0878654  nm0089502,nm2291498,nm2292011            nm0284943"
      ]
     },
     "metadata": {},
     "output_type": "display_data"
    },
    {
     "name": "stdout",
     "output_type": "stream",
     "text": [
      "\n",
      "-----------------------------------------------------------------------------------------------------------------------------\n",
      "Preview of imdb_title_principals:\n"
     ]
    },
    {
     "data": {
      "text/html": [
       "<div>\n",
       "<style scoped>\n",
       "    .dataframe tbody tr th:only-of-type {\n",
       "        vertical-align: middle;\n",
       "    }\n",
       "\n",
       "    .dataframe tbody tr th {\n",
       "        vertical-align: top;\n",
       "    }\n",
       "\n",
       "    .dataframe thead th {\n",
       "        text-align: right;\n",
       "    }\n",
       "</style>\n",
       "<table border=\"1\" class=\"dataframe\">\n",
       "  <thead>\n",
       "    <tr style=\"text-align: right;\">\n",
       "      <th></th>\n",
       "      <th>tconst</th>\n",
       "      <th>ordering</th>\n",
       "      <th>nconst</th>\n",
       "      <th>category</th>\n",
       "      <th>job</th>\n",
       "      <th>characters</th>\n",
       "    </tr>\n",
       "  </thead>\n",
       "  <tbody>\n",
       "    <tr>\n",
       "      <th>0</th>\n",
       "      <td>tt0111414</td>\n",
       "      <td>1</td>\n",
       "      <td>nm0246005</td>\n",
       "      <td>actor</td>\n",
       "      <td>NaN</td>\n",
       "      <td>[\"The Man\"]</td>\n",
       "    </tr>\n",
       "    <tr>\n",
       "      <th>1</th>\n",
       "      <td>tt0111414</td>\n",
       "      <td>2</td>\n",
       "      <td>nm0398271</td>\n",
       "      <td>director</td>\n",
       "      <td>NaN</td>\n",
       "      <td>NaN</td>\n",
       "    </tr>\n",
       "    <tr>\n",
       "      <th>2</th>\n",
       "      <td>tt0111414</td>\n",
       "      <td>3</td>\n",
       "      <td>nm3739909</td>\n",
       "      <td>producer</td>\n",
       "      <td>producer</td>\n",
       "      <td>NaN</td>\n",
       "    </tr>\n",
       "    <tr>\n",
       "      <th>3</th>\n",
       "      <td>tt0323808</td>\n",
       "      <td>10</td>\n",
       "      <td>nm0059247</td>\n",
       "      <td>editor</td>\n",
       "      <td>NaN</td>\n",
       "      <td>NaN</td>\n",
       "    </tr>\n",
       "    <tr>\n",
       "      <th>4</th>\n",
       "      <td>tt0323808</td>\n",
       "      <td>1</td>\n",
       "      <td>nm3579312</td>\n",
       "      <td>actress</td>\n",
       "      <td>NaN</td>\n",
       "      <td>[\"Beth Boothby\"]</td>\n",
       "    </tr>\n",
       "  </tbody>\n",
       "</table>\n",
       "</div>"
      ],
      "text/plain": [
       "      tconst  ordering     nconst  category       job        characters\n",
       "0  tt0111414         1  nm0246005     actor       NaN       [\"The Man\"]\n",
       "1  tt0111414         2  nm0398271  director       NaN               NaN\n",
       "2  tt0111414         3  nm3739909  producer  producer               NaN\n",
       "3  tt0323808        10  nm0059247    editor       NaN               NaN\n",
       "4  tt0323808         1  nm3579312   actress       NaN  [\"Beth Boothby\"]"
      ]
     },
     "metadata": {},
     "output_type": "display_data"
    },
    {
     "name": "stdout",
     "output_type": "stream",
     "text": [
      "\n",
      "-----------------------------------------------------------------------------------------------------------------------------\n",
      "Preview of imdb_title_ratings:\n"
     ]
    },
    {
     "data": {
      "text/html": [
       "<div>\n",
       "<style scoped>\n",
       "    .dataframe tbody tr th:only-of-type {\n",
       "        vertical-align: middle;\n",
       "    }\n",
       "\n",
       "    .dataframe tbody tr th {\n",
       "        vertical-align: top;\n",
       "    }\n",
       "\n",
       "    .dataframe thead th {\n",
       "        text-align: right;\n",
       "    }\n",
       "</style>\n",
       "<table border=\"1\" class=\"dataframe\">\n",
       "  <thead>\n",
       "    <tr style=\"text-align: right;\">\n",
       "      <th></th>\n",
       "      <th>tconst</th>\n",
       "      <th>averagerating</th>\n",
       "      <th>numvotes</th>\n",
       "    </tr>\n",
       "  </thead>\n",
       "  <tbody>\n",
       "    <tr>\n",
       "      <th>0</th>\n",
       "      <td>tt10356526</td>\n",
       "      <td>8.30</td>\n",
       "      <td>31</td>\n",
       "    </tr>\n",
       "    <tr>\n",
       "      <th>1</th>\n",
       "      <td>tt10384606</td>\n",
       "      <td>8.90</td>\n",
       "      <td>559</td>\n",
       "    </tr>\n",
       "    <tr>\n",
       "      <th>2</th>\n",
       "      <td>tt1042974</td>\n",
       "      <td>6.40</td>\n",
       "      <td>20</td>\n",
       "    </tr>\n",
       "    <tr>\n",
       "      <th>3</th>\n",
       "      <td>tt1043726</td>\n",
       "      <td>4.20</td>\n",
       "      <td>50352</td>\n",
       "    </tr>\n",
       "    <tr>\n",
       "      <th>4</th>\n",
       "      <td>tt1060240</td>\n",
       "      <td>6.50</td>\n",
       "      <td>21</td>\n",
       "    </tr>\n",
       "  </tbody>\n",
       "</table>\n",
       "</div>"
      ],
      "text/plain": [
       "       tconst  averagerating  numvotes\n",
       "0  tt10356526           8.30        31\n",
       "1  tt10384606           8.90       559\n",
       "2   tt1042974           6.40        20\n",
       "3   tt1043726           4.20     50352\n",
       "4   tt1060240           6.50        21"
      ]
     },
     "metadata": {},
     "output_type": "display_data"
    },
    {
     "name": "stdout",
     "output_type": "stream",
     "text": [
      "\n",
      "-----------------------------------------------------------------------------------------------------------------------------\n",
      "Preview of tmdb_movies:\n"
     ]
    },
    {
     "data": {
      "text/html": [
       "<div>\n",
       "<style scoped>\n",
       "    .dataframe tbody tr th:only-of-type {\n",
       "        vertical-align: middle;\n",
       "    }\n",
       "\n",
       "    .dataframe tbody tr th {\n",
       "        vertical-align: top;\n",
       "    }\n",
       "\n",
       "    .dataframe thead th {\n",
       "        text-align: right;\n",
       "    }\n",
       "</style>\n",
       "<table border=\"1\" class=\"dataframe\">\n",
       "  <thead>\n",
       "    <tr style=\"text-align: right;\">\n",
       "      <th></th>\n",
       "      <th>Unnamed: 0</th>\n",
       "      <th>genre_ids</th>\n",
       "      <th>id</th>\n",
       "      <th>original_language</th>\n",
       "      <th>original_title</th>\n",
       "      <th>popularity</th>\n",
       "      <th>release_date</th>\n",
       "      <th>title</th>\n",
       "      <th>vote_average</th>\n",
       "      <th>vote_count</th>\n",
       "    </tr>\n",
       "  </thead>\n",
       "  <tbody>\n",
       "    <tr>\n",
       "      <th>0</th>\n",
       "      <td>0</td>\n",
       "      <td>[12, 14, 10751]</td>\n",
       "      <td>12444</td>\n",
       "      <td>en</td>\n",
       "      <td>Harry Potter and the Deathly Hallows: Part 1</td>\n",
       "      <td>33.53</td>\n",
       "      <td>2010-11-19</td>\n",
       "      <td>Harry Potter and the Deathly Hallows: Part 1</td>\n",
       "      <td>7.70</td>\n",
       "      <td>10788</td>\n",
       "    </tr>\n",
       "    <tr>\n",
       "      <th>1</th>\n",
       "      <td>1</td>\n",
       "      <td>[14, 12, 16, 10751]</td>\n",
       "      <td>10191</td>\n",
       "      <td>en</td>\n",
       "      <td>How to Train Your Dragon</td>\n",
       "      <td>28.73</td>\n",
       "      <td>2010-03-26</td>\n",
       "      <td>How to Train Your Dragon</td>\n",
       "      <td>7.70</td>\n",
       "      <td>7610</td>\n",
       "    </tr>\n",
       "    <tr>\n",
       "      <th>2</th>\n",
       "      <td>2</td>\n",
       "      <td>[12, 28, 878]</td>\n",
       "      <td>10138</td>\n",
       "      <td>en</td>\n",
       "      <td>Iron Man 2</td>\n",
       "      <td>28.52</td>\n",
       "      <td>2010-05-07</td>\n",
       "      <td>Iron Man 2</td>\n",
       "      <td>6.80</td>\n",
       "      <td>12368</td>\n",
       "    </tr>\n",
       "    <tr>\n",
       "      <th>3</th>\n",
       "      <td>3</td>\n",
       "      <td>[16, 35, 10751]</td>\n",
       "      <td>862</td>\n",
       "      <td>en</td>\n",
       "      <td>Toy Story</td>\n",
       "      <td>28.00</td>\n",
       "      <td>1995-11-22</td>\n",
       "      <td>Toy Story</td>\n",
       "      <td>7.90</td>\n",
       "      <td>10174</td>\n",
       "    </tr>\n",
       "    <tr>\n",
       "      <th>4</th>\n",
       "      <td>4</td>\n",
       "      <td>[28, 878, 12]</td>\n",
       "      <td>27205</td>\n",
       "      <td>en</td>\n",
       "      <td>Inception</td>\n",
       "      <td>27.92</td>\n",
       "      <td>2010-07-16</td>\n",
       "      <td>Inception</td>\n",
       "      <td>8.30</td>\n",
       "      <td>22186</td>\n",
       "    </tr>\n",
       "  </tbody>\n",
       "</table>\n",
       "</div>"
      ],
      "text/plain": [
       "   Unnamed: 0            genre_ids     id original_language  \\\n",
       "0           0      [12, 14, 10751]  12444                en   \n",
       "1           1  [14, 12, 16, 10751]  10191                en   \n",
       "2           2        [12, 28, 878]  10138                en   \n",
       "3           3      [16, 35, 10751]    862                en   \n",
       "4           4        [28, 878, 12]  27205                en   \n",
       "\n",
       "                                 original_title  popularity release_date  \\\n",
       "0  Harry Potter and the Deathly Hallows: Part 1       33.53   2010-11-19   \n",
       "1                      How to Train Your Dragon       28.73   2010-03-26   \n",
       "2                                    Iron Man 2       28.52   2010-05-07   \n",
       "3                                     Toy Story       28.00   1995-11-22   \n",
       "4                                     Inception       27.92   2010-07-16   \n",
       "\n",
       "                                          title  vote_average  vote_count  \n",
       "0  Harry Potter and the Deathly Hallows: Part 1          7.70       10788  \n",
       "1                      How to Train Your Dragon          7.70        7610  \n",
       "2                                    Iron Man 2          6.80       12368  \n",
       "3                                     Toy Story          7.90       10174  \n",
       "4                                     Inception          8.30       22186  "
      ]
     },
     "metadata": {},
     "output_type": "display_data"
    },
    {
     "name": "stdout",
     "output_type": "stream",
     "text": [
      "\n",
      "-----------------------------------------------------------------------------------------------------------------------------\n",
      "Preview of tn_movie_budgets:\n"
     ]
    },
    {
     "data": {
      "text/html": [
       "<div>\n",
       "<style scoped>\n",
       "    .dataframe tbody tr th:only-of-type {\n",
       "        vertical-align: middle;\n",
       "    }\n",
       "\n",
       "    .dataframe tbody tr th {\n",
       "        vertical-align: top;\n",
       "    }\n",
       "\n",
       "    .dataframe thead th {\n",
       "        text-align: right;\n",
       "    }\n",
       "</style>\n",
       "<table border=\"1\" class=\"dataframe\">\n",
       "  <thead>\n",
       "    <tr style=\"text-align: right;\">\n",
       "      <th></th>\n",
       "      <th>id</th>\n",
       "      <th>release_date</th>\n",
       "      <th>movie</th>\n",
       "      <th>production_budget</th>\n",
       "      <th>domestic_gross</th>\n",
       "      <th>worldwide_gross</th>\n",
       "    </tr>\n",
       "  </thead>\n",
       "  <tbody>\n",
       "    <tr>\n",
       "      <th>0</th>\n",
       "      <td>1</td>\n",
       "      <td>Dec 18, 2009</td>\n",
       "      <td>Avatar</td>\n",
       "      <td>$425,000,000</td>\n",
       "      <td>$760,507,625</td>\n",
       "      <td>$2,776,345,279</td>\n",
       "    </tr>\n",
       "    <tr>\n",
       "      <th>1</th>\n",
       "      <td>2</td>\n",
       "      <td>May 20, 2011</td>\n",
       "      <td>Pirates of the Caribbean: On Stranger Tides</td>\n",
       "      <td>$410,600,000</td>\n",
       "      <td>$241,063,875</td>\n",
       "      <td>$1,045,663,875</td>\n",
       "    </tr>\n",
       "    <tr>\n",
       "      <th>2</th>\n",
       "      <td>3</td>\n",
       "      <td>Jun 7, 2019</td>\n",
       "      <td>Dark Phoenix</td>\n",
       "      <td>$350,000,000</td>\n",
       "      <td>$42,762,350</td>\n",
       "      <td>$149,762,350</td>\n",
       "    </tr>\n",
       "    <tr>\n",
       "      <th>3</th>\n",
       "      <td>4</td>\n",
       "      <td>May 1, 2015</td>\n",
       "      <td>Avengers: Age of Ultron</td>\n",
       "      <td>$330,600,000</td>\n",
       "      <td>$459,005,868</td>\n",
       "      <td>$1,403,013,963</td>\n",
       "    </tr>\n",
       "    <tr>\n",
       "      <th>4</th>\n",
       "      <td>5</td>\n",
       "      <td>Dec 15, 2017</td>\n",
       "      <td>Star Wars Ep. VIII: The Last Jedi</td>\n",
       "      <td>$317,000,000</td>\n",
       "      <td>$620,181,382</td>\n",
       "      <td>$1,316,721,747</td>\n",
       "    </tr>\n",
       "  </tbody>\n",
       "</table>\n",
       "</div>"
      ],
      "text/plain": [
       "   id  release_date                                        movie  \\\n",
       "0   1  Dec 18, 2009                                       Avatar   \n",
       "1   2  May 20, 2011  Pirates of the Caribbean: On Stranger Tides   \n",
       "2   3   Jun 7, 2019                                 Dark Phoenix   \n",
       "3   4   May 1, 2015                      Avengers: Age of Ultron   \n",
       "4   5  Dec 15, 2017            Star Wars Ep. VIII: The Last Jedi   \n",
       "\n",
       "  production_budget domestic_gross worldwide_gross  \n",
       "0      $425,000,000   $760,507,625  $2,776,345,279  \n",
       "1      $410,600,000   $241,063,875  $1,045,663,875  \n",
       "2      $350,000,000    $42,762,350    $149,762,350  \n",
       "3      $330,600,000   $459,005,868  $1,403,013,963  \n",
       "4      $317,000,000   $620,181,382  $1,316,721,747  "
      ]
     },
     "metadata": {},
     "output_type": "display_data"
    },
    {
     "name": "stdout",
     "output_type": "stream",
     "text": [
      "\n"
     ]
    }
   ],
   "source": [
    "## Looping through individual data files\n",
    "\n",
    "## Code adapted from James Irving\n",
    "## Source: youtube.com/watch?v=rufvTgBEYN8&list=PLFknVelSJiSxSwXifV_ysDg50fzbuTzVt&index=41\n",
    "\n",
    "clean_file_names = {}\n",
    "split = '-----'*25\n",
    "\n",
    "for file in data_files:\n",
    "    name = file.replace('.csv.gz','').split('\\\\')[-1].replace('.','_')\n",
    "    print(split)\n",
    "    \n",
    "    print(f\"Preview of {name}:\")\n",
    "    clean_file_names[name] = pd.read_csv(file)\n",
    "    display(clean_file_names[name].head(5))\n",
    "    print()"
   ]
  },
  {
   "cell_type": "markdown",
   "metadata": {},
   "source": [
    "# **Data Cleaning**"
   ]
  },
  {
   "cell_type": "markdown",
   "metadata": {},
   "source": [
    "## Slicing Individual DataFrames"
   ]
  },
  {
   "cell_type": "code",
   "execution_count": 60,
   "metadata": {
    "ExecuteTime": {
     "end_time": "2021-06-23T18:48:39.943365Z",
     "start_time": "2021-06-23T18:48:39.916366Z"
    }
   },
   "outputs": [
    {
     "data": {
      "text/html": [
       "<div>\n",
       "<style scoped>\n",
       "    .dataframe tbody tr th:only-of-type {\n",
       "        vertical-align: middle;\n",
       "    }\n",
       "\n",
       "    .dataframe tbody tr th {\n",
       "        vertical-align: top;\n",
       "    }\n",
       "\n",
       "    .dataframe thead th {\n",
       "        text-align: right;\n",
       "    }\n",
       "</style>\n",
       "<table border=\"1\" class=\"dataframe\">\n",
       "  <thead>\n",
       "    <tr style=\"text-align: right;\">\n",
       "      <th></th>\n",
       "      <th>tconst</th>\n",
       "      <th>primary_title</th>\n",
       "      <th>original_title</th>\n",
       "      <th>start_year</th>\n",
       "      <th>runtime_minutes</th>\n",
       "      <th>genres</th>\n",
       "    </tr>\n",
       "  </thead>\n",
       "  <tbody>\n",
       "    <tr>\n",
       "      <th>0</th>\n",
       "      <td>tt0063540</td>\n",
       "      <td>Sunghursh</td>\n",
       "      <td>Sunghursh</td>\n",
       "      <td>2013</td>\n",
       "      <td>175.00</td>\n",
       "      <td>Action,Crime,Drama</td>\n",
       "    </tr>\n",
       "    <tr>\n",
       "      <th>1</th>\n",
       "      <td>tt0066787</td>\n",
       "      <td>One Day Before the Rainy Season</td>\n",
       "      <td>Ashad Ka Ek Din</td>\n",
       "      <td>2019</td>\n",
       "      <td>114.00</td>\n",
       "      <td>Biography,Drama</td>\n",
       "    </tr>\n",
       "    <tr>\n",
       "      <th>2</th>\n",
       "      <td>tt0069049</td>\n",
       "      <td>The Other Side of the Wind</td>\n",
       "      <td>The Other Side of the Wind</td>\n",
       "      <td>2018</td>\n",
       "      <td>122.00</td>\n",
       "      <td>Drama</td>\n",
       "    </tr>\n",
       "    <tr>\n",
       "      <th>3</th>\n",
       "      <td>tt0069204</td>\n",
       "      <td>Sabse Bada Sukh</td>\n",
       "      <td>Sabse Bada Sukh</td>\n",
       "      <td>2018</td>\n",
       "      <td>nan</td>\n",
       "      <td>Comedy,Drama</td>\n",
       "    </tr>\n",
       "    <tr>\n",
       "      <th>4</th>\n",
       "      <td>tt0100275</td>\n",
       "      <td>The Wandering Soap Opera</td>\n",
       "      <td>La Telenovela Errante</td>\n",
       "      <td>2017</td>\n",
       "      <td>80.00</td>\n",
       "      <td>Comedy,Drama,Fantasy</td>\n",
       "    </tr>\n",
       "    <tr>\n",
       "      <th>...</th>\n",
       "      <td>...</td>\n",
       "      <td>...</td>\n",
       "      <td>...</td>\n",
       "      <td>...</td>\n",
       "      <td>...</td>\n",
       "      <td>...</td>\n",
       "    </tr>\n",
       "    <tr>\n",
       "      <th>146139</th>\n",
       "      <td>tt9916538</td>\n",
       "      <td>Kuambil Lagi Hatiku</td>\n",
       "      <td>Kuambil Lagi Hatiku</td>\n",
       "      <td>2019</td>\n",
       "      <td>123.00</td>\n",
       "      <td>Drama</td>\n",
       "    </tr>\n",
       "    <tr>\n",
       "      <th>146140</th>\n",
       "      <td>tt9916622</td>\n",
       "      <td>Rodolpho Teóphilo - O Legado de um Pioneiro</td>\n",
       "      <td>Rodolpho Teóphilo - O Legado de um Pioneiro</td>\n",
       "      <td>2015</td>\n",
       "      <td>nan</td>\n",
       "      <td>Documentary</td>\n",
       "    </tr>\n",
       "    <tr>\n",
       "      <th>146141</th>\n",
       "      <td>tt9916706</td>\n",
       "      <td>Dankyavar Danka</td>\n",
       "      <td>Dankyavar Danka</td>\n",
       "      <td>2013</td>\n",
       "      <td>nan</td>\n",
       "      <td>Comedy</td>\n",
       "    </tr>\n",
       "    <tr>\n",
       "      <th>146142</th>\n",
       "      <td>tt9916730</td>\n",
       "      <td>6 Gunn</td>\n",
       "      <td>6 Gunn</td>\n",
       "      <td>2017</td>\n",
       "      <td>116.00</td>\n",
       "      <td>NaN</td>\n",
       "    </tr>\n",
       "    <tr>\n",
       "      <th>146143</th>\n",
       "      <td>tt9916754</td>\n",
       "      <td>Chico Albuquerque - Revelações</td>\n",
       "      <td>Chico Albuquerque - Revelações</td>\n",
       "      <td>2013</td>\n",
       "      <td>nan</td>\n",
       "      <td>Documentary</td>\n",
       "    </tr>\n",
       "  </tbody>\n",
       "</table>\n",
       "<p>146144 rows × 6 columns</p>\n",
       "</div>"
      ],
      "text/plain": [
       "           tconst                                primary_title  \\\n",
       "0       tt0063540                                    Sunghursh   \n",
       "1       tt0066787              One Day Before the Rainy Season   \n",
       "2       tt0069049                   The Other Side of the Wind   \n",
       "3       tt0069204                              Sabse Bada Sukh   \n",
       "4       tt0100275                     The Wandering Soap Opera   \n",
       "...           ...                                          ...   \n",
       "146139  tt9916538                          Kuambil Lagi Hatiku   \n",
       "146140  tt9916622  Rodolpho Teóphilo - O Legado de um Pioneiro   \n",
       "146141  tt9916706                              Dankyavar Danka   \n",
       "146142  tt9916730                                       6 Gunn   \n",
       "146143  tt9916754               Chico Albuquerque - Revelações   \n",
       "\n",
       "                                     original_title  start_year  \\\n",
       "0                                         Sunghursh        2013   \n",
       "1                                   Ashad Ka Ek Din        2019   \n",
       "2                        The Other Side of the Wind        2018   \n",
       "3                                   Sabse Bada Sukh        2018   \n",
       "4                             La Telenovela Errante        2017   \n",
       "...                                             ...         ...   \n",
       "146139                          Kuambil Lagi Hatiku        2019   \n",
       "146140  Rodolpho Teóphilo - O Legado de um Pioneiro        2015   \n",
       "146141                              Dankyavar Danka        2013   \n",
       "146142                                       6 Gunn        2017   \n",
       "146143               Chico Albuquerque - Revelações        2013   \n",
       "\n",
       "        runtime_minutes                genres  \n",
       "0                175.00    Action,Crime,Drama  \n",
       "1                114.00       Biography,Drama  \n",
       "2                122.00                 Drama  \n",
       "3                   nan          Comedy,Drama  \n",
       "4                 80.00  Comedy,Drama,Fantasy  \n",
       "...                 ...                   ...  \n",
       "146139           123.00                 Drama  \n",
       "146140              nan           Documentary  \n",
       "146141              nan                Comedy  \n",
       "146142           116.00                   NaN  \n",
       "146143              nan           Documentary  \n",
       "\n",
       "[146144 rows x 6 columns]"
      ]
     },
     "execution_count": 60,
     "metadata": {},
     "output_type": "execute_result"
    }
   ],
   "source": [
    "## Selecting for genre details\n",
    "title_basics = clean_file_names['imdb_title_basics']\n",
    "title_basics"
   ]
  },
  {
   "cell_type": "code",
   "execution_count": 61,
   "metadata": {
    "ExecuteTime": {
     "end_time": "2021-06-23T18:48:39.975366Z",
     "start_time": "2021-06-23T18:48:39.947366Z"
    }
   },
   "outputs": [
    {
     "data": {
      "text/html": [
       "<div>\n",
       "<style scoped>\n",
       "    .dataframe tbody tr th:only-of-type {\n",
       "        vertical-align: middle;\n",
       "    }\n",
       "\n",
       "    .dataframe tbody tr th {\n",
       "        vertical-align: top;\n",
       "    }\n",
       "\n",
       "    .dataframe thead th {\n",
       "        text-align: right;\n",
       "    }\n",
       "</style>\n",
       "<table border=\"1\" class=\"dataframe\">\n",
       "  <thead>\n",
       "    <tr style=\"text-align: right;\">\n",
       "      <th></th>\n",
       "      <th>id</th>\n",
       "      <th>release_date</th>\n",
       "      <th>movie</th>\n",
       "      <th>production_budget</th>\n",
       "      <th>domestic_gross</th>\n",
       "      <th>worldwide_gross</th>\n",
       "    </tr>\n",
       "  </thead>\n",
       "  <tbody>\n",
       "    <tr>\n",
       "      <th>0</th>\n",
       "      <td>1</td>\n",
       "      <td>Dec 18, 2009</td>\n",
       "      <td>Avatar</td>\n",
       "      <td>$425,000,000</td>\n",
       "      <td>$760,507,625</td>\n",
       "      <td>$2,776,345,279</td>\n",
       "    </tr>\n",
       "    <tr>\n",
       "      <th>1</th>\n",
       "      <td>2</td>\n",
       "      <td>May 20, 2011</td>\n",
       "      <td>Pirates of the Caribbean: On Stranger Tides</td>\n",
       "      <td>$410,600,000</td>\n",
       "      <td>$241,063,875</td>\n",
       "      <td>$1,045,663,875</td>\n",
       "    </tr>\n",
       "    <tr>\n",
       "      <th>2</th>\n",
       "      <td>3</td>\n",
       "      <td>Jun 7, 2019</td>\n",
       "      <td>Dark Phoenix</td>\n",
       "      <td>$350,000,000</td>\n",
       "      <td>$42,762,350</td>\n",
       "      <td>$149,762,350</td>\n",
       "    </tr>\n",
       "    <tr>\n",
       "      <th>3</th>\n",
       "      <td>4</td>\n",
       "      <td>May 1, 2015</td>\n",
       "      <td>Avengers: Age of Ultron</td>\n",
       "      <td>$330,600,000</td>\n",
       "      <td>$459,005,868</td>\n",
       "      <td>$1,403,013,963</td>\n",
       "    </tr>\n",
       "    <tr>\n",
       "      <th>4</th>\n",
       "      <td>5</td>\n",
       "      <td>Dec 15, 2017</td>\n",
       "      <td>Star Wars Ep. VIII: The Last Jedi</td>\n",
       "      <td>$317,000,000</td>\n",
       "      <td>$620,181,382</td>\n",
       "      <td>$1,316,721,747</td>\n",
       "    </tr>\n",
       "    <tr>\n",
       "      <th>...</th>\n",
       "      <td>...</td>\n",
       "      <td>...</td>\n",
       "      <td>...</td>\n",
       "      <td>...</td>\n",
       "      <td>...</td>\n",
       "      <td>...</td>\n",
       "    </tr>\n",
       "    <tr>\n",
       "      <th>5777</th>\n",
       "      <td>78</td>\n",
       "      <td>Dec 31, 2018</td>\n",
       "      <td>Red 11</td>\n",
       "      <td>$7,000</td>\n",
       "      <td>$0</td>\n",
       "      <td>$0</td>\n",
       "    </tr>\n",
       "    <tr>\n",
       "      <th>5778</th>\n",
       "      <td>79</td>\n",
       "      <td>Apr 2, 1999</td>\n",
       "      <td>Following</td>\n",
       "      <td>$6,000</td>\n",
       "      <td>$48,482</td>\n",
       "      <td>$240,495</td>\n",
       "    </tr>\n",
       "    <tr>\n",
       "      <th>5779</th>\n",
       "      <td>80</td>\n",
       "      <td>Jul 13, 2005</td>\n",
       "      <td>Return to the Land of Wonders</td>\n",
       "      <td>$5,000</td>\n",
       "      <td>$1,338</td>\n",
       "      <td>$1,338</td>\n",
       "    </tr>\n",
       "    <tr>\n",
       "      <th>5780</th>\n",
       "      <td>81</td>\n",
       "      <td>Sep 29, 2015</td>\n",
       "      <td>A Plague So Pleasant</td>\n",
       "      <td>$1,400</td>\n",
       "      <td>$0</td>\n",
       "      <td>$0</td>\n",
       "    </tr>\n",
       "    <tr>\n",
       "      <th>5781</th>\n",
       "      <td>82</td>\n",
       "      <td>Aug 5, 2005</td>\n",
       "      <td>My Date With Drew</td>\n",
       "      <td>$1,100</td>\n",
       "      <td>$181,041</td>\n",
       "      <td>$181,041</td>\n",
       "    </tr>\n",
       "  </tbody>\n",
       "</table>\n",
       "<p>5782 rows × 6 columns</p>\n",
       "</div>"
      ],
      "text/plain": [
       "      id  release_date                                        movie  \\\n",
       "0      1  Dec 18, 2009                                       Avatar   \n",
       "1      2  May 20, 2011  Pirates of the Caribbean: On Stranger Tides   \n",
       "2      3   Jun 7, 2019                                 Dark Phoenix   \n",
       "3      4   May 1, 2015                      Avengers: Age of Ultron   \n",
       "4      5  Dec 15, 2017            Star Wars Ep. VIII: The Last Jedi   \n",
       "...   ..           ...                                          ...   \n",
       "5777  78  Dec 31, 2018                                       Red 11   \n",
       "5778  79   Apr 2, 1999                                    Following   \n",
       "5779  80  Jul 13, 2005                Return to the Land of Wonders   \n",
       "5780  81  Sep 29, 2015                         A Plague So Pleasant   \n",
       "5781  82   Aug 5, 2005                            My Date With Drew   \n",
       "\n",
       "     production_budget domestic_gross worldwide_gross  \n",
       "0         $425,000,000   $760,507,625  $2,776,345,279  \n",
       "1         $410,600,000   $241,063,875  $1,045,663,875  \n",
       "2         $350,000,000    $42,762,350    $149,762,350  \n",
       "3         $330,600,000   $459,005,868  $1,403,013,963  \n",
       "4         $317,000,000   $620,181,382  $1,316,721,747  \n",
       "...                ...            ...             ...  \n",
       "5777            $7,000             $0              $0  \n",
       "5778            $6,000        $48,482        $240,495  \n",
       "5779            $5,000         $1,338          $1,338  \n",
       "5780            $1,400             $0              $0  \n",
       "5781            $1,100       $181,041        $181,041  \n",
       "\n",
       "[5782 rows x 6 columns]"
      ]
     },
     "execution_count": 61,
     "metadata": {},
     "output_type": "execute_result"
    }
   ],
   "source": [
    "## Selecting for budget and gross details\n",
    "movie_basics = clean_file_names['tn_movie_budgets']\n",
    "movie_basics"
   ]
  },
  {
   "cell_type": "code",
   "execution_count": 62,
   "metadata": {
    "ExecuteTime": {
     "end_time": "2021-06-23T18:48:40.006365Z",
     "start_time": "2021-06-23T18:48:39.978365Z"
    }
   },
   "outputs": [
    {
     "data": {
      "text/html": [
       "<div>\n",
       "<style scoped>\n",
       "    .dataframe tbody tr th:only-of-type {\n",
       "        vertical-align: middle;\n",
       "    }\n",
       "\n",
       "    .dataframe tbody tr th {\n",
       "        vertical-align: top;\n",
       "    }\n",
       "\n",
       "    .dataframe thead th {\n",
       "        text-align: right;\n",
       "    }\n",
       "</style>\n",
       "<table border=\"1\" class=\"dataframe\">\n",
       "  <thead>\n",
       "    <tr style=\"text-align: right;\">\n",
       "      <th></th>\n",
       "      <th>title</th>\n",
       "      <th>studio</th>\n",
       "      <th>domestic_gross</th>\n",
       "      <th>foreign_gross</th>\n",
       "      <th>year</th>\n",
       "    </tr>\n",
       "  </thead>\n",
       "  <tbody>\n",
       "    <tr>\n",
       "      <th>0</th>\n",
       "      <td>Toy Story 3</td>\n",
       "      <td>BV</td>\n",
       "      <td>415000000.00</td>\n",
       "      <td>652000000</td>\n",
       "      <td>2010</td>\n",
       "    </tr>\n",
       "    <tr>\n",
       "      <th>1</th>\n",
       "      <td>Alice in Wonderland (2010)</td>\n",
       "      <td>BV</td>\n",
       "      <td>334200000.00</td>\n",
       "      <td>691300000</td>\n",
       "      <td>2010</td>\n",
       "    </tr>\n",
       "    <tr>\n",
       "      <th>2</th>\n",
       "      <td>Harry Potter and the Deathly Hallows Part 1</td>\n",
       "      <td>WB</td>\n",
       "      <td>296000000.00</td>\n",
       "      <td>664300000</td>\n",
       "      <td>2010</td>\n",
       "    </tr>\n",
       "    <tr>\n",
       "      <th>3</th>\n",
       "      <td>Inception</td>\n",
       "      <td>WB</td>\n",
       "      <td>292600000.00</td>\n",
       "      <td>535700000</td>\n",
       "      <td>2010</td>\n",
       "    </tr>\n",
       "    <tr>\n",
       "      <th>4</th>\n",
       "      <td>Shrek Forever After</td>\n",
       "      <td>P/DW</td>\n",
       "      <td>238700000.00</td>\n",
       "      <td>513900000</td>\n",
       "      <td>2010</td>\n",
       "    </tr>\n",
       "    <tr>\n",
       "      <th>...</th>\n",
       "      <td>...</td>\n",
       "      <td>...</td>\n",
       "      <td>...</td>\n",
       "      <td>...</td>\n",
       "      <td>...</td>\n",
       "    </tr>\n",
       "    <tr>\n",
       "      <th>3382</th>\n",
       "      <td>The Quake</td>\n",
       "      <td>Magn.</td>\n",
       "      <td>6200.00</td>\n",
       "      <td>NaN</td>\n",
       "      <td>2018</td>\n",
       "    </tr>\n",
       "    <tr>\n",
       "      <th>3383</th>\n",
       "      <td>Edward II (2018 re-release)</td>\n",
       "      <td>FM</td>\n",
       "      <td>4800.00</td>\n",
       "      <td>NaN</td>\n",
       "      <td>2018</td>\n",
       "    </tr>\n",
       "    <tr>\n",
       "      <th>3384</th>\n",
       "      <td>El Pacto</td>\n",
       "      <td>Sony</td>\n",
       "      <td>2500.00</td>\n",
       "      <td>NaN</td>\n",
       "      <td>2018</td>\n",
       "    </tr>\n",
       "    <tr>\n",
       "      <th>3385</th>\n",
       "      <td>The Swan</td>\n",
       "      <td>Synergetic</td>\n",
       "      <td>2400.00</td>\n",
       "      <td>NaN</td>\n",
       "      <td>2018</td>\n",
       "    </tr>\n",
       "    <tr>\n",
       "      <th>3386</th>\n",
       "      <td>An Actor Prepares</td>\n",
       "      <td>Grav.</td>\n",
       "      <td>1700.00</td>\n",
       "      <td>NaN</td>\n",
       "      <td>2018</td>\n",
       "    </tr>\n",
       "  </tbody>\n",
       "</table>\n",
       "<p>3387 rows × 5 columns</p>\n",
       "</div>"
      ],
      "text/plain": [
       "                                            title      studio  domestic_gross  \\\n",
       "0                                     Toy Story 3          BV    415000000.00   \n",
       "1                      Alice in Wonderland (2010)          BV    334200000.00   \n",
       "2     Harry Potter and the Deathly Hallows Part 1          WB    296000000.00   \n",
       "3                                       Inception          WB    292600000.00   \n",
       "4                             Shrek Forever After        P/DW    238700000.00   \n",
       "...                                           ...         ...             ...   \n",
       "3382                                    The Quake       Magn.         6200.00   \n",
       "3383                  Edward II (2018 re-release)          FM         4800.00   \n",
       "3384                                     El Pacto        Sony         2500.00   \n",
       "3385                                     The Swan  Synergetic         2400.00   \n",
       "3386                            An Actor Prepares       Grav.         1700.00   \n",
       "\n",
       "     foreign_gross  year  \n",
       "0        652000000  2010  \n",
       "1        691300000  2010  \n",
       "2        664300000  2010  \n",
       "3        535700000  2010  \n",
       "4        513900000  2010  \n",
       "...            ...   ...  \n",
       "3382           NaN  2018  \n",
       "3383           NaN  2018  \n",
       "3384           NaN  2018  \n",
       "3385           NaN  2018  \n",
       "3386           NaN  2018  \n",
       "\n",
       "[3387 rows x 5 columns]"
      ]
     },
     "execution_count": 62,
     "metadata": {},
     "output_type": "execute_result"
    }
   ],
   "source": [
    "## Selecting for gross details\n",
    "movie_gross = clean_file_names['bom_movie_gross']\n",
    "movie_gross"
   ]
  },
  {
   "cell_type": "markdown",
   "metadata": {},
   "source": [
    "## Merging Dataframes"
   ]
  },
  {
   "cell_type": "code",
   "execution_count": 63,
   "metadata": {
    "ExecuteTime": {
     "end_time": "2021-06-23T18:48:40.147366Z",
     "start_time": "2021-06-23T18:48:40.009364Z"
    },
    "code_folding": []
   },
   "outputs": [
    {
     "data": {
      "text/html": [
       "<div>\n",
       "<style scoped>\n",
       "    .dataframe tbody tr th:only-of-type {\n",
       "        vertical-align: middle;\n",
       "    }\n",
       "\n",
       "    .dataframe tbody tr th {\n",
       "        vertical-align: top;\n",
       "    }\n",
       "\n",
       "    .dataframe thead th {\n",
       "        text-align: right;\n",
       "    }\n",
       "</style>\n",
       "<table border=\"1\" class=\"dataframe\">\n",
       "  <thead>\n",
       "    <tr style=\"text-align: right;\">\n",
       "      <th></th>\n",
       "      <th>tconst</th>\n",
       "      <th>primary_title</th>\n",
       "      <th>original_title</th>\n",
       "      <th>start_year</th>\n",
       "      <th>runtime_minutes</th>\n",
       "      <th>genres</th>\n",
       "      <th>id</th>\n",
       "      <th>release_date</th>\n",
       "      <th>movie</th>\n",
       "      <th>production_budget</th>\n",
       "      <th>domestic_gross</th>\n",
       "      <th>worldwide_gross</th>\n",
       "    </tr>\n",
       "  </thead>\n",
       "  <tbody>\n",
       "    <tr>\n",
       "      <th>0</th>\n",
       "      <td>tt0249516</td>\n",
       "      <td>Foodfight!</td>\n",
       "      <td>Foodfight!</td>\n",
       "      <td>2012</td>\n",
       "      <td>91.00</td>\n",
       "      <td>Action,Animation,Comedy</td>\n",
       "      <td>26</td>\n",
       "      <td>Dec 31, 2012</td>\n",
       "      <td>Foodfight!</td>\n",
       "      <td>$45,000,000</td>\n",
       "      <td>$0</td>\n",
       "      <td>$73,706</td>\n",
       "    </tr>\n",
       "    <tr>\n",
       "      <th>1</th>\n",
       "      <td>tt0293429</td>\n",
       "      <td>Mortal Kombat</td>\n",
       "      <td>Mortal Kombat</td>\n",
       "      <td>2021</td>\n",
       "      <td>nan</td>\n",
       "      <td>Action,Adventure,Fantasy</td>\n",
       "      <td>10</td>\n",
       "      <td>Aug 18, 1995</td>\n",
       "      <td>Mortal Kombat</td>\n",
       "      <td>$20,000,000</td>\n",
       "      <td>$70,433,227</td>\n",
       "      <td>$122,133,227</td>\n",
       "    </tr>\n",
       "    <tr>\n",
       "      <th>2</th>\n",
       "      <td>tt0326592</td>\n",
       "      <td>The Overnight</td>\n",
       "      <td>The Overnight</td>\n",
       "      <td>2010</td>\n",
       "      <td>88.00</td>\n",
       "      <td>NaN</td>\n",
       "      <td>21</td>\n",
       "      <td>Jun 19, 2015</td>\n",
       "      <td>The Overnight</td>\n",
       "      <td>$200,000</td>\n",
       "      <td>$1,109,808</td>\n",
       "      <td>$1,165,996</td>\n",
       "    </tr>\n",
       "    <tr>\n",
       "      <th>3</th>\n",
       "      <td>tt3844362</td>\n",
       "      <td>The Overnight</td>\n",
       "      <td>The Overnight</td>\n",
       "      <td>2015</td>\n",
       "      <td>79.00</td>\n",
       "      <td>Comedy,Mystery</td>\n",
       "      <td>21</td>\n",
       "      <td>Jun 19, 2015</td>\n",
       "      <td>The Overnight</td>\n",
       "      <td>$200,000</td>\n",
       "      <td>$1,109,808</td>\n",
       "      <td>$1,165,996</td>\n",
       "    </tr>\n",
       "    <tr>\n",
       "      <th>4</th>\n",
       "      <td>tt0337692</td>\n",
       "      <td>On the Road</td>\n",
       "      <td>On the Road</td>\n",
       "      <td>2012</td>\n",
       "      <td>124.00</td>\n",
       "      <td>Adventure,Drama,Romance</td>\n",
       "      <td>17</td>\n",
       "      <td>Mar 22, 2013</td>\n",
       "      <td>On the Road</td>\n",
       "      <td>$25,000,000</td>\n",
       "      <td>$720,828</td>\n",
       "      <td>$9,313,302</td>\n",
       "    </tr>\n",
       "    <tr>\n",
       "      <th>...</th>\n",
       "      <td>...</td>\n",
       "      <td>...</td>\n",
       "      <td>...</td>\n",
       "      <td>...</td>\n",
       "      <td>...</td>\n",
       "      <td>...</td>\n",
       "      <td>...</td>\n",
       "      <td>...</td>\n",
       "      <td>...</td>\n",
       "      <td>...</td>\n",
       "      <td>...</td>\n",
       "      <td>...</td>\n",
       "    </tr>\n",
       "    <tr>\n",
       "      <th>3810</th>\n",
       "      <td>tt9678962</td>\n",
       "      <td>Fuel</td>\n",
       "      <td>Fuel</td>\n",
       "      <td>2018</td>\n",
       "      <td>nan</td>\n",
       "      <td>Documentary,Sport</td>\n",
       "      <td>35</td>\n",
       "      <td>Nov 14, 2008</td>\n",
       "      <td>Fuel</td>\n",
       "      <td>$2,500,000</td>\n",
       "      <td>$174,255</td>\n",
       "      <td>$174,255</td>\n",
       "    </tr>\n",
       "    <tr>\n",
       "      <th>3811</th>\n",
       "      <td>tt9729206</td>\n",
       "      <td>Diner</td>\n",
       "      <td>Diner</td>\n",
       "      <td>2019</td>\n",
       "      <td>nan</td>\n",
       "      <td>Crime</td>\n",
       "      <td>11</td>\n",
       "      <td>Apr 2, 1982</td>\n",
       "      <td>Diner</td>\n",
       "      <td>$5,000,000</td>\n",
       "      <td>$12,592,907</td>\n",
       "      <td>$12,592,907</td>\n",
       "    </tr>\n",
       "    <tr>\n",
       "      <th>3812</th>\n",
       "      <td>tt9805168</td>\n",
       "      <td>Traitor</td>\n",
       "      <td>Traitor</td>\n",
       "      <td>2015</td>\n",
       "      <td>110.00</td>\n",
       "      <td>Action,Drama,Romance</td>\n",
       "      <td>25</td>\n",
       "      <td>Aug 27, 2008</td>\n",
       "      <td>Traitor</td>\n",
       "      <td>$22,000,000</td>\n",
       "      <td>$23,530,831</td>\n",
       "      <td>$27,882,226</td>\n",
       "    </tr>\n",
       "    <tr>\n",
       "      <th>3813</th>\n",
       "      <td>tt9844102</td>\n",
       "      <td>Ray</td>\n",
       "      <td>Ray</td>\n",
       "      <td>2018</td>\n",
       "      <td>111.00</td>\n",
       "      <td>Crime</td>\n",
       "      <td>8</td>\n",
       "      <td>Oct 29, 2004</td>\n",
       "      <td>Ray</td>\n",
       "      <td>$40,000,000</td>\n",
       "      <td>$75,305,995</td>\n",
       "      <td>$124,823,094</td>\n",
       "    </tr>\n",
       "    <tr>\n",
       "      <th>3814</th>\n",
       "      <td>tt9893078</td>\n",
       "      <td>Sublime</td>\n",
       "      <td>Sublime</td>\n",
       "      <td>2019</td>\n",
       "      <td>nan</td>\n",
       "      <td>Documentary</td>\n",
       "      <td>30</td>\n",
       "      <td>Mar 13, 2007</td>\n",
       "      <td>Sublime</td>\n",
       "      <td>$1,800,000</td>\n",
       "      <td>$0</td>\n",
       "      <td>$0</td>\n",
       "    </tr>\n",
       "  </tbody>\n",
       "</table>\n",
       "<p>3815 rows × 12 columns</p>\n",
       "</div>"
      ],
      "text/plain": [
       "         tconst  primary_title original_title  start_year  runtime_minutes  \\\n",
       "0     tt0249516     Foodfight!     Foodfight!        2012            91.00   \n",
       "1     tt0293429  Mortal Kombat  Mortal Kombat        2021              nan   \n",
       "2     tt0326592  The Overnight  The Overnight        2010            88.00   \n",
       "3     tt3844362  The Overnight  The Overnight        2015            79.00   \n",
       "4     tt0337692    On the Road    On the Road        2012           124.00   \n",
       "...         ...            ...            ...         ...              ...   \n",
       "3810  tt9678962           Fuel           Fuel        2018              nan   \n",
       "3811  tt9729206          Diner          Diner        2019              nan   \n",
       "3812  tt9805168        Traitor        Traitor        2015           110.00   \n",
       "3813  tt9844102            Ray            Ray        2018           111.00   \n",
       "3814  tt9893078        Sublime        Sublime        2019              nan   \n",
       "\n",
       "                        genres  id  release_date          movie  \\\n",
       "0      Action,Animation,Comedy  26  Dec 31, 2012     Foodfight!   \n",
       "1     Action,Adventure,Fantasy  10  Aug 18, 1995  Mortal Kombat   \n",
       "2                          NaN  21  Jun 19, 2015  The Overnight   \n",
       "3               Comedy,Mystery  21  Jun 19, 2015  The Overnight   \n",
       "4      Adventure,Drama,Romance  17  Mar 22, 2013    On the Road   \n",
       "...                        ...  ..           ...            ...   \n",
       "3810         Documentary,Sport  35  Nov 14, 2008           Fuel   \n",
       "3811                     Crime  11   Apr 2, 1982          Diner   \n",
       "3812      Action,Drama,Romance  25  Aug 27, 2008        Traitor   \n",
       "3813                     Crime   8  Oct 29, 2004            Ray   \n",
       "3814               Documentary  30  Mar 13, 2007        Sublime   \n",
       "\n",
       "     production_budget domestic_gross worldwide_gross  \n",
       "0          $45,000,000             $0         $73,706  \n",
       "1          $20,000,000    $70,433,227    $122,133,227  \n",
       "2             $200,000     $1,109,808      $1,165,996  \n",
       "3             $200,000     $1,109,808      $1,165,996  \n",
       "4          $25,000,000       $720,828      $9,313,302  \n",
       "...                ...            ...             ...  \n",
       "3810        $2,500,000       $174,255        $174,255  \n",
       "3811        $5,000,000    $12,592,907     $12,592,907  \n",
       "3812       $22,000,000    $23,530,831     $27,882,226  \n",
       "3813       $40,000,000    $75,305,995    $124,823,094  \n",
       "3814        $1,800,000             $0              $0  \n",
       "\n",
       "[3815 rows x 12 columns]"
      ]
     },
     "execution_count": 63,
     "metadata": {},
     "output_type": "execute_result"
    }
   ],
   "source": [
    "## Merging title_basics and movie_basics on primary title\n",
    "\n",
    "merged_basics_primary = pd.merge(title_basics,movie_basics, \n",
    "                                 left_on= 'primary_title', right_on= 'movie')\n",
    "merged_basics_primary"
   ]
  },
  {
   "cell_type": "code",
   "execution_count": 64,
   "metadata": {
    "ExecuteTime": {
     "end_time": "2021-06-23T18:48:40.163363Z",
     "start_time": "2021-06-23T18:48:40.151364Z"
    },
    "code_folding": [
     0
    ]
   },
   "outputs": [],
   "source": [
    "# ## Deprecated - focused on larger data set - Merging title_basics and movie_basics on original title\n",
    "\n",
    "# merged_basics_original = pd.merge(title_basics,movie_basics, \n",
    "#                                   left_on= 'original_title', right_on= 'movie')\n",
    "# merged_basics_original"
   ]
  },
  {
   "cell_type": "code",
   "execution_count": 65,
   "metadata": {
    "ExecuteTime": {
     "end_time": "2021-06-23T18:48:40.179364Z",
     "start_time": "2021-06-23T18:48:40.166366Z"
    }
   },
   "outputs": [],
   "source": [
    "df = merged_basics_primary.copy()"
   ]
  },
  {
   "cell_type": "markdown",
   "metadata": {},
   "source": [
    "### Removing Redundant \"Movie\" Column"
   ]
  },
  {
   "cell_type": "code",
   "execution_count": 66,
   "metadata": {
    "ExecuteTime": {
     "end_time": "2021-06-23T18:48:40.194366Z",
     "start_time": "2021-06-23T18:48:40.182367Z"
    },
    "code_folding": []
   },
   "outputs": [],
   "source": [
    "## Verifying all titles/movies match - slower than np.where()\n",
    "# df[df.loc[:,'primary_title'] != df.loc[:,'movie']]"
   ]
  },
  {
   "cell_type": "code",
   "execution_count": 67,
   "metadata": {
    "ExecuteTime": {
     "end_time": "2021-06-23T18:48:40.209364Z",
     "start_time": "2021-06-23T18:48:40.197367Z"
    }
   },
   "outputs": [],
   "source": [
    "## Verifying all titles/movies match - np.where faster than logical slicing\n",
    "\n",
    "for x in np.where((df.loc[:,'primary_title'] != df.loc[:,'movie']),1,0):\n",
    "    if x == 1:\n",
    "        print(x)"
   ]
  },
  {
   "cell_type": "code",
   "execution_count": 68,
   "metadata": {
    "ExecuteTime": {
     "end_time": "2021-06-23T18:48:40.240365Z",
     "start_time": "2021-06-23T18:48:40.212368Z"
    },
    "code_folding": []
   },
   "outputs": [
    {
     "data": {
      "text/plain": [
       "False"
      ]
     },
     "execution_count": 68,
     "metadata": {},
     "output_type": "execute_result"
    }
   ],
   "source": [
    "## Dropping redundant \"movie\" column -  incl t/e to be able to rerun notebook\n",
    "\n",
    "for col in df.columns:\n",
    "    try:\n",
    "        df.drop('movie', axis=1, inplace=True)\n",
    "    except:\n",
    "        pass\n",
    "    \n",
    "## Confirming removal\n",
    "'movie' in df.columns"
   ]
  },
  {
   "cell_type": "markdown",
   "metadata": {},
   "source": [
    "## Converting Currencies from Str to Int"
   ]
  },
  {
   "cell_type": "code",
   "execution_count": 69,
   "metadata": {
    "ExecuteTime": {
     "end_time": "2021-06-23T18:48:40.303365Z",
     "start_time": "2021-06-23T18:48:40.247364Z"
    },
    "code_folding": []
   },
   "outputs": [
    {
     "data": {
      "text/plain": [
       "0    45000000\n",
       "1    20000000\n",
       "2      200000\n",
       "Name: production_budget, dtype: int64"
      ]
     },
     "metadata": {},
     "output_type": "display_data"
    },
    {
     "data": {
      "text/plain": [
       "0        73706\n",
       "1    122133227\n",
       "2      1165996\n",
       "Name: worldwide_gross, dtype: int64"
      ]
     },
     "metadata": {},
     "output_type": "display_data"
    },
    {
     "data": {
      "text/plain": [
       "0           0\n",
       "1    70433227\n",
       "2     1109808\n",
       "Name: domestic_gross, dtype: int64"
      ]
     },
     "metadata": {},
     "output_type": "display_data"
    }
   ],
   "source": [
    "## Converting gross amounts from strings to integers and removing \n",
    "\n",
    "dollar_to_int = ['production_budget','worldwide_gross','domestic_gross']\n",
    "\n",
    "for i in dollar_to_int:\n",
    "    try:\n",
    "        df[i] = df[i].map((lambda x: int(x.replace('$','').replace(',',''))))\n",
    "\n",
    "    except Exception:\n",
    "        print('---'*25)\n",
    "        print('Already converted.')\n",
    "        print()\n",
    "        \n",
    "    display(df[i][:3])"
   ]
  },
  {
   "cell_type": "markdown",
   "metadata": {},
   "source": [
    "## Filling Null Values with \"Missing\""
   ]
  },
  {
   "cell_type": "code",
   "execution_count": 70,
   "metadata": {
    "ExecuteTime": {
     "end_time": "2021-06-23T18:48:40.334364Z",
     "start_time": "2021-06-23T18:48:40.306366Z"
    },
    "code_folding": []
   },
   "outputs": [
    {
     "data": {
      "text/plain": [
       "tconst                 0\n",
       "primary_title          0\n",
       "original_title         1\n",
       "start_year             0\n",
       "runtime_minutes      487\n",
       "genres                72\n",
       "id                     0\n",
       "release_date           0\n",
       "production_budget      0\n",
       "domestic_gross         0\n",
       "worldwide_gross        0\n",
       "dtype: int64"
      ]
     },
     "metadata": {},
     "output_type": "display_data"
    },
    {
     "data": {
      "text/plain": [
       "tconst               0\n",
       "primary_title        0\n",
       "original_title       0\n",
       "start_year           0\n",
       "runtime_minutes      0\n",
       "genres               0\n",
       "id                   0\n",
       "release_date         0\n",
       "production_budget    0\n",
       "domestic_gross       0\n",
       "worldwide_gross      0\n",
       "dtype: int64"
      ]
     },
     "metadata": {},
     "output_type": "display_data"
    }
   ],
   "source": [
    "## Filling null values with \"missing\" to allow for processing later\n",
    "\n",
    "df_filled = df.fillna('Missing').copy()\n",
    "display(df.isna().sum())\n",
    "display(df_filled.isna().sum())"
   ]
  },
  {
   "cell_type": "markdown",
   "metadata": {},
   "source": [
    "# **Feature Engineering**"
   ]
  },
  {
   "cell_type": "markdown",
   "metadata": {},
   "source": [
    "## Creating Seasons and Quarters"
   ]
  },
  {
   "cell_type": "markdown",
   "metadata": {
    "heading_collapsed": true
   },
   "source": [
    "### Datetime Approach"
   ]
  },
  {
   "cell_type": "code",
   "execution_count": 71,
   "metadata": {
    "ExecuteTime": {
     "end_time": "2021-06-23T18:48:40.599365Z",
     "start_time": "2021-06-23T18:48:40.339369Z"
    },
    "hidden": true,
    "scrolled": true
   },
   "outputs": [
    {
     "data": {
      "text/plain": [
       "0      2012-12-31\n",
       "1      1995-08-18\n",
       "2      2015-06-19\n",
       "3      2015-06-19\n",
       "4      2013-03-22\n",
       "          ...    \n",
       "3810   2008-11-14\n",
       "3811   1982-04-02\n",
       "3812   2008-08-27\n",
       "3813   2004-10-29\n",
       "3814   2007-03-13\n",
       "Name: release_datetime, Length: 3815, dtype: datetime64[ns]"
      ]
     },
     "execution_count": 71,
     "metadata": {},
     "output_type": "execute_result"
    }
   ],
   "source": [
    "## Changing release date to datetime datatype\n",
    "\n",
    "df_filled['release_datetime'] = pd.to_datetime(df_filled['release_date'])\n",
    "df_filled['release_datetime']"
   ]
  },
  {
   "cell_type": "code",
   "execution_count": 72,
   "metadata": {
    "ExecuteTime": {
     "end_time": "2021-06-23T18:48:40.629365Z",
     "start_time": "2021-06-23T18:48:40.602369Z"
    },
    "hidden": true
   },
   "outputs": [
    {
     "data": {
      "text/plain": [
       "0       December\n",
       "1         August\n",
       "2           June\n",
       "3           June\n",
       "4          March\n",
       "          ...   \n",
       "3810    November\n",
       "3811       April\n",
       "3812      August\n",
       "3813     October\n",
       "3814       March\n",
       "Name: release_month_dt, Length: 3815, dtype: object"
      ]
     },
     "execution_count": 72,
     "metadata": {},
     "output_type": "execute_result"
    }
   ],
   "source": [
    "## Using datetime dtype to create months column\n",
    "df_filled['release_month_dt'] = df_filled['release_datetime'].dt.month_name()\n",
    "df_filled['release_month_dt']"
   ]
  },
  {
   "cell_type": "code",
   "execution_count": 73,
   "metadata": {
    "ExecuteTime": {
     "end_time": "2021-06-23T18:48:40.645366Z",
     "start_time": "2021-06-23T18:48:40.631367Z"
    },
    "hidden": true
   },
   "outputs": [
    {
     "data": {
      "text/plain": [
       "0       4\n",
       "1       3\n",
       "2       2\n",
       "3       2\n",
       "4       1\n",
       "       ..\n",
       "3810    4\n",
       "3811    2\n",
       "3812    3\n",
       "3813    4\n",
       "3814    1\n",
       "Name: release_quarter, Length: 3815, dtype: int64"
      ]
     },
     "execution_count": 73,
     "metadata": {},
     "output_type": "execute_result"
    }
   ],
   "source": [
    "df_filled['release_quarter'] = df_filled['release_datetime'].dt.quarter\n",
    "df_filled['release_quarter']"
   ]
  },
  {
   "cell_type": "markdown",
   "metadata": {
    "heading_collapsed": true
   },
   "source": [
    "### Manual Approach"
   ]
  },
  {
   "cell_type": "code",
   "execution_count": 74,
   "metadata": {
    "ExecuteTime": {
     "end_time": "2021-06-23T18:48:40.660367Z",
     "start_time": "2021-06-23T18:48:40.648369Z"
    },
    "hidden": true
   },
   "outputs": [
    {
     "data": {
      "text/plain": [
       "0    Dec 31, 2012\n",
       "1    Aug 18, 1995\n",
       "2    Jun 19, 2015\n",
       "3    Jun 19, 2015\n",
       "4    Mar 22, 2013\n",
       "Name: release_date, dtype: object"
      ]
     },
     "execution_count": 74,
     "metadata": {},
     "output_type": "execute_result"
    }
   ],
   "source": [
    "## Inspecting original values\n",
    "df_filled['release_date'][:5]"
   ]
  },
  {
   "cell_type": "code",
   "execution_count": 75,
   "metadata": {
    "ExecuteTime": {
     "end_time": "2021-06-23T18:48:40.675366Z",
     "start_time": "2021-06-23T18:48:40.664367Z"
    },
    "hidden": true,
    "scrolled": true
   },
   "outputs": [
    {
     "data": {
      "text/plain": [
       "'Dec'"
      ]
     },
     "execution_count": 75,
     "metadata": {},
     "output_type": "execute_result"
    }
   ],
   "source": [
    "## Pulling month\n",
    "test_month = df_filled['release_date'][0][:3]\n",
    "test_month"
   ]
  },
  {
   "cell_type": "code",
   "execution_count": 76,
   "metadata": {
    "ExecuteTime": {
     "end_time": "2021-06-23T18:48:40.691366Z",
     "start_time": "2021-06-23T18:48:40.678368Z"
    },
    "hidden": true
   },
   "outputs": [],
   "source": [
    "## Creating new column for the month of each release date\n",
    "release_month = []\n",
    "\n",
    "for movie in df_filled['release_date']:\n",
    "    release_month.append(movie[:3])\n",
    "    \n",
    "df_filled['release_month_manual'] = release_month"
   ]
  },
  {
   "cell_type": "code",
   "execution_count": 77,
   "metadata": {
    "ExecuteTime": {
     "end_time": "2021-06-23T18:48:40.721365Z",
     "start_time": "2021-06-23T18:48:40.694365Z"
    },
    "hidden": true
   },
   "outputs": [
    {
     "data": {
      "text/plain": [
       "0       Dec\n",
       "1       Aug\n",
       "2       Jun\n",
       "3       Jun\n",
       "4       Mar\n",
       "       ... \n",
       "3810    Nov\n",
       "3811    Apr\n",
       "3812    Aug\n",
       "3813    Oct\n",
       "3814    Mar\n",
       "Name: release_month_manual, Length: 3815, dtype: object"
      ]
     },
     "execution_count": 77,
     "metadata": {},
     "output_type": "execute_result"
    }
   ],
   "source": [
    "## Using map and lambda functions to slice out month from string\n",
    "df_filled['release_month_manual'] = df_filled['release_date'].map(lambda x: x[:3])\n",
    "df_filled['release_month_manual']"
   ]
  },
  {
   "cell_type": "code",
   "execution_count": 78,
   "metadata": {
    "ExecuteTime": {
     "end_time": "2021-06-23T18:48:40.753367Z",
     "start_time": "2021-06-23T18:48:40.729367Z"
    },
    "hidden": true
   },
   "outputs": [
    {
     "data": {
      "text/plain": [
       "0       Winter\n",
       "1       Summer\n",
       "2       Summer\n",
       "3       Summer\n",
       "4       Spring\n",
       "         ...  \n",
       "3810      Fall\n",
       "3811    Spring\n",
       "3812    Summer\n",
       "3813      Fall\n",
       "3814    Spring\n",
       "Name: release_season_manual, Length: 3815, dtype: object"
      ]
     },
     "execution_count": 78,
     "metadata": {},
     "output_type": "execute_result"
    }
   ],
   "source": [
    "## Creating seasons based on meteorological definitions of each season\n",
    "season = []\n",
    "\n",
    "for month in df_filled['release_month_manual']:\n",
    "    if month == 'Jan':\n",
    "        season.append('Winter')\n",
    "    elif month == 'Feb':\n",
    "        season.append('Winter')\n",
    "    elif month == 'Mar':\n",
    "        season.append('Spring')\n",
    "    elif month == 'Apr':\n",
    "        season.append('Spring')\n",
    "    elif month == 'May':\n",
    "        season.append('Spring')\n",
    "    elif month == 'Jun':\n",
    "        season.append('Summer')\n",
    "    elif month == 'Jul':\n",
    "        season.append('Summer')\n",
    "    elif month == 'Aug':\n",
    "        season.append('Summer')\n",
    "    elif month == 'Sep':\n",
    "        season.append('Fall')\n",
    "    elif month == 'Oct':\n",
    "        season.append('Fall')\n",
    "    elif month == 'Nov':\n",
    "        season.append('Fall')\n",
    "    elif month == 'Dec':\n",
    "        season.append('Winter')\n",
    "    else:\n",
    "        print('na')\n",
    "\n",
    "df_filled['release_season_manual'] = season\n",
    "df_filled['release_season_manual']"
   ]
  },
  {
   "cell_type": "markdown",
   "metadata": {
    "heading_collapsed": true
   },
   "source": [
    "### Reviewing Changes"
   ]
  },
  {
   "cell_type": "code",
   "execution_count": 79,
   "metadata": {
    "ExecuteTime": {
     "end_time": "2021-06-23T18:48:40.799366Z",
     "start_time": "2021-06-23T18:48:40.758366Z"
    },
    "hidden": true
   },
   "outputs": [
    {
     "data": {
      "text/html": [
       "<div>\n",
       "<style scoped>\n",
       "    .dataframe tbody tr th:only-of-type {\n",
       "        vertical-align: middle;\n",
       "    }\n",
       "\n",
       "    .dataframe tbody tr th {\n",
       "        vertical-align: top;\n",
       "    }\n",
       "\n",
       "    .dataframe thead th {\n",
       "        text-align: right;\n",
       "    }\n",
       "</style>\n",
       "<table border=\"1\" class=\"dataframe\">\n",
       "  <thead>\n",
       "    <tr style=\"text-align: right;\">\n",
       "      <th></th>\n",
       "      <th>tconst</th>\n",
       "      <th>primary_title</th>\n",
       "      <th>original_title</th>\n",
       "      <th>start_year</th>\n",
       "      <th>runtime_minutes</th>\n",
       "      <th>genres</th>\n",
       "      <th>id</th>\n",
       "      <th>release_date</th>\n",
       "      <th>production_budget</th>\n",
       "      <th>domestic_gross</th>\n",
       "      <th>worldwide_gross</th>\n",
       "      <th>release_datetime</th>\n",
       "      <th>release_month_dt</th>\n",
       "      <th>release_quarter</th>\n",
       "      <th>release_month_manual</th>\n",
       "      <th>release_season_manual</th>\n",
       "    </tr>\n",
       "  </thead>\n",
       "  <tbody>\n",
       "    <tr>\n",
       "      <th>0</th>\n",
       "      <td>tt0249516</td>\n",
       "      <td>Foodfight!</td>\n",
       "      <td>Foodfight!</td>\n",
       "      <td>2012</td>\n",
       "      <td>91.00</td>\n",
       "      <td>Action,Animation,Comedy</td>\n",
       "      <td>26</td>\n",
       "      <td>Dec 31, 2012</td>\n",
       "      <td>45000000</td>\n",
       "      <td>0</td>\n",
       "      <td>73706</td>\n",
       "      <td>2012-12-31</td>\n",
       "      <td>December</td>\n",
       "      <td>4</td>\n",
       "      <td>Dec</td>\n",
       "      <td>Winter</td>\n",
       "    </tr>\n",
       "    <tr>\n",
       "      <th>1</th>\n",
       "      <td>tt0293429</td>\n",
       "      <td>Mortal Kombat</td>\n",
       "      <td>Mortal Kombat</td>\n",
       "      <td>2021</td>\n",
       "      <td>Missing</td>\n",
       "      <td>Action,Adventure,Fantasy</td>\n",
       "      <td>10</td>\n",
       "      <td>Aug 18, 1995</td>\n",
       "      <td>20000000</td>\n",
       "      <td>70433227</td>\n",
       "      <td>122133227</td>\n",
       "      <td>1995-08-18</td>\n",
       "      <td>August</td>\n",
       "      <td>3</td>\n",
       "      <td>Aug</td>\n",
       "      <td>Summer</td>\n",
       "    </tr>\n",
       "    <tr>\n",
       "      <th>2</th>\n",
       "      <td>tt0326592</td>\n",
       "      <td>The Overnight</td>\n",
       "      <td>The Overnight</td>\n",
       "      <td>2010</td>\n",
       "      <td>88.00</td>\n",
       "      <td>Missing</td>\n",
       "      <td>21</td>\n",
       "      <td>Jun 19, 2015</td>\n",
       "      <td>200000</td>\n",
       "      <td>1109808</td>\n",
       "      <td>1165996</td>\n",
       "      <td>2015-06-19</td>\n",
       "      <td>June</td>\n",
       "      <td>2</td>\n",
       "      <td>Jun</td>\n",
       "      <td>Summer</td>\n",
       "    </tr>\n",
       "    <tr>\n",
       "      <th>3</th>\n",
       "      <td>tt3844362</td>\n",
       "      <td>The Overnight</td>\n",
       "      <td>The Overnight</td>\n",
       "      <td>2015</td>\n",
       "      <td>79.00</td>\n",
       "      <td>Comedy,Mystery</td>\n",
       "      <td>21</td>\n",
       "      <td>Jun 19, 2015</td>\n",
       "      <td>200000</td>\n",
       "      <td>1109808</td>\n",
       "      <td>1165996</td>\n",
       "      <td>2015-06-19</td>\n",
       "      <td>June</td>\n",
       "      <td>2</td>\n",
       "      <td>Jun</td>\n",
       "      <td>Summer</td>\n",
       "    </tr>\n",
       "    <tr>\n",
       "      <th>4</th>\n",
       "      <td>tt0337692</td>\n",
       "      <td>On the Road</td>\n",
       "      <td>On the Road</td>\n",
       "      <td>2012</td>\n",
       "      <td>124.00</td>\n",
       "      <td>Adventure,Drama,Romance</td>\n",
       "      <td>17</td>\n",
       "      <td>Mar 22, 2013</td>\n",
       "      <td>25000000</td>\n",
       "      <td>720828</td>\n",
       "      <td>9313302</td>\n",
       "      <td>2013-03-22</td>\n",
       "      <td>March</td>\n",
       "      <td>1</td>\n",
       "      <td>Mar</td>\n",
       "      <td>Spring</td>\n",
       "    </tr>\n",
       "    <tr>\n",
       "      <th>...</th>\n",
       "      <td>...</td>\n",
       "      <td>...</td>\n",
       "      <td>...</td>\n",
       "      <td>...</td>\n",
       "      <td>...</td>\n",
       "      <td>...</td>\n",
       "      <td>...</td>\n",
       "      <td>...</td>\n",
       "      <td>...</td>\n",
       "      <td>...</td>\n",
       "      <td>...</td>\n",
       "      <td>...</td>\n",
       "      <td>...</td>\n",
       "      <td>...</td>\n",
       "      <td>...</td>\n",
       "      <td>...</td>\n",
       "    </tr>\n",
       "    <tr>\n",
       "      <th>3810</th>\n",
       "      <td>tt9678962</td>\n",
       "      <td>Fuel</td>\n",
       "      <td>Fuel</td>\n",
       "      <td>2018</td>\n",
       "      <td>Missing</td>\n",
       "      <td>Documentary,Sport</td>\n",
       "      <td>35</td>\n",
       "      <td>Nov 14, 2008</td>\n",
       "      <td>2500000</td>\n",
       "      <td>174255</td>\n",
       "      <td>174255</td>\n",
       "      <td>2008-11-14</td>\n",
       "      <td>November</td>\n",
       "      <td>4</td>\n",
       "      <td>Nov</td>\n",
       "      <td>Fall</td>\n",
       "    </tr>\n",
       "    <tr>\n",
       "      <th>3811</th>\n",
       "      <td>tt9729206</td>\n",
       "      <td>Diner</td>\n",
       "      <td>Diner</td>\n",
       "      <td>2019</td>\n",
       "      <td>Missing</td>\n",
       "      <td>Crime</td>\n",
       "      <td>11</td>\n",
       "      <td>Apr 2, 1982</td>\n",
       "      <td>5000000</td>\n",
       "      <td>12592907</td>\n",
       "      <td>12592907</td>\n",
       "      <td>1982-04-02</td>\n",
       "      <td>April</td>\n",
       "      <td>2</td>\n",
       "      <td>Apr</td>\n",
       "      <td>Spring</td>\n",
       "    </tr>\n",
       "    <tr>\n",
       "      <th>3812</th>\n",
       "      <td>tt9805168</td>\n",
       "      <td>Traitor</td>\n",
       "      <td>Traitor</td>\n",
       "      <td>2015</td>\n",
       "      <td>110.00</td>\n",
       "      <td>Action,Drama,Romance</td>\n",
       "      <td>25</td>\n",
       "      <td>Aug 27, 2008</td>\n",
       "      <td>22000000</td>\n",
       "      <td>23530831</td>\n",
       "      <td>27882226</td>\n",
       "      <td>2008-08-27</td>\n",
       "      <td>August</td>\n",
       "      <td>3</td>\n",
       "      <td>Aug</td>\n",
       "      <td>Summer</td>\n",
       "    </tr>\n",
       "    <tr>\n",
       "      <th>3813</th>\n",
       "      <td>tt9844102</td>\n",
       "      <td>Ray</td>\n",
       "      <td>Ray</td>\n",
       "      <td>2018</td>\n",
       "      <td>111.00</td>\n",
       "      <td>Crime</td>\n",
       "      <td>8</td>\n",
       "      <td>Oct 29, 2004</td>\n",
       "      <td>40000000</td>\n",
       "      <td>75305995</td>\n",
       "      <td>124823094</td>\n",
       "      <td>2004-10-29</td>\n",
       "      <td>October</td>\n",
       "      <td>4</td>\n",
       "      <td>Oct</td>\n",
       "      <td>Fall</td>\n",
       "    </tr>\n",
       "    <tr>\n",
       "      <th>3814</th>\n",
       "      <td>tt9893078</td>\n",
       "      <td>Sublime</td>\n",
       "      <td>Sublime</td>\n",
       "      <td>2019</td>\n",
       "      <td>Missing</td>\n",
       "      <td>Documentary</td>\n",
       "      <td>30</td>\n",
       "      <td>Mar 13, 2007</td>\n",
       "      <td>1800000</td>\n",
       "      <td>0</td>\n",
       "      <td>0</td>\n",
       "      <td>2007-03-13</td>\n",
       "      <td>March</td>\n",
       "      <td>1</td>\n",
       "      <td>Mar</td>\n",
       "      <td>Spring</td>\n",
       "    </tr>\n",
       "  </tbody>\n",
       "</table>\n",
       "<p>3815 rows × 16 columns</p>\n",
       "</div>"
      ],
      "text/plain": [
       "         tconst  primary_title original_title  start_year runtime_minutes  \\\n",
       "0     tt0249516     Foodfight!     Foodfight!        2012           91.00   \n",
       "1     tt0293429  Mortal Kombat  Mortal Kombat        2021         Missing   \n",
       "2     tt0326592  The Overnight  The Overnight        2010           88.00   \n",
       "3     tt3844362  The Overnight  The Overnight        2015           79.00   \n",
       "4     tt0337692    On the Road    On the Road        2012          124.00   \n",
       "...         ...            ...            ...         ...             ...   \n",
       "3810  tt9678962           Fuel           Fuel        2018         Missing   \n",
       "3811  tt9729206          Diner          Diner        2019         Missing   \n",
       "3812  tt9805168        Traitor        Traitor        2015          110.00   \n",
       "3813  tt9844102            Ray            Ray        2018          111.00   \n",
       "3814  tt9893078        Sublime        Sublime        2019         Missing   \n",
       "\n",
       "                        genres  id  release_date  production_budget  \\\n",
       "0      Action,Animation,Comedy  26  Dec 31, 2012           45000000   \n",
       "1     Action,Adventure,Fantasy  10  Aug 18, 1995           20000000   \n",
       "2                      Missing  21  Jun 19, 2015             200000   \n",
       "3               Comedy,Mystery  21  Jun 19, 2015             200000   \n",
       "4      Adventure,Drama,Romance  17  Mar 22, 2013           25000000   \n",
       "...                        ...  ..           ...                ...   \n",
       "3810         Documentary,Sport  35  Nov 14, 2008            2500000   \n",
       "3811                     Crime  11   Apr 2, 1982            5000000   \n",
       "3812      Action,Drama,Romance  25  Aug 27, 2008           22000000   \n",
       "3813                     Crime   8  Oct 29, 2004           40000000   \n",
       "3814               Documentary  30  Mar 13, 2007            1800000   \n",
       "\n",
       "      domestic_gross  worldwide_gross release_datetime release_month_dt  \\\n",
       "0                  0            73706       2012-12-31         December   \n",
       "1           70433227        122133227       1995-08-18           August   \n",
       "2            1109808          1165996       2015-06-19             June   \n",
       "3            1109808          1165996       2015-06-19             June   \n",
       "4             720828          9313302       2013-03-22            March   \n",
       "...              ...              ...              ...              ...   \n",
       "3810          174255           174255       2008-11-14         November   \n",
       "3811        12592907         12592907       1982-04-02            April   \n",
       "3812        23530831         27882226       2008-08-27           August   \n",
       "3813        75305995        124823094       2004-10-29          October   \n",
       "3814               0                0       2007-03-13            March   \n",
       "\n",
       "      release_quarter release_month_manual release_season_manual  \n",
       "0                   4                  Dec                Winter  \n",
       "1                   3                  Aug                Summer  \n",
       "2                   2                  Jun                Summer  \n",
       "3                   2                  Jun                Summer  \n",
       "4                   1                  Mar                Spring  \n",
       "...               ...                  ...                   ...  \n",
       "3810                4                  Nov                  Fall  \n",
       "3811                2                  Apr                Spring  \n",
       "3812                3                  Aug                Summer  \n",
       "3813                4                  Oct                  Fall  \n",
       "3814                1                  Mar                Spring  \n",
       "\n",
       "[3815 rows x 16 columns]"
      ]
     },
     "execution_count": 79,
     "metadata": {},
     "output_type": "execute_result"
    }
   ],
   "source": [
    "df_filled"
   ]
  },
  {
   "cell_type": "markdown",
   "metadata": {},
   "source": [
    "## Splitting Genres into Lists"
   ]
  },
  {
   "cell_type": "code",
   "execution_count": 80,
   "metadata": {
    "ExecuteTime": {
     "end_time": "2021-06-23T18:48:40.815366Z",
     "start_time": "2021-06-23T18:48:40.802368Z"
    }
   },
   "outputs": [],
   "source": [
    "# ## Via map & lambda - slower than .str\n",
    "# df_filled['genres_list'] = df_filled['genres'].map(lambda x: x.split(','))\n",
    "# df_filled"
   ]
  },
  {
   "cell_type": "code",
   "execution_count": 81,
   "metadata": {
    "ExecuteTime": {
     "end_time": "2021-06-23T18:48:40.845368Z",
     "start_time": "2021-06-23T18:48:40.818368Z"
    }
   },
   "outputs": [
    {
     "data": {
      "text/plain": [
       "0        [Action, Animation, Comedy]\n",
       "1       [Action, Adventure, Fantasy]\n",
       "2                          [Missing]\n",
       "3                  [Comedy, Mystery]\n",
       "4        [Adventure, Drama, Romance]\n",
       "                    ...             \n",
       "3810            [Documentary, Sport]\n",
       "3811                         [Crime]\n",
       "3812        [Action, Drama, Romance]\n",
       "3813                         [Crime]\n",
       "3814                   [Documentary]\n",
       "Name: genres_str, Length: 3815, dtype: object"
      ]
     },
     "execution_count": 81,
     "metadata": {},
     "output_type": "execute_result"
    }
   ],
   "source": [
    "## Via .str and string methods (faster than map/lambda)\n",
    "df_filled['genres_str'] = df_filled['genres'].str.title().str.split(',')\n",
    "df_filled['genres_str']"
   ]
  },
  {
   "cell_type": "code",
   "execution_count": 82,
   "metadata": {
    "ExecuteTime": {
     "end_time": "2021-06-23T18:48:40.955366Z",
     "start_time": "2021-06-23T18:48:40.848370Z"
    },
    "code_folding": [],
    "scrolled": true
   },
   "outputs": [
    {
     "data": {
      "text/html": [
       "<div>\n",
       "<style scoped>\n",
       "    .dataframe tbody tr th:only-of-type {\n",
       "        vertical-align: middle;\n",
       "    }\n",
       "\n",
       "    .dataframe tbody tr th {\n",
       "        vertical-align: top;\n",
       "    }\n",
       "\n",
       "    .dataframe thead th {\n",
       "        text-align: right;\n",
       "    }\n",
       "</style>\n",
       "<table border=\"1\" class=\"dataframe\">\n",
       "  <thead>\n",
       "    <tr style=\"text-align: right;\">\n",
       "      <th></th>\n",
       "      <th>tconst</th>\n",
       "      <th>primary_title</th>\n",
       "      <th>original_title</th>\n",
       "      <th>start_year</th>\n",
       "      <th>runtime_minutes</th>\n",
       "      <th>genres</th>\n",
       "      <th>id</th>\n",
       "      <th>release_date</th>\n",
       "      <th>production_budget</th>\n",
       "      <th>domestic_gross</th>\n",
       "      <th>worldwide_gross</th>\n",
       "      <th>release_datetime</th>\n",
       "      <th>release_month_dt</th>\n",
       "      <th>release_quarter</th>\n",
       "      <th>release_month_manual</th>\n",
       "      <th>release_season_manual</th>\n",
       "      <th>genres_str</th>\n",
       "    </tr>\n",
       "  </thead>\n",
       "  <tbody>\n",
       "    <tr>\n",
       "      <th>0</th>\n",
       "      <td>tt0249516</td>\n",
       "      <td>Foodfight!</td>\n",
       "      <td>Foodfight!</td>\n",
       "      <td>2012</td>\n",
       "      <td>91.00</td>\n",
       "      <td>Action,Animation,Comedy</td>\n",
       "      <td>26</td>\n",
       "      <td>Dec 31, 2012</td>\n",
       "      <td>45000000</td>\n",
       "      <td>0</td>\n",
       "      <td>73706</td>\n",
       "      <td>2012-12-31</td>\n",
       "      <td>December</td>\n",
       "      <td>4</td>\n",
       "      <td>Dec</td>\n",
       "      <td>Winter</td>\n",
       "      <td>Action</td>\n",
       "    </tr>\n",
       "    <tr>\n",
       "      <th>0</th>\n",
       "      <td>tt0249516</td>\n",
       "      <td>Foodfight!</td>\n",
       "      <td>Foodfight!</td>\n",
       "      <td>2012</td>\n",
       "      <td>91.00</td>\n",
       "      <td>Action,Animation,Comedy</td>\n",
       "      <td>26</td>\n",
       "      <td>Dec 31, 2012</td>\n",
       "      <td>45000000</td>\n",
       "      <td>0</td>\n",
       "      <td>73706</td>\n",
       "      <td>2012-12-31</td>\n",
       "      <td>December</td>\n",
       "      <td>4</td>\n",
       "      <td>Dec</td>\n",
       "      <td>Winter</td>\n",
       "      <td>Animation</td>\n",
       "    </tr>\n",
       "    <tr>\n",
       "      <th>0</th>\n",
       "      <td>tt0249516</td>\n",
       "      <td>Foodfight!</td>\n",
       "      <td>Foodfight!</td>\n",
       "      <td>2012</td>\n",
       "      <td>91.00</td>\n",
       "      <td>Action,Animation,Comedy</td>\n",
       "      <td>26</td>\n",
       "      <td>Dec 31, 2012</td>\n",
       "      <td>45000000</td>\n",
       "      <td>0</td>\n",
       "      <td>73706</td>\n",
       "      <td>2012-12-31</td>\n",
       "      <td>December</td>\n",
       "      <td>4</td>\n",
       "      <td>Dec</td>\n",
       "      <td>Winter</td>\n",
       "      <td>Comedy</td>\n",
       "    </tr>\n",
       "    <tr>\n",
       "      <th>1</th>\n",
       "      <td>tt0293429</td>\n",
       "      <td>Mortal Kombat</td>\n",
       "      <td>Mortal Kombat</td>\n",
       "      <td>2021</td>\n",
       "      <td>Missing</td>\n",
       "      <td>Action,Adventure,Fantasy</td>\n",
       "      <td>10</td>\n",
       "      <td>Aug 18, 1995</td>\n",
       "      <td>20000000</td>\n",
       "      <td>70433227</td>\n",
       "      <td>122133227</td>\n",
       "      <td>1995-08-18</td>\n",
       "      <td>August</td>\n",
       "      <td>3</td>\n",
       "      <td>Aug</td>\n",
       "      <td>Summer</td>\n",
       "      <td>Action</td>\n",
       "    </tr>\n",
       "    <tr>\n",
       "      <th>1</th>\n",
       "      <td>tt0293429</td>\n",
       "      <td>Mortal Kombat</td>\n",
       "      <td>Mortal Kombat</td>\n",
       "      <td>2021</td>\n",
       "      <td>Missing</td>\n",
       "      <td>Action,Adventure,Fantasy</td>\n",
       "      <td>10</td>\n",
       "      <td>Aug 18, 1995</td>\n",
       "      <td>20000000</td>\n",
       "      <td>70433227</td>\n",
       "      <td>122133227</td>\n",
       "      <td>1995-08-18</td>\n",
       "      <td>August</td>\n",
       "      <td>3</td>\n",
       "      <td>Aug</td>\n",
       "      <td>Summer</td>\n",
       "      <td>Adventure</td>\n",
       "    </tr>\n",
       "    <tr>\n",
       "      <th>...</th>\n",
       "      <td>...</td>\n",
       "      <td>...</td>\n",
       "      <td>...</td>\n",
       "      <td>...</td>\n",
       "      <td>...</td>\n",
       "      <td>...</td>\n",
       "      <td>...</td>\n",
       "      <td>...</td>\n",
       "      <td>...</td>\n",
       "      <td>...</td>\n",
       "      <td>...</td>\n",
       "      <td>...</td>\n",
       "      <td>...</td>\n",
       "      <td>...</td>\n",
       "      <td>...</td>\n",
       "      <td>...</td>\n",
       "      <td>...</td>\n",
       "    </tr>\n",
       "    <tr>\n",
       "      <th>3812</th>\n",
       "      <td>tt9805168</td>\n",
       "      <td>Traitor</td>\n",
       "      <td>Traitor</td>\n",
       "      <td>2015</td>\n",
       "      <td>110.00</td>\n",
       "      <td>Action,Drama,Romance</td>\n",
       "      <td>25</td>\n",
       "      <td>Aug 27, 2008</td>\n",
       "      <td>22000000</td>\n",
       "      <td>23530831</td>\n",
       "      <td>27882226</td>\n",
       "      <td>2008-08-27</td>\n",
       "      <td>August</td>\n",
       "      <td>3</td>\n",
       "      <td>Aug</td>\n",
       "      <td>Summer</td>\n",
       "      <td>Action</td>\n",
       "    </tr>\n",
       "    <tr>\n",
       "      <th>3812</th>\n",
       "      <td>tt9805168</td>\n",
       "      <td>Traitor</td>\n",
       "      <td>Traitor</td>\n",
       "      <td>2015</td>\n",
       "      <td>110.00</td>\n",
       "      <td>Action,Drama,Romance</td>\n",
       "      <td>25</td>\n",
       "      <td>Aug 27, 2008</td>\n",
       "      <td>22000000</td>\n",
       "      <td>23530831</td>\n",
       "      <td>27882226</td>\n",
       "      <td>2008-08-27</td>\n",
       "      <td>August</td>\n",
       "      <td>3</td>\n",
       "      <td>Aug</td>\n",
       "      <td>Summer</td>\n",
       "      <td>Drama</td>\n",
       "    </tr>\n",
       "    <tr>\n",
       "      <th>3812</th>\n",
       "      <td>tt9805168</td>\n",
       "      <td>Traitor</td>\n",
       "      <td>Traitor</td>\n",
       "      <td>2015</td>\n",
       "      <td>110.00</td>\n",
       "      <td>Action,Drama,Romance</td>\n",
       "      <td>25</td>\n",
       "      <td>Aug 27, 2008</td>\n",
       "      <td>22000000</td>\n",
       "      <td>23530831</td>\n",
       "      <td>27882226</td>\n",
       "      <td>2008-08-27</td>\n",
       "      <td>August</td>\n",
       "      <td>3</td>\n",
       "      <td>Aug</td>\n",
       "      <td>Summer</td>\n",
       "      <td>Romance</td>\n",
       "    </tr>\n",
       "    <tr>\n",
       "      <th>3813</th>\n",
       "      <td>tt9844102</td>\n",
       "      <td>Ray</td>\n",
       "      <td>Ray</td>\n",
       "      <td>2018</td>\n",
       "      <td>111.00</td>\n",
       "      <td>Crime</td>\n",
       "      <td>8</td>\n",
       "      <td>Oct 29, 2004</td>\n",
       "      <td>40000000</td>\n",
       "      <td>75305995</td>\n",
       "      <td>124823094</td>\n",
       "      <td>2004-10-29</td>\n",
       "      <td>October</td>\n",
       "      <td>4</td>\n",
       "      <td>Oct</td>\n",
       "      <td>Fall</td>\n",
       "      <td>Crime</td>\n",
       "    </tr>\n",
       "    <tr>\n",
       "      <th>3814</th>\n",
       "      <td>tt9893078</td>\n",
       "      <td>Sublime</td>\n",
       "      <td>Sublime</td>\n",
       "      <td>2019</td>\n",
       "      <td>Missing</td>\n",
       "      <td>Documentary</td>\n",
       "      <td>30</td>\n",
       "      <td>Mar 13, 2007</td>\n",
       "      <td>1800000</td>\n",
       "      <td>0</td>\n",
       "      <td>0</td>\n",
       "      <td>2007-03-13</td>\n",
       "      <td>March</td>\n",
       "      <td>1</td>\n",
       "      <td>Mar</td>\n",
       "      <td>Spring</td>\n",
       "      <td>Documentary</td>\n",
       "    </tr>\n",
       "  </tbody>\n",
       "</table>\n",
       "<p>7868 rows × 17 columns</p>\n",
       "</div>"
      ],
      "text/plain": [
       "         tconst  primary_title original_title  start_year runtime_minutes  \\\n",
       "0     tt0249516     Foodfight!     Foodfight!        2012           91.00   \n",
       "0     tt0249516     Foodfight!     Foodfight!        2012           91.00   \n",
       "0     tt0249516     Foodfight!     Foodfight!        2012           91.00   \n",
       "1     tt0293429  Mortal Kombat  Mortal Kombat        2021         Missing   \n",
       "1     tt0293429  Mortal Kombat  Mortal Kombat        2021         Missing   \n",
       "...         ...            ...            ...         ...             ...   \n",
       "3812  tt9805168        Traitor        Traitor        2015          110.00   \n",
       "3812  tt9805168        Traitor        Traitor        2015          110.00   \n",
       "3812  tt9805168        Traitor        Traitor        2015          110.00   \n",
       "3813  tt9844102            Ray            Ray        2018          111.00   \n",
       "3814  tt9893078        Sublime        Sublime        2019         Missing   \n",
       "\n",
       "                        genres  id  release_date  production_budget  \\\n",
       "0      Action,Animation,Comedy  26  Dec 31, 2012           45000000   \n",
       "0      Action,Animation,Comedy  26  Dec 31, 2012           45000000   \n",
       "0      Action,Animation,Comedy  26  Dec 31, 2012           45000000   \n",
       "1     Action,Adventure,Fantasy  10  Aug 18, 1995           20000000   \n",
       "1     Action,Adventure,Fantasy  10  Aug 18, 1995           20000000   \n",
       "...                        ...  ..           ...                ...   \n",
       "3812      Action,Drama,Romance  25  Aug 27, 2008           22000000   \n",
       "3812      Action,Drama,Romance  25  Aug 27, 2008           22000000   \n",
       "3812      Action,Drama,Romance  25  Aug 27, 2008           22000000   \n",
       "3813                     Crime   8  Oct 29, 2004           40000000   \n",
       "3814               Documentary  30  Mar 13, 2007            1800000   \n",
       "\n",
       "      domestic_gross  worldwide_gross release_datetime release_month_dt  \\\n",
       "0                  0            73706       2012-12-31         December   \n",
       "0                  0            73706       2012-12-31         December   \n",
       "0                  0            73706       2012-12-31         December   \n",
       "1           70433227        122133227       1995-08-18           August   \n",
       "1           70433227        122133227       1995-08-18           August   \n",
       "...              ...              ...              ...              ...   \n",
       "3812        23530831         27882226       2008-08-27           August   \n",
       "3812        23530831         27882226       2008-08-27           August   \n",
       "3812        23530831         27882226       2008-08-27           August   \n",
       "3813        75305995        124823094       2004-10-29          October   \n",
       "3814               0                0       2007-03-13            March   \n",
       "\n",
       "      release_quarter release_month_manual release_season_manual   genres_str  \n",
       "0                   4                  Dec                Winter       Action  \n",
       "0                   4                  Dec                Winter    Animation  \n",
       "0                   4                  Dec                Winter       Comedy  \n",
       "1                   3                  Aug                Summer       Action  \n",
       "1                   3                  Aug                Summer    Adventure  \n",
       "...               ...                  ...                   ...          ...  \n",
       "3812                3                  Aug                Summer       Action  \n",
       "3812                3                  Aug                Summer        Drama  \n",
       "3812                3                  Aug                Summer      Romance  \n",
       "3813                4                  Oct                  Fall        Crime  \n",
       "3814                1                  Mar                Spring  Documentary  \n",
       "\n",
       "[7868 rows x 17 columns]"
      ]
     },
     "execution_count": 82,
     "metadata": {},
     "output_type": "execute_result"
    }
   ],
   "source": [
    "## Creating new rows for each genre per movie\n",
    "df_filled = df_filled.explode('genres_str')\n",
    "df_filled"
   ]
  },
  {
   "cell_type": "markdown",
   "metadata": {},
   "source": [
    "## Creating Profit and ROI"
   ]
  },
  {
   "cell_type": "code",
   "execution_count": 83,
   "metadata": {
    "ExecuteTime": {
     "end_time": "2021-06-23T18:48:40.970368Z",
     "start_time": "2021-06-23T18:48:40.958370Z"
    }
   },
   "outputs": [
    {
     "data": {
      "text/plain": [
       "0       -44926294\n",
       "0       -44926294\n",
       "0       -44926294\n",
       "1       102133227\n",
       "1       102133227\n",
       "          ...    \n",
       "3812      5882226\n",
       "3812      5882226\n",
       "3812      5882226\n",
       "3813     84823094\n",
       "3814     -1800000\n",
       "Name: profit, Length: 7868, dtype: int64"
      ]
     },
     "execution_count": 83,
     "metadata": {},
     "output_type": "execute_result"
    }
   ],
   "source": [
    "df_filled['profit'] = df_filled['worldwide_gross'] - df_filled['production_budget']\n",
    "df_filled['profit'] "
   ]
  },
  {
   "cell_type": "code",
   "execution_count": 84,
   "metadata": {
    "ExecuteTime": {
     "end_time": "2021-06-23T18:48:40.986367Z",
     "start_time": "2021-06-23T18:48:40.973368Z"
    }
   },
   "outputs": [
    {
     "data": {
      "text/plain": [
       "0      -1.00\n",
       "0      -1.00\n",
       "0      -1.00\n",
       "1       5.11\n",
       "1       5.11\n",
       "        ... \n",
       "3812    0.27\n",
       "3812    0.27\n",
       "3812    0.27\n",
       "3813    2.12\n",
       "3814   -1.00\n",
       "Name: ROI, Length: 7868, dtype: float64"
      ]
     },
     "execution_count": 84,
     "metadata": {},
     "output_type": "execute_result"
    }
   ],
   "source": [
    "df_filled['ROI'] = (df_filled['worldwide_gross'] - df_filled['production_budget'])/df_filled['production_budget']\n",
    "df_filled['ROI']"
   ]
  },
  {
   "cell_type": "markdown",
   "metadata": {},
   "source": [
    "# **Visualizations**"
   ]
  },
  {
   "cell_type": "code",
   "execution_count": 85,
   "metadata": {
    "ExecuteTime": {
     "end_time": "2021-06-23T18:48:41.047369Z",
     "start_time": "2021-06-23T18:48:40.989369Z"
    }
   },
   "outputs": [
    {
     "data": {
      "text/html": [
       "<div>\n",
       "<style scoped>\n",
       "    .dataframe tbody tr th:only-of-type {\n",
       "        vertical-align: middle;\n",
       "    }\n",
       "\n",
       "    .dataframe tbody tr th {\n",
       "        vertical-align: top;\n",
       "    }\n",
       "\n",
       "    .dataframe thead th {\n",
       "        text-align: right;\n",
       "    }\n",
       "</style>\n",
       "<table border=\"1\" class=\"dataframe\">\n",
       "  <thead>\n",
       "    <tr style=\"text-align: right;\">\n",
       "      <th></th>\n",
       "      <th>tconst</th>\n",
       "      <th>primary_title</th>\n",
       "      <th>original_title</th>\n",
       "      <th>start_year</th>\n",
       "      <th>runtime_minutes</th>\n",
       "      <th>genres</th>\n",
       "      <th>id</th>\n",
       "      <th>release_date</th>\n",
       "      <th>production_budget</th>\n",
       "      <th>domestic_gross</th>\n",
       "      <th>worldwide_gross</th>\n",
       "      <th>release_datetime</th>\n",
       "      <th>release_month_dt</th>\n",
       "      <th>release_quarter</th>\n",
       "      <th>release_month_manual</th>\n",
       "      <th>release_season_manual</th>\n",
       "      <th>genres_str</th>\n",
       "      <th>profit</th>\n",
       "      <th>ROI</th>\n",
       "    </tr>\n",
       "  </thead>\n",
       "  <tbody>\n",
       "    <tr>\n",
       "      <th>0</th>\n",
       "      <td>tt0249516</td>\n",
       "      <td>Foodfight!</td>\n",
       "      <td>Foodfight!</td>\n",
       "      <td>2012</td>\n",
       "      <td>91.00</td>\n",
       "      <td>Action,Animation,Comedy</td>\n",
       "      <td>26</td>\n",
       "      <td>Dec 31, 2012</td>\n",
       "      <td>45000000</td>\n",
       "      <td>0</td>\n",
       "      <td>73706</td>\n",
       "      <td>2012-12-31</td>\n",
       "      <td>December</td>\n",
       "      <td>4</td>\n",
       "      <td>Dec</td>\n",
       "      <td>Winter</td>\n",
       "      <td>Action</td>\n",
       "      <td>-44926294</td>\n",
       "      <td>-1.00</td>\n",
       "    </tr>\n",
       "    <tr>\n",
       "      <th>0</th>\n",
       "      <td>tt0249516</td>\n",
       "      <td>Foodfight!</td>\n",
       "      <td>Foodfight!</td>\n",
       "      <td>2012</td>\n",
       "      <td>91.00</td>\n",
       "      <td>Action,Animation,Comedy</td>\n",
       "      <td>26</td>\n",
       "      <td>Dec 31, 2012</td>\n",
       "      <td>45000000</td>\n",
       "      <td>0</td>\n",
       "      <td>73706</td>\n",
       "      <td>2012-12-31</td>\n",
       "      <td>December</td>\n",
       "      <td>4</td>\n",
       "      <td>Dec</td>\n",
       "      <td>Winter</td>\n",
       "      <td>Animation</td>\n",
       "      <td>-44926294</td>\n",
       "      <td>-1.00</td>\n",
       "    </tr>\n",
       "    <tr>\n",
       "      <th>0</th>\n",
       "      <td>tt0249516</td>\n",
       "      <td>Foodfight!</td>\n",
       "      <td>Foodfight!</td>\n",
       "      <td>2012</td>\n",
       "      <td>91.00</td>\n",
       "      <td>Action,Animation,Comedy</td>\n",
       "      <td>26</td>\n",
       "      <td>Dec 31, 2012</td>\n",
       "      <td>45000000</td>\n",
       "      <td>0</td>\n",
       "      <td>73706</td>\n",
       "      <td>2012-12-31</td>\n",
       "      <td>December</td>\n",
       "      <td>4</td>\n",
       "      <td>Dec</td>\n",
       "      <td>Winter</td>\n",
       "      <td>Comedy</td>\n",
       "      <td>-44926294</td>\n",
       "      <td>-1.00</td>\n",
       "    </tr>\n",
       "    <tr>\n",
       "      <th>1</th>\n",
       "      <td>tt0293429</td>\n",
       "      <td>Mortal Kombat</td>\n",
       "      <td>Mortal Kombat</td>\n",
       "      <td>2021</td>\n",
       "      <td>Missing</td>\n",
       "      <td>Action,Adventure,Fantasy</td>\n",
       "      <td>10</td>\n",
       "      <td>Aug 18, 1995</td>\n",
       "      <td>20000000</td>\n",
       "      <td>70433227</td>\n",
       "      <td>122133227</td>\n",
       "      <td>1995-08-18</td>\n",
       "      <td>August</td>\n",
       "      <td>3</td>\n",
       "      <td>Aug</td>\n",
       "      <td>Summer</td>\n",
       "      <td>Action</td>\n",
       "      <td>102133227</td>\n",
       "      <td>5.11</td>\n",
       "    </tr>\n",
       "    <tr>\n",
       "      <th>1</th>\n",
       "      <td>tt0293429</td>\n",
       "      <td>Mortal Kombat</td>\n",
       "      <td>Mortal Kombat</td>\n",
       "      <td>2021</td>\n",
       "      <td>Missing</td>\n",
       "      <td>Action,Adventure,Fantasy</td>\n",
       "      <td>10</td>\n",
       "      <td>Aug 18, 1995</td>\n",
       "      <td>20000000</td>\n",
       "      <td>70433227</td>\n",
       "      <td>122133227</td>\n",
       "      <td>1995-08-18</td>\n",
       "      <td>August</td>\n",
       "      <td>3</td>\n",
       "      <td>Aug</td>\n",
       "      <td>Summer</td>\n",
       "      <td>Adventure</td>\n",
       "      <td>102133227</td>\n",
       "      <td>5.11</td>\n",
       "    </tr>\n",
       "    <tr>\n",
       "      <th>...</th>\n",
       "      <td>...</td>\n",
       "      <td>...</td>\n",
       "      <td>...</td>\n",
       "      <td>...</td>\n",
       "      <td>...</td>\n",
       "      <td>...</td>\n",
       "      <td>...</td>\n",
       "      <td>...</td>\n",
       "      <td>...</td>\n",
       "      <td>...</td>\n",
       "      <td>...</td>\n",
       "      <td>...</td>\n",
       "      <td>...</td>\n",
       "      <td>...</td>\n",
       "      <td>...</td>\n",
       "      <td>...</td>\n",
       "      <td>...</td>\n",
       "      <td>...</td>\n",
       "      <td>...</td>\n",
       "    </tr>\n",
       "    <tr>\n",
       "      <th>3812</th>\n",
       "      <td>tt9805168</td>\n",
       "      <td>Traitor</td>\n",
       "      <td>Traitor</td>\n",
       "      <td>2015</td>\n",
       "      <td>110.00</td>\n",
       "      <td>Action,Drama,Romance</td>\n",
       "      <td>25</td>\n",
       "      <td>Aug 27, 2008</td>\n",
       "      <td>22000000</td>\n",
       "      <td>23530831</td>\n",
       "      <td>27882226</td>\n",
       "      <td>2008-08-27</td>\n",
       "      <td>August</td>\n",
       "      <td>3</td>\n",
       "      <td>Aug</td>\n",
       "      <td>Summer</td>\n",
       "      <td>Action</td>\n",
       "      <td>5882226</td>\n",
       "      <td>0.27</td>\n",
       "    </tr>\n",
       "    <tr>\n",
       "      <th>3812</th>\n",
       "      <td>tt9805168</td>\n",
       "      <td>Traitor</td>\n",
       "      <td>Traitor</td>\n",
       "      <td>2015</td>\n",
       "      <td>110.00</td>\n",
       "      <td>Action,Drama,Romance</td>\n",
       "      <td>25</td>\n",
       "      <td>Aug 27, 2008</td>\n",
       "      <td>22000000</td>\n",
       "      <td>23530831</td>\n",
       "      <td>27882226</td>\n",
       "      <td>2008-08-27</td>\n",
       "      <td>August</td>\n",
       "      <td>3</td>\n",
       "      <td>Aug</td>\n",
       "      <td>Summer</td>\n",
       "      <td>Drama</td>\n",
       "      <td>5882226</td>\n",
       "      <td>0.27</td>\n",
       "    </tr>\n",
       "    <tr>\n",
       "      <th>3812</th>\n",
       "      <td>tt9805168</td>\n",
       "      <td>Traitor</td>\n",
       "      <td>Traitor</td>\n",
       "      <td>2015</td>\n",
       "      <td>110.00</td>\n",
       "      <td>Action,Drama,Romance</td>\n",
       "      <td>25</td>\n",
       "      <td>Aug 27, 2008</td>\n",
       "      <td>22000000</td>\n",
       "      <td>23530831</td>\n",
       "      <td>27882226</td>\n",
       "      <td>2008-08-27</td>\n",
       "      <td>August</td>\n",
       "      <td>3</td>\n",
       "      <td>Aug</td>\n",
       "      <td>Summer</td>\n",
       "      <td>Romance</td>\n",
       "      <td>5882226</td>\n",
       "      <td>0.27</td>\n",
       "    </tr>\n",
       "    <tr>\n",
       "      <th>3813</th>\n",
       "      <td>tt9844102</td>\n",
       "      <td>Ray</td>\n",
       "      <td>Ray</td>\n",
       "      <td>2018</td>\n",
       "      <td>111.00</td>\n",
       "      <td>Crime</td>\n",
       "      <td>8</td>\n",
       "      <td>Oct 29, 2004</td>\n",
       "      <td>40000000</td>\n",
       "      <td>75305995</td>\n",
       "      <td>124823094</td>\n",
       "      <td>2004-10-29</td>\n",
       "      <td>October</td>\n",
       "      <td>4</td>\n",
       "      <td>Oct</td>\n",
       "      <td>Fall</td>\n",
       "      <td>Crime</td>\n",
       "      <td>84823094</td>\n",
       "      <td>2.12</td>\n",
       "    </tr>\n",
       "    <tr>\n",
       "      <th>3814</th>\n",
       "      <td>tt9893078</td>\n",
       "      <td>Sublime</td>\n",
       "      <td>Sublime</td>\n",
       "      <td>2019</td>\n",
       "      <td>Missing</td>\n",
       "      <td>Documentary</td>\n",
       "      <td>30</td>\n",
       "      <td>Mar 13, 2007</td>\n",
       "      <td>1800000</td>\n",
       "      <td>0</td>\n",
       "      <td>0</td>\n",
       "      <td>2007-03-13</td>\n",
       "      <td>March</td>\n",
       "      <td>1</td>\n",
       "      <td>Mar</td>\n",
       "      <td>Spring</td>\n",
       "      <td>Documentary</td>\n",
       "      <td>-1800000</td>\n",
       "      <td>-1.00</td>\n",
       "    </tr>\n",
       "  </tbody>\n",
       "</table>\n",
       "<p>7868 rows × 19 columns</p>\n",
       "</div>"
      ],
      "text/plain": [
       "         tconst  primary_title original_title  start_year runtime_minutes  \\\n",
       "0     tt0249516     Foodfight!     Foodfight!        2012           91.00   \n",
       "0     tt0249516     Foodfight!     Foodfight!        2012           91.00   \n",
       "0     tt0249516     Foodfight!     Foodfight!        2012           91.00   \n",
       "1     tt0293429  Mortal Kombat  Mortal Kombat        2021         Missing   \n",
       "1     tt0293429  Mortal Kombat  Mortal Kombat        2021         Missing   \n",
       "...         ...            ...            ...         ...             ...   \n",
       "3812  tt9805168        Traitor        Traitor        2015          110.00   \n",
       "3812  tt9805168        Traitor        Traitor        2015          110.00   \n",
       "3812  tt9805168        Traitor        Traitor        2015          110.00   \n",
       "3813  tt9844102            Ray            Ray        2018          111.00   \n",
       "3814  tt9893078        Sublime        Sublime        2019         Missing   \n",
       "\n",
       "                        genres  id  release_date  production_budget  \\\n",
       "0      Action,Animation,Comedy  26  Dec 31, 2012           45000000   \n",
       "0      Action,Animation,Comedy  26  Dec 31, 2012           45000000   \n",
       "0      Action,Animation,Comedy  26  Dec 31, 2012           45000000   \n",
       "1     Action,Adventure,Fantasy  10  Aug 18, 1995           20000000   \n",
       "1     Action,Adventure,Fantasy  10  Aug 18, 1995           20000000   \n",
       "...                        ...  ..           ...                ...   \n",
       "3812      Action,Drama,Romance  25  Aug 27, 2008           22000000   \n",
       "3812      Action,Drama,Romance  25  Aug 27, 2008           22000000   \n",
       "3812      Action,Drama,Romance  25  Aug 27, 2008           22000000   \n",
       "3813                     Crime   8  Oct 29, 2004           40000000   \n",
       "3814               Documentary  30  Mar 13, 2007            1800000   \n",
       "\n",
       "      domestic_gross  worldwide_gross release_datetime release_month_dt  \\\n",
       "0                  0            73706       2012-12-31         December   \n",
       "0                  0            73706       2012-12-31         December   \n",
       "0                  0            73706       2012-12-31         December   \n",
       "1           70433227        122133227       1995-08-18           August   \n",
       "1           70433227        122133227       1995-08-18           August   \n",
       "...              ...              ...              ...              ...   \n",
       "3812        23530831         27882226       2008-08-27           August   \n",
       "3812        23530831         27882226       2008-08-27           August   \n",
       "3812        23530831         27882226       2008-08-27           August   \n",
       "3813        75305995        124823094       2004-10-29          October   \n",
       "3814               0                0       2007-03-13            March   \n",
       "\n",
       "      release_quarter release_month_manual release_season_manual   genres_str  \\\n",
       "0                   4                  Dec                Winter       Action   \n",
       "0                   4                  Dec                Winter    Animation   \n",
       "0                   4                  Dec                Winter       Comedy   \n",
       "1                   3                  Aug                Summer       Action   \n",
       "1                   3                  Aug                Summer    Adventure   \n",
       "...               ...                  ...                   ...          ...   \n",
       "3812                3                  Aug                Summer       Action   \n",
       "3812                3                  Aug                Summer        Drama   \n",
       "3812                3                  Aug                Summer      Romance   \n",
       "3813                4                  Oct                  Fall        Crime   \n",
       "3814                1                  Mar                Spring  Documentary   \n",
       "\n",
       "         profit   ROI  \n",
       "0     -44926294 -1.00  \n",
       "0     -44926294 -1.00  \n",
       "0     -44926294 -1.00  \n",
       "1     102133227  5.11  \n",
       "1     102133227  5.11  \n",
       "...         ...   ...  \n",
       "3812    5882226  0.27  \n",
       "3812    5882226  0.27  \n",
       "3812    5882226  0.27  \n",
       "3813   84823094  2.12  \n",
       "3814   -1800000 -1.00  \n",
       "\n",
       "[7868 rows x 19 columns]"
      ]
     },
     "execution_count": 85,
     "metadata": {},
     "output_type": "execute_result"
    }
   ],
   "source": [
    "plot_df = df_filled.copy()\n",
    "plot_df"
   ]
  },
  {
   "cell_type": "markdown",
   "metadata": {},
   "source": [
    "## Total Worldwide Gross per Genre"
   ]
  },
  {
   "cell_type": "code",
   "execution_count": 86,
   "metadata": {
    "ExecuteTime": {
     "end_time": "2021-06-23T18:48:41.063367Z",
     "start_time": "2021-06-23T18:48:41.050367Z"
    },
    "code_folding": []
   },
   "outputs": [],
   "source": [
    "## Defining a function to perform aggregation and plot the data\n",
    "\n",
    "def sort_genres_sum(df, col_to_sort, agg='sum', verbose=True):\n",
    "    '''Creates a new dataframe from a given dataframe created by the sum of\n",
    "    all values for each genre, then sorted by the specified column name.\n",
    "    \n",
    "    Args & kwargs:\n",
    "    df - original dataframe to be sorted\n",
    "    col_to_sort - column name (str) by which to sort the data\n",
    "    '''\n",
    "    \n",
    "    if agg == 'sum':\n",
    "        agg_func = np.sum\n",
    "        agg_title = 'Total'\n",
    "    elif agg == 'median':\n",
    "        agg_func = np.median\n",
    "        agg_title = 'Median'\n",
    "    else:\n",
    "        agg_func = np.mean\n",
    "        agg_title = 'Average'\n",
    "    \n",
    "#     idx = list(df.groupby(\"genres_str\", as_index=True).agg(agg).sort_values(by = col_to_sort, ascending=False).index)\n",
    "    idx = list(df.groupby(\"genres_str\", as_index=True).agg(agg_func).sort_values(by = col_to_sort, ascending=False).index)\n",
    "    \n",
    "    fig = plt.figure(figsize=(15,4))\n",
    "    sns.barplot(data=df, x= 'genres_str', y= col_to_sort, order = idx, estimator = agg_func)\n",
    "    plt.xticks(rotation=45, ha= 'right')\n",
    "    plt.suptitle(f'Total {col_to_sort.title().replace(\"_\", \" \")} by Genre')\n",
    "    plt.xlabel('Genres')\n",
    "    plt.ylabel(f'Total {col_to_sort.title().replace(\"_\", \" \")}');\n",
    "    \n",
    "#     print('The resulting DataFrame is called \"df\" for future reference.')\n",
    "    \n",
    "    if verbose == True:\n",
    "        display(df.head(5))\n",
    "    \n",
    "    return fig"
   ]
  },
  {
   "cell_type": "code",
   "execution_count": 87,
   "metadata": {
    "ExecuteTime": {
     "end_time": "2021-06-23T18:48:42.870372Z",
     "start_time": "2021-06-23T18:48:41.066368Z"
    },
    "scrolled": false
   },
   "outputs": [
    {
     "data": {
      "text/html": [
       "<div>\n",
       "<style scoped>\n",
       "    .dataframe tbody tr th:only-of-type {\n",
       "        vertical-align: middle;\n",
       "    }\n",
       "\n",
       "    .dataframe tbody tr th {\n",
       "        vertical-align: top;\n",
       "    }\n",
       "\n",
       "    .dataframe thead th {\n",
       "        text-align: right;\n",
       "    }\n",
       "</style>\n",
       "<table border=\"1\" class=\"dataframe\">\n",
       "  <thead>\n",
       "    <tr style=\"text-align: right;\">\n",
       "      <th></th>\n",
       "      <th>tconst</th>\n",
       "      <th>primary_title</th>\n",
       "      <th>original_title</th>\n",
       "      <th>start_year</th>\n",
       "      <th>runtime_minutes</th>\n",
       "      <th>genres</th>\n",
       "      <th>id</th>\n",
       "      <th>release_date</th>\n",
       "      <th>production_budget</th>\n",
       "      <th>domestic_gross</th>\n",
       "      <th>worldwide_gross</th>\n",
       "      <th>release_datetime</th>\n",
       "      <th>release_month_dt</th>\n",
       "      <th>release_quarter</th>\n",
       "      <th>release_month_manual</th>\n",
       "      <th>release_season_manual</th>\n",
       "      <th>genres_str</th>\n",
       "      <th>profit</th>\n",
       "      <th>ROI</th>\n",
       "    </tr>\n",
       "  </thead>\n",
       "  <tbody>\n",
       "    <tr>\n",
       "      <th>0</th>\n",
       "      <td>tt0249516</td>\n",
       "      <td>Foodfight!</td>\n",
       "      <td>Foodfight!</td>\n",
       "      <td>2012</td>\n",
       "      <td>91.00</td>\n",
       "      <td>Action,Animation,Comedy</td>\n",
       "      <td>26</td>\n",
       "      <td>Dec 31, 2012</td>\n",
       "      <td>45000000</td>\n",
       "      <td>0</td>\n",
       "      <td>73706</td>\n",
       "      <td>2012-12-31</td>\n",
       "      <td>December</td>\n",
       "      <td>4</td>\n",
       "      <td>Dec</td>\n",
       "      <td>Winter</td>\n",
       "      <td>Action</td>\n",
       "      <td>-44926294</td>\n",
       "      <td>-1.00</td>\n",
       "    </tr>\n",
       "    <tr>\n",
       "      <th>0</th>\n",
       "      <td>tt0249516</td>\n",
       "      <td>Foodfight!</td>\n",
       "      <td>Foodfight!</td>\n",
       "      <td>2012</td>\n",
       "      <td>91.00</td>\n",
       "      <td>Action,Animation,Comedy</td>\n",
       "      <td>26</td>\n",
       "      <td>Dec 31, 2012</td>\n",
       "      <td>45000000</td>\n",
       "      <td>0</td>\n",
       "      <td>73706</td>\n",
       "      <td>2012-12-31</td>\n",
       "      <td>December</td>\n",
       "      <td>4</td>\n",
       "      <td>Dec</td>\n",
       "      <td>Winter</td>\n",
       "      <td>Animation</td>\n",
       "      <td>-44926294</td>\n",
       "      <td>-1.00</td>\n",
       "    </tr>\n",
       "    <tr>\n",
       "      <th>0</th>\n",
       "      <td>tt0249516</td>\n",
       "      <td>Foodfight!</td>\n",
       "      <td>Foodfight!</td>\n",
       "      <td>2012</td>\n",
       "      <td>91.00</td>\n",
       "      <td>Action,Animation,Comedy</td>\n",
       "      <td>26</td>\n",
       "      <td>Dec 31, 2012</td>\n",
       "      <td>45000000</td>\n",
       "      <td>0</td>\n",
       "      <td>73706</td>\n",
       "      <td>2012-12-31</td>\n",
       "      <td>December</td>\n",
       "      <td>4</td>\n",
       "      <td>Dec</td>\n",
       "      <td>Winter</td>\n",
       "      <td>Comedy</td>\n",
       "      <td>-44926294</td>\n",
       "      <td>-1.00</td>\n",
       "    </tr>\n",
       "    <tr>\n",
       "      <th>1</th>\n",
       "      <td>tt0293429</td>\n",
       "      <td>Mortal Kombat</td>\n",
       "      <td>Mortal Kombat</td>\n",
       "      <td>2021</td>\n",
       "      <td>Missing</td>\n",
       "      <td>Action,Adventure,Fantasy</td>\n",
       "      <td>10</td>\n",
       "      <td>Aug 18, 1995</td>\n",
       "      <td>20000000</td>\n",
       "      <td>70433227</td>\n",
       "      <td>122133227</td>\n",
       "      <td>1995-08-18</td>\n",
       "      <td>August</td>\n",
       "      <td>3</td>\n",
       "      <td>Aug</td>\n",
       "      <td>Summer</td>\n",
       "      <td>Action</td>\n",
       "      <td>102133227</td>\n",
       "      <td>5.11</td>\n",
       "    </tr>\n",
       "    <tr>\n",
       "      <th>1</th>\n",
       "      <td>tt0293429</td>\n",
       "      <td>Mortal Kombat</td>\n",
       "      <td>Mortal Kombat</td>\n",
       "      <td>2021</td>\n",
       "      <td>Missing</td>\n",
       "      <td>Action,Adventure,Fantasy</td>\n",
       "      <td>10</td>\n",
       "      <td>Aug 18, 1995</td>\n",
       "      <td>20000000</td>\n",
       "      <td>70433227</td>\n",
       "      <td>122133227</td>\n",
       "      <td>1995-08-18</td>\n",
       "      <td>August</td>\n",
       "      <td>3</td>\n",
       "      <td>Aug</td>\n",
       "      <td>Summer</td>\n",
       "      <td>Adventure</td>\n",
       "      <td>102133227</td>\n",
       "      <td>5.11</td>\n",
       "    </tr>\n",
       "  </tbody>\n",
       "</table>\n",
       "</div>"
      ],
      "text/plain": [
       "      tconst  primary_title original_title  start_year runtime_minutes  \\\n",
       "0  tt0249516     Foodfight!     Foodfight!        2012           91.00   \n",
       "0  tt0249516     Foodfight!     Foodfight!        2012           91.00   \n",
       "0  tt0249516     Foodfight!     Foodfight!        2012           91.00   \n",
       "1  tt0293429  Mortal Kombat  Mortal Kombat        2021         Missing   \n",
       "1  tt0293429  Mortal Kombat  Mortal Kombat        2021         Missing   \n",
       "\n",
       "                     genres  id  release_date  production_budget  \\\n",
       "0   Action,Animation,Comedy  26  Dec 31, 2012           45000000   \n",
       "0   Action,Animation,Comedy  26  Dec 31, 2012           45000000   \n",
       "0   Action,Animation,Comedy  26  Dec 31, 2012           45000000   \n",
       "1  Action,Adventure,Fantasy  10  Aug 18, 1995           20000000   \n",
       "1  Action,Adventure,Fantasy  10  Aug 18, 1995           20000000   \n",
       "\n",
       "   domestic_gross  worldwide_gross release_datetime release_month_dt  \\\n",
       "0               0            73706       2012-12-31         December   \n",
       "0               0            73706       2012-12-31         December   \n",
       "0               0            73706       2012-12-31         December   \n",
       "1        70433227        122133227       1995-08-18           August   \n",
       "1        70433227        122133227       1995-08-18           August   \n",
       "\n",
       "   release_quarter release_month_manual release_season_manual genres_str  \\\n",
       "0                4                  Dec                Winter     Action   \n",
       "0                4                  Dec                Winter  Animation   \n",
       "0                4                  Dec                Winter     Comedy   \n",
       "1                3                  Aug                Summer     Action   \n",
       "1                3                  Aug                Summer  Adventure   \n",
       "\n",
       "      profit   ROI  \n",
       "0  -44926294 -1.00  \n",
       "0  -44926294 -1.00  \n",
       "0  -44926294 -1.00  \n",
       "1  102133227  5.11  \n",
       "1  102133227  5.11  "
      ]
     },
     "metadata": {},
     "output_type": "display_data"
    },
    {
     "data": {
      "image/png": "[encoded data removed]",
      "text/plain": [
       "<Figure size 1080x288 with 1 Axes>"
      ]
     },
     "metadata": {
      "needs_background": "light"
     },
     "output_type": "display_data"
    }
   ],
   "source": [
    "## Testing Function\n",
    "\n",
    "sort_genres_sum(plot_df, col_to_sort='domestic_gross', agg='mean');"
   ]
  },
  {
   "cell_type": "markdown",
   "metadata": {},
   "source": [
    "**Observations:**\n",
    ">* **Top three genres:** Adventure, Action, Drama\n",
    ">* **Lowest three genres:** Western, News, Reality-TV\n",
    ">* On this graph, musicals are ranked much lower due to smaller \n",
    "\n",
    "**Suggestions**\n",
    ">* **Safest Genres (by Gross)** are the top three genres\n",
    "    * Lowest points on the error bars indicate high gross performance even at their worst\n",
    ">* Select from Action, Animation, Adventure, Fantasy, Sci-Fi, Family, or Musicals\n",
    "    * All others show poor performance"
   ]
  },
  {
   "cell_type": "markdown",
   "metadata": {},
   "source": [
    "## Average Gross per Genre"
   ]
  },
  {
   "cell_type": "code",
   "execution_count": 88,
   "metadata": {
    "ExecuteTime": {
     "end_time": "2021-06-23T18:48:42.885373Z",
     "start_time": "2021-06-23T18:48:42.874373Z"
    },
    "code_folding": [
     0
    ]
   },
   "outputs": [],
   "source": [
    "## Defining a function to perform aggregation and plot the data\n",
    "\n",
    "def sort_genres_avg(df, col_to_sort):\n",
    "    '''Creates a new dataframe from a given dataframe created by the average of\n",
    "    all values for each genre, then sorted by the specified column name.\n",
    "    \n",
    "    Args & kwargs:\n",
    "    df - original dataframe to be sorted\n",
    "    col_to_sort - column name (str) by which to sort the data\"'''\n",
    "    \n",
    "    df1 = df.groupby(\"genres_str\").mean().reset_index().sort_values(by = col_to_sort, ascending=False)\n",
    "\n",
    "    plt.figure(figsize=(15,4))\n",
    "    sns.barplot(data=df1, x= 'genres_str', y= col_to_sort )\n",
    "    plt.xticks(rotation=45, ha= 'right')\n",
    "    plt.suptitle('Average Worldwide Gross by Genre')\n",
    "    plt.xlabel('Genres')\n",
    "    plt.ylabel('Total Worldwide Gross ($)');\n",
    "    \n",
    "    return df1.head(5)"
   ]
  },
  {
   "cell_type": "code",
   "execution_count": 89,
   "metadata": {
    "ExecuteTime": {
     "end_time": "2021-06-23T18:48:43.416374Z",
     "start_time": "2021-06-23T18:48:42.889374Z"
    },
    "scrolled": false
   },
   "outputs": [
    {
     "data": {
      "text/html": [
       "<div>\n",
       "<style scoped>\n",
       "    .dataframe tbody tr th:only-of-type {\n",
       "        vertical-align: middle;\n",
       "    }\n",
       "\n",
       "    .dataframe tbody tr th {\n",
       "        vertical-align: top;\n",
       "    }\n",
       "\n",
       "    .dataframe thead th {\n",
       "        text-align: right;\n",
       "    }\n",
       "</style>\n",
       "<table border=\"1\" class=\"dataframe\">\n",
       "  <thead>\n",
       "    <tr style=\"text-align: right;\">\n",
       "      <th></th>\n",
       "      <th>genres_str</th>\n",
       "      <th>start_year</th>\n",
       "      <th>id</th>\n",
       "      <th>production_budget</th>\n",
       "      <th>domestic_gross</th>\n",
       "      <th>worldwide_gross</th>\n",
       "      <th>release_quarter</th>\n",
       "      <th>profit</th>\n",
       "      <th>ROI</th>\n",
       "    </tr>\n",
       "  </thead>\n",
       "  <tbody>\n",
       "    <tr>\n",
       "      <th>2</th>\n",
       "      <td>Animation</td>\n",
       "      <td>2014.47</td>\n",
       "      <td>47.68</td>\n",
       "      <td>80393016.85</td>\n",
       "      <td>111624579.22</td>\n",
       "      <td>299792394.48</td>\n",
       "      <td>2.55</td>\n",
       "      <td>219399377.63</td>\n",
       "      <td>4.91</td>\n",
       "    </tr>\n",
       "    <tr>\n",
       "      <th>1</th>\n",
       "      <td>Adventure</td>\n",
       "      <td>2014.48</td>\n",
       "      <td>49.29</td>\n",
       "      <td>87224767.56</td>\n",
       "      <td>101639522.65</td>\n",
       "      <td>282314618.24</td>\n",
       "      <td>2.57</td>\n",
       "      <td>195089850.68</td>\n",
       "      <td>2.06</td>\n",
       "    </tr>\n",
       "    <tr>\n",
       "      <th>19</th>\n",
       "      <td>Sci-Fi</td>\n",
       "      <td>2014.52</td>\n",
       "      <td>53.08</td>\n",
       "      <td>64281067.13</td>\n",
       "      <td>83525870.97</td>\n",
       "      <td>222667066.73</td>\n",
       "      <td>2.56</td>\n",
       "      <td>158385999.60</td>\n",
       "      <td>2.02</td>\n",
       "    </tr>\n",
       "    <tr>\n",
       "      <th>14</th>\n",
       "      <td>Musical</td>\n",
       "      <td>2015.06</td>\n",
       "      <td>52.77</td>\n",
       "      <td>39391121.34</td>\n",
       "      <td>99659998.57</td>\n",
       "      <td>222123427.00</td>\n",
       "      <td>2.66</td>\n",
       "      <td>182732305.66</td>\n",
       "      <td>9.33</td>\n",
       "    </tr>\n",
       "    <tr>\n",
       "      <th>9</th>\n",
       "      <td>Fantasy</td>\n",
       "      <td>2014.34</td>\n",
       "      <td>50.75</td>\n",
       "      <td>65917549.45</td>\n",
       "      <td>81021718.48</td>\n",
       "      <td>215878462.57</td>\n",
       "      <td>2.44</td>\n",
       "      <td>149960913.12</td>\n",
       "      <td>5.29</td>\n",
       "    </tr>\n",
       "  </tbody>\n",
       "</table>\n",
       "</div>"
      ],
      "text/plain": [
       "   genres_str  start_year    id  production_budget  domestic_gross  \\\n",
       "2   Animation     2014.47 47.68        80393016.85    111624579.22   \n",
       "1   Adventure     2014.48 49.29        87224767.56    101639522.65   \n",
       "19     Sci-Fi     2014.52 53.08        64281067.13     83525870.97   \n",
       "14    Musical     2015.06 52.77        39391121.34     99659998.57   \n",
       "9     Fantasy     2014.34 50.75        65917549.45     81021718.48   \n",
       "\n",
       "    worldwide_gross  release_quarter       profit  ROI  \n",
       "2      299792394.48             2.55 219399377.63 4.91  \n",
       "1      282314618.24             2.57 195089850.68 2.06  \n",
       "19     222667066.73             2.56 158385999.60 2.02  \n",
       "14     222123427.00             2.66 182732305.66 9.33  \n",
       "9      215878462.57             2.44 149960913.12 5.29  "
      ]
     },
     "execution_count": 89,
     "metadata": {},
     "output_type": "execute_result"
    },
    {
     "data": {
      "image/png": "[encoded data removed]",
      "text/plain": [
       "<Figure size 1080x288 with 1 Axes>"
      ]
     },
     "metadata": {
      "needs_background": "light"
     },
     "output_type": "display_data"
    }
   ],
   "source": [
    "sort_genres_avg(plot_df, col_to_sort='worldwide_gross')"
   ]
  },
  {
   "cell_type": "markdown",
   "metadata": {
    "heading_collapsed": true
   },
   "source": [
    "#### Old Code - Saving just in case"
   ]
  },
  {
   "cell_type": "code",
   "execution_count": 90,
   "metadata": {
    "ExecuteTime": {
     "end_time": "2021-06-23T18:48:43.433373Z",
     "start_time": "2021-06-23T18:48:43.419374Z"
    },
    "code_folding": [],
    "hidden": true
   },
   "outputs": [],
   "source": [
    "# ## Visualizing sorted sum \n",
    "\n",
    "# df_sorted = sort_genres_sum(plot_df, 'worldwide_gross')\n",
    "\n",
    "# plt.figure(figsize=(15,4))\n",
    "# sns.barplot(data=df_sorted, x= 'genres_str', y='worldwide_gross')\n",
    "# plt.xticks(rotation=45, ha= 'right')\n",
    "# plt.suptitle('Total Worldwide Gross by Genre')\n",
    "# plt.xlabel('Genres')\n",
    "# plt.ylabel('Total Worldwide Gross ($)');"
   ]
  },
  {
   "cell_type": "code",
   "execution_count": 91,
   "metadata": {
    "ExecuteTime": {
     "end_time": "2021-06-23T18:48:43.448374Z",
     "start_time": "2021-06-23T18:48:43.438374Z"
    },
    "code_folding": [],
    "hidden": true,
    "scrolled": false
   },
   "outputs": [],
   "source": [
    "# ## Visualizing sorted average \n",
    "\n",
    "# avg_sorted = sort_genres_avg(plot_df, 'worldwide_gross')\n",
    "\n",
    "# plt.figure(figsize=(15,4))\n",
    "# sns.barplot(data=avg_sorted, x= 'genres_str', y='worldwide_gross')\n",
    "# plt.xticks(rotation=45, ha= 'right')\n",
    "# plt.suptitle('Total Worldwide Gross by Genre')\n",
    "# plt.xlabel('Genres')\n",
    "# plt.ylabel('Total Worldwide Gross ($)');"
   ]
  },
  {
   "cell_type": "code",
   "execution_count": 92,
   "metadata": {
    "ExecuteTime": {
     "end_time": "2021-06-23T18:48:43.464371Z",
     "start_time": "2021-06-23T18:48:43.451377Z"
    },
    "hidden": true
   },
   "outputs": [],
   "source": [
    "# def sort_genres_avg(df, col_to_sort):\n",
    "#     '''Creates a new dataframe from a given dataframe created by the average of\n",
    "#     all values for each genre, then sorted by the specified column name.\n",
    "    \n",
    "#     Args & kwargs:\n",
    "#     df - original dataframe to be sorted\n",
    "#     col_to_sort - column name (str) by which to sort the data\"'''\n",
    "    \n",
    "#     df1 = df.groupby(\"genres_str\").agg('mean').reset_index().sort_values(by = col_to_sort, ascending=False)\n",
    "    \n",
    "#     return df1"
   ]
  },
  {
   "cell_type": "code",
   "execution_count": 93,
   "metadata": {
    "ExecuteTime": {
     "end_time": "2021-06-23T18:48:43.479373Z",
     "start_time": "2021-06-23T18:48:43.466374Z"
    },
    "code_folding": [],
    "hidden": true
   },
   "outputs": [],
   "source": [
    "# ## First version of visualizing results - \n",
    "\n",
    "# plt.figure(figsize=(15,4))\n",
    "# sns.barplot(data=plot_df, x= 'genres_str', y='worldwide_gross')#, order=sum_gross_ww)\n",
    "# plt.xticks(rotation=45, ha= 'right')\n",
    "# plt.suptitle('Worldwide Gross by Genre')\n",
    "# plt.xlabel('Genres')\n",
    "# plt.ylabel('Worldwide Gross ($)');"
   ]
  },
  {
   "cell_type": "code",
   "execution_count": 94,
   "metadata": {
    "ExecuteTime": {
     "end_time": "2021-06-23T18:48:43.494372Z",
     "start_time": "2021-06-23T18:48:43.482376Z"
    },
    "code_folding": [],
    "hidden": true
   },
   "outputs": [],
   "source": [
    "# ## Not working - attempted to create function to sort and visualize\n",
    "# def visualize_metrics(df, col_to_sort, sort_order):\n",
    "    \n",
    "#     df_sorted = df.groupby(\"genres_str\").sum().reset_index().sort_values(by = col_to_sort, ascending=False)\n",
    "    \n",
    "#     plt.figure(figsize=(15,4))\n",
    "#     sns.barplot(data=df_sorted, x= 'genres_str', y=col_to_sort, order=sort_order)\n",
    "#     plt.xticks(rotation=45, ha= 'right')\n",
    "#     plt.suptitle('Worldwide Gross by Genre')\n",
    "#     plt.xlabel('Genres')\n",
    "#     plt.ylabel(col_to_sort);\n",
    "    \n",
    "#     return"
   ]
  },
  {
   "cell_type": "markdown",
   "metadata": {},
   "source": [
    "## ROI per Genre"
   ]
  },
  {
   "cell_type": "code",
   "execution_count": 95,
   "metadata": {
    "ExecuteTime": {
     "end_time": "2021-06-23T18:48:43.509386Z",
     "start_time": "2021-06-23T18:48:43.497374Z"
    }
   },
   "outputs": [],
   "source": [
    "## Creating list of genres based on average ROI for graphing purposes\n",
    "\n",
    "mean_roi = list(plot_df.groupby(\"genres_str\").mean()['ROI'].sort_values(ascending=False).index)\n",
    "# mean_roi"
   ]
  },
  {
   "cell_type": "code",
   "execution_count": 96,
   "metadata": {
    "ExecuteTime": {
     "end_time": "2021-06-23T18:48:45.020377Z",
     "start_time": "2021-06-23T18:48:43.512379Z"
    },
    "code_folding": [],
    "scrolled": false
   },
   "outputs": [
    {
     "data": {
      "image/png": "[encoded data removed]",
      "text/plain": [
       "<Figure size 1080x288 with 1 Axes>"
      ]
     },
     "metadata": {
      "needs_background": "light"
     },
     "output_type": "display_data"
    }
   ],
   "source": [
    "## Visualizing Average Worldwide Gross per Genre\n",
    "\n",
    "plt.figure(figsize=(15,4))\n",
    "sns.barplot(data=plot_df, x= 'genres_str', y='ROI', order=mean_roi)\n",
    "plt.xticks(rotation=45, ha= 'right')\n",
    "plt.suptitle('Average Return-on-Investment by Genre')\n",
    "plt.xlabel('Genres')\n",
    "plt.ylabel('ROI (%)');"
   ]
  },
  {
   "cell_type": "markdown",
   "metadata": {},
   "source": [
    "**Observations:**\n",
    ">* **Top three genres:** Animation, Adventure, and Sci-Fi\n",
    ">* **Lowest three genres:** Reality-TV, War and News\n",
    ">* *Musicals are a high-risk, high-reward option*\n",
    "    * Their gross can exceed Animation, or fall below the top 5 genres.\n",
    "\n",
    "**Suggestions**\n",
    ">* **Safest Genres (by Gross)** are the top three genres\n",
    "    * Lowest points on the error bars indicate high gross performance even at their worst\n",
    ">* Select from Action, Animation, Adventure, Fantasy, Sci-Fi, Family, or Musicals\n",
    "    * All others show poor performance"
   ]
  },
  {
   "cell_type": "markdown",
   "metadata": {},
   "source": [
    "## Visualizing Seasonal Performance"
   ]
  },
  {
   "cell_type": "markdown",
   "metadata": {},
   "source": [
    "### Seasonal Performance - All Movies (ROI)"
   ]
  },
  {
   "cell_type": "code",
   "execution_count": 97,
   "metadata": {
    "ExecuteTime": {
     "end_time": "2021-06-23T18:48:45.518379Z",
     "start_time": "2021-06-23T18:48:45.023377Z"
    },
    "code_folding": [],
    "scrolled": true
   },
   "outputs": [
    {
     "data": {
      "image/png": "[encoded data removed]",
      "text/plain": [
       "<Figure size 432x288 with 1 Axes>"
      ]
     },
     "metadata": {
      "needs_background": "light"
     },
     "output_type": "display_data"
    }
   ],
   "source": [
    "## Creating basic overview\n",
    "g = sns.barplot(data=plot_df, x='release_season_manual', y='ROI', \n",
    "                order=['Spring', 'Summer', 'Fall', 'Winter'], \n",
    "                estimator=np.mean)\n",
    "g.set_xlabel('Seasons')\n",
    "g.set_ylabel('ROI(%)')\n",
    "g.set_title('Seasonal Performance (All Movies)');"
   ]
  },
  {
   "cell_type": "markdown",
   "metadata": {},
   "source": [
    "### Seasonal Performance - All Movies (Ww Gross)"
   ]
  },
  {
   "cell_type": "code",
   "execution_count": 98,
   "metadata": {
    "ExecuteTime": {
     "end_time": "2021-06-23T18:48:45.986378Z",
     "start_time": "2021-06-23T18:48:45.521381Z"
    },
    "code_folding": [],
    "scrolled": true
   },
   "outputs": [
    {
     "data": {
      "image/png": "[encoded data removed]",
      "text/plain": [
       "<Figure size 432x288 with 1 Axes>"
      ]
     },
     "metadata": {
      "needs_background": "light"
     },
     "output_type": "display_data"
    }
   ],
   "source": [
    "## Creating basic overview\n",
    "g = sns.barplot(data=plot_df, x='release_season_manual', y='worldwide_gross', \n",
    "                order=['Spring', 'Summer', 'Fall', 'Winter'], \n",
    "                estimator=np.mean)\n",
    "g.set_xlabel('Seasons')\n",
    "g.set_ylabel('Worldwide Gross')\n",
    "g.set_title('Seasonal Performance (All Movies)');"
   ]
  },
  {
   "cell_type": "markdown",
   "metadata": {},
   "source": [
    "**Observations:**\n",
    ">* Summer is the best season for releases, with winter being the worst time.\n",
    ">* Summer and Spring seasons seem to be the most productive seasons.\n",
    ">* Fall and Winter perform worse.\n",
    "\n",
    "**Suggestions**\n",
    ">* Focus release times in Summer/Spring\n",
    ">* Avoid Fall/Winter"
   ]
  },
  {
   "cell_type": "markdown",
   "metadata": {},
   "source": [
    "### Genre Performance by Season"
   ]
  },
  {
   "cell_type": "code",
   "execution_count": 99,
   "metadata": {
    "ExecuteTime": {
     "end_time": "2021-06-23T18:48:50.857390Z",
     "start_time": "2021-06-23T18:48:45.988380Z"
    },
    "code_folding": [],
    "scrolled": false
   },
   "outputs": [
    {
     "data": {
      "image/png": "[encoded data removed]",
      "text/plain": [
       "<Figure size 1260x720 with 4 Axes>"
      ]
     },
     "metadata": {
      "needs_background": "light"
     },
     "output_type": "display_data"
    }
   ],
   "source": [
    "## Visualizing each genre's performance by season\n",
    "g = sns.catplot(data=plot_df, col='release_season_manual',\n",
    "            y='ROI', kind='bar', x='genres_str', col_wrap=2, \n",
    "            aspect=1.75, order=mean_roi)\n",
    "(g.set_axis_labels('Category', 'ROI (%)')\n",
    " .set_xticklabels(rotation=45)\n",
    " .set_titles(\"{col_name}\"))\n",
    " \n",
    "plt.tight_layout();"
   ]
  },
  {
   "cell_type": "code",
   "execution_count": 100,
   "metadata": {
    "ExecuteTime": {
     "end_time": "2021-06-23T18:48:56.109409Z",
     "start_time": "2021-06-23T18:48:50.860393Z"
    },
    "code_folding": [],
    "scrolled": false
   },
   "outputs": [
    {
     "data": {
      "image/png": "[encoded data removed]",
      "text/plain": [
       "<Figure size 1260x720 with 4 Axes>"
      ]
     },
     "metadata": {
      "needs_background": "light"
     },
     "output_type": "display_data"
    }
   ],
   "source": [
    "## Visualizing each genre's performance by season\n",
    "g = sns.catplot(data=plot_df, col='release_season_manual',\n",
    "            y='worldwide_gross', kind='bar', x='genres_str', col_wrap=2, \n",
    "            aspect=1.75)#, sharex=False)\n",
    "(g.set_axis_labels('Category', 'Worldwide Gross ($)')\n",
    " .set_xticklabels(rotation=45)\n",
    " .set_titles(\"{col_name}\"))\n",
    " \n",
    "plt.tight_layout();"
   ]
  },
  {
   "cell_type": "markdown",
   "metadata": {},
   "source": [
    "**Observations:**\n",
    ">* Springtime releases show highest gross performance on average\n",
    ">* Wintertime shows lowest performances across all genres\n",
    ">* The results match up with our overall view for all genres\n",
    "\n",
    "**Suggestions**\n",
    ">* To maximize profitability of musicals, release in spring\n",
    ">* Avoid releasing Animations in the winter - all other seasons perform better\n",
    ">* Avoid releasing news-related movies in the Spring"
   ]
  },
  {
   "cell_type": "markdown",
   "metadata": {},
   "source": [
    "## Seasonal Performance -  Insights"
   ]
  },
  {
   "cell_type": "markdown",
   "metadata": {},
   "source": [
    "**Observations:**\n",
    ">\n",
    ">The top five genres tend to perform relatively well regardless of the season with little difference between each season.\n",
    ">\n",
    "> Musicals show a strongest performance in the springtime - it is only worthwhile to release a musical in the spring.\n",
    ">\n",
    "**Questions**\n",
    "> \n",
    ">What is the profitability and return on investment for each genre?"
   ]
  },
  {
   "cell_type": "markdown",
   "metadata": {},
   "source": [
    "## Quarterly Performance"
   ]
  },
  {
   "cell_type": "markdown",
   "metadata": {},
   "source": [
    "How would the data look when comparing seasons to quarters?"
   ]
  },
  {
   "cell_type": "code",
   "execution_count": 101,
   "metadata": {
    "ExecuteTime": {
     "end_time": "2021-06-23T18:48:56.124442Z",
     "start_time": "2021-06-23T18:48:56.111413Z"
    },
    "code_folding": []
   },
   "outputs": [],
   "source": [
    "## Sorting by release quarters for graphing\n",
    "df_filled.sort_values('release_quarter', inplace=True)\n",
    "df_filled.reset_index(drop=True, inplace=True)\n",
    "# df_filled"
   ]
  },
  {
   "cell_type": "code",
   "execution_count": 102,
   "metadata": {
    "ExecuteTime": {
     "end_time": "2021-06-23T18:48:56.606406Z",
     "start_time": "2021-06-23T18:48:56.126405Z"
    },
    "code_folding": [],
    "scrolled": true
   },
   "outputs": [
    {
     "data": {
      "image/png": "[encoded data removed]",
      "text/plain": [
       "<Figure size 432x288 with 1 Axes>"
      ]
     },
     "metadata": {
      "needs_background": "light"
     },
     "output_type": "display_data"
    }
   ],
   "source": [
    "## Creating basic overview\n",
    "g = sns.barplot(data=plot_df, x='release_quarter', y='worldwide_gross')\n",
    "g.set_xlabel('Quarters')\n",
    "g.set_ylabel('Worldwide Gross')\n",
    "g.set_title('Quarterly Performance (All Movies)');"
   ]
  },
  {
   "cell_type": "markdown",
   "metadata": {},
   "source": [
    "**Observations:**\n",
    ">* \n",
    ">* \n",
    ">* \n",
    "\n",
    "**Suggestions**\n",
    ">* \n",
    ">* "
   ]
  },
  {
   "cell_type": "code",
   "execution_count": 103,
   "metadata": {
    "ExecuteTime": {
     "end_time": "2021-06-23T18:49:02.001421Z",
     "start_time": "2021-06-23T18:48:56.609410Z"
    },
    "code_folding": [],
    "scrolled": false
   },
   "outputs": [
    {
     "data": {
      "image/png": "[encoded data removed]",
      "text/plain": [
       "<Figure size 1260x720 with 4 Axes>"
      ]
     },
     "metadata": {
      "needs_background": "light"
     },
     "output_type": "display_data"
    }
   ],
   "source": [
    "## Generating figure for quarterly performance breakdown\n",
    "g = sns.catplot(data=plot_df, col='release_quarter',\n",
    "            y='worldwide_gross', kind='bar', x='genres_str', col_wrap=2, \n",
    "            aspect=1.75)#, sharex=False)\n",
    "(g.set_axis_labels('Category', 'Worldwide Gross ($)')\n",
    " .set_xticklabels(rotation=45)\n",
    " .set_titles(\"Quarter {col_name}\"))\n",
    " \n",
    "plt.tight_layout();"
   ]
  },
  {
   "cell_type": "markdown",
   "metadata": {},
   "source": [
    "**Observations:**\n",
    ">* \n",
    ">* \n",
    ">* \n",
    "\n",
    "**Suggestions**\n",
    ">* \n",
    ">* "
   ]
  },
  {
   "cell_type": "code",
   "execution_count": 104,
   "metadata": {
    "ExecuteTime": {
     "end_time": "2021-06-23T18:49:02.016419Z",
     "start_time": "2021-06-23T18:49:02.004422Z"
    },
    "code_folding": [
     0
    ]
   },
   "outputs": [],
   "source": [
    "# g = sns.catplot(x = 'genres_list', y='worldwide_gross', \n",
    "#                hue = 'release_quarter',data=plot_df, kind='bar', aspect=3.65)\n",
    "# g.set_xticklabels(rotation=45);"
   ]
  },
  {
   "cell_type": "code",
   "execution_count": 105,
   "metadata": {
    "ExecuteTime": {
     "end_time": "2021-06-23T18:49:02.032421Z",
     "start_time": "2021-06-23T18:49:02.019422Z"
    },
    "code_folding": [
     0
    ]
   },
   "outputs": [],
   "source": [
    "# g = sns.catplot(x = 'genres_list', y='worldwide_gross',\n",
    "#                 hue = 'release_season_manual',data=plot_df, kind='bar',\n",
    "#                 aspect=3.65)\n",
    "# g.set_xticklabels(rotation=45);"
   ]
  },
  {
   "cell_type": "markdown",
   "metadata": {},
   "source": [
    "## **Comparing S & Q**"
   ]
  },
  {
   "cell_type": "code",
   "execution_count": 106,
   "metadata": {
    "ExecuteTime": {
     "end_time": "2021-06-23T18:49:03.063422Z",
     "start_time": "2021-06-23T18:49:02.035421Z"
    },
    "code_folding": []
   },
   "outputs": [
    {
     "data": {
      "image/png": "[encoded data removed]",
      "text/plain": [
       "<Figure size 504x504 with 2 Axes>"
      ]
     },
     "metadata": {
      "needs_background": "light"
     },
     "output_type": "display_data"
    }
   ],
   "source": [
    "## Comparing Seasonal/Quarterly breakdowns\n",
    "\n",
    "fig, axes = plt.subplots(nrows=2, figsize=(7,7))\n",
    "sns.barplot(x = 'release_season_manual', y='worldwide_gross',data=plot_df, \n",
    "            ax=axes[0], order=['Spring', 'Summer', 'Fall', 'Winter'])\n",
    "sns.barplot(x = 'release_quarter', y='worldwide_gross', data=plot_df,\n",
    "            ax=axes[1])\n",
    "\n",
    "## Changing settings\n",
    "axes[0].set_xlabel(\"Seasons\")\n",
    "axes[0].set_ylabel('Worldwide Gross')\n",
    "\n",
    "axes[1].set_xlabel(\"Quarters\")\n",
    "axes[1].set_ylabel('Worldwide Gross')\n",
    "\n",
    "plt.tight_layout();"
   ]
  },
  {
   "cell_type": "code",
   "execution_count": 107,
   "metadata": {
    "ExecuteTime": {
     "end_time": "2021-06-23T18:49:12.053447Z",
     "start_time": "2021-06-23T18:49:03.065425Z"
    },
    "code_folding": [],
    "scrolled": false
   },
   "outputs": [
    {
     "data": {
      "image/png": "[encoded data removed]",
      "text/plain": [
       "<Figure size 1224x720 with 2 Axes>"
      ]
     },
     "metadata": {
      "needs_background": "light"
     },
     "output_type": "display_data"
    }
   ],
   "source": [
    "## Creating single visualization to compare seasonal and quarterly performances\n",
    "\n",
    "fig, axes = plt.subplots(nrows=2, figsize=(17,10))\n",
    "sns.barplot(x = 'genres_str', y='worldwide_gross',\n",
    "            hue = 'release_season_manual',data=plot_df, ax=axes[0])\n",
    "sns.barplot(x = 'genres_str', y='worldwide_gross', hue = 'release_quarter',\n",
    "            data=plot_df, ax=axes[1])\n",
    "\n",
    "## Changing settings\n",
    "axes[0].set_xticklabels(axes[0].get_xticklabels(),rotation=45, ha='right')\n",
    "axes[0].set_xlabel(\"Genres\")\n",
    "axes[0].set_ylabel('Worldwide Gross')\n",
    "axes[0].legend(title='Seasons')\n",
    "\n",
    "axes[1].set_xticklabels(axes[1].get_xticklabels(),rotation=45, ha='right')\n",
    "axes[1].set_xlabel(\"Genres\")\n",
    "axes[1].set_ylabel('Worldwide Gross')\n",
    "axes[1].legend(title='Quarters')\n",
    "\n",
    "plt.tight_layout();"
   ]
  },
  {
   "cell_type": "markdown",
   "metadata": {},
   "source": [
    "**Observations:**\n",
    ">* \n",
    ">* \n",
    ">* \n",
    "\n",
    "**Suggestions**\n",
    ">* \n",
    ">* "
   ]
  },
  {
   "cell_type": "markdown",
   "metadata": {},
   "source": [
    "# ✨ TODO"
   ]
  },
  {
   "cell_type": "markdown",
   "metadata": {},
   "source": [
    "* Change to \"quarterly\"\n",
    "* Change metric from gross to ROI\n",
    "    * Profit = Gross - Budget\n",
    "    * ROI = Profit / Cost\n",
    "* Use ROI alongside gross\n",
    "* Move towards linreg (feature selection)\n",
    "* Logreg: success being ROI over certain %"
   ]
  },
  {
   "cell_type": "markdown",
   "metadata": {},
   "source": [
    "# Correlations/Multicollinearity"
   ]
  },
  {
   "cell_type": "code",
   "execution_count": 108,
   "metadata": {
    "ExecuteTime": {
     "end_time": "2021-06-23T18:49:12.068481Z",
     "start_time": "2021-06-23T18:49:12.056447Z"
    }
   },
   "outputs": [],
   "source": [
    "## Determining each feature's relationship with price\n",
    "\n",
    "## 1. Drop categorical columns\n",
    "## 2. Create correlation with target variable \n",
    "## 3. Display top/bottom 5 values\n",
    "\n",
    "# df_corr = df.drop(['price', 'id', 'lat','long'], axis=1).corrwith(df['price']).sort_values(ascending=False)\n",
    "# display(df_corr[0:5],df_corr[-6:-1])"
   ]
  },
  {
   "cell_type": "code",
   "execution_count": 109,
   "metadata": {
    "ExecuteTime": {
     "end_time": "2021-06-23T18:49:12.084448Z",
     "start_time": "2021-06-23T18:49:12.070447Z"
    }
   },
   "outputs": [],
   "source": [
    "def df_corr(df, list_cats, target_col):\n",
    "    ''''''\n",
    "    \n",
    "    df_corr = df.drop(list_cats, axis=1).corrwith(df[target_col]).sort_values(ascending=False)\n",
    "    \n",
    "#     display(df_corr[0:5],df_corr[-6:-1])\n",
    "    \n",
    "    return df_corr"
   ]
  },
  {
   "cell_type": "code",
   "execution_count": 110,
   "metadata": {
    "ExecuteTime": {
     "end_time": "2021-06-23T18:49:12.099448Z",
     "start_time": "2021-06-23T18:49:12.087449Z"
    }
   },
   "outputs": [
    {
     "data": {
      "text/plain": [
       "['tconst',\n",
       " 'primary_title',\n",
       " 'original_title',\n",
       " 'start_year',\n",
       " 'runtime_minutes',\n",
       " 'genres',\n",
       " 'id',\n",
       " 'release_date',\n",
       " 'production_budget',\n",
       " 'domestic_gross',\n",
       " 'worldwide_gross',\n",
       " 'release_datetime',\n",
       " 'release_month_dt',\n",
       " 'release_quarter',\n",
       " 'release_month_manual',\n",
       " 'release_season_manual',\n",
       " 'genres_str',\n",
       " 'profit',\n",
       " 'ROI']"
      ]
     },
     "execution_count": 110,
     "metadata": {},
     "output_type": "execute_result"
    }
   ],
   "source": [
    "list(df_filled.columns)"
   ]
  },
  {
   "cell_type": "code",
   "execution_count": 111,
   "metadata": {
    "ExecuteTime": {
     "end_time": "2021-06-23T18:49:12.115449Z",
     "start_time": "2021-06-23T18:49:12.102456Z"
    }
   },
   "outputs": [
    {
     "data": {
      "text/plain": [
       "[dtype('O'),\n",
       " dtype('O'),\n",
       " dtype('O'),\n",
       " dtype('int64'),\n",
       " dtype('O'),\n",
       " dtype('O'),\n",
       " dtype('int64'),\n",
       " dtype('O'),\n",
       " dtype('int64'),\n",
       " dtype('int64'),\n",
       " dtype('int64'),\n",
       " dtype('<M8[ns]'),\n",
       " dtype('O'),\n",
       " dtype('int64'),\n",
       " dtype('O'),\n",
       " dtype('O'),\n",
       " dtype('O'),\n",
       " dtype('int64'),\n",
       " dtype('float64')]"
      ]
     },
     "execution_count": 111,
     "metadata": {},
     "output_type": "execute_result"
    }
   ],
   "source": [
    "list(df_filled.dtypes)"
   ]
  },
  {
   "cell_type": "code",
   "execution_count": 116,
   "metadata": {
    "ExecuteTime": {
     "end_time": "2021-06-23T18:55:07.406748Z",
     "start_time": "2021-06-23T18:55:07.384747Z"
    }
   },
   "outputs": [
    {
     "data": {
      "text/plain": [
       "[('tconst', dtype('O')),\n",
       " ('primary_title', dtype('O')),\n",
       " ('original_title', dtype('O')),\n",
       " ('start_year', dtype('int64')),\n",
       " ('runtime_minutes', dtype('O')),\n",
       " ('genres', dtype('O')),\n",
       " ('id', dtype('int64')),\n",
       " ('release_date', dtype('O')),\n",
       " ('production_budget', dtype('int64')),\n",
       " ('domestic_gross', dtype('int64')),\n",
       " ('worldwide_gross', dtype('int64')),\n",
       " ('release_datetime', dtype('<M8[ns]')),\n",
       " ('release_month_dt', dtype('O')),\n",
       " ('release_quarter', dtype('int64')),\n",
       " ('release_month_manual', dtype('O')),\n",
       " ('release_season_manual', dtype('O')),\n",
       " ('genres_str', dtype('O')),\n",
       " ('profit', dtype('int64')),\n",
       " ('ROI', dtype('float64'))]"
      ]
     },
     "execution_count": 116,
     "metadata": {},
     "output_type": "execute_result"
    }
   ],
   "source": [
    "cat_col = list(zip(list(df_filled.columns),list(df_filled.dtypes)))\n",
    "cat_col"
   ]
  },
  {
   "cell_type": "code",
   "execution_count": null,
   "metadata": {},
   "outputs": [],
   "source": [
    "# ## Attempted to create a loop to check the datetype and add to a list for columns\n",
    "\n",
    "\n",
    "# for each runtime in the column, check if it is not a string\n",
    "#  if it is not, then zip that value with the value in the \"primary_title\" column\n",
    "#  then, add the zipped value to a list\n",
    "# finally, print the final list\n",
    "\n",
    "# cat_col_list = []\n",
    "\n",
    "# for i in cat_col:\n",
    "#     for n in range(len(cat_col)):\n",
    "#         if type(i[n]) == float:\n",
    "# #             cat_col_list.append(i)\n",
    "#             print(i)\n",
    "        \n",
    "# # cat_col_list"
   ]
  },
  {
   "cell_type": "code",
   "execution_count": null,
   "metadata": {
    "ExecuteTime": {
     "end_time": "2021-06-23T18:29:12.287528Z",
     "start_time": "2021-06-23T18:29:12.270523Z"
    }
   },
   "outputs": [],
   "source": [
    "# cat_col = ['tconst', 'primary_title','original_title',]"
   ]
  },
  {
   "cell_type": "code",
   "execution_count": null,
   "metadata": {
    "ExecuteTime": {
     "end_time": "2021-06-23T18:23:28.089370Z",
     "start_time": "2021-06-23T18:23:27.760343Z"
    }
   },
   "outputs": [],
   "source": [
    "df_corr(df, ['price', 'id', 'lat','long'], 'worldwide_gross')"
   ]
  },
  {
   "cell_type": "markdown",
   "metadata": {},
   "source": [
    "# Statistical Testing"
   ]
  },
  {
   "cell_type": "code",
   "execution_count": null,
   "metadata": {},
   "outputs": [],
   "source": []
  },
  {
   "cell_type": "markdown",
   "metadata": {},
   "source": [
    "# Inferential Modeling"
   ]
  },
  {
   "cell_type": "code",
   "execution_count": null,
   "metadata": {},
   "outputs": [],
   "source": []
  },
  {
   "cell_type": "markdown",
   "metadata": {},
   "source": [
    "# Predictive Modeling"
   ]
  },
  {
   "cell_type": "code",
   "execution_count": null,
   "metadata": {},
   "outputs": [],
   "source": []
  },
  {
   "cell_type": "markdown",
   "metadata": {},
   "source": [
    "# Final Results"
   ]
  },
  {
   "cell_type": "code",
   "execution_count": null,
   "metadata": {},
   "outputs": [],
   "source": []
  }
 ],
 "metadata": {
  "kernelspec": {
   "display_name": "Python (learn-env-bmc)",
   "language": "python",
   "name": "learn-env-bmc"
  },
  "language_info": {
   "codemirror_mode": {
    "name": "ipython",
    "version": 3
   },
   "file_extension": ".py",
   "mimetype": "text/x-python",
   "name": "python",
   "nbconvert_exporter": "python",
   "pygments_lexer": "ipython3",
   "version": "3.8.5"
  },
  "toc": {
   "base_numbering": 1,
   "nav_menu": {},
   "number_sections": true,
   "sideBar": true,
   "skip_h1_title": false,
   "title_cell": "Table of Contents",
   "title_sidebar": "Contents",
   "toc_cell": false,
   "toc_position": {
    "height": "calc(100% - 180px)",
    "left": "10px",
    "top": "150px",
    "width": "205.45px"
   },
   "toc_section_display": true,
   "toc_window_display": true
  }
 },
 "nbformat": 4,
 "nbformat_minor": 2
}
