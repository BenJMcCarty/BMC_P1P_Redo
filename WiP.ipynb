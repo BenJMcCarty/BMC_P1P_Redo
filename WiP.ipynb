{
 "cells": [
  {
   "cell_type": "markdown",
   "metadata": {},
   "source": [
    "# **Phases 1 and 2 Revisited**"
   ]
  },
  {
   "cell_type": "markdown",
   "metadata": {},
   "source": [
    "## *Prompt*"
   ]
  },
  {
   "cell_type": "markdown",
   "metadata": {},
   "source": [
    "**Microsoft's Making Moves into Movies**\n",
    "\n",
    ">* What types of movies are performing the best a the box offices?\n",
    ">* What actions should they take based on the data?"
   ]
  },
  {
   "cell_type": "markdown",
   "metadata": {},
   "source": [
    "## *Questions*"
   ]
  },
  {
   "cell_type": "markdown",
   "metadata": {},
   "source": [
    "---\n",
    "**What questions will guide my process?**\n",
    "\n",
    ">* **What genres show the best performance?**\n",
    "    * What is the best way to evaluate the *profitability* of the movies?\n",
    "        * Gross\n",
    "        * Profit\n",
    "        * ROI\n",
    "    * What is the best way to determine the best *quality* of each movie?\n",
    ">\n",
    ">\n",
    ">* **How do we determine the \"best\" features?**\n",
    "    * Which features would have the greatest impact on each of the performance metrics?\n",
    "    * How to optimize for all three metrics?\n",
    ">\n",
    ">\n",
    ">* **What release times are best for gross value?**\n",
    "    * Seasons vs. Quarters?\n",
    "        * *Would it make more sense either way? Could there be a benefit for inferences/predictions via LinReg modeling?*\n",
    ">\n",
    ">\n",
    ">* **Which directors show the strongest/weakest performance?**\n",
    "    * Get director names, ID\n",
    "    * Add names to dataframe including the movie ID and gross performance/highest reviews\n",
    ">\n",
    ">\n",
    ">* **What features would give the strongest indications of performance?**\n",
    ">\n",
    ">\n",
    ">* **How can we determine whether or not a movie is \"successful\" or not?**\n",
    "\n",
    "---\n",
    "\n",
    "**Goals:**\n",
    ">\n",
    ">* **Determine KPIs**\n",
    "    * How to measure a movie's success?\n",
    ">\n",
    ">\n",
    ">* **Use linear regression modeling to determine the top 5 features for each target.**\n",
    "    * To what degree do the features overlap?\n",
    "    * What would be the top 3-5 features on which to focus to create the \"best\" movie (balancing all of the metrics)?\n",
    "\n",
    "---"
   ]
  },
  {
   "cell_type": "markdown",
   "metadata": {},
   "source": [
    "## 🎇 **WIP Current Status** 🎇"
   ]
  },
  {
   "cell_type": "markdown",
   "metadata": {},
   "source": [
    ">*Update this section after each coding session - quick review/AAG overview of what is done and what is do-do*\n",
    ">\n",
    ">*Imagine its a scrum/kanban board in the notebook*"
   ]
  },
  {
   "cell_type": "markdown",
   "metadata": {},
   "source": [
    "### **Done**\n",
    "\n",
    ">* **Data Cleaning:** pulled, df'ed, coverted datatypes, filled \"N/A\" values\n",
    ">\n",
    ">\n",
    ">* **FE:** \n",
    ">   * Months, Seasons, Quarters\n",
    ">   * Genres to list, then to individual rows\n",
    ">   * Profit and ROI metrics\n",
    ">\n",
    ">\n",
    ">* **Visualizations:**\n",
    ">   * Seasonal performance - gross, profit, ROI"
   ]
  },
  {
   "cell_type": "markdown",
   "metadata": {},
   "source": [
    "### ✨**To-Do**✨\n",
    "\n",
    ">* MultiCollinearity and Correlations\n",
    ">   * ✨ Which features to compare against each other?\n",
    ">   * ✨ How to create the matrix with these features?\n",
    ">\n",
    ">\n",
    ">* Statistical Testing\n",
    ">\n",
    ">\n",
    ">* LinReg\n",
    ">   * ✨ OHE for inferential or not?\n",
    ">   * ✨\n",
    ">\n",
    ">\n",
    "---"
   ]
  },
  {
   "cell_type": "markdown",
   "metadata": {},
   "source": [
    "## *Process*"
   ]
  },
  {
   "cell_type": "markdown",
   "metadata": {},
   "source": [
    ">1. Import .csv's\n",
    ">2. Clean data\n",
    ">3. EDA w. visuals\n",
    ">4. **Determine initial insights and actions**\n",
    ">5. Create new features\n",
    ">6. Test for correlations/multicollinearity\n",
    ">7. Perform statistical testing\n",
    ">8. Create LinReg model for **inference**\n",
    ">9. Create LinReg model for **predictions**\n",
    ">10. **Present final results for inferences, predictions**\n",
    "    1. Include initial, final insights and recommendations"
   ]
  },
  {
   "cell_type": "markdown",
   "metadata": {},
   "source": [
    "# **Imports**"
   ]
  },
  {
   "cell_type": "markdown",
   "metadata": {},
   "source": [
    "## Packages"
   ]
  },
  {
   "cell_type": "code",
   "execution_count": null,
   "metadata": {
    "ExecuteTime": {
     "end_time": "2021-06-23T20:57:16.056962Z",
     "start_time": "2021-06-23T20:57:11.817505Z"
    }
   },
   "outputs": [],
   "source": [
    "## Accessing stored data\n",
    "import csv\n",
    "import os,glob\n",
    "\n",
    "## Data exploration and statistics\n",
    "import pandas as pd\n",
    "import numpy as np\n",
    "from sklearn import preprocessing\n",
    "\n",
    "## Creating Visualizations\n",
    "import seaborn as sns\n",
    "import matplotlib.pyplot as plt\n",
    "\n",
    "## Settings\n",
    "%matplotlib inline\n",
    "pd.set_option('display.float_format', lambda x: '%.2f' % x)\n",
    "sns.set_context('notebook', font_scale=1.25)"
   ]
  },
  {
   "cell_type": "markdown",
   "metadata": {},
   "source": [
    "## Data"
   ]
  },
  {
   "cell_type": "code",
   "execution_count": null,
   "metadata": {
    "ExecuteTime": {
     "end_time": "2021-06-23T20:57:16.072967Z",
     "start_time": "2021-06-23T20:57:16.058972Z"
    },
    "code_folding": []
   },
   "outputs": [],
   "source": [
    "## Creating list of files to loop through for data\n",
    "data_folder = 'zippedData/'\n",
    "data_files = glob.glob(f'{data_folder}*.csv*')\n",
    "data_files"
   ]
  },
  {
   "cell_type": "code",
   "execution_count": null,
   "metadata": {
    "ExecuteTime": {
     "end_time": "2021-06-23T20:57:20.394978Z",
     "start_time": "2021-06-23T20:57:16.075967Z"
    },
    "code_folding": [],
    "scrolled": false
   },
   "outputs": [],
   "source": [
    "## Looping through individual data files\n",
    "\n",
    "## Code adapted from James Irving\n",
    "## Source: youtube.com/watch?v=rufvTgBEYN8&list=PLFknVelSJiSxSwXifV_ysDg50fzbuTzVt&index=41\n",
    "\n",
    "clean_file_names = {}\n",
    "split = '-----'*25\n",
    "\n",
    "for file in data_files:\n",
    "    name = file.replace('.csv.gz','').split('\\\\')[-1].replace('.','_')\n",
    "    print(split)\n",
    "    \n",
    "    print(f\"Preview of {name}:\")\n",
    "    clean_file_names[name] = pd.read_csv(file)\n",
    "    display(clean_file_names[name].head(5))\n",
    "    print()"
   ]
  },
  {
   "cell_type": "markdown",
   "metadata": {},
   "source": [
    "# **Data Cleaning**"
   ]
  },
  {
   "cell_type": "markdown",
   "metadata": {},
   "source": [
    "## Slicing Individual DataFrames"
   ]
  },
  {
   "cell_type": "code",
   "execution_count": null,
   "metadata": {
    "ExecuteTime": {
     "end_time": "2021-06-23T20:57:20.425994Z",
     "start_time": "2021-06-23T20:57:20.397968Z"
    }
   },
   "outputs": [],
   "source": [
    "## Selecting for genre details\n",
    "title_basics = clean_file_names['imdb_title_basics']\n",
    "title_basics"
   ]
  },
  {
   "cell_type": "code",
   "execution_count": null,
   "metadata": {
    "ExecuteTime": {
     "end_time": "2021-06-23T20:57:20.457264Z",
     "start_time": "2021-06-23T20:57:20.427996Z"
    }
   },
   "outputs": [],
   "source": [
    "## Selecting for budget and gross details\n",
    "movie_basics = clean_file_names['tn_movie_budgets']\n",
    "movie_basics"
   ]
  },
  {
   "cell_type": "code",
   "execution_count": null,
   "metadata": {
    "ExecuteTime": {
     "end_time": "2021-06-23T20:57:20.473255Z",
     "start_time": "2021-06-23T20:57:20.459253Z"
    }
   },
   "outputs": [],
   "source": [
    "## Selecting for gross details\n",
    "movie_gross = clean_file_names['bom_movie_gross']\n",
    "movie_gross"
   ]
  },
  {
   "cell_type": "markdown",
   "metadata": {},
   "source": [
    "## Merging Dataframes"
   ]
  },
  {
   "cell_type": "code",
   "execution_count": null,
   "metadata": {
    "ExecuteTime": {
     "end_time": "2021-06-23T20:57:20.585255Z",
     "start_time": "2021-06-23T20:57:20.474254Z"
    },
    "code_folding": []
   },
   "outputs": [],
   "source": [
    "## Merging title_basics and movie_basics on primary title\n",
    "\n",
    "merged_basics_primary = pd.merge(title_basics,movie_basics, \n",
    "                                 left_on= 'primary_title', right_on= 'movie')\n",
    "merged_basics_primary"
   ]
  },
  {
   "cell_type": "code",
   "execution_count": null,
   "metadata": {
    "ExecuteTime": {
     "end_time": "2021-06-23T20:57:20.600284Z",
     "start_time": "2021-06-23T20:57:20.588257Z"
    },
    "code_folding": [
     0
    ]
   },
   "outputs": [],
   "source": [
    "# ## Deprecated - focused on larger data set - Merging title_basics and movie_basics on original title\n",
    "\n",
    "# merged_basics_original = pd.merge(title_basics,movie_basics, \n",
    "#                                   left_on= 'original_title', right_on= 'movie')\n",
    "# merged_basics_original"
   ]
  },
  {
   "cell_type": "code",
   "execution_count": null,
   "metadata": {
    "ExecuteTime": {
     "end_time": "2021-06-23T20:57:20.616281Z",
     "start_time": "2021-06-23T20:57:20.602254Z"
    }
   },
   "outputs": [],
   "source": [
    "df = merged_basics_primary.copy()"
   ]
  },
  {
   "cell_type": "markdown",
   "metadata": {},
   "source": [
    "### Removing Redundant \"Movie\" Column"
   ]
  },
  {
   "cell_type": "code",
   "execution_count": null,
   "metadata": {
    "ExecuteTime": {
     "end_time": "2021-06-23T20:57:20.631253Z",
     "start_time": "2021-06-23T20:57:20.618255Z"
    },
    "code_folding": []
   },
   "outputs": [],
   "source": [
    "## Verifying all titles/movies match - slower than np.where()\n",
    "# df[df.loc[:,'primary_title'] != df.loc[:,'movie']]"
   ]
  },
  {
   "cell_type": "code",
   "execution_count": null,
   "metadata": {
    "ExecuteTime": {
     "end_time": "2021-06-23T20:57:20.647257Z",
     "start_time": "2021-06-23T20:57:20.633254Z"
    }
   },
   "outputs": [],
   "source": [
    "## Verifying all titles/movies match - np.where faster than logical slicing\n",
    "\n",
    "for x in np.where((df.loc[:,'primary_title'] != df.loc[:,'movie']),1,0):\n",
    "    if x == 1:\n",
    "        print(x)"
   ]
  },
  {
   "cell_type": "code",
   "execution_count": null,
   "metadata": {
    "ExecuteTime": {
     "end_time": "2021-06-23T20:57:20.663258Z",
     "start_time": "2021-06-23T20:57:20.649255Z"
    },
    "code_folding": []
   },
   "outputs": [],
   "source": [
    "## Dropping redundant \"movie\" column -  incl t/e to be able to rerun notebook\n",
    "\n",
    "for col in df.columns:\n",
    "    try:\n",
    "        df.drop('movie', axis=1, inplace=True)\n",
    "    except:\n",
    "        pass\n",
    "    \n",
    "## Confirming removal\n",
    "'movie' in df.columns"
   ]
  },
  {
   "cell_type": "markdown",
   "metadata": {},
   "source": [
    "## Converting Currencies from Str to Int"
   ]
  },
  {
   "cell_type": "code",
   "execution_count": null,
   "metadata": {
    "ExecuteTime": {
     "end_time": "2021-06-23T20:57:20.695253Z",
     "start_time": "2021-06-23T20:57:20.666259Z"
    },
    "code_folding": []
   },
   "outputs": [],
   "source": [
    "## Converting gross amounts from strings to integers and removing \n",
    "\n",
    "dollar_to_int = ['production_budget','worldwide_gross','domestic_gross']\n",
    "\n",
    "for i in dollar_to_int:\n",
    "    try:\n",
    "        df[i] = df[i].map((lambda x: int(x.replace('$','').replace(',',''))))\n",
    "\n",
    "    except Exception:\n",
    "        print('---'*25)\n",
    "        print('Already converted.')\n",
    "        print()\n",
    "        \n",
    "    display(df[i][:3])"
   ]
  },
  {
   "cell_type": "markdown",
   "metadata": {},
   "source": [
    "## Filling Null Values with \"Missing\""
   ]
  },
  {
   "cell_type": "code",
   "execution_count": null,
   "metadata": {
    "ExecuteTime": {
     "end_time": "2021-06-23T20:57:20.727255Z",
     "start_time": "2021-06-23T20:57:20.697255Z"
    },
    "code_folding": []
   },
   "outputs": [],
   "source": [
    "## Filling null values with \"missing\" to allow for processing later\n",
    "\n",
    "df_filled = df.fillna('Missing').copy()\n",
    "display(df.isna().sum())\n",
    "display(df_filled.isna().sum())"
   ]
  },
  {
   "cell_type": "markdown",
   "metadata": {},
   "source": [
    "# **Feature Engineering**"
   ]
  },
  {
   "cell_type": "markdown",
   "metadata": {},
   "source": [
    "## Creating Seasons and Quarters"
   ]
  },
  {
   "cell_type": "markdown",
   "metadata": {},
   "source": [
    "### Datetime Approach"
   ]
  },
  {
   "cell_type": "code",
   "execution_count": null,
   "metadata": {
    "ExecuteTime": {
     "end_time": "2021-06-23T20:57:20.883253Z",
     "start_time": "2021-06-23T20:57:20.729254Z"
    },
    "scrolled": true
   },
   "outputs": [],
   "source": [
    "## Changing release date to datetime datatype\n",
    "\n",
    "df_filled['release_datetime'] = pd.to_datetime(df_filled['release_date'])\n",
    "df_filled['release_datetime']"
   ]
  },
  {
   "cell_type": "code",
   "execution_count": null,
   "metadata": {
    "ExecuteTime": {
     "end_time": "2021-06-23T20:57:20.899290Z",
     "start_time": "2021-06-23T20:57:20.885252Z"
    }
   },
   "outputs": [],
   "source": [
    "## Using datetime dtype to create months column\n",
    "df_filled['release_month_dt'] = df_filled['release_datetime'].dt.month_name()\n",
    "df_filled['release_month_dt']"
   ]
  },
  {
   "cell_type": "code",
   "execution_count": null,
   "metadata": {
    "ExecuteTime": {
     "end_time": "2021-06-23T20:57:20.915269Z",
     "start_time": "2021-06-23T20:57:20.901256Z"
    }
   },
   "outputs": [],
   "source": [
    "df_filled['release_quarter'] = df_filled['release_datetime'].dt.quarter\n",
    "df_filled['release_quarter']"
   ]
  },
  {
   "cell_type": "markdown",
   "metadata": {},
   "source": [
    "### Manual Approach"
   ]
  },
  {
   "cell_type": "code",
   "execution_count": null,
   "metadata": {
    "ExecuteTime": {
     "end_time": "2021-06-23T20:57:20.930262Z",
     "start_time": "2021-06-23T20:57:20.917254Z"
    }
   },
   "outputs": [],
   "source": [
    "## Inspecting original values\n",
    "df_filled['release_date'][:5]"
   ]
  },
  {
   "cell_type": "code",
   "execution_count": null,
   "metadata": {
    "ExecuteTime": {
     "end_time": "2021-06-23T20:57:20.946283Z",
     "start_time": "2021-06-23T20:57:20.932254Z"
    },
    "scrolled": true
   },
   "outputs": [],
   "source": [
    "## Pulling month\n",
    "test_month = df_filled['release_date'][0][:3]\n",
    "test_month"
   ]
  },
  {
   "cell_type": "code",
   "execution_count": null,
   "metadata": {
    "ExecuteTime": {
     "end_time": "2021-06-23T20:57:20.961284Z",
     "start_time": "2021-06-23T20:57:20.948257Z"
    }
   },
   "outputs": [],
   "source": [
    "## Creating new column for the month of each release date\n",
    "release_month = []\n",
    "\n",
    "for movie in df_filled['release_date']:\n",
    "    release_month.append(movie[:3])\n",
    "    \n",
    "df_filled['release_month_manual'] = release_month"
   ]
  },
  {
   "cell_type": "code",
   "execution_count": null,
   "metadata": {
    "ExecuteTime": {
     "end_time": "2021-06-23T20:57:20.977279Z",
     "start_time": "2021-06-23T20:57:20.963254Z"
    }
   },
   "outputs": [],
   "source": [
    "## Using map and lambda functions to slice out month from string\n",
    "df_filled['release_month_manual'] = df_filled['release_date'].map(lambda x: x[:3])\n",
    "df_filled['release_month_manual']"
   ]
  },
  {
   "cell_type": "code",
   "execution_count": null,
   "metadata": {
    "ExecuteTime": {
     "end_time": "2021-06-23T20:57:21.008254Z",
     "start_time": "2021-06-23T20:57:20.979254Z"
    }
   },
   "outputs": [],
   "source": [
    "## Creating seasons based on meteorological definitions of each season\n",
    "season = []\n",
    "\n",
    "for month in df_filled['release_month_manual']:\n",
    "    if month == 'Jan':\n",
    "        season.append('Winter')\n",
    "    elif month == 'Feb':\n",
    "        season.append('Winter')\n",
    "    elif month == 'Mar':\n",
    "        season.append('Spring')\n",
    "    elif month == 'Apr':\n",
    "        season.append('Spring')\n",
    "    elif month == 'May':\n",
    "        season.append('Spring')\n",
    "    elif month == 'Jun':\n",
    "        season.append('Summer')\n",
    "    elif month == 'Jul':\n",
    "        season.append('Summer')\n",
    "    elif month == 'Aug':\n",
    "        season.append('Summer')\n",
    "    elif month == 'Sep':\n",
    "        season.append('Fall')\n",
    "    elif month == 'Oct':\n",
    "        season.append('Fall')\n",
    "    elif month == 'Nov':\n",
    "        season.append('Fall')\n",
    "    elif month == 'Dec':\n",
    "        season.append('Winter')\n",
    "    else:\n",
    "        print('na')\n",
    "\n",
    "df_filled['release_season_manual'] = season\n",
    "df_filled['release_season_manual']"
   ]
  },
  {
   "cell_type": "markdown",
   "metadata": {},
   "source": [
    "### Reviewing Changes"
   ]
  },
  {
   "cell_type": "code",
   "execution_count": null,
   "metadata": {
    "ExecuteTime": {
     "end_time": "2021-06-23T20:57:21.054292Z",
     "start_time": "2021-06-23T20:57:21.012255Z"
    }
   },
   "outputs": [],
   "source": [
    "df_filled"
   ]
  },
  {
   "cell_type": "markdown",
   "metadata": {},
   "source": [
    "## Splitting Genres into Lists"
   ]
  },
  {
   "cell_type": "code",
   "execution_count": null,
   "metadata": {
    "ExecuteTime": {
     "end_time": "2021-06-23T20:57:21.070253Z",
     "start_time": "2021-06-23T20:57:21.056253Z"
    }
   },
   "outputs": [],
   "source": [
    "# ## Via map & lambda - slower than .str\n",
    "# df_filled['genres_list'] = df_filled['genres'].map(lambda x: x.split(','))\n",
    "# df_filled"
   ]
  },
  {
   "cell_type": "code",
   "execution_count": null,
   "metadata": {
    "ExecuteTime": {
     "end_time": "2021-06-23T20:57:21.101253Z",
     "start_time": "2021-06-23T20:57:21.072254Z"
    }
   },
   "outputs": [],
   "source": [
    "## Via .str and string methods (faster than map/lambda)\n",
    "df_filled['genres_str'] = df_filled['genres'].str.title().str.split(',')\n",
    "df_filled['genres_str']"
   ]
  },
  {
   "cell_type": "code",
   "execution_count": null,
   "metadata": {
    "ExecuteTime": {
     "end_time": "2021-06-23T20:57:21.162544Z",
     "start_time": "2021-06-23T20:57:21.103254Z"
    },
    "code_folding": [],
    "scrolled": true
   },
   "outputs": [],
   "source": [
    "## Creating new rows for each genre per movie\n",
    "df_filled = df_filled.explode('genres_str')\n",
    "df_filled"
   ]
  },
  {
   "cell_type": "markdown",
   "metadata": {},
   "source": [
    "## Creating Profit and ROI"
   ]
  },
  {
   "cell_type": "code",
   "execution_count": null,
   "metadata": {
    "ExecuteTime": {
     "end_time": "2021-06-23T20:57:21.178533Z",
     "start_time": "2021-06-23T20:57:21.164550Z"
    }
   },
   "outputs": [],
   "source": [
    "df_filled['profit'] = df_filled['worldwide_gross'] - df_filled['production_budget']\n",
    "df_filled['profit'] "
   ]
  },
  {
   "cell_type": "code",
   "execution_count": null,
   "metadata": {
    "ExecuteTime": {
     "end_time": "2021-06-23T20:57:21.194538Z",
     "start_time": "2021-06-23T20:57:21.180544Z"
    }
   },
   "outputs": [],
   "source": [
    "df_filled['ROI'] = (df_filled['worldwide_gross'] - df_filled['production_budget'])/df_filled['production_budget']\n",
    "df_filled['ROI']"
   ]
  },
  {
   "cell_type": "markdown",
   "metadata": {},
   "source": [
    "# **Visualizations**"
   ]
  },
  {
   "cell_type": "markdown",
   "metadata": {},
   "source": [
    "# 🎇 TODO: ADD ADDITIONAL DETAILS/NEW FUNCTION TO EVALUATE GRAPH/DATA 🎇"
   ]
  },
  {
   "cell_type": "code",
   "execution_count": null,
   "metadata": {
    "ExecuteTime": {
     "end_time": "2021-06-23T20:58:13.734254Z",
     "start_time": "2021-06-23T20:58:13.691222Z"
    }
   },
   "outputs": [],
   "source": [
    "## Creating separate df for plotting\n",
    "plot_df = df_filled.copy()\n",
    "plot_df"
   ]
  },
  {
   "cell_type": "markdown",
   "metadata": {},
   "source": [
    "## Total Worldwide Gross per Genre"
   ]
  },
  {
   "cell_type": "code",
   "execution_count": null,
   "metadata": {
    "ExecuteTime": {
     "end_time": "2021-06-23T21:16:20.162501Z",
     "start_time": "2021-06-23T21:16:20.147482Z"
    },
    "code_folding": []
   },
   "outputs": [],
   "source": [
    "## Defining a function to perform aggregation and plot the data\n",
    "\n",
    "def sort_genres_sum(df, col_to_sort, agg='sum', verbose=True):\n",
    "    '''Creates a new dataframe from a given dataframe created by the sum of\n",
    "    all values for each genre, then sorted by the specified column name.\n",
    "    \n",
    "    Args & kwargs:\n",
    "    df - original dataframe to be sorted\n",
    "    col_to_sort - column name (str) by which to sort the data\n",
    "    '''\n",
    "    ## Adding functionality to handle different aggregation methods\n",
    "    if agg == 'sum':\n",
    "        agg_func = np.sum\n",
    "        agg_title = 'Total'\n",
    "    elif agg == 'median':\n",
    "        agg_func = np.median\n",
    "        agg_title = 'Median'\n",
    "    else:\n",
    "        agg_func = np.mean\n",
    "        agg_title = 'Average'\n",
    "    \n",
    "    ## Determining performance rankings and creating a list of names for viz\n",
    "    idx = list(df.groupby(\"genres_str\", as_index=True).agg(agg_func).sort_values(by = col_to_sort, ascending=False).index)\n",
    "    \n",
    "    ## Graphing results of agg function ordered by index (above)\n",
    "    fig = plt.figure(figsize=(15,4))\n",
    "    sns.barplot(data=df, x= 'genres_str', y= col_to_sort, order = idx, estimator = agg_func)\n",
    "    plt.xticks(rotation=45, ha= 'right')\n",
    "    plt.suptitle(f'Total {col_to_sort.title().replace(\"_\", \" \")} by Genre')\n",
    "    plt.xlabel('Genres')\n",
    "    plt.ylabel(f'Total {col_to_sort.title().replace(\"_\", \" \")}');\n",
    "    \n",
    "    ## Adding option to turn off dataframe showing results\n",
    "    if verbose == True:\n",
    "        display(df.sort_values(col_to_sort, ascending=False))\n",
    "    \n",
    "    return fig"
   ]
  },
  {
   "cell_type": "code",
   "execution_count": null,
   "metadata": {
    "ExecuteTime": {
     "end_time": "2021-06-23T21:10:33.651136Z",
     "start_time": "2021-06-23T21:10:33.634100Z"
    }
   },
   "outputs": [],
   "source": [
    "# df_filled.columns"
   ]
  },
  {
   "cell_type": "code",
   "execution_count": null,
   "metadata": {
    "ExecuteTime": {
     "end_time": "2021-06-23T21:10:35.755936Z",
     "start_time": "2021-06-23T21:10:35.739965Z"
    }
   },
   "outputs": [],
   "source": [
    "# df_filled.sort_values('domestic_gross')"
   ]
  },
  {
   "cell_type": "code",
   "execution_count": null,
   "metadata": {
    "ExecuteTime": {
     "end_time": "2021-06-23T21:10:57.685262Z",
     "start_time": "2021-06-23T21:10:56.851290Z"
    },
    "scrolled": false
   },
   "outputs": [],
   "source": [
    "## Testing Function\n",
    "\n",
    "sort_genres_sum(plot_df, col_to_sort='worldwide_gross', agg='sum');"
   ]
  },
  {
   "cell_type": "markdown",
   "metadata": {},
   "source": [
    "**Observations:**\n",
    ">* **Top three genres:** Adventure, Action, Drama\n",
    ">* **Lowest three genres:** Western, News, Reality-TV\n",
    ">* On this graph, musicals are ranked much lower due to their smaller total gross box office sales (versus calculating the average of all gross values).\n",
    "\n",
    "**Suggestions**\n",
    ">* **Safest Genres (by Gross)** are the top three genres\n",
    "    * Lowest points on the error bars indicate high performance even at their worst.\n",
    ">* **Select from:** Action, Animation, Adventure, Fantasy, Sci-Fi, Family, or Musicals\n",
    "    * All others show poor performance"
   ]
  },
  {
   "cell_type": "markdown",
   "metadata": {},
   "source": [
    "## Average Gross per Genre"
   ]
  },
  {
   "cell_type": "code",
   "execution_count": null,
   "metadata": {
    "ExecuteTime": {
     "end_time": "2021-06-23T18:48:42.885373Z",
     "start_time": "2021-06-23T18:48:42.874373Z"
    },
    "code_folding": [
     0
    ]
   },
   "outputs": [],
   "source": [
    "## Defining a function to perform aggregation and plot the data\n",
    "\n",
    "def sort_genres_avg(df, col_to_sort):\n",
    "    '''Creates a new dataframe from a given dataframe created by the average of\n",
    "    all values for each genre, then sorted by the specified column name.\n",
    "    \n",
    "    Args & kwargs:\n",
    "    df - original dataframe to be sorted\n",
    "    col_to_sort - column name (str) by which to sort the data\"'''\n",
    "    \n",
    "    df1 = df.groupby(\"genres_str\").mean().reset_index().sort_values(by = col_to_sort, ascending=False)\n",
    "\n",
    "    plt.figure(figsize=(15,4))\n",
    "    sns.barplot(data=df1, x= 'genres_str', y= col_to_sort )\n",
    "    plt.xticks(rotation=45, ha= 'right')\n",
    "    plt.suptitle('Average Worldwide Gross by Genre')\n",
    "    plt.xlabel('Genres')\n",
    "    plt.ylabel('Total Worldwide Gross ($)');\n",
    "    \n",
    "    return df1.head(5)"
   ]
  },
  {
   "cell_type": "code",
   "execution_count": null,
   "metadata": {
    "ExecuteTime": {
     "end_time": "2021-06-23T18:48:43.416374Z",
     "start_time": "2021-06-23T18:48:42.889374Z"
    },
    "scrolled": false
   },
   "outputs": [],
   "source": [
    "sort_genres_avg(plot_df, col_to_sort='worldwide_gross')"
   ]
  },
  {
   "cell_type": "markdown",
   "metadata": {},
   "source": [
    "#### Old Code - Saving just in case"
   ]
  },
  {
   "cell_type": "code",
   "execution_count": null,
   "metadata": {
    "ExecuteTime": {
     "end_time": "2021-06-23T18:48:43.433373Z",
     "start_time": "2021-06-23T18:48:43.419374Z"
    },
    "code_folding": []
   },
   "outputs": [],
   "source": [
    "# ## Visualizing sorted sum \n",
    "\n",
    "# df_sorted = sort_genres_sum(plot_df, 'worldwide_gross')\n",
    "\n",
    "# plt.figure(figsize=(15,4))\n",
    "# sns.barplot(data=df_sorted, x= 'genres_str', y='worldwide_gross')\n",
    "# plt.xticks(rotation=45, ha= 'right')\n",
    "# plt.suptitle('Total Worldwide Gross by Genre')\n",
    "# plt.xlabel('Genres')\n",
    "# plt.ylabel('Total Worldwide Gross ($)');"
   ]
  },
  {
   "cell_type": "code",
   "execution_count": null,
   "metadata": {
    "ExecuteTime": {
     "end_time": "2021-06-23T18:48:43.448374Z",
     "start_time": "2021-06-23T18:48:43.438374Z"
    },
    "code_folding": [],
    "scrolled": false
   },
   "outputs": [],
   "source": [
    "# ## Visualizing sorted average \n",
    "\n",
    "# avg_sorted = sort_genres_avg(plot_df, 'worldwide_gross')\n",
    "\n",
    "# plt.figure(figsize=(15,4))\n",
    "# sns.barplot(data=avg_sorted, x= 'genres_str', y='worldwide_gross')\n",
    "# plt.xticks(rotation=45, ha= 'right')\n",
    "# plt.suptitle('Total Worldwide Gross by Genre')\n",
    "# plt.xlabel('Genres')\n",
    "# plt.ylabel('Total Worldwide Gross ($)');"
   ]
  },
  {
   "cell_type": "code",
   "execution_count": null,
   "metadata": {
    "ExecuteTime": {
     "end_time": "2021-06-23T18:48:43.464371Z",
     "start_time": "2021-06-23T18:48:43.451377Z"
    }
   },
   "outputs": [],
   "source": [
    "# def sort_genres_avg(df, col_to_sort):\n",
    "#     '''Creates a new dataframe from a given dataframe created by the average of\n",
    "#     all values for each genre, then sorted by the specified column name.\n",
    "    \n",
    "#     Args & kwargs:\n",
    "#     df - original dataframe to be sorted\n",
    "#     col_to_sort - column name (str) by which to sort the data\"'''\n",
    "    \n",
    "#     df1 = df.groupby(\"genres_str\").agg('mean').reset_index().sort_values(by = col_to_sort, ascending=False)\n",
    "    \n",
    "#     return df1"
   ]
  },
  {
   "cell_type": "code",
   "execution_count": null,
   "metadata": {
    "ExecuteTime": {
     "end_time": "2021-06-23T18:48:43.479373Z",
     "start_time": "2021-06-23T18:48:43.466374Z"
    },
    "code_folding": []
   },
   "outputs": [],
   "source": [
    "# ## First version of visualizing results - \n",
    "\n",
    "# plt.figure(figsize=(15,4))\n",
    "# sns.barplot(data=plot_df, x= 'genres_str', y='worldwide_gross')#, order=sum_gross_ww)\n",
    "# plt.xticks(rotation=45, ha= 'right')\n",
    "# plt.suptitle('Worldwide Gross by Genre')\n",
    "# plt.xlabel('Genres')\n",
    "# plt.ylabel('Worldwide Gross ($)');"
   ]
  },
  {
   "cell_type": "code",
   "execution_count": null,
   "metadata": {
    "ExecuteTime": {
     "end_time": "2021-06-23T18:48:43.494372Z",
     "start_time": "2021-06-23T18:48:43.482376Z"
    },
    "code_folding": []
   },
   "outputs": [],
   "source": [
    "# ## Not working - attempted to create function to sort and visualize\n",
    "# def visualize_metrics(df, col_to_sort, sort_order):\n",
    "    \n",
    "#     df_sorted = df.groupby(\"genres_str\").sum().reset_index().sort_values(by = col_to_sort, ascending=False)\n",
    "    \n",
    "#     plt.figure(figsize=(15,4))\n",
    "#     sns.barplot(data=df_sorted, x= 'genres_str', y=col_to_sort, order=sort_order)\n",
    "#     plt.xticks(rotation=45, ha= 'right')\n",
    "#     plt.suptitle('Worldwide Gross by Genre')\n",
    "#     plt.xlabel('Genres')\n",
    "#     plt.ylabel(col_to_sort);\n",
    "    \n",
    "#     return"
   ]
  },
  {
   "cell_type": "markdown",
   "metadata": {},
   "source": [
    "## ROI per Genre"
   ]
  },
  {
   "cell_type": "code",
   "execution_count": null,
   "metadata": {
    "ExecuteTime": {
     "end_time": "2021-06-23T18:48:43.509386Z",
     "start_time": "2021-06-23T18:48:43.497374Z"
    }
   },
   "outputs": [],
   "source": [
    "## Creating list of genres based on average ROI for graphing purposes\n",
    "\n",
    "mean_roi = list(plot_df.groupby(\"genres_str\").mean()['ROI'].sort_values(ascending=False).index)\n",
    "# mean_roi"
   ]
  },
  {
   "cell_type": "code",
   "execution_count": null,
   "metadata": {
    "ExecuteTime": {
     "end_time": "2021-06-23T18:48:45.020377Z",
     "start_time": "2021-06-23T18:48:43.512379Z"
    },
    "code_folding": [],
    "scrolled": false
   },
   "outputs": [],
   "source": [
    "## Visualizing Average Worldwide Gross per Genre\n",
    "\n",
    "plt.figure(figsize=(15,4))\n",
    "sns.barplot(data=plot_df, x= 'genres_str', y='ROI', order=mean_roi)\n",
    "plt.xticks(rotation=45, ha= 'right')\n",
    "plt.suptitle('Average Return-on-Investment by Genre')\n",
    "plt.xlabel('Genres')\n",
    "plt.ylabel('ROI (%)');"
   ]
  },
  {
   "cell_type": "markdown",
   "metadata": {},
   "source": [
    "**Observations:**\n",
    ">* **Top three genres:** Animation, Adventure, and Sci-Fi\n",
    ">* **Lowest three genres:** Reality-TV, War and News\n",
    ">* *Musicals are a high-risk, high-reward option*\n",
    "    * Their gross can exceed Animation, or fall below the top 5 genres.\n",
    "\n",
    "**Suggestions**\n",
    ">* **Safest Genres (by Gross)** are the top three genres\n",
    "    * Lowest points on the error bars indicate high gross performance even at their worst\n",
    ">* Select from Action, Animation, Adventure, Fantasy, Sci-Fi, Family, or Musicals\n",
    "    * All others show poor performance"
   ]
  },
  {
   "cell_type": "markdown",
   "metadata": {},
   "source": [
    "## Visualizing Seasonal Performance"
   ]
  },
  {
   "cell_type": "markdown",
   "metadata": {},
   "source": [
    "### Seasonal Performance - All Movies (ROI)"
   ]
  },
  {
   "cell_type": "code",
   "execution_count": null,
   "metadata": {
    "ExecuteTime": {
     "end_time": "2021-06-23T18:48:45.518379Z",
     "start_time": "2021-06-23T18:48:45.023377Z"
    },
    "code_folding": [],
    "scrolled": true
   },
   "outputs": [],
   "source": [
    "## Creating basic overview\n",
    "g = sns.barplot(data=plot_df, x='release_season_manual', y='ROI', \n",
    "                order=['Spring', 'Summer', 'Fall', 'Winter'], \n",
    "                estimator=np.mean)\n",
    "g.set_xlabel('Seasons')\n",
    "g.set_ylabel('ROI(%)')\n",
    "g.set_title('Seasonal Performance (All Movies)');"
   ]
  },
  {
   "cell_type": "markdown",
   "metadata": {},
   "source": [
    "### Seasonal Performance - All Movies (Ww Gross)"
   ]
  },
  {
   "cell_type": "code",
   "execution_count": null,
   "metadata": {
    "ExecuteTime": {
     "end_time": "2021-06-23T18:48:45.986378Z",
     "start_time": "2021-06-23T18:48:45.521381Z"
    },
    "code_folding": [],
    "scrolled": true
   },
   "outputs": [],
   "source": [
    "## Creating basic overview\n",
    "g = sns.barplot(data=plot_df, x='release_season_manual', y='worldwide_gross', \n",
    "                order=['Spring', 'Summer', 'Fall', 'Winter'], \n",
    "                estimator=np.mean)\n",
    "g.set_xlabel('Seasons')\n",
    "g.set_ylabel('Worldwide Gross')\n",
    "g.set_title('Seasonal Performance (All Movies)');"
   ]
  },
  {
   "cell_type": "markdown",
   "metadata": {},
   "source": [
    "**Observations:**\n",
    ">* Summer is the best season for releases, with winter being the worst time.\n",
    ">* Summer and Spring seasons seem to be the most productive seasons.\n",
    ">* Fall and Winter perform worse.\n",
    "\n",
    "**Suggestions**\n",
    ">* Focus release times in Summer/Spring\n",
    ">* Avoid Fall/Winter"
   ]
  },
  {
   "cell_type": "markdown",
   "metadata": {},
   "source": [
    "### Genre Performance by Season"
   ]
  },
  {
   "cell_type": "code",
   "execution_count": null,
   "metadata": {
    "ExecuteTime": {
     "end_time": "2021-06-23T18:48:50.857390Z",
     "start_time": "2021-06-23T18:48:45.988380Z"
    },
    "code_folding": [],
    "scrolled": false
   },
   "outputs": [],
   "source": [
    "## Visualizing each genre's performance by season\n",
    "g = sns.catplot(data=plot_df, col='release_season_manual',\n",
    "            y='ROI', kind='bar', x='genres_str', col_wrap=2, \n",
    "            aspect=1.75, order=mean_roi)\n",
    "(g.set_axis_labels('Category', 'ROI (%)')\n",
    " .set_xticklabels(rotation=45)\n",
    " .set_titles(\"{col_name}\"))\n",
    " \n",
    "plt.tight_layout();"
   ]
  },
  {
   "cell_type": "code",
   "execution_count": null,
   "metadata": {
    "ExecuteTime": {
     "end_time": "2021-06-23T18:48:56.109409Z",
     "start_time": "2021-06-23T18:48:50.860393Z"
    },
    "code_folding": [],
    "scrolled": false
   },
   "outputs": [],
   "source": [
    "## Visualizing each genre's performance by season\n",
    "g = sns.catplot(data=plot_df, col='release_season_manual',\n",
    "            y='worldwide_gross', kind='bar', x='genres_str', col_wrap=2, \n",
    "            aspect=1.75)#, sharex=False)\n",
    "(g.set_axis_labels('Category', 'Worldwide Gross ($)')\n",
    " .set_xticklabels(rotation=45)\n",
    " .set_titles(\"{col_name}\"))\n",
    " \n",
    "plt.tight_layout();"
   ]
  },
  {
   "cell_type": "markdown",
   "metadata": {},
   "source": [
    "**Observations:**\n",
    ">* Springtime releases show highest gross performance on average\n",
    ">* Wintertime shows lowest performances across all genres\n",
    ">* The results match up with our overall view for all genres\n",
    "\n",
    "**Suggestions**\n",
    ">* To maximize profitability of musicals, release in spring\n",
    ">* Avoid releasing Animations in the winter - all other seasons perform better\n",
    ">* Avoid releasing news-related movies in the Spring"
   ]
  },
  {
   "cell_type": "markdown",
   "metadata": {},
   "source": [
    "## Seasonal Performance -  Insights"
   ]
  },
  {
   "cell_type": "markdown",
   "metadata": {},
   "source": [
    "**Observations:**\n",
    ">\n",
    ">The top five genres tend to perform relatively well regardless of the season with little difference between each season.\n",
    ">\n",
    "> Musicals show a strongest performance in the springtime - it is only worthwhile to release a musical in the spring.\n",
    ">\n",
    "**Questions**\n",
    "> \n",
    ">What is the profitability and return on investment for each genre?"
   ]
  },
  {
   "cell_type": "markdown",
   "metadata": {},
   "source": [
    "## Quarterly Performance"
   ]
  },
  {
   "cell_type": "markdown",
   "metadata": {},
   "source": [
    "How would the data look when comparing seasons to quarters?"
   ]
  },
  {
   "cell_type": "code",
   "execution_count": null,
   "metadata": {
    "ExecuteTime": {
     "end_time": "2021-06-23T18:48:56.124442Z",
     "start_time": "2021-06-23T18:48:56.111413Z"
    },
    "code_folding": []
   },
   "outputs": [],
   "source": [
    "## Sorting by release quarters for graphing\n",
    "df_filled.sort_values('release_quarter', inplace=True)\n",
    "df_filled.reset_index(drop=True, inplace=True)\n",
    "# df_filled"
   ]
  },
  {
   "cell_type": "code",
   "execution_count": null,
   "metadata": {
    "ExecuteTime": {
     "end_time": "2021-06-23T18:48:56.606406Z",
     "start_time": "2021-06-23T18:48:56.126405Z"
    },
    "code_folding": [],
    "scrolled": true
   },
   "outputs": [],
   "source": [
    "## Creating basic overview\n",
    "g = sns.barplot(data=plot_df, x='release_quarter', y='worldwide_gross')\n",
    "g.set_xlabel('Quarters')\n",
    "g.set_ylabel('Worldwide Gross')\n",
    "g.set_title('Quarterly Performance (All Movies)');"
   ]
  },
  {
   "cell_type": "markdown",
   "metadata": {},
   "source": [
    "**Observations:**\n",
    ">* \n",
    ">* \n",
    ">* \n",
    "\n",
    "**Suggestions**\n",
    ">* \n",
    ">* "
   ]
  },
  {
   "cell_type": "code",
   "execution_count": null,
   "metadata": {
    "ExecuteTime": {
     "end_time": "2021-06-23T18:49:02.001421Z",
     "start_time": "2021-06-23T18:48:56.609410Z"
    },
    "code_folding": [],
    "scrolled": false
   },
   "outputs": [],
   "source": [
    "## Generating figure for quarterly performance breakdown\n",
    "g = sns.catplot(data=plot_df, col='release_quarter',\n",
    "            y='worldwide_gross', kind='bar', x='genres_str', col_wrap=2, \n",
    "            aspect=1.75)#, sharex=False)\n",
    "(g.set_axis_labels('Category', 'Worldwide Gross ($)')\n",
    " .set_xticklabels(rotation=45)\n",
    " .set_titles(\"Quarter {col_name}\"))\n",
    " \n",
    "plt.tight_layout();"
   ]
  },
  {
   "cell_type": "markdown",
   "metadata": {},
   "source": [
    "**Observations:**\n",
    ">* \n",
    ">* \n",
    ">* \n",
    "\n",
    "**Suggestions**\n",
    ">* \n",
    ">* "
   ]
  },
  {
   "cell_type": "code",
   "execution_count": null,
   "metadata": {
    "ExecuteTime": {
     "end_time": "2021-06-23T18:49:02.016419Z",
     "start_time": "2021-06-23T18:49:02.004422Z"
    },
    "code_folding": [
     0
    ]
   },
   "outputs": [],
   "source": [
    "# g = sns.catplot(x = 'genres_list', y='worldwide_gross', \n",
    "#                hue = 'release_quarter',data=plot_df, kind='bar', aspect=3.65)\n",
    "# g.set_xticklabels(rotation=45);"
   ]
  },
  {
   "cell_type": "code",
   "execution_count": null,
   "metadata": {
    "ExecuteTime": {
     "end_time": "2021-06-23T18:49:02.032421Z",
     "start_time": "2021-06-23T18:49:02.019422Z"
    },
    "code_folding": [
     0
    ]
   },
   "outputs": [],
   "source": [
    "# g = sns.catplot(x = 'genres_list', y='worldwide_gross',\n",
    "#                 hue = 'release_season_manual',data=plot_df, kind='bar',\n",
    "#                 aspect=3.65)\n",
    "# g.set_xticklabels(rotation=45);"
   ]
  },
  {
   "cell_type": "markdown",
   "metadata": {},
   "source": [
    "## **Comparing S & Q**"
   ]
  },
  {
   "cell_type": "code",
   "execution_count": null,
   "metadata": {
    "ExecuteTime": {
     "end_time": "2021-06-23T18:49:03.063422Z",
     "start_time": "2021-06-23T18:49:02.035421Z"
    },
    "code_folding": []
   },
   "outputs": [],
   "source": [
    "## Comparing Seasonal/Quarterly breakdowns\n",
    "\n",
    "fig, axes = plt.subplots(nrows=2, figsize=(7,7))\n",
    "sns.barplot(x = 'release_season_manual', y='worldwide_gross',data=plot_df, \n",
    "            ax=axes[0], order=['Spring', 'Summer', 'Fall', 'Winter'])\n",
    "sns.barplot(x = 'release_quarter', y='worldwide_gross', data=plot_df,\n",
    "            ax=axes[1])\n",
    "\n",
    "## Changing settings\n",
    "axes[0].set_xlabel(\"Seasons\")\n",
    "axes[0].set_ylabel('Worldwide Gross')\n",
    "\n",
    "axes[1].set_xlabel(\"Quarters\")\n",
    "axes[1].set_ylabel('Worldwide Gross')\n",
    "\n",
    "plt.tight_layout();"
   ]
  },
  {
   "cell_type": "code",
   "execution_count": null,
   "metadata": {
    "ExecuteTime": {
     "end_time": "2021-06-23T18:49:12.053447Z",
     "start_time": "2021-06-23T18:49:03.065425Z"
    },
    "code_folding": [],
    "scrolled": false
   },
   "outputs": [],
   "source": [
    "## Creating single visualization to compare seasonal and quarterly performances\n",
    "\n",
    "fig, axes = plt.subplots(nrows=2, figsize=(17,10))\n",
    "sns.barplot(x = 'genres_str', y='worldwide_gross',\n",
    "            hue = 'release_season_manual',data=plot_df, ax=axes[0])\n",
    "sns.barplot(x = 'genres_str', y='worldwide_gross', hue = 'release_quarter',\n",
    "            data=plot_df, ax=axes[1])\n",
    "\n",
    "## Changing settings\n",
    "axes[0].set_xticklabels(axes[0].get_xticklabels(),rotation=45, ha='right')\n",
    "axes[0].set_xlabel(\"Genres\")\n",
    "axes[0].set_ylabel('Worldwide Gross')\n",
    "axes[0].legend(title='Seasons')\n",
    "\n",
    "axes[1].set_xticklabels(axes[1].get_xticklabels(),rotation=45, ha='right')\n",
    "axes[1].set_xlabel(\"Genres\")\n",
    "axes[1].set_ylabel('Worldwide Gross')\n",
    "axes[1].legend(title='Quarters')\n",
    "\n",
    "plt.tight_layout();"
   ]
  },
  {
   "cell_type": "markdown",
   "metadata": {},
   "source": [
    "**Observations:**\n",
    ">* \n",
    ">* \n",
    ">* \n",
    "\n",
    "**Suggestions**\n",
    ">* \n",
    ">* "
   ]
  },
  {
   "cell_type": "markdown",
   "metadata": {},
   "source": [
    "# ✨ TODO"
   ]
  },
  {
   "cell_type": "markdown",
   "metadata": {},
   "source": [
    "* Change to \"quarterly\"\n",
    "* Move towards linreg (feature selection)"
   ]
  },
  {
   "cell_type": "markdown",
   "metadata": {},
   "source": [
    "# Correlations/Multicollinearity"
   ]
  },
  {
   "cell_type": "code",
   "execution_count": null,
   "metadata": {
    "ExecuteTime": {
     "end_time": "2021-06-23T18:49:12.068481Z",
     "start_time": "2021-06-23T18:49:12.056447Z"
    },
    "code_folding": [
     0
    ]
   },
   "outputs": [],
   "source": [
    "# ## Code copied from P2proj\n",
    "\n",
    "## Determining each feature's relationship with price\n",
    "\n",
    "## 1. Drop categorical columns\n",
    "## 2. Create correlation with target variable \n",
    "## 3. Display top/bottom 5 values\n",
    "\n",
    "# df_corr = df.drop(['price', 'id', 'lat','long'], axis=1).corrwith(df['price']).sort_values(ascending=False)\n",
    "# display(df_corr[0:5],df_corr[-6:-1])"
   ]
  },
  {
   "cell_type": "code",
   "execution_count": null,
   "metadata": {
    "ExecuteTime": {
     "end_time": "2021-06-23T21:36:57.537697Z",
     "start_time": "2021-06-23T21:36:57.524701Z"
    },
    "code_folding": [
     0
    ]
   },
   "outputs": [],
   "source": [
    "# ## Attempted to create a loop to check the datetype and add to a list for columns\n",
    "\n",
    "\n",
    "# # for each runtime in the column, check if it is not a string\n",
    "# #  if it is not, then zip that value with the value in the \"primary_title\" column\n",
    "# #  then, add the zipped value to a list\n",
    "# # finally, print the final list\n",
    "\n",
    "# cat_col_list = []\n",
    "\n",
    "# for i in col_list:\n",
    "#     for n in range(len(col_list)):\n",
    "#         if type(i[n]) == float:\n",
    "# #             cat_col_list.append(i)\n",
    "#             print(i)\n",
    "        \n",
    "# # cat_col_list"
   ]
  },
  {
   "cell_type": "code",
   "execution_count": null,
   "metadata": {
    "ExecuteTime": {
     "end_time": "2021-06-23T21:26:43.474792Z",
     "start_time": "2021-06-23T21:26:43.467797Z"
    },
    "code_folding": [
     0
    ]
   },
   "outputs": [],
   "source": [
    "## Realized I can't treat the 'runtime' column as either cat/col due to mixed dt w/in col\n",
    "\n",
    "# display(list(df_filled.columns))\n",
    "\n",
    "# display(list(df_filled.dtypes))"
   ]
  },
  {
   "cell_type": "code",
   "execution_count": null,
   "metadata": {
    "ExecuteTime": {
     "end_time": "2021-06-23T21:39:30.434526Z",
     "start_time": "2021-06-23T21:39:30.427526Z"
    },
    "code_folding": [],
    "scrolled": true
   },
   "outputs": [],
   "source": [
    "## Identifying datatypes for each title to split into cat/cont/drop lists\n",
    "cat_col = list(zip(list(df_filled.columns),list(df_filled.dtypes)))\n",
    "cat_col"
   ]
  },
  {
   "cell_type": "code",
   "execution_count": null,
   "metadata": {
    "ExecuteTime": {
     "end_time": "2021-06-23T21:42:43.021909Z",
     "start_time": "2021-06-23T21:42:43.011875Z"
    }
   },
   "outputs": [],
   "source": [
    "## Breaking out each feature into either categorical/continuous/\"to be dropped\"\n",
    "\n",
    "cont_feat = ['start_year','production_budget','domestic_gross','worldwide_gross',\n",
    "        'genres_str','profit','ROI']\n",
    "\n",
    "cat_feat = ['genres','release_month_dt','release_quarter','release_season_manual',\n",
    "       'genres_str',]\n",
    "\n",
    "drop_feat = ['id','tconst','primary_title','original_title','release_datetime',\n",
    "        'runtime_minutes','release_date','release_month_manual',]"
   ]
  },
  {
   "cell_type": "code",
   "execution_count": null,
   "metadata": {
    "ExecuteTime": {
     "end_time": "2021-06-23T21:44:00.946517Z",
     "start_time": "2021-06-23T21:44:00.915499Z"
    }
   },
   "outputs": [],
   "source": [
    "## Creating a new dataframe for correlation matrix\n",
    "\n",
    "df_for_corr = df_filled.drop(columns = drop_feat).copy().reset_index(drop=True)\n",
    "df_for_corr"
   ]
  },
  {
   "cell_type": "code",
   "execution_count": null,
   "metadata": {
    "ExecuteTime": {
     "end_time": "2021-06-23T21:45:59.509341Z",
     "start_time": "2021-06-23T21:45:59.460312Z"
    }
   },
   "outputs": [],
   "source": [
    "df_corr = df_for_corr.drop(cat_feat, axis=1).corrwith(df_for_corr['worldwide_gross']).sort_values(ascending=False)\n",
    "\n",
    "display(df_corr[0:5],df_corr[-6:-1])"
   ]
  },
  {
   "cell_type": "code",
   "execution_count": null,
   "metadata": {
    "ExecuteTime": {
     "end_time": "2021-06-23T21:39:38.885312Z",
     "start_time": "2021-06-23T21:39:38.866278Z"
    }
   },
   "outputs": [],
   "source": [
    "## Creating function to provide correlation matrix to determine multicollinearity\n",
    "\n",
    "def df_corr(df, list_cats, target_col):\n",
    "    '''Identifying correlations within the data'''\n",
    "    \n",
    "    df_corr = df.drop(list_cats, axis=1).corrwith(df[target_col]).sort_values(ascending=False)\n",
    "    \n",
    "    display(df_corr[0:5],df_corr[-6:-1])\n",
    "    \n",
    "    return df_corr"
   ]
  },
  {
   "cell_type": "code",
   "execution_count": null,
   "metadata": {
    "ExecuteTime": {
     "end_time": "2021-06-23T21:45:03.908475Z",
     "start_time": "2021-06-23T21:45:03.896474Z"
    }
   },
   "outputs": [],
   "source": [
    "df_corr(df=df_for_corr, list_cats=cat_feat, target_col = 'worldwide_gross')"
   ]
  },
  {
   "cell_type": "markdown",
   "metadata": {},
   "source": [
    "# Statistical Testing"
   ]
  },
  {
   "cell_type": "code",
   "execution_count": null,
   "metadata": {},
   "outputs": [],
   "source": []
  },
  {
   "cell_type": "markdown",
   "metadata": {},
   "source": [
    "# Inferential Modeling"
   ]
  },
  {
   "cell_type": "code",
   "execution_count": null,
   "metadata": {},
   "outputs": [],
   "source": []
  },
  {
   "cell_type": "markdown",
   "metadata": {},
   "source": [
    "# Predictive Modeling"
   ]
  },
  {
   "cell_type": "code",
   "execution_count": null,
   "metadata": {},
   "outputs": [],
   "source": []
  },
  {
   "cell_type": "markdown",
   "metadata": {},
   "source": [
    "# Final Results"
   ]
  },
  {
   "cell_type": "code",
   "execution_count": null,
   "metadata": {},
   "outputs": [],
   "source": []
  }
 ],
 "metadata": {
  "kernelspec": {
   "display_name": "Python (learn-env-bmc)",
   "language": "python",
   "name": "learn-env-bmc"
  },
  "language_info": {
   "codemirror_mode": {
    "name": "ipython",
    "version": 3
   },
   "file_extension": ".py",
   "mimetype": "text/x-python",
   "name": "python",
   "nbconvert_exporter": "python",
   "pygments_lexer": "ipython3",
   "version": "3.8.5"
  },
  "toc": {
   "base_numbering": 1,
   "nav_menu": {},
   "number_sections": true,
   "sideBar": true,
   "skip_h1_title": false,
   "title_cell": "Table of Contents",
   "title_sidebar": "Contents",
   "toc_cell": false,
   "toc_position": {
    "height": "calc(100% - 180px)",
    "left": "10px",
    "top": "150px",
    "width": "318.45px"
   },
   "toc_section_display": true,
   "toc_window_display": true
  }
 },
 "nbformat": 4,
 "nbformat_minor": 2
}
