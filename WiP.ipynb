{
 "cells": [
  {
   "cell_type": "markdown",
   "metadata": {
    "heading_collapsed": true
   },
   "source": [
    "# **Phases 1 and 2 Revisited**"
   ]
  },
  {
   "cell_type": "markdown",
   "metadata": {
    "heading_collapsed": true,
    "hidden": true
   },
   "source": [
    "## *Prompt*"
   ]
  },
  {
   "cell_type": "markdown",
   "metadata": {
    "hidden": true
   },
   "source": [
    "**Microsoft's Making Moves into Movies**\n",
    "\n",
    ">* What types of movies are performing the best a the box offices?\n",
    ">* What actions should they take based on the data?"
   ]
  },
  {
   "cell_type": "markdown",
   "metadata": {
    "heading_collapsed": true,
    "hidden": true
   },
   "source": [
    "## *Questions*"
   ]
  },
  {
   "cell_type": "markdown",
   "metadata": {
    "hidden": true
   },
   "source": [
    "---\n",
    "**What questions will guide my process?**\n",
    "\n",
    ">* **Q1:What genres show the best performance?**\n",
    "    * What is the best way to evaluate the *profitability* of the movies?\n",
    "        * Gross\n",
    "        * Profit\n",
    "        * ROI\n",
    "    * What is the best way to determine the best *quality* of each movie?\n",
    ">\n",
    ">\n",
    ">* **Q2:How do we determine the \"best\" features?**\n",
    "    * Which features would have the greatest impact on each of the performance metrics?\n",
    "    * How to optimize for all three metrics?\n",
    ">\n",
    ">\n",
    ">* **Q3:What release times are best for gross value?**\n",
    "    * Seasons vs. Quarters?\n",
    "        * *Would it make more sense either way? Could there be a benefit for inferences/predictions via LinReg modeling?*\n",
    ">\n",
    ">\n",
    ">* **Q4:Which directors show the strongest/weakest performance?**\n",
    "    * Get director names, ID\n",
    "    * Add names to dataframe including the movie ID and gross performance/highest reviews\n",
    ">\n",
    ">\n",
    ">* **Q5:What features would give the strongest indications of performance?**\n",
    ">\n",
    ">\n",
    ">* **Q6:How can we determine whether or not a movie is \"successful\" or not?**\n",
    "\n",
    "---\n",
    "\n",
    "**Goals:**\n",
    ">\n",
    ">* **Determine KPIs**\n",
    "    * How to measure a movie's success?\n",
    ">\n",
    ">\n",
    ">* **Use linear regression modeling to determine the top 5 features for each target.**\n",
    "    * To what degree do the features overlap?\n",
    "    * What would be the top 3-5 features on which to focus to create the \"best\" movie (balancing all of the metrics)?\n",
    "\n",
    "---"
   ]
  },
  {
   "cell_type": "markdown",
   "metadata": {
    "heading_collapsed": true,
    "hidden": true
   },
   "source": [
    "## 🎇 **WIP Current Status** 🎇"
   ]
  },
  {
   "cell_type": "markdown",
   "metadata": {
    "hidden": true
   },
   "source": [
    ">*Update this section after each coding session - quick review/AAG overview of what is done and what is do-do*\n",
    ">\n",
    ">*Imagine its a scrum/kanban board in the notebook*"
   ]
  },
  {
   "cell_type": "markdown",
   "metadata": {
    "heading_collapsed": true,
    "hidden": true
   },
   "source": [
    "### **Done**\n",
    "\n",
    ">* **Data Cleaning:** pulled, df'ed, coverted datatypes, filled \"N/A\" values\n",
    ">\n",
    ">\n",
    ">* **FE:** \n",
    ">   * Months, Seasons, Quarters\n",
    ">   * Genres to list, then to individual rows\n",
    ">   * Profit and ROI metrics\n",
    ">\n",
    ">\n",
    ">* **Visualizations:**\n",
    ">   * Seasonal performance - gross, profit, ROI"
   ]
  },
  {
   "cell_type": "markdown",
   "metadata": {
    "heading_collapsed": true,
    "hidden": true
   },
   "source": [
    "### ✨**To-Do**✨\n",
    "\n",
    ">* MultiCollinearity and Correlations\n",
    ">   * ✨ Which features to compare against each other?\n",
    ">   * ✨ How to create the matrix with these features?\n",
    ">\n",
    ">\n",
    ">* Statistical Testing\n",
    ">\n",
    ">\n",
    ">* LinReg\n",
    ">   * ✨ OHE for inferential or not?\n",
    ">   * ✨\n",
    ">\n",
    ">\n",
    "---"
   ]
  },
  {
   "cell_type": "markdown",
   "metadata": {
    "heading_collapsed": true,
    "hidden": true
   },
   "source": [
    "## *Process*"
   ]
  },
  {
   "cell_type": "markdown",
   "metadata": {
    "hidden": true
   },
   "source": [
    ">1. Import .csv's\n",
    ">2. Clean data\n",
    ">3. EDA w. visuals\n",
    ">4. **Determine initial insights and actions**\n",
    ">5. Create new features\n",
    ">6. Test for correlations/multicollinearity\n",
    ">7. Perform statistical testing\n",
    ">8. Create LinReg model for **inference**\n",
    ">9. Create LinReg model for **predictions**\n",
    ">10. **Present final results for inferences, predictions**\n",
    "    1. Include initial, final insights and recommendations"
   ]
  },
  {
   "cell_type": "markdown",
   "metadata": {},
   "source": [
    "# **Imports**"
   ]
  },
  {
   "cell_type": "markdown",
   "metadata": {
    "heading_collapsed": true
   },
   "source": [
    "## Packages"
   ]
  },
  {
   "cell_type": "code",
   "execution_count": 1,
   "metadata": {
    "ExecuteTime": {
     "end_time": "2021-06-24T19:17:21.431254Z",
     "start_time": "2021-06-24T19:17:17.557102Z"
    },
    "hidden": true
   },
   "outputs": [],
   "source": [
    "## Accessing stored data\n",
    "import csv\n",
    "import os,glob\n",
    "\n",
    "## Data exploration and statistics\n",
    "import pandas as pd\n",
    "import numpy as np\n",
    "\n",
    "## Creating Visualizations\n",
    "import seaborn as sns\n",
    "import matplotlib.pyplot as plt\n",
    "\n",
    "# Modeling - Statsmodels\n",
    "import statsmodels.formula.api as smf\n",
    "import statsmodels.api as sms\n",
    "\n",
    "# Modeling - SKLearn\n",
    "from sklearn import metrics, preprocessing\n",
    "from sklearn.linear_model import LinearRegression\n",
    "from sklearn.metrics import mean_squared_error\n",
    "from sklearn.preprocessing import PolynomialFeatures, StandardScaler, OneHotEncoder\n",
    "from sklearn.model_selection import train_test_split\n",
    "from sklearn.model_selection import cross_validate\n",
    "from sklearn.feature_selection import RFECV\n",
    "\n",
    "## Settings\n",
    "%matplotlib inline\n",
    "pd.set_option('display.float_format', lambda x: '%.2f' % x)\n",
    "sns.set_context('notebook', font_scale=1.25)"
   ]
  },
  {
   "cell_type": "markdown",
   "metadata": {},
   "source": [
    "## Data"
   ]
  },
  {
   "cell_type": "code",
   "execution_count": 2,
   "metadata": {
    "ExecuteTime": {
     "end_time": "2021-06-24T19:17:21.446254Z",
     "start_time": "2021-06-24T19:17:21.433255Z"
    },
    "code_folding": []
   },
   "outputs": [
    {
     "data": {
      "text/plain": [
       "['zippedData\\\\bom.movie_gross.csv.gz',\n",
       " 'zippedData\\\\imdb.name.basics.csv.gz',\n",
       " 'zippedData\\\\imdb.title.akas.csv.gz',\n",
       " 'zippedData\\\\imdb.title.basics.csv.gz',\n",
       " 'zippedData\\\\imdb.title.crew.csv.gz',\n",
       " 'zippedData\\\\imdb.title.principals.csv.gz',\n",
       " 'zippedData\\\\imdb.title.ratings.csv.gz',\n",
       " 'zippedData\\\\tmdb.movies.csv.gz',\n",
       " 'zippedData\\\\tn.movie_budgets.csv.gz']"
      ]
     },
     "execution_count": 2,
     "metadata": {},
     "output_type": "execute_result"
    }
   ],
   "source": [
    "## Creating list of files to loop through for data\n",
    "data_folder = 'zippedData/'\n",
    "data_files = glob.glob(f'{data_folder}*.csv*')\n",
    "data_files"
   ]
  },
  {
   "cell_type": "code",
   "execution_count": 3,
   "metadata": {
    "ExecuteTime": {
     "end_time": "2021-06-24T19:17:25.497292Z",
     "start_time": "2021-06-24T19:17:21.449258Z"
    },
    "code_folding": [],
    "scrolled": false
   },
   "outputs": [
    {
     "name": "stdout",
     "output_type": "stream",
     "text": [
      "-----------------------------------------------------------------------------------------------------------------------------\n",
      "Preview of bom_movie_gross:\n"
     ]
    },
    {
     "data": {
      "text/html": [
       "<div>\n",
       "<style scoped>\n",
       "    .dataframe tbody tr th:only-of-type {\n",
       "        vertical-align: middle;\n",
       "    }\n",
       "\n",
       "    .dataframe tbody tr th {\n",
       "        vertical-align: top;\n",
       "    }\n",
       "\n",
       "    .dataframe thead th {\n",
       "        text-align: right;\n",
       "    }\n",
       "</style>\n",
       "<table border=\"1\" class=\"dataframe\">\n",
       "  <thead>\n",
       "    <tr style=\"text-align: right;\">\n",
       "      <th></th>\n",
       "      <th>title</th>\n",
       "      <th>studio</th>\n",
       "      <th>domestic_gross</th>\n",
       "      <th>foreign_gross</th>\n",
       "      <th>year</th>\n",
       "    </tr>\n",
       "  </thead>\n",
       "  <tbody>\n",
       "    <tr>\n",
       "      <th>0</th>\n",
       "      <td>Toy Story 3</td>\n",
       "      <td>BV</td>\n",
       "      <td>415000000.00</td>\n",
       "      <td>652000000</td>\n",
       "      <td>2010</td>\n",
       "    </tr>\n",
       "    <tr>\n",
       "      <th>1</th>\n",
       "      <td>Alice in Wonderland (2010)</td>\n",
       "      <td>BV</td>\n",
       "      <td>334200000.00</td>\n",
       "      <td>691300000</td>\n",
       "      <td>2010</td>\n",
       "    </tr>\n",
       "    <tr>\n",
       "      <th>2</th>\n",
       "      <td>Harry Potter and the Deathly Hallows Part 1</td>\n",
       "      <td>WB</td>\n",
       "      <td>296000000.00</td>\n",
       "      <td>664300000</td>\n",
       "      <td>2010</td>\n",
       "    </tr>\n",
       "    <tr>\n",
       "      <th>3</th>\n",
       "      <td>Inception</td>\n",
       "      <td>WB</td>\n",
       "      <td>292600000.00</td>\n",
       "      <td>535700000</td>\n",
       "      <td>2010</td>\n",
       "    </tr>\n",
       "    <tr>\n",
       "      <th>4</th>\n",
       "      <td>Shrek Forever After</td>\n",
       "      <td>P/DW</td>\n",
       "      <td>238700000.00</td>\n",
       "      <td>513900000</td>\n",
       "      <td>2010</td>\n",
       "    </tr>\n",
       "  </tbody>\n",
       "</table>\n",
       "</div>"
      ],
      "text/plain": [
       "                                         title studio  domestic_gross  \\\n",
       "0                                  Toy Story 3     BV    415000000.00   \n",
       "1                   Alice in Wonderland (2010)     BV    334200000.00   \n",
       "2  Harry Potter and the Deathly Hallows Part 1     WB    296000000.00   \n",
       "3                                    Inception     WB    292600000.00   \n",
       "4                          Shrek Forever After   P/DW    238700000.00   \n",
       "\n",
       "  foreign_gross  year  \n",
       "0     652000000  2010  \n",
       "1     691300000  2010  \n",
       "2     664300000  2010  \n",
       "3     535700000  2010  \n",
       "4     513900000  2010  "
      ]
     },
     "metadata": {},
     "output_type": "display_data"
    },
    {
     "name": "stdout",
     "output_type": "stream",
     "text": [
      "\n",
      "-----------------------------------------------------------------------------------------------------------------------------\n",
      "Preview of imdb_name_basics:\n"
     ]
    },
    {
     "data": {
      "text/html": [
       "<div>\n",
       "<style scoped>\n",
       "    .dataframe tbody tr th:only-of-type {\n",
       "        vertical-align: middle;\n",
       "    }\n",
       "\n",
       "    .dataframe tbody tr th {\n",
       "        vertical-align: top;\n",
       "    }\n",
       "\n",
       "    .dataframe thead th {\n",
       "        text-align: right;\n",
       "    }\n",
       "</style>\n",
       "<table border=\"1\" class=\"dataframe\">\n",
       "  <thead>\n",
       "    <tr style=\"text-align: right;\">\n",
       "      <th></th>\n",
       "      <th>nconst</th>\n",
       "      <th>primary_name</th>\n",
       "      <th>birth_year</th>\n",
       "      <th>death_year</th>\n",
       "      <th>primary_profession</th>\n",
       "      <th>known_for_titles</th>\n",
       "    </tr>\n",
       "  </thead>\n",
       "  <tbody>\n",
       "    <tr>\n",
       "      <th>0</th>\n",
       "      <td>nm0061671</td>\n",
       "      <td>Mary Ellen Bauder</td>\n",
       "      <td>nan</td>\n",
       "      <td>nan</td>\n",
       "      <td>miscellaneous,production_manager,producer</td>\n",
       "      <td>tt0837562,tt2398241,tt0844471,tt0118553</td>\n",
       "    </tr>\n",
       "    <tr>\n",
       "      <th>1</th>\n",
       "      <td>nm0061865</td>\n",
       "      <td>Joseph Bauer</td>\n",
       "      <td>nan</td>\n",
       "      <td>nan</td>\n",
       "      <td>composer,music_department,sound_department</td>\n",
       "      <td>tt0896534,tt6791238,tt0287072,tt1682940</td>\n",
       "    </tr>\n",
       "    <tr>\n",
       "      <th>2</th>\n",
       "      <td>nm0062070</td>\n",
       "      <td>Bruce Baum</td>\n",
       "      <td>nan</td>\n",
       "      <td>nan</td>\n",
       "      <td>miscellaneous,actor,writer</td>\n",
       "      <td>tt1470654,tt0363631,tt0104030,tt0102898</td>\n",
       "    </tr>\n",
       "    <tr>\n",
       "      <th>3</th>\n",
       "      <td>nm0062195</td>\n",
       "      <td>Axel Baumann</td>\n",
       "      <td>nan</td>\n",
       "      <td>nan</td>\n",
       "      <td>camera_department,cinematographer,art_department</td>\n",
       "      <td>tt0114371,tt2004304,tt1618448,tt1224387</td>\n",
       "    </tr>\n",
       "    <tr>\n",
       "      <th>4</th>\n",
       "      <td>nm0062798</td>\n",
       "      <td>Pete Baxter</td>\n",
       "      <td>nan</td>\n",
       "      <td>nan</td>\n",
       "      <td>production_designer,art_department,set_decorator</td>\n",
       "      <td>tt0452644,tt0452692,tt3458030,tt2178256</td>\n",
       "    </tr>\n",
       "  </tbody>\n",
       "</table>\n",
       "</div>"
      ],
      "text/plain": [
       "      nconst       primary_name  birth_year  death_year  \\\n",
       "0  nm0061671  Mary Ellen Bauder         nan         nan   \n",
       "1  nm0061865       Joseph Bauer         nan         nan   \n",
       "2  nm0062070         Bruce Baum         nan         nan   \n",
       "3  nm0062195       Axel Baumann         nan         nan   \n",
       "4  nm0062798        Pete Baxter         nan         nan   \n",
       "\n",
       "                                 primary_profession  \\\n",
       "0         miscellaneous,production_manager,producer   \n",
       "1        composer,music_department,sound_department   \n",
       "2                        miscellaneous,actor,writer   \n",
       "3  camera_department,cinematographer,art_department   \n",
       "4  production_designer,art_department,set_decorator   \n",
       "\n",
       "                          known_for_titles  \n",
       "0  tt0837562,tt2398241,tt0844471,tt0118553  \n",
       "1  tt0896534,tt6791238,tt0287072,tt1682940  \n",
       "2  tt1470654,tt0363631,tt0104030,tt0102898  \n",
       "3  tt0114371,tt2004304,tt1618448,tt1224387  \n",
       "4  tt0452644,tt0452692,tt3458030,tt2178256  "
      ]
     },
     "metadata": {},
     "output_type": "display_data"
    },
    {
     "name": "stdout",
     "output_type": "stream",
     "text": [
      "\n",
      "-----------------------------------------------------------------------------------------------------------------------------\n",
      "Preview of imdb_title_akas:\n"
     ]
    },
    {
     "data": {
      "text/html": [
       "<div>\n",
       "<style scoped>\n",
       "    .dataframe tbody tr th:only-of-type {\n",
       "        vertical-align: middle;\n",
       "    }\n",
       "\n",
       "    .dataframe tbody tr th {\n",
       "        vertical-align: top;\n",
       "    }\n",
       "\n",
       "    .dataframe thead th {\n",
       "        text-align: right;\n",
       "    }\n",
       "</style>\n",
       "<table border=\"1\" class=\"dataframe\">\n",
       "  <thead>\n",
       "    <tr style=\"text-align: right;\">\n",
       "      <th></th>\n",
       "      <th>title_id</th>\n",
       "      <th>ordering</th>\n",
       "      <th>title</th>\n",
       "      <th>region</th>\n",
       "      <th>language</th>\n",
       "      <th>types</th>\n",
       "      <th>attributes</th>\n",
       "      <th>is_original_title</th>\n",
       "    </tr>\n",
       "  </thead>\n",
       "  <tbody>\n",
       "    <tr>\n",
       "      <th>0</th>\n",
       "      <td>tt0369610</td>\n",
       "      <td>10</td>\n",
       "      <td>Джурасик свят</td>\n",
       "      <td>BG</td>\n",
       "      <td>bg</td>\n",
       "      <td>NaN</td>\n",
       "      <td>NaN</td>\n",
       "      <td>0.00</td>\n",
       "    </tr>\n",
       "    <tr>\n",
       "      <th>1</th>\n",
       "      <td>tt0369610</td>\n",
       "      <td>11</td>\n",
       "      <td>Jurashikku warudo</td>\n",
       "      <td>JP</td>\n",
       "      <td>NaN</td>\n",
       "      <td>imdbDisplay</td>\n",
       "      <td>NaN</td>\n",
       "      <td>0.00</td>\n",
       "    </tr>\n",
       "    <tr>\n",
       "      <th>2</th>\n",
       "      <td>tt0369610</td>\n",
       "      <td>12</td>\n",
       "      <td>Jurassic World: O Mundo dos Dinossauros</td>\n",
       "      <td>BR</td>\n",
       "      <td>NaN</td>\n",
       "      <td>imdbDisplay</td>\n",
       "      <td>NaN</td>\n",
       "      <td>0.00</td>\n",
       "    </tr>\n",
       "    <tr>\n",
       "      <th>3</th>\n",
       "      <td>tt0369610</td>\n",
       "      <td>13</td>\n",
       "      <td>O Mundo dos Dinossauros</td>\n",
       "      <td>BR</td>\n",
       "      <td>NaN</td>\n",
       "      <td>NaN</td>\n",
       "      <td>short title</td>\n",
       "      <td>0.00</td>\n",
       "    </tr>\n",
       "    <tr>\n",
       "      <th>4</th>\n",
       "      <td>tt0369610</td>\n",
       "      <td>14</td>\n",
       "      <td>Jurassic World</td>\n",
       "      <td>FR</td>\n",
       "      <td>NaN</td>\n",
       "      <td>imdbDisplay</td>\n",
       "      <td>NaN</td>\n",
       "      <td>0.00</td>\n",
       "    </tr>\n",
       "  </tbody>\n",
       "</table>\n",
       "</div>"
      ],
      "text/plain": [
       "    title_id  ordering                                    title region  \\\n",
       "0  tt0369610        10                            Джурасик свят     BG   \n",
       "1  tt0369610        11                        Jurashikku warudo     JP   \n",
       "2  tt0369610        12  Jurassic World: O Mundo dos Dinossauros     BR   \n",
       "3  tt0369610        13                  O Mundo dos Dinossauros     BR   \n",
       "4  tt0369610        14                           Jurassic World     FR   \n",
       "\n",
       "  language        types   attributes  is_original_title  \n",
       "0       bg          NaN          NaN               0.00  \n",
       "1      NaN  imdbDisplay          NaN               0.00  \n",
       "2      NaN  imdbDisplay          NaN               0.00  \n",
       "3      NaN          NaN  short title               0.00  \n",
       "4      NaN  imdbDisplay          NaN               0.00  "
      ]
     },
     "metadata": {},
     "output_type": "display_data"
    },
    {
     "name": "stdout",
     "output_type": "stream",
     "text": [
      "\n",
      "-----------------------------------------------------------------------------------------------------------------------------\n",
      "Preview of imdb_title_basics:\n"
     ]
    },
    {
     "data": {
      "text/html": [
       "<div>\n",
       "<style scoped>\n",
       "    .dataframe tbody tr th:only-of-type {\n",
       "        vertical-align: middle;\n",
       "    }\n",
       "\n",
       "    .dataframe tbody tr th {\n",
       "        vertical-align: top;\n",
       "    }\n",
       "\n",
       "    .dataframe thead th {\n",
       "        text-align: right;\n",
       "    }\n",
       "</style>\n",
       "<table border=\"1\" class=\"dataframe\">\n",
       "  <thead>\n",
       "    <tr style=\"text-align: right;\">\n",
       "      <th></th>\n",
       "      <th>tconst</th>\n",
       "      <th>primary_title</th>\n",
       "      <th>original_title</th>\n",
       "      <th>start_year</th>\n",
       "      <th>runtime_minutes</th>\n",
       "      <th>genres</th>\n",
       "    </tr>\n",
       "  </thead>\n",
       "  <tbody>\n",
       "    <tr>\n",
       "      <th>0</th>\n",
       "      <td>tt0063540</td>\n",
       "      <td>Sunghursh</td>\n",
       "      <td>Sunghursh</td>\n",
       "      <td>2013</td>\n",
       "      <td>175.00</td>\n",
       "      <td>Action,Crime,Drama</td>\n",
       "    </tr>\n",
       "    <tr>\n",
       "      <th>1</th>\n",
       "      <td>tt0066787</td>\n",
       "      <td>One Day Before the Rainy Season</td>\n",
       "      <td>Ashad Ka Ek Din</td>\n",
       "      <td>2019</td>\n",
       "      <td>114.00</td>\n",
       "      <td>Biography,Drama</td>\n",
       "    </tr>\n",
       "    <tr>\n",
       "      <th>2</th>\n",
       "      <td>tt0069049</td>\n",
       "      <td>The Other Side of the Wind</td>\n",
       "      <td>The Other Side of the Wind</td>\n",
       "      <td>2018</td>\n",
       "      <td>122.00</td>\n",
       "      <td>Drama</td>\n",
       "    </tr>\n",
       "    <tr>\n",
       "      <th>3</th>\n",
       "      <td>tt0069204</td>\n",
       "      <td>Sabse Bada Sukh</td>\n",
       "      <td>Sabse Bada Sukh</td>\n",
       "      <td>2018</td>\n",
       "      <td>nan</td>\n",
       "      <td>Comedy,Drama</td>\n",
       "    </tr>\n",
       "    <tr>\n",
       "      <th>4</th>\n",
       "      <td>tt0100275</td>\n",
       "      <td>The Wandering Soap Opera</td>\n",
       "      <td>La Telenovela Errante</td>\n",
       "      <td>2017</td>\n",
       "      <td>80.00</td>\n",
       "      <td>Comedy,Drama,Fantasy</td>\n",
       "    </tr>\n",
       "  </tbody>\n",
       "</table>\n",
       "</div>"
      ],
      "text/plain": [
       "      tconst                    primary_title              original_title  \\\n",
       "0  tt0063540                        Sunghursh                   Sunghursh   \n",
       "1  tt0066787  One Day Before the Rainy Season             Ashad Ka Ek Din   \n",
       "2  tt0069049       The Other Side of the Wind  The Other Side of the Wind   \n",
       "3  tt0069204                  Sabse Bada Sukh             Sabse Bada Sukh   \n",
       "4  tt0100275         The Wandering Soap Opera       La Telenovela Errante   \n",
       "\n",
       "   start_year  runtime_minutes                genres  \n",
       "0        2013           175.00    Action,Crime,Drama  \n",
       "1        2019           114.00       Biography,Drama  \n",
       "2        2018           122.00                 Drama  \n",
       "3        2018              nan          Comedy,Drama  \n",
       "4        2017            80.00  Comedy,Drama,Fantasy  "
      ]
     },
     "metadata": {},
     "output_type": "display_data"
    },
    {
     "name": "stdout",
     "output_type": "stream",
     "text": [
      "\n",
      "-----------------------------------------------------------------------------------------------------------------------------\n",
      "Preview of imdb_title_crew:\n"
     ]
    },
    {
     "data": {
      "text/html": [
       "<div>\n",
       "<style scoped>\n",
       "    .dataframe tbody tr th:only-of-type {\n",
       "        vertical-align: middle;\n",
       "    }\n",
       "\n",
       "    .dataframe tbody tr th {\n",
       "        vertical-align: top;\n",
       "    }\n",
       "\n",
       "    .dataframe thead th {\n",
       "        text-align: right;\n",
       "    }\n",
       "</style>\n",
       "<table border=\"1\" class=\"dataframe\">\n",
       "  <thead>\n",
       "    <tr style=\"text-align: right;\">\n",
       "      <th></th>\n",
       "      <th>tconst</th>\n",
       "      <th>directors</th>\n",
       "      <th>writers</th>\n",
       "    </tr>\n",
       "  </thead>\n",
       "  <tbody>\n",
       "    <tr>\n",
       "      <th>0</th>\n",
       "      <td>tt0285252</td>\n",
       "      <td>nm0899854</td>\n",
       "      <td>nm0899854</td>\n",
       "    </tr>\n",
       "    <tr>\n",
       "      <th>1</th>\n",
       "      <td>tt0438973</td>\n",
       "      <td>NaN</td>\n",
       "      <td>nm0175726,nm1802864</td>\n",
       "    </tr>\n",
       "    <tr>\n",
       "      <th>2</th>\n",
       "      <td>tt0462036</td>\n",
       "      <td>nm1940585</td>\n",
       "      <td>nm1940585</td>\n",
       "    </tr>\n",
       "    <tr>\n",
       "      <th>3</th>\n",
       "      <td>tt0835418</td>\n",
       "      <td>nm0151540</td>\n",
       "      <td>nm0310087,nm0841532</td>\n",
       "    </tr>\n",
       "    <tr>\n",
       "      <th>4</th>\n",
       "      <td>tt0878654</td>\n",
       "      <td>nm0089502,nm2291498,nm2292011</td>\n",
       "      <td>nm0284943</td>\n",
       "    </tr>\n",
       "  </tbody>\n",
       "</table>\n",
       "</div>"
      ],
      "text/plain": [
       "      tconst                      directors              writers\n",
       "0  tt0285252                      nm0899854            nm0899854\n",
       "1  tt0438973                            NaN  nm0175726,nm1802864\n",
       "2  tt0462036                      nm1940585            nm1940585\n",
       "3  tt0835418                      nm0151540  nm0310087,nm0841532\n",
       "4  tt0878654  nm0089502,nm2291498,nm2292011            nm0284943"
      ]
     },
     "metadata": {},
     "output_type": "display_data"
    },
    {
     "name": "stdout",
     "output_type": "stream",
     "text": [
      "\n",
      "-----------------------------------------------------------------------------------------------------------------------------\n",
      "Preview of imdb_title_principals:\n"
     ]
    },
    {
     "data": {
      "text/html": [
       "<div>\n",
       "<style scoped>\n",
       "    .dataframe tbody tr th:only-of-type {\n",
       "        vertical-align: middle;\n",
       "    }\n",
       "\n",
       "    .dataframe tbody tr th {\n",
       "        vertical-align: top;\n",
       "    }\n",
       "\n",
       "    .dataframe thead th {\n",
       "        text-align: right;\n",
       "    }\n",
       "</style>\n",
       "<table border=\"1\" class=\"dataframe\">\n",
       "  <thead>\n",
       "    <tr style=\"text-align: right;\">\n",
       "      <th></th>\n",
       "      <th>tconst</th>\n",
       "      <th>ordering</th>\n",
       "      <th>nconst</th>\n",
       "      <th>category</th>\n",
       "      <th>job</th>\n",
       "      <th>characters</th>\n",
       "    </tr>\n",
       "  </thead>\n",
       "  <tbody>\n",
       "    <tr>\n",
       "      <th>0</th>\n",
       "      <td>tt0111414</td>\n",
       "      <td>1</td>\n",
       "      <td>nm0246005</td>\n",
       "      <td>actor</td>\n",
       "      <td>NaN</td>\n",
       "      <td>[\"The Man\"]</td>\n",
       "    </tr>\n",
       "    <tr>\n",
       "      <th>1</th>\n",
       "      <td>tt0111414</td>\n",
       "      <td>2</td>\n",
       "      <td>nm0398271</td>\n",
       "      <td>director</td>\n",
       "      <td>NaN</td>\n",
       "      <td>NaN</td>\n",
       "    </tr>\n",
       "    <tr>\n",
       "      <th>2</th>\n",
       "      <td>tt0111414</td>\n",
       "      <td>3</td>\n",
       "      <td>nm3739909</td>\n",
       "      <td>producer</td>\n",
       "      <td>producer</td>\n",
       "      <td>NaN</td>\n",
       "    </tr>\n",
       "    <tr>\n",
       "      <th>3</th>\n",
       "      <td>tt0323808</td>\n",
       "      <td>10</td>\n",
       "      <td>nm0059247</td>\n",
       "      <td>editor</td>\n",
       "      <td>NaN</td>\n",
       "      <td>NaN</td>\n",
       "    </tr>\n",
       "    <tr>\n",
       "      <th>4</th>\n",
       "      <td>tt0323808</td>\n",
       "      <td>1</td>\n",
       "      <td>nm3579312</td>\n",
       "      <td>actress</td>\n",
       "      <td>NaN</td>\n",
       "      <td>[\"Beth Boothby\"]</td>\n",
       "    </tr>\n",
       "  </tbody>\n",
       "</table>\n",
       "</div>"
      ],
      "text/plain": [
       "      tconst  ordering     nconst  category       job        characters\n",
       "0  tt0111414         1  nm0246005     actor       NaN       [\"The Man\"]\n",
       "1  tt0111414         2  nm0398271  director       NaN               NaN\n",
       "2  tt0111414         3  nm3739909  producer  producer               NaN\n",
       "3  tt0323808        10  nm0059247    editor       NaN               NaN\n",
       "4  tt0323808         1  nm3579312   actress       NaN  [\"Beth Boothby\"]"
      ]
     },
     "metadata": {},
     "output_type": "display_data"
    },
    {
     "name": "stdout",
     "output_type": "stream",
     "text": [
      "\n",
      "-----------------------------------------------------------------------------------------------------------------------------\n",
      "Preview of imdb_title_ratings:\n"
     ]
    },
    {
     "data": {
      "text/html": [
       "<div>\n",
       "<style scoped>\n",
       "    .dataframe tbody tr th:only-of-type {\n",
       "        vertical-align: middle;\n",
       "    }\n",
       "\n",
       "    .dataframe tbody tr th {\n",
       "        vertical-align: top;\n",
       "    }\n",
       "\n",
       "    .dataframe thead th {\n",
       "        text-align: right;\n",
       "    }\n",
       "</style>\n",
       "<table border=\"1\" class=\"dataframe\">\n",
       "  <thead>\n",
       "    <tr style=\"text-align: right;\">\n",
       "      <th></th>\n",
       "      <th>tconst</th>\n",
       "      <th>averagerating</th>\n",
       "      <th>numvotes</th>\n",
       "    </tr>\n",
       "  </thead>\n",
       "  <tbody>\n",
       "    <tr>\n",
       "      <th>0</th>\n",
       "      <td>tt10356526</td>\n",
       "      <td>8.30</td>\n",
       "      <td>31</td>\n",
       "    </tr>\n",
       "    <tr>\n",
       "      <th>1</th>\n",
       "      <td>tt10384606</td>\n",
       "      <td>8.90</td>\n",
       "      <td>559</td>\n",
       "    </tr>\n",
       "    <tr>\n",
       "      <th>2</th>\n",
       "      <td>tt1042974</td>\n",
       "      <td>6.40</td>\n",
       "      <td>20</td>\n",
       "    </tr>\n",
       "    <tr>\n",
       "      <th>3</th>\n",
       "      <td>tt1043726</td>\n",
       "      <td>4.20</td>\n",
       "      <td>50352</td>\n",
       "    </tr>\n",
       "    <tr>\n",
       "      <th>4</th>\n",
       "      <td>tt1060240</td>\n",
       "      <td>6.50</td>\n",
       "      <td>21</td>\n",
       "    </tr>\n",
       "  </tbody>\n",
       "</table>\n",
       "</div>"
      ],
      "text/plain": [
       "       tconst  averagerating  numvotes\n",
       "0  tt10356526           8.30        31\n",
       "1  tt10384606           8.90       559\n",
       "2   tt1042974           6.40        20\n",
       "3   tt1043726           4.20     50352\n",
       "4   tt1060240           6.50        21"
      ]
     },
     "metadata": {},
     "output_type": "display_data"
    },
    {
     "name": "stdout",
     "output_type": "stream",
     "text": [
      "\n",
      "-----------------------------------------------------------------------------------------------------------------------------\n",
      "Preview of tmdb_movies:\n"
     ]
    },
    {
     "data": {
      "text/html": [
       "<div>\n",
       "<style scoped>\n",
       "    .dataframe tbody tr th:only-of-type {\n",
       "        vertical-align: middle;\n",
       "    }\n",
       "\n",
       "    .dataframe tbody tr th {\n",
       "        vertical-align: top;\n",
       "    }\n",
       "\n",
       "    .dataframe thead th {\n",
       "        text-align: right;\n",
       "    }\n",
       "</style>\n",
       "<table border=\"1\" class=\"dataframe\">\n",
       "  <thead>\n",
       "    <tr style=\"text-align: right;\">\n",
       "      <th></th>\n",
       "      <th>Unnamed: 0</th>\n",
       "      <th>genre_ids</th>\n",
       "      <th>id</th>\n",
       "      <th>original_language</th>\n",
       "      <th>original_title</th>\n",
       "      <th>popularity</th>\n",
       "      <th>release_date</th>\n",
       "      <th>title</th>\n",
       "      <th>vote_average</th>\n",
       "      <th>vote_count</th>\n",
       "    </tr>\n",
       "  </thead>\n",
       "  <tbody>\n",
       "    <tr>\n",
       "      <th>0</th>\n",
       "      <td>0</td>\n",
       "      <td>[12, 14, 10751]</td>\n",
       "      <td>12444</td>\n",
       "      <td>en</td>\n",
       "      <td>Harry Potter and the Deathly Hallows: Part 1</td>\n",
       "      <td>33.53</td>\n",
       "      <td>2010-11-19</td>\n",
       "      <td>Harry Potter and the Deathly Hallows: Part 1</td>\n",
       "      <td>7.70</td>\n",
       "      <td>10788</td>\n",
       "    </tr>\n",
       "    <tr>\n",
       "      <th>1</th>\n",
       "      <td>1</td>\n",
       "      <td>[14, 12, 16, 10751]</td>\n",
       "      <td>10191</td>\n",
       "      <td>en</td>\n",
       "      <td>How to Train Your Dragon</td>\n",
       "      <td>28.73</td>\n",
       "      <td>2010-03-26</td>\n",
       "      <td>How to Train Your Dragon</td>\n",
       "      <td>7.70</td>\n",
       "      <td>7610</td>\n",
       "    </tr>\n",
       "    <tr>\n",
       "      <th>2</th>\n",
       "      <td>2</td>\n",
       "      <td>[12, 28, 878]</td>\n",
       "      <td>10138</td>\n",
       "      <td>en</td>\n",
       "      <td>Iron Man 2</td>\n",
       "      <td>28.52</td>\n",
       "      <td>2010-05-07</td>\n",
       "      <td>Iron Man 2</td>\n",
       "      <td>6.80</td>\n",
       "      <td>12368</td>\n",
       "    </tr>\n",
       "    <tr>\n",
       "      <th>3</th>\n",
       "      <td>3</td>\n",
       "      <td>[16, 35, 10751]</td>\n",
       "      <td>862</td>\n",
       "      <td>en</td>\n",
       "      <td>Toy Story</td>\n",
       "      <td>28.00</td>\n",
       "      <td>1995-11-22</td>\n",
       "      <td>Toy Story</td>\n",
       "      <td>7.90</td>\n",
       "      <td>10174</td>\n",
       "    </tr>\n",
       "    <tr>\n",
       "      <th>4</th>\n",
       "      <td>4</td>\n",
       "      <td>[28, 878, 12]</td>\n",
       "      <td>27205</td>\n",
       "      <td>en</td>\n",
       "      <td>Inception</td>\n",
       "      <td>27.92</td>\n",
       "      <td>2010-07-16</td>\n",
       "      <td>Inception</td>\n",
       "      <td>8.30</td>\n",
       "      <td>22186</td>\n",
       "    </tr>\n",
       "  </tbody>\n",
       "</table>\n",
       "</div>"
      ],
      "text/plain": [
       "   Unnamed: 0            genre_ids     id original_language  \\\n",
       "0           0      [12, 14, 10751]  12444                en   \n",
       "1           1  [14, 12, 16, 10751]  10191                en   \n",
       "2           2        [12, 28, 878]  10138                en   \n",
       "3           3      [16, 35, 10751]    862                en   \n",
       "4           4        [28, 878, 12]  27205                en   \n",
       "\n",
       "                                 original_title  popularity release_date  \\\n",
       "0  Harry Potter and the Deathly Hallows: Part 1       33.53   2010-11-19   \n",
       "1                      How to Train Your Dragon       28.73   2010-03-26   \n",
       "2                                    Iron Man 2       28.52   2010-05-07   \n",
       "3                                     Toy Story       28.00   1995-11-22   \n",
       "4                                     Inception       27.92   2010-07-16   \n",
       "\n",
       "                                          title  vote_average  vote_count  \n",
       "0  Harry Potter and the Deathly Hallows: Part 1          7.70       10788  \n",
       "1                      How to Train Your Dragon          7.70        7610  \n",
       "2                                    Iron Man 2          6.80       12368  \n",
       "3                                     Toy Story          7.90       10174  \n",
       "4                                     Inception          8.30       22186  "
      ]
     },
     "metadata": {},
     "output_type": "display_data"
    },
    {
     "name": "stdout",
     "output_type": "stream",
     "text": [
      "\n",
      "-----------------------------------------------------------------------------------------------------------------------------\n",
      "Preview of tn_movie_budgets:\n"
     ]
    },
    {
     "data": {
      "text/html": [
       "<div>\n",
       "<style scoped>\n",
       "    .dataframe tbody tr th:only-of-type {\n",
       "        vertical-align: middle;\n",
       "    }\n",
       "\n",
       "    .dataframe tbody tr th {\n",
       "        vertical-align: top;\n",
       "    }\n",
       "\n",
       "    .dataframe thead th {\n",
       "        text-align: right;\n",
       "    }\n",
       "</style>\n",
       "<table border=\"1\" class=\"dataframe\">\n",
       "  <thead>\n",
       "    <tr style=\"text-align: right;\">\n",
       "      <th></th>\n",
       "      <th>id</th>\n",
       "      <th>release_date</th>\n",
       "      <th>movie</th>\n",
       "      <th>production_budget</th>\n",
       "      <th>domestic_gross</th>\n",
       "      <th>worldwide_gross</th>\n",
       "    </tr>\n",
       "  </thead>\n",
       "  <tbody>\n",
       "    <tr>\n",
       "      <th>0</th>\n",
       "      <td>1</td>\n",
       "      <td>Dec 18, 2009</td>\n",
       "      <td>Avatar</td>\n",
       "      <td>$425,000,000</td>\n",
       "      <td>$760,507,625</td>\n",
       "      <td>$2,776,345,279</td>\n",
       "    </tr>\n",
       "    <tr>\n",
       "      <th>1</th>\n",
       "      <td>2</td>\n",
       "      <td>May 20, 2011</td>\n",
       "      <td>Pirates of the Caribbean: On Stranger Tides</td>\n",
       "      <td>$410,600,000</td>\n",
       "      <td>$241,063,875</td>\n",
       "      <td>$1,045,663,875</td>\n",
       "    </tr>\n",
       "    <tr>\n",
       "      <th>2</th>\n",
       "      <td>3</td>\n",
       "      <td>Jun 7, 2019</td>\n",
       "      <td>Dark Phoenix</td>\n",
       "      <td>$350,000,000</td>\n",
       "      <td>$42,762,350</td>\n",
       "      <td>$149,762,350</td>\n",
       "    </tr>\n",
       "    <tr>\n",
       "      <th>3</th>\n",
       "      <td>4</td>\n",
       "      <td>May 1, 2015</td>\n",
       "      <td>Avengers: Age of Ultron</td>\n",
       "      <td>$330,600,000</td>\n",
       "      <td>$459,005,868</td>\n",
       "      <td>$1,403,013,963</td>\n",
       "    </tr>\n",
       "    <tr>\n",
       "      <th>4</th>\n",
       "      <td>5</td>\n",
       "      <td>Dec 15, 2017</td>\n",
       "      <td>Star Wars Ep. VIII: The Last Jedi</td>\n",
       "      <td>$317,000,000</td>\n",
       "      <td>$620,181,382</td>\n",
       "      <td>$1,316,721,747</td>\n",
       "    </tr>\n",
       "  </tbody>\n",
       "</table>\n",
       "</div>"
      ],
      "text/plain": [
       "   id  release_date                                        movie  \\\n",
       "0   1  Dec 18, 2009                                       Avatar   \n",
       "1   2  May 20, 2011  Pirates of the Caribbean: On Stranger Tides   \n",
       "2   3   Jun 7, 2019                                 Dark Phoenix   \n",
       "3   4   May 1, 2015                      Avengers: Age of Ultron   \n",
       "4   5  Dec 15, 2017            Star Wars Ep. VIII: The Last Jedi   \n",
       "\n",
       "  production_budget domestic_gross worldwide_gross  \n",
       "0      $425,000,000   $760,507,625  $2,776,345,279  \n",
       "1      $410,600,000   $241,063,875  $1,045,663,875  \n",
       "2      $350,000,000    $42,762,350    $149,762,350  \n",
       "3      $330,600,000   $459,005,868  $1,403,013,963  \n",
       "4      $317,000,000   $620,181,382  $1,316,721,747  "
      ]
     },
     "metadata": {},
     "output_type": "display_data"
    },
    {
     "name": "stdout",
     "output_type": "stream",
     "text": [
      "\n"
     ]
    }
   ],
   "source": [
    "## Looping through individual data files\n",
    "\n",
    "## Code adapted from James Irving\n",
    "## Source: youtube.com/watch?v=rufvTgBEYN8&list=PLFknVelSJiSxSwXifV_ysDg50fzbuTzVt&index=41\n",
    "\n",
    "clean_file_names = {}\n",
    "split = '-----'*25\n",
    "\n",
    "for file in data_files:\n",
    "    name = file.replace('.csv.gz','').split('\\\\')[-1].replace('.','_')\n",
    "    print(split)\n",
    "    \n",
    "    print(f\"Preview of {name}:\")\n",
    "    clean_file_names[name] = pd.read_csv(file)\n",
    "    display(clean_file_names[name].head(5))\n",
    "    print()"
   ]
  },
  {
   "cell_type": "markdown",
   "metadata": {},
   "source": [
    "# **Data Cleaning**"
   ]
  },
  {
   "cell_type": "markdown",
   "metadata": {},
   "source": [
    "## Slicing DataFrames from Files"
   ]
  },
  {
   "cell_type": "code",
   "execution_count": 4,
   "metadata": {
    "ExecuteTime": {
     "end_time": "2021-06-24T19:17:25.528290Z",
     "start_time": "2021-06-24T19:17:25.500258Z"
    },
    "collapsed": true
   },
   "outputs": [
    {
     "data": {
      "text/html": [
       "<div>\n",
       "<style scoped>\n",
       "    .dataframe tbody tr th:only-of-type {\n",
       "        vertical-align: middle;\n",
       "    }\n",
       "\n",
       "    .dataframe tbody tr th {\n",
       "        vertical-align: top;\n",
       "    }\n",
       "\n",
       "    .dataframe thead th {\n",
       "        text-align: right;\n",
       "    }\n",
       "</style>\n",
       "<table border=\"1\" class=\"dataframe\">\n",
       "  <thead>\n",
       "    <tr style=\"text-align: right;\">\n",
       "      <th></th>\n",
       "      <th>tconst</th>\n",
       "      <th>primary_title</th>\n",
       "      <th>original_title</th>\n",
       "      <th>start_year</th>\n",
       "      <th>runtime_minutes</th>\n",
       "      <th>genres</th>\n",
       "    </tr>\n",
       "  </thead>\n",
       "  <tbody>\n",
       "    <tr>\n",
       "      <th>0</th>\n",
       "      <td>tt0063540</td>\n",
       "      <td>Sunghursh</td>\n",
       "      <td>Sunghursh</td>\n",
       "      <td>2013</td>\n",
       "      <td>175.00</td>\n",
       "      <td>Action,Crime,Drama</td>\n",
       "    </tr>\n",
       "    <tr>\n",
       "      <th>1</th>\n",
       "      <td>tt0066787</td>\n",
       "      <td>One Day Before the Rainy Season</td>\n",
       "      <td>Ashad Ka Ek Din</td>\n",
       "      <td>2019</td>\n",
       "      <td>114.00</td>\n",
       "      <td>Biography,Drama</td>\n",
       "    </tr>\n",
       "    <tr>\n",
       "      <th>2</th>\n",
       "      <td>tt0069049</td>\n",
       "      <td>The Other Side of the Wind</td>\n",
       "      <td>The Other Side of the Wind</td>\n",
       "      <td>2018</td>\n",
       "      <td>122.00</td>\n",
       "      <td>Drama</td>\n",
       "    </tr>\n",
       "    <tr>\n",
       "      <th>3</th>\n",
       "      <td>tt0069204</td>\n",
       "      <td>Sabse Bada Sukh</td>\n",
       "      <td>Sabse Bada Sukh</td>\n",
       "      <td>2018</td>\n",
       "      <td>nan</td>\n",
       "      <td>Comedy,Drama</td>\n",
       "    </tr>\n",
       "    <tr>\n",
       "      <th>4</th>\n",
       "      <td>tt0100275</td>\n",
       "      <td>The Wandering Soap Opera</td>\n",
       "      <td>La Telenovela Errante</td>\n",
       "      <td>2017</td>\n",
       "      <td>80.00</td>\n",
       "      <td>Comedy,Drama,Fantasy</td>\n",
       "    </tr>\n",
       "    <tr>\n",
       "      <th>...</th>\n",
       "      <td>...</td>\n",
       "      <td>...</td>\n",
       "      <td>...</td>\n",
       "      <td>...</td>\n",
       "      <td>...</td>\n",
       "      <td>...</td>\n",
       "    </tr>\n",
       "    <tr>\n",
       "      <th>146139</th>\n",
       "      <td>tt9916538</td>\n",
       "      <td>Kuambil Lagi Hatiku</td>\n",
       "      <td>Kuambil Lagi Hatiku</td>\n",
       "      <td>2019</td>\n",
       "      <td>123.00</td>\n",
       "      <td>Drama</td>\n",
       "    </tr>\n",
       "    <tr>\n",
       "      <th>146140</th>\n",
       "      <td>tt9916622</td>\n",
       "      <td>Rodolpho Teóphilo - O Legado de um Pioneiro</td>\n",
       "      <td>Rodolpho Teóphilo - O Legado de um Pioneiro</td>\n",
       "      <td>2015</td>\n",
       "      <td>nan</td>\n",
       "      <td>Documentary</td>\n",
       "    </tr>\n",
       "    <tr>\n",
       "      <th>146141</th>\n",
       "      <td>tt9916706</td>\n",
       "      <td>Dankyavar Danka</td>\n",
       "      <td>Dankyavar Danka</td>\n",
       "      <td>2013</td>\n",
       "      <td>nan</td>\n",
       "      <td>Comedy</td>\n",
       "    </tr>\n",
       "    <tr>\n",
       "      <th>146142</th>\n",
       "      <td>tt9916730</td>\n",
       "      <td>6 Gunn</td>\n",
       "      <td>6 Gunn</td>\n",
       "      <td>2017</td>\n",
       "      <td>116.00</td>\n",
       "      <td>NaN</td>\n",
       "    </tr>\n",
       "    <tr>\n",
       "      <th>146143</th>\n",
       "      <td>tt9916754</td>\n",
       "      <td>Chico Albuquerque - Revelações</td>\n",
       "      <td>Chico Albuquerque - Revelações</td>\n",
       "      <td>2013</td>\n",
       "      <td>nan</td>\n",
       "      <td>Documentary</td>\n",
       "    </tr>\n",
       "  </tbody>\n",
       "</table>\n",
       "<p>146144 rows × 6 columns</p>\n",
       "</div>"
      ],
      "text/plain": [
       "           tconst                                primary_title  \\\n",
       "0       tt0063540                                    Sunghursh   \n",
       "1       tt0066787              One Day Before the Rainy Season   \n",
       "2       tt0069049                   The Other Side of the Wind   \n",
       "3       tt0069204                              Sabse Bada Sukh   \n",
       "4       tt0100275                     The Wandering Soap Opera   \n",
       "...           ...                                          ...   \n",
       "146139  tt9916538                          Kuambil Lagi Hatiku   \n",
       "146140  tt9916622  Rodolpho Teóphilo - O Legado de um Pioneiro   \n",
       "146141  tt9916706                              Dankyavar Danka   \n",
       "146142  tt9916730                                       6 Gunn   \n",
       "146143  tt9916754               Chico Albuquerque - Revelações   \n",
       "\n",
       "                                     original_title  start_year  \\\n",
       "0                                         Sunghursh        2013   \n",
       "1                                   Ashad Ka Ek Din        2019   \n",
       "2                        The Other Side of the Wind        2018   \n",
       "3                                   Sabse Bada Sukh        2018   \n",
       "4                             La Telenovela Errante        2017   \n",
       "...                                             ...         ...   \n",
       "146139                          Kuambil Lagi Hatiku        2019   \n",
       "146140  Rodolpho Teóphilo - O Legado de um Pioneiro        2015   \n",
       "146141                              Dankyavar Danka        2013   \n",
       "146142                                       6 Gunn        2017   \n",
       "146143               Chico Albuquerque - Revelações        2013   \n",
       "\n",
       "        runtime_minutes                genres  \n",
       "0                175.00    Action,Crime,Drama  \n",
       "1                114.00       Biography,Drama  \n",
       "2                122.00                 Drama  \n",
       "3                   nan          Comedy,Drama  \n",
       "4                 80.00  Comedy,Drama,Fantasy  \n",
       "...                 ...                   ...  \n",
       "146139           123.00                 Drama  \n",
       "146140              nan           Documentary  \n",
       "146141              nan                Comedy  \n",
       "146142           116.00                   NaN  \n",
       "146143              nan           Documentary  \n",
       "\n",
       "[146144 rows x 6 columns]"
      ]
     },
     "execution_count": 4,
     "metadata": {},
     "output_type": "execute_result"
    }
   ],
   "source": [
    "## Selecting for genre details\n",
    "title_basics = clean_file_names['imdb_title_basics']\n",
    "title_basics"
   ]
  },
  {
   "cell_type": "code",
   "execution_count": 5,
   "metadata": {
    "ExecuteTime": {
     "end_time": "2021-06-24T19:17:25.559289Z",
     "start_time": "2021-06-24T19:17:25.530257Z"
    },
    "collapsed": true
   },
   "outputs": [
    {
     "data": {
      "text/html": [
       "<div>\n",
       "<style scoped>\n",
       "    .dataframe tbody tr th:only-of-type {\n",
       "        vertical-align: middle;\n",
       "    }\n",
       "\n",
       "    .dataframe tbody tr th {\n",
       "        vertical-align: top;\n",
       "    }\n",
       "\n",
       "    .dataframe thead th {\n",
       "        text-align: right;\n",
       "    }\n",
       "</style>\n",
       "<table border=\"1\" class=\"dataframe\">\n",
       "  <thead>\n",
       "    <tr style=\"text-align: right;\">\n",
       "      <th></th>\n",
       "      <th>id</th>\n",
       "      <th>release_date</th>\n",
       "      <th>movie</th>\n",
       "      <th>production_budget</th>\n",
       "      <th>domestic_gross</th>\n",
       "      <th>worldwide_gross</th>\n",
       "    </tr>\n",
       "  </thead>\n",
       "  <tbody>\n",
       "    <tr>\n",
       "      <th>0</th>\n",
       "      <td>1</td>\n",
       "      <td>Dec 18, 2009</td>\n",
       "      <td>Avatar</td>\n",
       "      <td>$425,000,000</td>\n",
       "      <td>$760,507,625</td>\n",
       "      <td>$2,776,345,279</td>\n",
       "    </tr>\n",
       "    <tr>\n",
       "      <th>1</th>\n",
       "      <td>2</td>\n",
       "      <td>May 20, 2011</td>\n",
       "      <td>Pirates of the Caribbean: On Stranger Tides</td>\n",
       "      <td>$410,600,000</td>\n",
       "      <td>$241,063,875</td>\n",
       "      <td>$1,045,663,875</td>\n",
       "    </tr>\n",
       "    <tr>\n",
       "      <th>2</th>\n",
       "      <td>3</td>\n",
       "      <td>Jun 7, 2019</td>\n",
       "      <td>Dark Phoenix</td>\n",
       "      <td>$350,000,000</td>\n",
       "      <td>$42,762,350</td>\n",
       "      <td>$149,762,350</td>\n",
       "    </tr>\n",
       "    <tr>\n",
       "      <th>3</th>\n",
       "      <td>4</td>\n",
       "      <td>May 1, 2015</td>\n",
       "      <td>Avengers: Age of Ultron</td>\n",
       "      <td>$330,600,000</td>\n",
       "      <td>$459,005,868</td>\n",
       "      <td>$1,403,013,963</td>\n",
       "    </tr>\n",
       "    <tr>\n",
       "      <th>4</th>\n",
       "      <td>5</td>\n",
       "      <td>Dec 15, 2017</td>\n",
       "      <td>Star Wars Ep. VIII: The Last Jedi</td>\n",
       "      <td>$317,000,000</td>\n",
       "      <td>$620,181,382</td>\n",
       "      <td>$1,316,721,747</td>\n",
       "    </tr>\n",
       "    <tr>\n",
       "      <th>...</th>\n",
       "      <td>...</td>\n",
       "      <td>...</td>\n",
       "      <td>...</td>\n",
       "      <td>...</td>\n",
       "      <td>...</td>\n",
       "      <td>...</td>\n",
       "    </tr>\n",
       "    <tr>\n",
       "      <th>5777</th>\n",
       "      <td>78</td>\n",
       "      <td>Dec 31, 2018</td>\n",
       "      <td>Red 11</td>\n",
       "      <td>$7,000</td>\n",
       "      <td>$0</td>\n",
       "      <td>$0</td>\n",
       "    </tr>\n",
       "    <tr>\n",
       "      <th>5778</th>\n",
       "      <td>79</td>\n",
       "      <td>Apr 2, 1999</td>\n",
       "      <td>Following</td>\n",
       "      <td>$6,000</td>\n",
       "      <td>$48,482</td>\n",
       "      <td>$240,495</td>\n",
       "    </tr>\n",
       "    <tr>\n",
       "      <th>5779</th>\n",
       "      <td>80</td>\n",
       "      <td>Jul 13, 2005</td>\n",
       "      <td>Return to the Land of Wonders</td>\n",
       "      <td>$5,000</td>\n",
       "      <td>$1,338</td>\n",
       "      <td>$1,338</td>\n",
       "    </tr>\n",
       "    <tr>\n",
       "      <th>5780</th>\n",
       "      <td>81</td>\n",
       "      <td>Sep 29, 2015</td>\n",
       "      <td>A Plague So Pleasant</td>\n",
       "      <td>$1,400</td>\n",
       "      <td>$0</td>\n",
       "      <td>$0</td>\n",
       "    </tr>\n",
       "    <tr>\n",
       "      <th>5781</th>\n",
       "      <td>82</td>\n",
       "      <td>Aug 5, 2005</td>\n",
       "      <td>My Date With Drew</td>\n",
       "      <td>$1,100</td>\n",
       "      <td>$181,041</td>\n",
       "      <td>$181,041</td>\n",
       "    </tr>\n",
       "  </tbody>\n",
       "</table>\n",
       "<p>5782 rows × 6 columns</p>\n",
       "</div>"
      ],
      "text/plain": [
       "      id  release_date                                        movie  \\\n",
       "0      1  Dec 18, 2009                                       Avatar   \n",
       "1      2  May 20, 2011  Pirates of the Caribbean: On Stranger Tides   \n",
       "2      3   Jun 7, 2019                                 Dark Phoenix   \n",
       "3      4   May 1, 2015                      Avengers: Age of Ultron   \n",
       "4      5  Dec 15, 2017            Star Wars Ep. VIII: The Last Jedi   \n",
       "...   ..           ...                                          ...   \n",
       "5777  78  Dec 31, 2018                                       Red 11   \n",
       "5778  79   Apr 2, 1999                                    Following   \n",
       "5779  80  Jul 13, 2005                Return to the Land of Wonders   \n",
       "5780  81  Sep 29, 2015                         A Plague So Pleasant   \n",
       "5781  82   Aug 5, 2005                            My Date With Drew   \n",
       "\n",
       "     production_budget domestic_gross worldwide_gross  \n",
       "0         $425,000,000   $760,507,625  $2,776,345,279  \n",
       "1         $410,600,000   $241,063,875  $1,045,663,875  \n",
       "2         $350,000,000    $42,762,350    $149,762,350  \n",
       "3         $330,600,000   $459,005,868  $1,403,013,963  \n",
       "4         $317,000,000   $620,181,382  $1,316,721,747  \n",
       "...                ...            ...             ...  \n",
       "5777            $7,000             $0              $0  \n",
       "5778            $6,000        $48,482        $240,495  \n",
       "5779            $5,000         $1,338          $1,338  \n",
       "5780            $1,400             $0              $0  \n",
       "5781            $1,100       $181,041        $181,041  \n",
       "\n",
       "[5782 rows x 6 columns]"
      ]
     },
     "execution_count": 5,
     "metadata": {},
     "output_type": "execute_result"
    }
   ],
   "source": [
    "## Selecting for budget and gross details\n",
    "movie_basics = clean_file_names['tn_movie_budgets']\n",
    "movie_basics"
   ]
  },
  {
   "cell_type": "code",
   "execution_count": 6,
   "metadata": {
    "ExecuteTime": {
     "end_time": "2021-06-24T19:17:25.590257Z",
     "start_time": "2021-06-24T19:17:25.561288Z"
    },
    "collapsed": true
   },
   "outputs": [
    {
     "data": {
      "text/html": [
       "<div>\n",
       "<style scoped>\n",
       "    .dataframe tbody tr th:only-of-type {\n",
       "        vertical-align: middle;\n",
       "    }\n",
       "\n",
       "    .dataframe tbody tr th {\n",
       "        vertical-align: top;\n",
       "    }\n",
       "\n",
       "    .dataframe thead th {\n",
       "        text-align: right;\n",
       "    }\n",
       "</style>\n",
       "<table border=\"1\" class=\"dataframe\">\n",
       "  <thead>\n",
       "    <tr style=\"text-align: right;\">\n",
       "      <th></th>\n",
       "      <th>title</th>\n",
       "      <th>studio</th>\n",
       "      <th>domestic_gross</th>\n",
       "      <th>foreign_gross</th>\n",
       "      <th>year</th>\n",
       "    </tr>\n",
       "  </thead>\n",
       "  <tbody>\n",
       "    <tr>\n",
       "      <th>0</th>\n",
       "      <td>Toy Story 3</td>\n",
       "      <td>BV</td>\n",
       "      <td>415000000.00</td>\n",
       "      <td>652000000</td>\n",
       "      <td>2010</td>\n",
       "    </tr>\n",
       "    <tr>\n",
       "      <th>1</th>\n",
       "      <td>Alice in Wonderland (2010)</td>\n",
       "      <td>BV</td>\n",
       "      <td>334200000.00</td>\n",
       "      <td>691300000</td>\n",
       "      <td>2010</td>\n",
       "    </tr>\n",
       "    <tr>\n",
       "      <th>2</th>\n",
       "      <td>Harry Potter and the Deathly Hallows Part 1</td>\n",
       "      <td>WB</td>\n",
       "      <td>296000000.00</td>\n",
       "      <td>664300000</td>\n",
       "      <td>2010</td>\n",
       "    </tr>\n",
       "    <tr>\n",
       "      <th>3</th>\n",
       "      <td>Inception</td>\n",
       "      <td>WB</td>\n",
       "      <td>292600000.00</td>\n",
       "      <td>535700000</td>\n",
       "      <td>2010</td>\n",
       "    </tr>\n",
       "    <tr>\n",
       "      <th>4</th>\n",
       "      <td>Shrek Forever After</td>\n",
       "      <td>P/DW</td>\n",
       "      <td>238700000.00</td>\n",
       "      <td>513900000</td>\n",
       "      <td>2010</td>\n",
       "    </tr>\n",
       "    <tr>\n",
       "      <th>...</th>\n",
       "      <td>...</td>\n",
       "      <td>...</td>\n",
       "      <td>...</td>\n",
       "      <td>...</td>\n",
       "      <td>...</td>\n",
       "    </tr>\n",
       "    <tr>\n",
       "      <th>3382</th>\n",
       "      <td>The Quake</td>\n",
       "      <td>Magn.</td>\n",
       "      <td>6200.00</td>\n",
       "      <td>NaN</td>\n",
       "      <td>2018</td>\n",
       "    </tr>\n",
       "    <tr>\n",
       "      <th>3383</th>\n",
       "      <td>Edward II (2018 re-release)</td>\n",
       "      <td>FM</td>\n",
       "      <td>4800.00</td>\n",
       "      <td>NaN</td>\n",
       "      <td>2018</td>\n",
       "    </tr>\n",
       "    <tr>\n",
       "      <th>3384</th>\n",
       "      <td>El Pacto</td>\n",
       "      <td>Sony</td>\n",
       "      <td>2500.00</td>\n",
       "      <td>NaN</td>\n",
       "      <td>2018</td>\n",
       "    </tr>\n",
       "    <tr>\n",
       "      <th>3385</th>\n",
       "      <td>The Swan</td>\n",
       "      <td>Synergetic</td>\n",
       "      <td>2400.00</td>\n",
       "      <td>NaN</td>\n",
       "      <td>2018</td>\n",
       "    </tr>\n",
       "    <tr>\n",
       "      <th>3386</th>\n",
       "      <td>An Actor Prepares</td>\n",
       "      <td>Grav.</td>\n",
       "      <td>1700.00</td>\n",
       "      <td>NaN</td>\n",
       "      <td>2018</td>\n",
       "    </tr>\n",
       "  </tbody>\n",
       "</table>\n",
       "<p>3387 rows × 5 columns</p>\n",
       "</div>"
      ],
      "text/plain": [
       "                                            title      studio  domestic_gross  \\\n",
       "0                                     Toy Story 3          BV    415000000.00   \n",
       "1                      Alice in Wonderland (2010)          BV    334200000.00   \n",
       "2     Harry Potter and the Deathly Hallows Part 1          WB    296000000.00   \n",
       "3                                       Inception          WB    292600000.00   \n",
       "4                             Shrek Forever After        P/DW    238700000.00   \n",
       "...                                           ...         ...             ...   \n",
       "3382                                    The Quake       Magn.         6200.00   \n",
       "3383                  Edward II (2018 re-release)          FM         4800.00   \n",
       "3384                                     El Pacto        Sony         2500.00   \n",
       "3385                                     The Swan  Synergetic         2400.00   \n",
       "3386                            An Actor Prepares       Grav.         1700.00   \n",
       "\n",
       "     foreign_gross  year  \n",
       "0        652000000  2010  \n",
       "1        691300000  2010  \n",
       "2        664300000  2010  \n",
       "3        535700000  2010  \n",
       "4        513900000  2010  \n",
       "...            ...   ...  \n",
       "3382           NaN  2018  \n",
       "3383           NaN  2018  \n",
       "3384           NaN  2018  \n",
       "3385           NaN  2018  \n",
       "3386           NaN  2018  \n",
       "\n",
       "[3387 rows x 5 columns]"
      ]
     },
     "execution_count": 6,
     "metadata": {},
     "output_type": "execute_result"
    }
   ],
   "source": [
    "## Selecting for gross details\n",
    "movie_gross = clean_file_names['bom_movie_gross']\n",
    "movie_gross"
   ]
  },
  {
   "cell_type": "code",
   "execution_count": 48,
   "metadata": {
    "ExecuteTime": {
     "end_time": "2021-06-24T19:47:31.892074Z",
     "start_time": "2021-06-24T19:47:31.861072Z"
    },
    "collapsed": true
   },
   "outputs": [
    {
     "data": {
      "text/html": [
       "<div>\n",
       "<style scoped>\n",
       "    .dataframe tbody tr th:only-of-type {\n",
       "        vertical-align: middle;\n",
       "    }\n",
       "\n",
       "    .dataframe tbody tr th {\n",
       "        vertical-align: top;\n",
       "    }\n",
       "\n",
       "    .dataframe thead th {\n",
       "        text-align: right;\n",
       "    }\n",
       "</style>\n",
       "<table border=\"1\" class=\"dataframe\">\n",
       "  <thead>\n",
       "    <tr style=\"text-align: right;\">\n",
       "      <th></th>\n",
       "      <th>title_id</th>\n",
       "      <th>ordering</th>\n",
       "      <th>title</th>\n",
       "      <th>region</th>\n",
       "      <th>language</th>\n",
       "      <th>types</th>\n",
       "      <th>attributes</th>\n",
       "      <th>is_original_title</th>\n",
       "    </tr>\n",
       "  </thead>\n",
       "  <tbody>\n",
       "    <tr>\n",
       "      <th>0</th>\n",
       "      <td>tt0369610</td>\n",
       "      <td>10</td>\n",
       "      <td>Джурасик свят</td>\n",
       "      <td>BG</td>\n",
       "      <td>bg</td>\n",
       "      <td>NaN</td>\n",
       "      <td>NaN</td>\n",
       "      <td>0.00</td>\n",
       "    </tr>\n",
       "    <tr>\n",
       "      <th>1</th>\n",
       "      <td>tt0369610</td>\n",
       "      <td>11</td>\n",
       "      <td>Jurashikku warudo</td>\n",
       "      <td>JP</td>\n",
       "      <td>NaN</td>\n",
       "      <td>imdbDisplay</td>\n",
       "      <td>NaN</td>\n",
       "      <td>0.00</td>\n",
       "    </tr>\n",
       "    <tr>\n",
       "      <th>2</th>\n",
       "      <td>tt0369610</td>\n",
       "      <td>12</td>\n",
       "      <td>Jurassic World: O Mundo dos Dinossauros</td>\n",
       "      <td>BR</td>\n",
       "      <td>NaN</td>\n",
       "      <td>imdbDisplay</td>\n",
       "      <td>NaN</td>\n",
       "      <td>0.00</td>\n",
       "    </tr>\n",
       "    <tr>\n",
       "      <th>3</th>\n",
       "      <td>tt0369610</td>\n",
       "      <td>13</td>\n",
       "      <td>O Mundo dos Dinossauros</td>\n",
       "      <td>BR</td>\n",
       "      <td>NaN</td>\n",
       "      <td>NaN</td>\n",
       "      <td>short title</td>\n",
       "      <td>0.00</td>\n",
       "    </tr>\n",
       "    <tr>\n",
       "      <th>4</th>\n",
       "      <td>tt0369610</td>\n",
       "      <td>14</td>\n",
       "      <td>Jurassic World</td>\n",
       "      <td>FR</td>\n",
       "      <td>NaN</td>\n",
       "      <td>imdbDisplay</td>\n",
       "      <td>NaN</td>\n",
       "      <td>0.00</td>\n",
       "    </tr>\n",
       "    <tr>\n",
       "      <th>...</th>\n",
       "      <td>...</td>\n",
       "      <td>...</td>\n",
       "      <td>...</td>\n",
       "      <td>...</td>\n",
       "      <td>...</td>\n",
       "      <td>...</td>\n",
       "      <td>...</td>\n",
       "      <td>...</td>\n",
       "    </tr>\n",
       "    <tr>\n",
       "      <th>331698</th>\n",
       "      <td>tt9827784</td>\n",
       "      <td>2</td>\n",
       "      <td>Sayonara kuchibiru</td>\n",
       "      <td>NaN</td>\n",
       "      <td>NaN</td>\n",
       "      <td>original</td>\n",
       "      <td>NaN</td>\n",
       "      <td>1.00</td>\n",
       "    </tr>\n",
       "    <tr>\n",
       "      <th>331699</th>\n",
       "      <td>tt9827784</td>\n",
       "      <td>3</td>\n",
       "      <td>Farewell Song</td>\n",
       "      <td>XWW</td>\n",
       "      <td>en</td>\n",
       "      <td>imdbDisplay</td>\n",
       "      <td>NaN</td>\n",
       "      <td>0.00</td>\n",
       "    </tr>\n",
       "    <tr>\n",
       "      <th>331700</th>\n",
       "      <td>tt9880178</td>\n",
       "      <td>1</td>\n",
       "      <td>La atención</td>\n",
       "      <td>NaN</td>\n",
       "      <td>NaN</td>\n",
       "      <td>original</td>\n",
       "      <td>NaN</td>\n",
       "      <td>1.00</td>\n",
       "    </tr>\n",
       "    <tr>\n",
       "      <th>331701</th>\n",
       "      <td>tt9880178</td>\n",
       "      <td>2</td>\n",
       "      <td>La atención</td>\n",
       "      <td>ES</td>\n",
       "      <td>NaN</td>\n",
       "      <td>NaN</td>\n",
       "      <td>NaN</td>\n",
       "      <td>0.00</td>\n",
       "    </tr>\n",
       "    <tr>\n",
       "      <th>331702</th>\n",
       "      <td>tt9880178</td>\n",
       "      <td>3</td>\n",
       "      <td>The Attention</td>\n",
       "      <td>XWW</td>\n",
       "      <td>en</td>\n",
       "      <td>imdbDisplay</td>\n",
       "      <td>NaN</td>\n",
       "      <td>0.00</td>\n",
       "    </tr>\n",
       "  </tbody>\n",
       "</table>\n",
       "<p>331703 rows × 8 columns</p>\n",
       "</div>"
      ],
      "text/plain": [
       "         title_id  ordering                                    title region  \\\n",
       "0       tt0369610        10                            Джурасик свят     BG   \n",
       "1       tt0369610        11                        Jurashikku warudo     JP   \n",
       "2       tt0369610        12  Jurassic World: O Mundo dos Dinossauros     BR   \n",
       "3       tt0369610        13                  O Mundo dos Dinossauros     BR   \n",
       "4       tt0369610        14                           Jurassic World     FR   \n",
       "...           ...       ...                                      ...    ...   \n",
       "331698  tt9827784         2                       Sayonara kuchibiru    NaN   \n",
       "331699  tt9827784         3                            Farewell Song    XWW   \n",
       "331700  tt9880178         1                              La atención    NaN   \n",
       "331701  tt9880178         2                              La atención     ES   \n",
       "331702  tt9880178         3                            The Attention    XWW   \n",
       "\n",
       "       language        types   attributes  is_original_title  \n",
       "0            bg          NaN          NaN               0.00  \n",
       "1           NaN  imdbDisplay          NaN               0.00  \n",
       "2           NaN  imdbDisplay          NaN               0.00  \n",
       "3           NaN          NaN  short title               0.00  \n",
       "4           NaN  imdbDisplay          NaN               0.00  \n",
       "...         ...          ...          ...                ...  \n",
       "331698      NaN     original          NaN               1.00  \n",
       "331699       en  imdbDisplay          NaN               0.00  \n",
       "331700      NaN     original          NaN               1.00  \n",
       "331701      NaN          NaN          NaN               0.00  \n",
       "331702       en  imdbDisplay          NaN               0.00  \n",
       "\n",
       "[331703 rows x 8 columns]"
      ]
     },
     "execution_count": 48,
     "metadata": {},
     "output_type": "execute_result"
    }
   ],
   "source": [
    "## Selecting all titles for movies based on ID\n",
    "\n",
    "title_akas = clean_file_names['imdb_title_akas']\n",
    "title_akas"
   ]
  },
  {
   "cell_type": "code",
   "execution_count": 113,
   "metadata": {
    "ExecuteTime": {
     "end_time": "2021-06-24T20:10:31.916319Z",
     "start_time": "2021-06-24T20:10:31.889321Z"
    }
   },
   "outputs": [
    {
     "data": {
      "text/html": [
       "<div>\n",
       "<style scoped>\n",
       "    .dataframe tbody tr th:only-of-type {\n",
       "        vertical-align: middle;\n",
       "    }\n",
       "\n",
       "    .dataframe tbody tr th {\n",
       "        vertical-align: top;\n",
       "    }\n",
       "\n",
       "    .dataframe thead th {\n",
       "        text-align: right;\n",
       "    }\n",
       "</style>\n",
       "<table border=\"1\" class=\"dataframe\">\n",
       "  <thead>\n",
       "    <tr style=\"text-align: right;\">\n",
       "      <th></th>\n",
       "      <th>Unnamed: 0</th>\n",
       "      <th>genre_ids</th>\n",
       "      <th>id</th>\n",
       "      <th>original_language</th>\n",
       "      <th>original_title</th>\n",
       "      <th>popularity</th>\n",
       "      <th>release_date</th>\n",
       "      <th>title</th>\n",
       "      <th>vote_average</th>\n",
       "      <th>vote_count</th>\n",
       "    </tr>\n",
       "  </thead>\n",
       "  <tbody>\n",
       "    <tr>\n",
       "      <th>0</th>\n",
       "      <td>0</td>\n",
       "      <td>[12, 14, 10751]</td>\n",
       "      <td>12444</td>\n",
       "      <td>en</td>\n",
       "      <td>Harry Potter and the Deathly Hallows: Part 1</td>\n",
       "      <td>33.53</td>\n",
       "      <td>2010-11-19</td>\n",
       "      <td>Harry Potter and the Deathly Hallows: Part 1</td>\n",
       "      <td>7.70</td>\n",
       "      <td>10788</td>\n",
       "    </tr>\n",
       "    <tr>\n",
       "      <th>1</th>\n",
       "      <td>1</td>\n",
       "      <td>[14, 12, 16, 10751]</td>\n",
       "      <td>10191</td>\n",
       "      <td>en</td>\n",
       "      <td>How to Train Your Dragon</td>\n",
       "      <td>28.73</td>\n",
       "      <td>2010-03-26</td>\n",
       "      <td>How to Train Your Dragon</td>\n",
       "      <td>7.70</td>\n",
       "      <td>7610</td>\n",
       "    </tr>\n",
       "    <tr>\n",
       "      <th>2</th>\n",
       "      <td>2</td>\n",
       "      <td>[12, 28, 878]</td>\n",
       "      <td>10138</td>\n",
       "      <td>en</td>\n",
       "      <td>Iron Man 2</td>\n",
       "      <td>28.52</td>\n",
       "      <td>2010-05-07</td>\n",
       "      <td>Iron Man 2</td>\n",
       "      <td>6.80</td>\n",
       "      <td>12368</td>\n",
       "    </tr>\n",
       "    <tr>\n",
       "      <th>3</th>\n",
       "      <td>3</td>\n",
       "      <td>[16, 35, 10751]</td>\n",
       "      <td>862</td>\n",
       "      <td>en</td>\n",
       "      <td>Toy Story</td>\n",
       "      <td>28.00</td>\n",
       "      <td>1995-11-22</td>\n",
       "      <td>Toy Story</td>\n",
       "      <td>7.90</td>\n",
       "      <td>10174</td>\n",
       "    </tr>\n",
       "    <tr>\n",
       "      <th>4</th>\n",
       "      <td>4</td>\n",
       "      <td>[28, 878, 12]</td>\n",
       "      <td>27205</td>\n",
       "      <td>en</td>\n",
       "      <td>Inception</td>\n",
       "      <td>27.92</td>\n",
       "      <td>2010-07-16</td>\n",
       "      <td>Inception</td>\n",
       "      <td>8.30</td>\n",
       "      <td>22186</td>\n",
       "    </tr>\n",
       "    <tr>\n",
       "      <th>...</th>\n",
       "      <td>...</td>\n",
       "      <td>...</td>\n",
       "      <td>...</td>\n",
       "      <td>...</td>\n",
       "      <td>...</td>\n",
       "      <td>...</td>\n",
       "      <td>...</td>\n",
       "      <td>...</td>\n",
       "      <td>...</td>\n",
       "      <td>...</td>\n",
       "    </tr>\n",
       "    <tr>\n",
       "      <th>26512</th>\n",
       "      <td>26512</td>\n",
       "      <td>[27, 18]</td>\n",
       "      <td>488143</td>\n",
       "      <td>en</td>\n",
       "      <td>Laboratory Conditions</td>\n",
       "      <td>0.60</td>\n",
       "      <td>2018-10-13</td>\n",
       "      <td>Laboratory Conditions</td>\n",
       "      <td>0.00</td>\n",
       "      <td>1</td>\n",
       "    </tr>\n",
       "    <tr>\n",
       "      <th>26513</th>\n",
       "      <td>26513</td>\n",
       "      <td>[18, 53]</td>\n",
       "      <td>485975</td>\n",
       "      <td>en</td>\n",
       "      <td>_EXHIBIT_84xxx_</td>\n",
       "      <td>0.60</td>\n",
       "      <td>2018-05-01</td>\n",
       "      <td>_EXHIBIT_84xxx_</td>\n",
       "      <td>0.00</td>\n",
       "      <td>1</td>\n",
       "    </tr>\n",
       "    <tr>\n",
       "      <th>26514</th>\n",
       "      <td>26514</td>\n",
       "      <td>[14, 28, 12]</td>\n",
       "      <td>381231</td>\n",
       "      <td>en</td>\n",
       "      <td>The Last One</td>\n",
       "      <td>0.60</td>\n",
       "      <td>2018-10-01</td>\n",
       "      <td>The Last One</td>\n",
       "      <td>0.00</td>\n",
       "      <td>1</td>\n",
       "    </tr>\n",
       "    <tr>\n",
       "      <th>26515</th>\n",
       "      <td>26515</td>\n",
       "      <td>[10751, 12, 28]</td>\n",
       "      <td>366854</td>\n",
       "      <td>en</td>\n",
       "      <td>Trailer Made</td>\n",
       "      <td>0.60</td>\n",
       "      <td>2018-06-22</td>\n",
       "      <td>Trailer Made</td>\n",
       "      <td>0.00</td>\n",
       "      <td>1</td>\n",
       "    </tr>\n",
       "    <tr>\n",
       "      <th>26516</th>\n",
       "      <td>26516</td>\n",
       "      <td>[53, 27]</td>\n",
       "      <td>309885</td>\n",
       "      <td>en</td>\n",
       "      <td>The Church</td>\n",
       "      <td>0.60</td>\n",
       "      <td>2018-10-05</td>\n",
       "      <td>The Church</td>\n",
       "      <td>0.00</td>\n",
       "      <td>1</td>\n",
       "    </tr>\n",
       "  </tbody>\n",
       "</table>\n",
       "<p>26517 rows × 10 columns</p>\n",
       "</div>"
      ],
      "text/plain": [
       "       Unnamed: 0            genre_ids      id original_language  \\\n",
       "0               0      [12, 14, 10751]   12444                en   \n",
       "1               1  [14, 12, 16, 10751]   10191                en   \n",
       "2               2        [12, 28, 878]   10138                en   \n",
       "3               3      [16, 35, 10751]     862                en   \n",
       "4               4        [28, 878, 12]   27205                en   \n",
       "...           ...                  ...     ...               ...   \n",
       "26512       26512             [27, 18]  488143                en   \n",
       "26513       26513             [18, 53]  485975                en   \n",
       "26514       26514         [14, 28, 12]  381231                en   \n",
       "26515       26515      [10751, 12, 28]  366854                en   \n",
       "26516       26516             [53, 27]  309885                en   \n",
       "\n",
       "                                     original_title  popularity release_date  \\\n",
       "0      Harry Potter and the Deathly Hallows: Part 1       33.53   2010-11-19   \n",
       "1                          How to Train Your Dragon       28.73   2010-03-26   \n",
       "2                                        Iron Man 2       28.52   2010-05-07   \n",
       "3                                         Toy Story       28.00   1995-11-22   \n",
       "4                                         Inception       27.92   2010-07-16   \n",
       "...                                             ...         ...          ...   \n",
       "26512                         Laboratory Conditions        0.60   2018-10-13   \n",
       "26513                               _EXHIBIT_84xxx_        0.60   2018-05-01   \n",
       "26514                                  The Last One        0.60   2018-10-01   \n",
       "26515                                  Trailer Made        0.60   2018-06-22   \n",
       "26516                                    The Church        0.60   2018-10-05   \n",
       "\n",
       "                                              title  vote_average  vote_count  \n",
       "0      Harry Potter and the Deathly Hallows: Part 1          7.70       10788  \n",
       "1                          How to Train Your Dragon          7.70        7610  \n",
       "2                                        Iron Man 2          6.80       12368  \n",
       "3                                         Toy Story          7.90       10174  \n",
       "4                                         Inception          8.30       22186  \n",
       "...                                             ...           ...         ...  \n",
       "26512                         Laboratory Conditions          0.00           1  \n",
       "26513                               _EXHIBIT_84xxx_          0.00           1  \n",
       "26514                                  The Last One          0.00           1  \n",
       "26515                                  Trailer Made          0.00           1  \n",
       "26516                                    The Church          0.00           1  \n",
       "\n",
       "[26517 rows x 10 columns]"
      ]
     },
     "execution_count": 113,
     "metadata": {},
     "output_type": "execute_result"
    }
   ],
   "source": [
    "## Selecting for tmdb_movies\n",
    "\n",
    "tmdb_movies= clean_file_names['tmdb_movies']\n",
    "tmdb_movies"
   ]
  },
  {
   "cell_type": "markdown",
   "metadata": {},
   "source": [
    "Looks like this dataframe has a weird column that duplicated the index. I will drop that column."
   ]
  },
  {
   "cell_type": "code",
   "execution_count": 117,
   "metadata": {
    "ExecuteTime": {
     "end_time": "2021-06-24T20:11:59.620301Z",
     "start_time": "2021-06-24T20:11:59.600312Z"
    }
   },
   "outputs": [
    {
     "data": {
      "text/plain": [
       "Index(['Unnamed: 0', 'genre_ids', 'id', 'original_language', 'original_title',\n",
       "       'popularity', 'release_date', 'title', 'vote_average', 'vote_count'],\n",
       "      dtype='object')"
      ]
     },
     "metadata": {},
     "output_type": "display_data"
    },
    {
     "data": {
      "text/plain": [
       "'Unnamed: 0'"
      ]
     },
     "metadata": {},
     "output_type": "display_data"
    }
   ],
   "source": [
    "display(tmdb_movies.columns)\n",
    "display(tmdb_movies.columns[0])"
   ]
  },
  {
   "cell_type": "code",
   "execution_count": 127,
   "metadata": {
    "ExecuteTime": {
     "end_time": "2021-06-24T20:13:56.954596Z",
     "start_time": "2021-06-24T20:13:56.943616Z"
    }
   },
   "outputs": [
    {
     "data": {
      "text/plain": [
       "True"
      ]
     },
     "execution_count": 127,
     "metadata": {},
     "output_type": "execute_result"
    }
   ],
   "source": [
    "## Dropping column\n",
    "\n",
    "try:\n",
    "    tmdb_movies.drop('Unnamed: 0', axis=1, inplace=True)\n",
    "except:\n",
    "    pass\n",
    "\n",
    "## Testing results\n",
    "'Unnamed: 0' not in tmdb_movies.columns"
   ]
  },
  {
   "cell_type": "code",
   "execution_count": 128,
   "metadata": {
    "ExecuteTime": {
     "end_time": "2021-06-24T20:14:00.378544Z",
     "start_time": "2021-06-24T20:14:00.349563Z"
    }
   },
   "outputs": [
    {
     "data": {
      "text/html": [
       "<div>\n",
       "<style scoped>\n",
       "    .dataframe tbody tr th:only-of-type {\n",
       "        vertical-align: middle;\n",
       "    }\n",
       "\n",
       "    .dataframe tbody tr th {\n",
       "        vertical-align: top;\n",
       "    }\n",
       "\n",
       "    .dataframe thead th {\n",
       "        text-align: right;\n",
       "    }\n",
       "</style>\n",
       "<table border=\"1\" class=\"dataframe\">\n",
       "  <thead>\n",
       "    <tr style=\"text-align: right;\">\n",
       "      <th></th>\n",
       "      <th>genre_ids</th>\n",
       "      <th>id</th>\n",
       "      <th>original_language</th>\n",
       "      <th>original_title</th>\n",
       "      <th>popularity</th>\n",
       "      <th>release_date</th>\n",
       "      <th>title</th>\n",
       "      <th>vote_average</th>\n",
       "      <th>vote_count</th>\n",
       "    </tr>\n",
       "  </thead>\n",
       "  <tbody>\n",
       "    <tr>\n",
       "      <th>0</th>\n",
       "      <td>[12, 14, 10751]</td>\n",
       "      <td>12444</td>\n",
       "      <td>en</td>\n",
       "      <td>Harry Potter and the Deathly Hallows: Part 1</td>\n",
       "      <td>33.53</td>\n",
       "      <td>2010-11-19</td>\n",
       "      <td>Harry Potter and the Deathly Hallows: Part 1</td>\n",
       "      <td>7.70</td>\n",
       "      <td>10788</td>\n",
       "    </tr>\n",
       "    <tr>\n",
       "      <th>1</th>\n",
       "      <td>[14, 12, 16, 10751]</td>\n",
       "      <td>10191</td>\n",
       "      <td>en</td>\n",
       "      <td>How to Train Your Dragon</td>\n",
       "      <td>28.73</td>\n",
       "      <td>2010-03-26</td>\n",
       "      <td>How to Train Your Dragon</td>\n",
       "      <td>7.70</td>\n",
       "      <td>7610</td>\n",
       "    </tr>\n",
       "    <tr>\n",
       "      <th>2</th>\n",
       "      <td>[12, 28, 878]</td>\n",
       "      <td>10138</td>\n",
       "      <td>en</td>\n",
       "      <td>Iron Man 2</td>\n",
       "      <td>28.52</td>\n",
       "      <td>2010-05-07</td>\n",
       "      <td>Iron Man 2</td>\n",
       "      <td>6.80</td>\n",
       "      <td>12368</td>\n",
       "    </tr>\n",
       "    <tr>\n",
       "      <th>3</th>\n",
       "      <td>[16, 35, 10751]</td>\n",
       "      <td>862</td>\n",
       "      <td>en</td>\n",
       "      <td>Toy Story</td>\n",
       "      <td>28.00</td>\n",
       "      <td>1995-11-22</td>\n",
       "      <td>Toy Story</td>\n",
       "      <td>7.90</td>\n",
       "      <td>10174</td>\n",
       "    </tr>\n",
       "    <tr>\n",
       "      <th>4</th>\n",
       "      <td>[28, 878, 12]</td>\n",
       "      <td>27205</td>\n",
       "      <td>en</td>\n",
       "      <td>Inception</td>\n",
       "      <td>27.92</td>\n",
       "      <td>2010-07-16</td>\n",
       "      <td>Inception</td>\n",
       "      <td>8.30</td>\n",
       "      <td>22186</td>\n",
       "    </tr>\n",
       "    <tr>\n",
       "      <th>...</th>\n",
       "      <td>...</td>\n",
       "      <td>...</td>\n",
       "      <td>...</td>\n",
       "      <td>...</td>\n",
       "      <td>...</td>\n",
       "      <td>...</td>\n",
       "      <td>...</td>\n",
       "      <td>...</td>\n",
       "      <td>...</td>\n",
       "    </tr>\n",
       "    <tr>\n",
       "      <th>26512</th>\n",
       "      <td>[27, 18]</td>\n",
       "      <td>488143</td>\n",
       "      <td>en</td>\n",
       "      <td>Laboratory Conditions</td>\n",
       "      <td>0.60</td>\n",
       "      <td>2018-10-13</td>\n",
       "      <td>Laboratory Conditions</td>\n",
       "      <td>0.00</td>\n",
       "      <td>1</td>\n",
       "    </tr>\n",
       "    <tr>\n",
       "      <th>26513</th>\n",
       "      <td>[18, 53]</td>\n",
       "      <td>485975</td>\n",
       "      <td>en</td>\n",
       "      <td>_EXHIBIT_84xxx_</td>\n",
       "      <td>0.60</td>\n",
       "      <td>2018-05-01</td>\n",
       "      <td>_EXHIBIT_84xxx_</td>\n",
       "      <td>0.00</td>\n",
       "      <td>1</td>\n",
       "    </tr>\n",
       "    <tr>\n",
       "      <th>26514</th>\n",
       "      <td>[14, 28, 12]</td>\n",
       "      <td>381231</td>\n",
       "      <td>en</td>\n",
       "      <td>The Last One</td>\n",
       "      <td>0.60</td>\n",
       "      <td>2018-10-01</td>\n",
       "      <td>The Last One</td>\n",
       "      <td>0.00</td>\n",
       "      <td>1</td>\n",
       "    </tr>\n",
       "    <tr>\n",
       "      <th>26515</th>\n",
       "      <td>[10751, 12, 28]</td>\n",
       "      <td>366854</td>\n",
       "      <td>en</td>\n",
       "      <td>Trailer Made</td>\n",
       "      <td>0.60</td>\n",
       "      <td>2018-06-22</td>\n",
       "      <td>Trailer Made</td>\n",
       "      <td>0.00</td>\n",
       "      <td>1</td>\n",
       "    </tr>\n",
       "    <tr>\n",
       "      <th>26516</th>\n",
       "      <td>[53, 27]</td>\n",
       "      <td>309885</td>\n",
       "      <td>en</td>\n",
       "      <td>The Church</td>\n",
       "      <td>0.60</td>\n",
       "      <td>2018-10-05</td>\n",
       "      <td>The Church</td>\n",
       "      <td>0.00</td>\n",
       "      <td>1</td>\n",
       "    </tr>\n",
       "  </tbody>\n",
       "</table>\n",
       "<p>26517 rows × 9 columns</p>\n",
       "</div>"
      ],
      "text/plain": [
       "                 genre_ids      id original_language  \\\n",
       "0          [12, 14, 10751]   12444                en   \n",
       "1      [14, 12, 16, 10751]   10191                en   \n",
       "2            [12, 28, 878]   10138                en   \n",
       "3          [16, 35, 10751]     862                en   \n",
       "4            [28, 878, 12]   27205                en   \n",
       "...                    ...     ...               ...   \n",
       "26512             [27, 18]  488143                en   \n",
       "26513             [18, 53]  485975                en   \n",
       "26514         [14, 28, 12]  381231                en   \n",
       "26515      [10751, 12, 28]  366854                en   \n",
       "26516             [53, 27]  309885                en   \n",
       "\n",
       "                                     original_title  popularity release_date  \\\n",
       "0      Harry Potter and the Deathly Hallows: Part 1       33.53   2010-11-19   \n",
       "1                          How to Train Your Dragon       28.73   2010-03-26   \n",
       "2                                        Iron Man 2       28.52   2010-05-07   \n",
       "3                                         Toy Story       28.00   1995-11-22   \n",
       "4                                         Inception       27.92   2010-07-16   \n",
       "...                                             ...         ...          ...   \n",
       "26512                         Laboratory Conditions        0.60   2018-10-13   \n",
       "26513                               _EXHIBIT_84xxx_        0.60   2018-05-01   \n",
       "26514                                  The Last One        0.60   2018-10-01   \n",
       "26515                                  Trailer Made        0.60   2018-06-22   \n",
       "26516                                    The Church        0.60   2018-10-05   \n",
       "\n",
       "                                              title  vote_average  vote_count  \n",
       "0      Harry Potter and the Deathly Hallows: Part 1          7.70       10788  \n",
       "1                          How to Train Your Dragon          7.70        7610  \n",
       "2                                        Iron Man 2          6.80       12368  \n",
       "3                                         Toy Story          7.90       10174  \n",
       "4                                         Inception          8.30       22186  \n",
       "...                                             ...           ...         ...  \n",
       "26512                         Laboratory Conditions          0.00           1  \n",
       "26513                               _EXHIBIT_84xxx_          0.00           1  \n",
       "26514                                  The Last One          0.00           1  \n",
       "26515                                  Trailer Made          0.00           1  \n",
       "26516                                    The Church          0.00           1  \n",
       "\n",
       "[26517 rows x 9 columns]"
      ]
     },
     "execution_count": 128,
     "metadata": {},
     "output_type": "execute_result"
    }
   ],
   "source": [
    "tmdb_movies"
   ]
  },
  {
   "cell_type": "markdown",
   "metadata": {
    "heading_collapsed": true
   },
   "source": [
    "## Merging Dataframes"
   ]
  },
  {
   "cell_type": "code",
   "execution_count": 7,
   "metadata": {
    "ExecuteTime": {
     "end_time": "2021-06-24T19:17:25.699287Z",
     "start_time": "2021-06-24T19:17:25.593260Z"
    },
    "code_folding": [],
    "hidden": true,
    "scrolled": true
   },
   "outputs": [
    {
     "data": {
      "text/html": [
       "<div>\n",
       "<style scoped>\n",
       "    .dataframe tbody tr th:only-of-type {\n",
       "        vertical-align: middle;\n",
       "    }\n",
       "\n",
       "    .dataframe tbody tr th {\n",
       "        vertical-align: top;\n",
       "    }\n",
       "\n",
       "    .dataframe thead th {\n",
       "        text-align: right;\n",
       "    }\n",
       "</style>\n",
       "<table border=\"1\" class=\"dataframe\">\n",
       "  <thead>\n",
       "    <tr style=\"text-align: right;\">\n",
       "      <th></th>\n",
       "      <th>tconst</th>\n",
       "      <th>primary_title</th>\n",
       "      <th>original_title</th>\n",
       "      <th>start_year</th>\n",
       "      <th>runtime_minutes</th>\n",
       "      <th>genres</th>\n",
       "      <th>id</th>\n",
       "      <th>release_date</th>\n",
       "      <th>movie</th>\n",
       "      <th>production_budget</th>\n",
       "      <th>domestic_gross</th>\n",
       "      <th>worldwide_gross</th>\n",
       "    </tr>\n",
       "  </thead>\n",
       "  <tbody>\n",
       "    <tr>\n",
       "      <th>0</th>\n",
       "      <td>tt0249516</td>\n",
       "      <td>Foodfight!</td>\n",
       "      <td>Foodfight!</td>\n",
       "      <td>2012</td>\n",
       "      <td>91.00</td>\n",
       "      <td>Action,Animation,Comedy</td>\n",
       "      <td>26</td>\n",
       "      <td>Dec 31, 2012</td>\n",
       "      <td>Foodfight!</td>\n",
       "      <td>$45,000,000</td>\n",
       "      <td>$0</td>\n",
       "      <td>$73,706</td>\n",
       "    </tr>\n",
       "    <tr>\n",
       "      <th>1</th>\n",
       "      <td>tt0293429</td>\n",
       "      <td>Mortal Kombat</td>\n",
       "      <td>Mortal Kombat</td>\n",
       "      <td>2021</td>\n",
       "      <td>nan</td>\n",
       "      <td>Action,Adventure,Fantasy</td>\n",
       "      <td>10</td>\n",
       "      <td>Aug 18, 1995</td>\n",
       "      <td>Mortal Kombat</td>\n",
       "      <td>$20,000,000</td>\n",
       "      <td>$70,433,227</td>\n",
       "      <td>$122,133,227</td>\n",
       "    </tr>\n",
       "    <tr>\n",
       "      <th>2</th>\n",
       "      <td>tt0326592</td>\n",
       "      <td>The Overnight</td>\n",
       "      <td>The Overnight</td>\n",
       "      <td>2010</td>\n",
       "      <td>88.00</td>\n",
       "      <td>NaN</td>\n",
       "      <td>21</td>\n",
       "      <td>Jun 19, 2015</td>\n",
       "      <td>The Overnight</td>\n",
       "      <td>$200,000</td>\n",
       "      <td>$1,109,808</td>\n",
       "      <td>$1,165,996</td>\n",
       "    </tr>\n",
       "    <tr>\n",
       "      <th>3</th>\n",
       "      <td>tt3844362</td>\n",
       "      <td>The Overnight</td>\n",
       "      <td>The Overnight</td>\n",
       "      <td>2015</td>\n",
       "      <td>79.00</td>\n",
       "      <td>Comedy,Mystery</td>\n",
       "      <td>21</td>\n",
       "      <td>Jun 19, 2015</td>\n",
       "      <td>The Overnight</td>\n",
       "      <td>$200,000</td>\n",
       "      <td>$1,109,808</td>\n",
       "      <td>$1,165,996</td>\n",
       "    </tr>\n",
       "    <tr>\n",
       "      <th>4</th>\n",
       "      <td>tt0337692</td>\n",
       "      <td>On the Road</td>\n",
       "      <td>On the Road</td>\n",
       "      <td>2012</td>\n",
       "      <td>124.00</td>\n",
       "      <td>Adventure,Drama,Romance</td>\n",
       "      <td>17</td>\n",
       "      <td>Mar 22, 2013</td>\n",
       "      <td>On the Road</td>\n",
       "      <td>$25,000,000</td>\n",
       "      <td>$720,828</td>\n",
       "      <td>$9,313,302</td>\n",
       "    </tr>\n",
       "    <tr>\n",
       "      <th>...</th>\n",
       "      <td>...</td>\n",
       "      <td>...</td>\n",
       "      <td>...</td>\n",
       "      <td>...</td>\n",
       "      <td>...</td>\n",
       "      <td>...</td>\n",
       "      <td>...</td>\n",
       "      <td>...</td>\n",
       "      <td>...</td>\n",
       "      <td>...</td>\n",
       "      <td>...</td>\n",
       "      <td>...</td>\n",
       "    </tr>\n",
       "    <tr>\n",
       "      <th>3810</th>\n",
       "      <td>tt9678962</td>\n",
       "      <td>Fuel</td>\n",
       "      <td>Fuel</td>\n",
       "      <td>2018</td>\n",
       "      <td>nan</td>\n",
       "      <td>Documentary,Sport</td>\n",
       "      <td>35</td>\n",
       "      <td>Nov 14, 2008</td>\n",
       "      <td>Fuel</td>\n",
       "      <td>$2,500,000</td>\n",
       "      <td>$174,255</td>\n",
       "      <td>$174,255</td>\n",
       "    </tr>\n",
       "    <tr>\n",
       "      <th>3811</th>\n",
       "      <td>tt9729206</td>\n",
       "      <td>Diner</td>\n",
       "      <td>Diner</td>\n",
       "      <td>2019</td>\n",
       "      <td>nan</td>\n",
       "      <td>Crime</td>\n",
       "      <td>11</td>\n",
       "      <td>Apr 2, 1982</td>\n",
       "      <td>Diner</td>\n",
       "      <td>$5,000,000</td>\n",
       "      <td>$12,592,907</td>\n",
       "      <td>$12,592,907</td>\n",
       "    </tr>\n",
       "    <tr>\n",
       "      <th>3812</th>\n",
       "      <td>tt9805168</td>\n",
       "      <td>Traitor</td>\n",
       "      <td>Traitor</td>\n",
       "      <td>2015</td>\n",
       "      <td>110.00</td>\n",
       "      <td>Action,Drama,Romance</td>\n",
       "      <td>25</td>\n",
       "      <td>Aug 27, 2008</td>\n",
       "      <td>Traitor</td>\n",
       "      <td>$22,000,000</td>\n",
       "      <td>$23,530,831</td>\n",
       "      <td>$27,882,226</td>\n",
       "    </tr>\n",
       "    <tr>\n",
       "      <th>3813</th>\n",
       "      <td>tt9844102</td>\n",
       "      <td>Ray</td>\n",
       "      <td>Ray</td>\n",
       "      <td>2018</td>\n",
       "      <td>111.00</td>\n",
       "      <td>Crime</td>\n",
       "      <td>8</td>\n",
       "      <td>Oct 29, 2004</td>\n",
       "      <td>Ray</td>\n",
       "      <td>$40,000,000</td>\n",
       "      <td>$75,305,995</td>\n",
       "      <td>$124,823,094</td>\n",
       "    </tr>\n",
       "    <tr>\n",
       "      <th>3814</th>\n",
       "      <td>tt9893078</td>\n",
       "      <td>Sublime</td>\n",
       "      <td>Sublime</td>\n",
       "      <td>2019</td>\n",
       "      <td>nan</td>\n",
       "      <td>Documentary</td>\n",
       "      <td>30</td>\n",
       "      <td>Mar 13, 2007</td>\n",
       "      <td>Sublime</td>\n",
       "      <td>$1,800,000</td>\n",
       "      <td>$0</td>\n",
       "      <td>$0</td>\n",
       "    </tr>\n",
       "  </tbody>\n",
       "</table>\n",
       "<p>3815 rows × 12 columns</p>\n",
       "</div>"
      ],
      "text/plain": [
       "         tconst  primary_title original_title  start_year  runtime_minutes  \\\n",
       "0     tt0249516     Foodfight!     Foodfight!        2012            91.00   \n",
       "1     tt0293429  Mortal Kombat  Mortal Kombat        2021              nan   \n",
       "2     tt0326592  The Overnight  The Overnight        2010            88.00   \n",
       "3     tt3844362  The Overnight  The Overnight        2015            79.00   \n",
       "4     tt0337692    On the Road    On the Road        2012           124.00   \n",
       "...         ...            ...            ...         ...              ...   \n",
       "3810  tt9678962           Fuel           Fuel        2018              nan   \n",
       "3811  tt9729206          Diner          Diner        2019              nan   \n",
       "3812  tt9805168        Traitor        Traitor        2015           110.00   \n",
       "3813  tt9844102            Ray            Ray        2018           111.00   \n",
       "3814  tt9893078        Sublime        Sublime        2019              nan   \n",
       "\n",
       "                        genres  id  release_date          movie  \\\n",
       "0      Action,Animation,Comedy  26  Dec 31, 2012     Foodfight!   \n",
       "1     Action,Adventure,Fantasy  10  Aug 18, 1995  Mortal Kombat   \n",
       "2                          NaN  21  Jun 19, 2015  The Overnight   \n",
       "3               Comedy,Mystery  21  Jun 19, 2015  The Overnight   \n",
       "4      Adventure,Drama,Romance  17  Mar 22, 2013    On the Road   \n",
       "...                        ...  ..           ...            ...   \n",
       "3810         Documentary,Sport  35  Nov 14, 2008           Fuel   \n",
       "3811                     Crime  11   Apr 2, 1982          Diner   \n",
       "3812      Action,Drama,Romance  25  Aug 27, 2008        Traitor   \n",
       "3813                     Crime   8  Oct 29, 2004            Ray   \n",
       "3814               Documentary  30  Mar 13, 2007        Sublime   \n",
       "\n",
       "     production_budget domestic_gross worldwide_gross  \n",
       "0          $45,000,000             $0         $73,706  \n",
       "1          $20,000,000    $70,433,227    $122,133,227  \n",
       "2             $200,000     $1,109,808      $1,165,996  \n",
       "3             $200,000     $1,109,808      $1,165,996  \n",
       "4          $25,000,000       $720,828      $9,313,302  \n",
       "...                ...            ...             ...  \n",
       "3810        $2,500,000       $174,255        $174,255  \n",
       "3811        $5,000,000    $12,592,907     $12,592,907  \n",
       "3812       $22,000,000    $23,530,831     $27,882,226  \n",
       "3813       $40,000,000    $75,305,995    $124,823,094  \n",
       "3814        $1,800,000             $0              $0  \n",
       "\n",
       "[3815 rows x 12 columns]"
      ]
     },
     "execution_count": 7,
     "metadata": {},
     "output_type": "execute_result"
    }
   ],
   "source": [
    "## Merging title_basics and movie_basics on primary title\n",
    "\n",
    "merged_basics_primary = pd.merge(title_basics,movie_basics, \n",
    "                                 left_on= 'primary_title', right_on= 'movie')\n",
    "merged_basics_primary"
   ]
  },
  {
   "cell_type": "code",
   "execution_count": 9,
   "metadata": {
    "ExecuteTime": {
     "end_time": "2021-06-24T19:17:25.730260Z",
     "start_time": "2021-06-24T19:17:25.716268Z"
    },
    "hidden": true
   },
   "outputs": [],
   "source": [
    "df = merged_basics_primary.copy()"
   ]
  },
  {
   "cell_type": "markdown",
   "metadata": {
    "heading_collapsed": true,
    "hidden": true
   },
   "source": [
    "### Removing Redundant \"Movie\" Column"
   ]
  },
  {
   "cell_type": "code",
   "execution_count": 11,
   "metadata": {
    "ExecuteTime": {
     "end_time": "2021-06-24T19:17:25.760287Z",
     "start_time": "2021-06-24T19:17:25.747258Z"
    },
    "hidden": true
   },
   "outputs": [],
   "source": [
    "## Verifying all titles/movies match - np.where faster than logical slicing\n",
    "\n",
    "for x in np.where((df.loc[:,'primary_title'] != df.loc[:,'movie']),1,0):\n",
    "    if x == 1:\n",
    "        print(x)"
   ]
  },
  {
   "cell_type": "code",
   "execution_count": 12,
   "metadata": {
    "ExecuteTime": {
     "end_time": "2021-06-24T19:17:25.776288Z",
     "start_time": "2021-06-24T19:17:25.762255Z"
    },
    "code_folding": [],
    "hidden": true
   },
   "outputs": [
    {
     "data": {
      "text/plain": [
       "False"
      ]
     },
     "execution_count": 12,
     "metadata": {},
     "output_type": "execute_result"
    }
   ],
   "source": [
    "## Dropping redundant \"movie\" column -  incl t/e to be able to rerun notebook\n",
    "\n",
    "for col in df.columns:\n",
    "    try:\n",
    "        df.drop('movie', axis=1, inplace=True)\n",
    "    except:\n",
    "        pass\n",
    "    \n",
    "## Confirming removal\n",
    "'movie' in df.columns"
   ]
  },
  {
   "cell_type": "markdown",
   "metadata": {
    "heading_collapsed": true
   },
   "source": [
    "## Converting Currencies from Str to Int"
   ]
  },
  {
   "cell_type": "code",
   "execution_count": 13,
   "metadata": {
    "ExecuteTime": {
     "end_time": "2021-06-24T19:17:25.807255Z",
     "start_time": "2021-06-24T19:17:25.778255Z"
    },
    "code_folding": [],
    "hidden": true
   },
   "outputs": [
    {
     "data": {
      "text/plain": [
       "0    45000000\n",
       "1    20000000\n",
       "2      200000\n",
       "Name: production_budget, dtype: int64"
      ]
     },
     "metadata": {},
     "output_type": "display_data"
    },
    {
     "data": {
      "text/plain": [
       "0        73706\n",
       "1    122133227\n",
       "2      1165996\n",
       "Name: worldwide_gross, dtype: int64"
      ]
     },
     "metadata": {},
     "output_type": "display_data"
    },
    {
     "data": {
      "text/plain": [
       "0           0\n",
       "1    70433227\n",
       "2     1109808\n",
       "Name: domestic_gross, dtype: int64"
      ]
     },
     "metadata": {},
     "output_type": "display_data"
    }
   ],
   "source": [
    "## Converting gross amounts from strings to integers and removing \n",
    "\n",
    "dollar_to_int = ['production_budget','worldwide_gross','domestic_gross']\n",
    "\n",
    "for i in dollar_to_int:\n",
    "    try:\n",
    "        df[i] = df[i].map((lambda x: int(x.replace('$','').replace(',',''))))\n",
    "\n",
    "    except Exception:\n",
    "        print('---'*25)\n",
    "        print('Already converted.')\n",
    "        print()\n",
    "        \n",
    "    display(df[i][:3])"
   ]
  },
  {
   "cell_type": "markdown",
   "metadata": {},
   "source": [
    "## Handling Null Values"
   ]
  },
  {
   "cell_type": "code",
   "execution_count": 18,
   "metadata": {
    "ExecuteTime": {
     "end_time": "2021-06-24T19:22:20.753658Z",
     "start_time": "2021-06-24T19:22:20.743661Z"
    }
   },
   "outputs": [],
   "source": [
    "df_filled = df.copy()"
   ]
  },
  {
   "cell_type": "markdown",
   "metadata": {
    "heading_collapsed": true
   },
   "source": [
    "### identifying Null Values"
   ]
  },
  {
   "cell_type": "code",
   "execution_count": 14,
   "metadata": {
    "ExecuteTime": {
     "end_time": "2021-06-24T19:17:25.823289Z",
     "start_time": "2021-06-24T19:17:25.809259Z"
    },
    "code_folding": [],
    "collapsed": true,
    "hidden": true
   },
   "outputs": [
    {
     "data": {
      "text/plain": [
       "tconst                 0\n",
       "primary_title          0\n",
       "original_title         1\n",
       "start_year             0\n",
       "runtime_minutes      487\n",
       "genres                72\n",
       "id                     0\n",
       "release_date           0\n",
       "production_budget      0\n",
       "domestic_gross         0\n",
       "worldwide_gross        0\n",
       "dtype: int64"
      ]
     },
     "metadata": {},
     "output_type": "display_data"
    }
   ],
   "source": [
    "## Identify the total number of missing values for the dataframe\n",
    "\n",
    "display(df.isna().sum())"
   ]
  },
  {
   "cell_type": "code",
   "execution_count": 15,
   "metadata": {
    "ExecuteTime": {
     "end_time": "2021-06-24T19:17:25.838289Z",
     "start_time": "2021-06-24T19:17:25.825263Z"
    },
    "code_folding": [],
    "hidden": true
   },
   "outputs": [],
   "source": [
    "## Creating function to diagnose data for null values and generate report\n",
    "def check_null(df):\n",
    "    '''Checks a given dataframe for null values in each column.\n",
    "    \n",
    "    If no null values, it prints out a confirmation of no null values.\n",
    "    \n",
    "    If null values are found, it generates a report a report indicating:\n",
    "        * Column name\n",
    "        * Datatype\n",
    "        * If object: prints most frequent value and count\n",
    "        * If int/float: prints mean, median of values for the column with null\n",
    "        values'''\n",
    "    \n",
    "    col_nan = [pair[0] for pair in zip(df.columns, df.isna().sum()) if pair[1] != 0]\n",
    "   \n",
    "    if len(col_nan) >= 1:\n",
    "        print()\n",
    "        print('The columns with missing values is/are:')\n",
    "        print()\n",
    "        print('------')\n",
    "    \n",
    "    else:\n",
    "        print('There are no null values.')\n",
    "\n",
    "    for i in col_nan:\n",
    "\n",
    "        print()\n",
    "        print(f\"** '{i}' **\")\n",
    "        print()\n",
    "        print(f'Dataype: {df[i].dtype}')\n",
    "        print()\n",
    "\n",
    "        if df[i].dtype  == 'object':\n",
    "            print(f'Mode: {df[i].value_counts().index[1]} ({df[i].value_counts()[1]}x)')\n",
    "            print()\n",
    "            print('------'*5)\n",
    "\n",
    "        elif [(df[i].dtype  == 'int64') or df[i].dtype  == 'float64']:\n",
    "            print(f'Mean: {df[i].mean():.2f}')\n",
    "            print(f'Median: {df[i].median():.2f}')\n",
    "            print()\n",
    "            print('------'*5)\n",
    "\n",
    "        else:\n",
    "            print('------'*5)\n",
    "            \n",
    "            \n",
    "    return"
   ]
  },
  {
   "cell_type": "code",
   "execution_count": 17,
   "metadata": {
    "ExecuteTime": {
     "end_time": "2021-06-24T19:17:37.779217Z",
     "start_time": "2021-06-24T19:17:37.757214Z"
    },
    "code_folding": [],
    "hidden": true
   },
   "outputs": [
    {
     "name": "stdout",
     "output_type": "stream",
     "text": [
      "\n",
      "The columns with missing values is/are:\n",
      "\n",
      "------\n",
      "\n",
      "** 'original_title' **\n",
      "\n",
      "Dataype: object\n",
      "\n",
      "Mode: The Gift (24x)\n",
      "\n",
      "------------------------------\n",
      "\n",
      "** 'runtime_minutes' **\n",
      "\n",
      "Dataype: float64\n",
      "\n",
      "Mean: 97.20\n",
      "Median: 98.00\n",
      "\n",
      "------------------------------\n",
      "\n",
      "** 'genres' **\n",
      "\n",
      "Dataype: object\n",
      "\n",
      "Mode: Documentary (290x)\n",
      "\n",
      "------------------------------\n"
     ]
    }
   ],
   "source": [
    "## Running function and confirming functionality\n",
    "\n",
    "check_null(df)"
   ]
  },
  {
   "cell_type": "markdown",
   "metadata": {
    "heading_collapsed": true,
    "hidden": true
   },
   "source": [
    "#### *Deprecated*"
   ]
  },
  {
   "cell_type": "code",
   "execution_count": null,
   "metadata": {
    "ExecuteTime": {
     "end_time": "2021-06-24T19:08:01.739273Z",
     "start_time": "2021-06-24T19:08:01.731273Z"
    },
    "code_folding": [
     0
    ],
    "hidden": true
   },
   "outputs": [],
   "source": [
    "## Deprecated\n",
    "\n",
    "# def check_null_old(df):\n",
    "#     col_nan = []\n",
    "#     for pair in zip(df.columns, df.isna().sum()):\n",
    "#         if pair[1] == 0:\n",
    "#             pass\n",
    "#         else:\n",
    "#             col_nan.append(pair[0])\n",
    "\n",
    "#     if len(col_nan) >= 1:\n",
    "#         print()\n",
    "#         print('The columns with missing values is/are:')\n",
    "#         print()\n",
    "#         print('------')\n",
    "\n",
    "#     for i in col_nan:\n",
    "\n",
    "#         print()\n",
    "#         print(f\"** '{i}' **\")\n",
    "#         print()\n",
    "#         print(f'Dataype: {df[i].dtype}')\n",
    "#         print()\n",
    "\n",
    "#         if df[i].dtype  == 'object':\n",
    "#             print(f'Mode: {df[i].value_counts().index[1]} ({df[i].value_counts()[1]}x)')\n",
    "#             print()\n",
    "#             print('------'*5)\n",
    "\n",
    "#         elif [(df[i].dtype  == 'int64') or df[i].dtype  == 'float64']:\n",
    "#             print(f'Mean: {df[i].mean():.2f}')\n",
    "#             print(f'Median: {df[i].median():.2f}')\n",
    "#             print()\n",
    "#             print('------'*5)\n",
    "\n",
    "#         else:\n",
    "#             print('------'*5)\n",
    "            \n",
    "            \n",
    "#     return"
   ]
  },
  {
   "cell_type": "markdown",
   "metadata": {
    "heading_collapsed": true
   },
   "source": [
    "### Filling Missing `runtime_minutes`"
   ]
  },
  {
   "cell_type": "code",
   "execution_count": 20,
   "metadata": {
    "ExecuteTime": {
     "end_time": "2021-06-24T19:23:16.546592Z",
     "start_time": "2021-06-24T19:23:16.536579Z"
    },
    "hidden": true
   },
   "outputs": [
    {
     "name": "stdout",
     "output_type": "stream",
     "text": [
      "The average and median runtimes are: 97.20 and 98.00\n",
      "\n",
      "The difference between the average and median values is: 0.80\n"
     ]
    }
   ],
   "source": [
    "## Calculating mean & median values to determine fill value for missing values\n",
    "\n",
    "mean_runtime = df[\"runtime_minutes\"].mean()\n",
    "\n",
    "median_runtime = df[\"runtime_minutes\"].median()\n",
    "\n",
    "abs_diff = abs(mean_runtime-median_runtime)\n",
    "\n",
    "print(f'The average and median runtimes are: {mean_runtime:,.2f} and {median_runtime:,.2f}')\n",
    "print()\n",
    "print(f'The difference between the average and median values is: {abs_diff:,.2f}')"
   ]
  },
  {
   "cell_type": "markdown",
   "metadata": {
    "hidden": true
   },
   "source": [
    ">Based on the minimal difference in values, either value would be a valid representation of the overall data.\n",
    ">\n",
    ">I will select the average value to fill for missing values as we don't have significant outliers. Outliers would increase the difference between the values and affect our later inferences."
   ]
  },
  {
   "cell_type": "code",
   "execution_count": 21,
   "metadata": {
    "ExecuteTime": {
     "end_time": "2021-06-24T19:24:44.455243Z",
     "start_time": "2021-06-24T19:24:44.438215Z"
    },
    "hidden": true
   },
   "outputs": [],
   "source": [
    "## Filling missing value with the pre-calcuated average\n",
    "\n",
    "df_filled['runtime_minutes'].fillna(mean_runtime, inplace=True)"
   ]
  },
  {
   "cell_type": "code",
   "execution_count": 44,
   "metadata": {
    "ExecuteTime": {
     "end_time": "2021-06-24T19:39:31.070270Z",
     "start_time": "2021-06-24T19:39:31.057237Z"
    },
    "hidden": true
   },
   "outputs": [
    {
     "data": {
      "text/plain": [
       "0"
      ]
     },
     "execution_count": 44,
     "metadata": {},
     "output_type": "execute_result"
    }
   ],
   "source": [
    "## Confirming the value was filled.\n",
    "\n",
    "df_filled['original_title'].isna().sum()"
   ]
  },
  {
   "cell_type": "code",
   "execution_count": 45,
   "metadata": {
    "ExecuteTime": {
     "end_time": "2021-06-24T19:39:43.293191Z",
     "start_time": "2021-06-24T19:39:43.277189Z"
    },
    "hidden": true,
    "scrolled": true
   },
   "outputs": [
    {
     "name": "stdout",
     "output_type": "stream",
     "text": [
      "\n",
      "The columns with missing values is/are:\n",
      "\n",
      "------\n",
      "\n",
      "** 'genres' **\n",
      "\n",
      "Dataype: object\n",
      "\n",
      "Mode: Documentary (290x)\n",
      "\n",
      "------------------------------\n"
     ]
    }
   ],
   "source": [
    "## Checking remaining columns with null values\n",
    "\n",
    "check_null(df_filled)"
   ]
  },
  {
   "cell_type": "markdown",
   "metadata": {
    "heading_collapsed": true
   },
   "source": [
    "### Filling `original_title`"
   ]
  },
  {
   "cell_type": "code",
   "execution_count": 25,
   "metadata": {
    "ExecuteTime": {
     "end_time": "2021-06-24T19:26:09.457227Z",
     "start_time": "2021-06-24T19:26:09.444226Z"
    },
    "hidden": true
   },
   "outputs": [
    {
     "data": {
      "text/html": [
       "<div>\n",
       "<style scoped>\n",
       "    .dataframe tbody tr th:only-of-type {\n",
       "        vertical-align: middle;\n",
       "    }\n",
       "\n",
       "    .dataframe tbody tr th {\n",
       "        vertical-align: top;\n",
       "    }\n",
       "\n",
       "    .dataframe thead th {\n",
       "        text-align: right;\n",
       "    }\n",
       "</style>\n",
       "<table border=\"1\" class=\"dataframe\">\n",
       "  <thead>\n",
       "    <tr style=\"text-align: right;\">\n",
       "      <th></th>\n",
       "      <th>tconst</th>\n",
       "      <th>primary_title</th>\n",
       "      <th>original_title</th>\n",
       "      <th>start_year</th>\n",
       "      <th>runtime_minutes</th>\n",
       "      <th>genres</th>\n",
       "      <th>id</th>\n",
       "      <th>release_date</th>\n",
       "      <th>production_budget</th>\n",
       "      <th>domestic_gross</th>\n",
       "      <th>worldwide_gross</th>\n",
       "    </tr>\n",
       "  </thead>\n",
       "  <tbody>\n",
       "    <tr>\n",
       "      <th>447</th>\n",
       "      <td>tt4732998</td>\n",
       "      <td>Limbo</td>\n",
       "      <td>NaN</td>\n",
       "      <td>2017</td>\n",
       "      <td>97.20</td>\n",
       "      <td>NaN</td>\n",
       "      <td>55</td>\n",
       "      <td>Jun 4, 1999</td>\n",
       "      <td>8300000</td>\n",
       "      <td>2160710</td>\n",
       "      <td>2598224</td>\n",
       "    </tr>\n",
       "  </tbody>\n",
       "</table>\n",
       "</div>"
      ],
      "text/plain": [
       "        tconst primary_title original_title  start_year  runtime_minutes  \\\n",
       "447  tt4732998         Limbo            NaN        2017            97.20   \n",
       "\n",
       "    genres  id release_date  production_budget  domestic_gross  \\\n",
       "447    NaN  55  Jun 4, 1999            8300000         2160710   \n",
       "\n",
       "     worldwide_gross  \n",
       "447          2598224  "
      ]
     },
     "execution_count": 25,
     "metadata": {},
     "output_type": "execute_result"
    }
   ],
   "source": [
    "## Identifying missing value\n",
    "\n",
    "df_filled[df_filled['original_title'].isna()]"
   ]
  },
  {
   "cell_type": "markdown",
   "metadata": {
    "hidden": true
   },
   "source": [
    "> Looks like this feature is only missing one value. I will try to use the \"titles_aka\" dataframe from the original datasets to check if there was a different name. Otherwise, I will use the primary title."
   ]
  },
  {
   "cell_type": "markdown",
   "metadata": {
    "hidden": true
   },
   "source": [
    "#### Trying the 'title_akas\" dataframe"
   ]
  },
  {
   "cell_type": "code",
   "execution_count": 86,
   "metadata": {
    "ExecuteTime": {
     "end_time": "2021-06-24T19:59:55.686032Z",
     "start_time": "2021-06-24T19:59:55.679033Z"
    },
    "hidden": true
   },
   "outputs": [
    {
     "data": {
      "text/plain": [
       "'tt4732998'"
      ]
     },
     "execution_count": 86,
     "metadata": {},
     "output_type": "execute_result"
    }
   ],
   "source": [
    "## Identifying ID of missing movie\n",
    "\n",
    "id_missing_title = df_filled.iloc[447][0]\n",
    "id_missing_title"
   ]
  },
  {
   "cell_type": "code",
   "execution_count": 104,
   "metadata": {
    "ExecuteTime": {
     "end_time": "2021-06-24T20:07:12.203556Z",
     "start_time": "2021-06-24T20:07:12.179562Z"
    },
    "hidden": true
   },
   "outputs": [
    {
     "data": {
      "text/plain": [
       "False"
      ]
     },
     "execution_count": 104,
     "metadata": {},
     "output_type": "execute_result"
    }
   ],
   "source": [
    "## Checking to see if the movie is in the table.\n",
    "\n",
    "id_missing_title in title_akas['title_id'].values"
   ]
  },
  {
   "cell_type": "markdown",
   "metadata": {
    "hidden": true
   },
   "source": [
    "> Looks like the ID is not in the \"title_akas\" dataframe. I will use the primary title instead."
   ]
  },
  {
   "cell_type": "markdown",
   "metadata": {
    "hidden": true
   },
   "source": [
    "#### Using Primary title"
   ]
  },
  {
   "cell_type": "code",
   "execution_count": 37,
   "metadata": {
    "ExecuteTime": {
     "end_time": "2021-06-24T19:30:50.143303Z",
     "start_time": "2021-06-24T19:30:50.124333Z"
    },
    "hidden": true
   },
   "outputs": [
    {
     "data": {
      "text/plain": [
       "primary_title     Limbo\n",
       "original_title      NaN\n",
       "Name: 447, dtype: object"
      ]
     },
     "execution_count": 37,
     "metadata": {},
     "output_type": "execute_result"
    }
   ],
   "source": [
    "## Slicing out the titles for replacement\n",
    "\n",
    "df_filled.iloc[447][1:3]"
   ]
  },
  {
   "cell_type": "code",
   "execution_count": 39,
   "metadata": {
    "ExecuteTime": {
     "end_time": "2021-06-24T19:31:08.318198Z",
     "start_time": "2021-06-24T19:31:08.303196Z"
    },
    "hidden": true
   },
   "outputs": [
    {
     "data": {
      "text/plain": [
       "'Limbo'"
      ]
     },
     "execution_count": 39,
     "metadata": {},
     "output_type": "execute_result"
    }
   ],
   "source": [
    "## Creating variable for fillna()\n",
    "\n",
    "fill_title = df_filled.iloc[447][1]\n",
    "fill_title"
   ]
  },
  {
   "cell_type": "code",
   "execution_count": 41,
   "metadata": {
    "ExecuteTime": {
     "end_time": "2021-06-24T19:32:00.977401Z",
     "start_time": "2021-06-24T19:32:00.972406Z"
    },
    "hidden": true
   },
   "outputs": [],
   "source": [
    "## Filling missing value with title\n",
    "\n",
    "df_filled['original_title'].fillna('fill_title', inplace=True)"
   ]
  },
  {
   "cell_type": "code",
   "execution_count": 42,
   "metadata": {
    "ExecuteTime": {
     "end_time": "2021-06-24T19:32:08.843441Z",
     "start_time": "2021-06-24T19:32:08.830441Z"
    },
    "hidden": true
   },
   "outputs": [
    {
     "data": {
      "text/plain": [
       "0"
      ]
     },
     "execution_count": 42,
     "metadata": {},
     "output_type": "execute_result"
    }
   ],
   "source": [
    "## Confirming the value was filled\n",
    "\n",
    "df_filled['original_title'].isna().sum()"
   ]
  },
  {
   "cell_type": "markdown",
   "metadata": {
    "heading_collapsed": true,
    "hidden": true
   },
   "source": [
    "#### Summary"
   ]
  },
  {
   "cell_type": "markdown",
   "metadata": {
    "hidden": true
   },
   "source": [
    "> I identified the single missing null value for the \"original_title\" column.\n",
    ">\n",
    "> I decided to fill the value with the \"primary_title\" value as many other columns in the dataframe shared primary/original titles as well.\n",
    ">\n",
    "> I used .iloc indexing to slice out the value and then filled the missing value via the .fillna() method\n",
    ">\n",
    "> The final result is a filled column."
   ]
  },
  {
   "cell_type": "code",
   "execution_count": 43,
   "metadata": {
    "ExecuteTime": {
     "end_time": "2021-06-24T19:33:54.962396Z",
     "start_time": "2021-06-24T19:33:54.940359Z"
    },
    "hidden": true,
    "scrolled": true
   },
   "outputs": [
    {
     "name": "stdout",
     "output_type": "stream",
     "text": [
      "\n",
      "The columns with missing values is/are:\n",
      "\n",
      "------\n",
      "\n",
      "** 'genres' **\n",
      "\n",
      "Dataype: object\n",
      "\n",
      "Mode: Documentary (290x)\n",
      "\n",
      "------------------------------\n"
     ]
    }
   ],
   "source": [
    "## Checking remaining columns with null values\n",
    "\n",
    "check_null(df_filled)"
   ]
  },
  {
   "cell_type": "markdown",
   "metadata": {},
   "source": [
    "### Filling `genres`"
   ]
  },
  {
   "cell_type": "code",
   "execution_count": 47,
   "metadata": {
    "ExecuteTime": {
     "end_time": "2021-06-24T19:40:39.838394Z",
     "start_time": "2021-06-24T19:40:39.806405Z"
    }
   },
   "outputs": [
    {
     "data": {
      "text/html": [
       "<div>\n",
       "<style scoped>\n",
       "    .dataframe tbody tr th:only-of-type {\n",
       "        vertical-align: middle;\n",
       "    }\n",
       "\n",
       "    .dataframe tbody tr th {\n",
       "        vertical-align: top;\n",
       "    }\n",
       "\n",
       "    .dataframe thead th {\n",
       "        text-align: right;\n",
       "    }\n",
       "</style>\n",
       "<table border=\"1\" class=\"dataframe\">\n",
       "  <thead>\n",
       "    <tr style=\"text-align: right;\">\n",
       "      <th></th>\n",
       "      <th>tconst</th>\n",
       "      <th>primary_title</th>\n",
       "      <th>original_title</th>\n",
       "      <th>start_year</th>\n",
       "      <th>runtime_minutes</th>\n",
       "      <th>genres</th>\n",
       "      <th>id</th>\n",
       "      <th>release_date</th>\n",
       "      <th>production_budget</th>\n",
       "      <th>domestic_gross</th>\n",
       "      <th>worldwide_gross</th>\n",
       "    </tr>\n",
       "  </thead>\n",
       "  <tbody>\n",
       "    <tr>\n",
       "      <th>2</th>\n",
       "      <td>tt0326592</td>\n",
       "      <td>The Overnight</td>\n",
       "      <td>The Overnight</td>\n",
       "      <td>2010</td>\n",
       "      <td>88.00</td>\n",
       "      <td>NaN</td>\n",
       "      <td>21</td>\n",
       "      <td>Jun 19, 2015</td>\n",
       "      <td>200000</td>\n",
       "      <td>1109808</td>\n",
       "      <td>1165996</td>\n",
       "    </tr>\n",
       "    <tr>\n",
       "      <th>109</th>\n",
       "      <td>tt6634536</td>\n",
       "      <td>Red Dog</td>\n",
       "      <td>Red Dog</td>\n",
       "      <td>2017</td>\n",
       "      <td>97.20</td>\n",
       "      <td>NaN</td>\n",
       "      <td>67</td>\n",
       "      <td>Dec 31, 2011</td>\n",
       "      <td>9100000</td>\n",
       "      <td>0</td>\n",
       "      <td>20927794</td>\n",
       "    </tr>\n",
       "    <tr>\n",
       "      <th>180</th>\n",
       "      <td>tt6858500</td>\n",
       "      <td>Robin Hood</td>\n",
       "      <td>Robin Hood</td>\n",
       "      <td>2018</td>\n",
       "      <td>97.20</td>\n",
       "      <td>NaN</td>\n",
       "      <td>39</td>\n",
       "      <td>May 14, 2010</td>\n",
       "      <td>210000000</td>\n",
       "      <td>105487148</td>\n",
       "      <td>322459006</td>\n",
       "    </tr>\n",
       "    <tr>\n",
       "      <th>181</th>\n",
       "      <td>tt6858500</td>\n",
       "      <td>Robin Hood</td>\n",
       "      <td>Robin Hood</td>\n",
       "      <td>2018</td>\n",
       "      <td>97.20</td>\n",
       "      <td>NaN</td>\n",
       "      <td>9</td>\n",
       "      <td>Nov 21, 2018</td>\n",
       "      <td>99000000</td>\n",
       "      <td>30824628</td>\n",
       "      <td>84747441</td>\n",
       "    </tr>\n",
       "    <tr>\n",
       "      <th>217</th>\n",
       "      <td>tt4532628</td>\n",
       "      <td>The Promise</td>\n",
       "      <td>Ghoul</td>\n",
       "      <td>2014</td>\n",
       "      <td>75.00</td>\n",
       "      <td>NaN</td>\n",
       "      <td>78</td>\n",
       "      <td>Apr 21, 2017</td>\n",
       "      <td>90000000</td>\n",
       "      <td>8224288</td>\n",
       "      <td>10551417</td>\n",
       "    </tr>\n",
       "    <tr>\n",
       "      <th>...</th>\n",
       "      <td>...</td>\n",
       "      <td>...</td>\n",
       "      <td>...</td>\n",
       "      <td>...</td>\n",
       "      <td>...</td>\n",
       "      <td>...</td>\n",
       "      <td>...</td>\n",
       "      <td>...</td>\n",
       "      <td>...</td>\n",
       "      <td>...</td>\n",
       "      <td>...</td>\n",
       "    </tr>\n",
       "    <tr>\n",
       "      <th>3675</th>\n",
       "      <td>tt6448350</td>\n",
       "      <td>Shine a Light</td>\n",
       "      <td>Shine a Light</td>\n",
       "      <td>2010</td>\n",
       "      <td>97.20</td>\n",
       "      <td>NaN</td>\n",
       "      <td>34</td>\n",
       "      <td>Apr 4, 2008</td>\n",
       "      <td>1000000</td>\n",
       "      <td>5505267</td>\n",
       "      <td>16173879</td>\n",
       "    </tr>\n",
       "    <tr>\n",
       "      <th>3690</th>\n",
       "      <td>tt6612954</td>\n",
       "      <td>The Dress</td>\n",
       "      <td>The Dress</td>\n",
       "      <td>2017</td>\n",
       "      <td>127.00</td>\n",
       "      <td>NaN</td>\n",
       "      <td>99</td>\n",
       "      <td>Jan 16, 1998</td>\n",
       "      <td>2650000</td>\n",
       "      <td>16556</td>\n",
       "      <td>16556</td>\n",
       "    </tr>\n",
       "    <tr>\n",
       "      <th>3691</th>\n",
       "      <td>tt6616538</td>\n",
       "      <td>Bang</td>\n",
       "      <td>Bang</td>\n",
       "      <td>2015</td>\n",
       "      <td>97.20</td>\n",
       "      <td>NaN</td>\n",
       "      <td>70</td>\n",
       "      <td>Apr 1, 1996</td>\n",
       "      <td>10000</td>\n",
       "      <td>527</td>\n",
       "      <td>527</td>\n",
       "    </tr>\n",
       "    <tr>\n",
       "      <th>3709</th>\n",
       "      <td>tt6962340</td>\n",
       "      <td>The Touch</td>\n",
       "      <td>The Touch</td>\n",
       "      <td>2017</td>\n",
       "      <td>48.00</td>\n",
       "      <td>NaN</td>\n",
       "      <td>10</td>\n",
       "      <td>Mar 31, 2004</td>\n",
       "      <td>20000000</td>\n",
       "      <td>0</td>\n",
       "      <td>5918742</td>\n",
       "    </tr>\n",
       "    <tr>\n",
       "      <th>3781</th>\n",
       "      <td>tt8619504</td>\n",
       "      <td>Without Limits</td>\n",
       "      <td>Without Limits</td>\n",
       "      <td>2018</td>\n",
       "      <td>97.20</td>\n",
       "      <td>NaN</td>\n",
       "      <td>16</td>\n",
       "      <td>Sep 11, 1998</td>\n",
       "      <td>25000000</td>\n",
       "      <td>780326</td>\n",
       "      <td>780326</td>\n",
       "    </tr>\n",
       "  </tbody>\n",
       "</table>\n",
       "<p>72 rows × 11 columns</p>\n",
       "</div>"
      ],
      "text/plain": [
       "         tconst   primary_title  original_title  start_year  runtime_minutes  \\\n",
       "2     tt0326592   The Overnight   The Overnight        2010            88.00   \n",
       "109   tt6634536         Red Dog         Red Dog        2017            97.20   \n",
       "180   tt6858500      Robin Hood      Robin Hood        2018            97.20   \n",
       "181   tt6858500      Robin Hood      Robin Hood        2018            97.20   \n",
       "217   tt4532628     The Promise           Ghoul        2014            75.00   \n",
       "...         ...             ...             ...         ...              ...   \n",
       "3675  tt6448350   Shine a Light   Shine a Light        2010            97.20   \n",
       "3690  tt6612954       The Dress       The Dress        2017           127.00   \n",
       "3691  tt6616538            Bang            Bang        2015            97.20   \n",
       "3709  tt6962340       The Touch       The Touch        2017            48.00   \n",
       "3781  tt8619504  Without Limits  Without Limits        2018            97.20   \n",
       "\n",
       "     genres  id  release_date  production_budget  domestic_gross  \\\n",
       "2       NaN  21  Jun 19, 2015             200000         1109808   \n",
       "109     NaN  67  Dec 31, 2011            9100000               0   \n",
       "180     NaN  39  May 14, 2010          210000000       105487148   \n",
       "181     NaN   9  Nov 21, 2018           99000000        30824628   \n",
       "217     NaN  78  Apr 21, 2017           90000000         8224288   \n",
       "...     ...  ..           ...                ...             ...   \n",
       "3675    NaN  34   Apr 4, 2008            1000000         5505267   \n",
       "3690    NaN  99  Jan 16, 1998            2650000           16556   \n",
       "3691    NaN  70   Apr 1, 1996              10000             527   \n",
       "3709    NaN  10  Mar 31, 2004           20000000               0   \n",
       "3781    NaN  16  Sep 11, 1998           25000000          780326   \n",
       "\n",
       "      worldwide_gross  \n",
       "2             1165996  \n",
       "109          20927794  \n",
       "180         322459006  \n",
       "181          84747441  \n",
       "217          10551417  \n",
       "...               ...  \n",
       "3675         16173879  \n",
       "3690            16556  \n",
       "3691              527  \n",
       "3709          5918742  \n",
       "3781           780326  \n",
       "\n",
       "[72 rows x 11 columns]"
      ]
     },
     "execution_count": 47,
     "metadata": {},
     "output_type": "execute_result"
    }
   ],
   "source": [
    "## Identifying missing value\n",
    "\n",
    "df_filled[df_filled['genres'].isna()]"
   ]
  },
  {
   "cell_type": "markdown",
   "metadata": {},
   "source": [
    "> This series of missing values is much more difficult to fill versus the other three as I don't have any other rows to reference, and the datatype for the value would be a string, so I can't use mean/median."
   ]
  },
  {
   "cell_type": "code",
   "execution_count": null,
   "metadata": {},
   "outputs": [],
   "source": []
  },
  {
   "cell_type": "code",
   "execution_count": null,
   "metadata": {},
   "outputs": [],
   "source": []
  },
  {
   "cell_type": "code",
   "execution_count": null,
   "metadata": {},
   "outputs": [],
   "source": []
  },
  {
   "cell_type": "code",
   "execution_count": null,
   "metadata": {},
   "outputs": [],
   "source": []
  },
  {
   "cell_type": "code",
   "execution_count": null,
   "metadata": {},
   "outputs": [],
   "source": []
  },
  {
   "cell_type": "code",
   "execution_count": null,
   "metadata": {},
   "outputs": [],
   "source": []
  },
  {
   "cell_type": "code",
   "execution_count": null,
   "metadata": {},
   "outputs": [],
   "source": []
  },
  {
   "cell_type": "markdown",
   "metadata": {
    "heading_collapsed": true
   },
   "source": [
    "# **Feature Engineering**"
   ]
  },
  {
   "cell_type": "markdown",
   "metadata": {
    "heading_collapsed": true,
    "hidden": true
   },
   "source": [
    "## Creating Seasons and Quarters"
   ]
  },
  {
   "cell_type": "markdown",
   "metadata": {
    "heading_collapsed": true,
    "hidden": true
   },
   "source": [
    "### Datetime Approach"
   ]
  },
  {
   "cell_type": "code",
   "execution_count": null,
   "metadata": {
    "ExecuteTime": {
     "end_time": "2021-06-23T23:12:41.129535Z",
     "start_time": "2021-06-23T23:12:40.960537Z"
    },
    "hidden": true,
    "scrolled": true
   },
   "outputs": [],
   "source": [
    "## Changing release date to datetime datatype\n",
    "\n",
    "df_filled['release_datetime'] = pd.to_datetime(df_filled['release_date'])\n",
    "df_filled['release_datetime']"
   ]
  },
  {
   "cell_type": "code",
   "execution_count": null,
   "metadata": {
    "ExecuteTime": {
     "end_time": "2021-06-23T23:12:41.144536Z",
     "start_time": "2021-06-23T23:12:41.133540Z"
    },
    "hidden": true
   },
   "outputs": [],
   "source": [
    "## Using datetime dtype to create months column\n",
    "df_filled['release_month_dt'] = df_filled['release_datetime'].dt.month_name()\n",
    "df_filled['release_month_dt']"
   ]
  },
  {
   "cell_type": "code",
   "execution_count": null,
   "metadata": {
    "ExecuteTime": {
     "end_time": "2021-06-23T23:12:41.160541Z",
     "start_time": "2021-06-23T23:12:41.148544Z"
    },
    "hidden": true
   },
   "outputs": [],
   "source": [
    "df_filled['release_quarter'] = df_filled['release_datetime'].dt.quarter\n",
    "df_filled['release_quarter']"
   ]
  },
  {
   "cell_type": "markdown",
   "metadata": {
    "heading_collapsed": true,
    "hidden": true
   },
   "source": [
    "### Manual Approach"
   ]
  },
  {
   "cell_type": "code",
   "execution_count": null,
   "metadata": {
    "ExecuteTime": {
     "end_time": "2021-06-23T23:12:41.176536Z",
     "start_time": "2021-06-23T23:12:41.166540Z"
    },
    "hidden": true
   },
   "outputs": [],
   "source": [
    "## Inspecting original values\n",
    "df_filled['release_date'][:5]"
   ]
  },
  {
   "cell_type": "code",
   "execution_count": null,
   "metadata": {
    "ExecuteTime": {
     "end_time": "2021-06-23T23:12:41.192536Z",
     "start_time": "2021-06-23T23:12:41.179541Z"
    },
    "hidden": true,
    "scrolled": true
   },
   "outputs": [],
   "source": [
    "## Pulling month\n",
    "test_month = df_filled['release_date'][0][:3]\n",
    "test_month"
   ]
  },
  {
   "cell_type": "code",
   "execution_count": null,
   "metadata": {
    "ExecuteTime": {
     "end_time": "2021-06-23T23:12:41.208536Z",
     "start_time": "2021-06-23T23:12:41.195537Z"
    },
    "hidden": true
   },
   "outputs": [],
   "source": [
    "## Creating new column for the month of each release date\n",
    "release_month = []\n",
    "\n",
    "for movie in df_filled['release_date']:\n",
    "    release_month.append(movie[:3])\n",
    "    \n",
    "df_filled['release_month_manual'] = release_month"
   ]
  },
  {
   "cell_type": "code",
   "execution_count": null,
   "metadata": {
    "ExecuteTime": {
     "end_time": "2021-06-23T23:12:41.240537Z",
     "start_time": "2021-06-23T23:12:41.213538Z"
    },
    "hidden": true
   },
   "outputs": [],
   "source": [
    "## Using map and lambda functions to slice out month from string\n",
    "df_filled['release_month_manual'] = df_filled['release_date'].map(lambda x: x[:3])\n",
    "df_filled['release_month_manual']"
   ]
  },
  {
   "cell_type": "code",
   "execution_count": null,
   "metadata": {
    "ExecuteTime": {
     "end_time": "2021-06-23T23:12:41.271535Z",
     "start_time": "2021-06-23T23:12:41.243542Z"
    },
    "hidden": true
   },
   "outputs": [],
   "source": [
    "## Creating seasons based on meteorological definitions of each season\n",
    "season = []\n",
    "\n",
    "for month in df_filled['release_month_manual']:\n",
    "    if month == 'Jan':\n",
    "        season.append('Winter')\n",
    "    elif month == 'Feb':\n",
    "        season.append('Winter')\n",
    "    elif month == 'Mar':\n",
    "        season.append('Spring')\n",
    "    elif month == 'Apr':\n",
    "        season.append('Spring')\n",
    "    elif month == 'May':\n",
    "        season.append('Spring')\n",
    "    elif month == 'Jun':\n",
    "        season.append('Summer')\n",
    "    elif month == 'Jul':\n",
    "        season.append('Summer')\n",
    "    elif month == 'Aug':\n",
    "        season.append('Summer')\n",
    "    elif month == 'Sep':\n",
    "        season.append('Fall')\n",
    "    elif month == 'Oct':\n",
    "        season.append('Fall')\n",
    "    elif month == 'Nov':\n",
    "        season.append('Fall')\n",
    "    elif month == 'Dec':\n",
    "        season.append('Winter')\n",
    "    else:\n",
    "        print('na')\n",
    "\n",
    "df_filled['release_season_manual'] = season\n",
    "df_filled['release_season_manual']"
   ]
  },
  {
   "cell_type": "markdown",
   "metadata": {
    "heading_collapsed": true,
    "hidden": true
   },
   "source": [
    "### Reviewing Changes"
   ]
  },
  {
   "cell_type": "code",
   "execution_count": null,
   "metadata": {
    "ExecuteTime": {
     "end_time": "2021-06-23T23:12:41.316536Z",
     "start_time": "2021-06-23T23:12:41.275537Z"
    },
    "hidden": true,
    "scrolled": false
   },
   "outputs": [],
   "source": [
    "df_filled"
   ]
  },
  {
   "cell_type": "markdown",
   "metadata": {
    "heading_collapsed": true,
    "hidden": true
   },
   "source": [
    "## Creating Profit and ROI"
   ]
  },
  {
   "cell_type": "code",
   "execution_count": null,
   "metadata": {
    "ExecuteTime": {
     "end_time": "2021-06-23T23:12:41.332536Z",
     "start_time": "2021-06-23T23:12:41.318537Z"
    },
    "hidden": true
   },
   "outputs": [],
   "source": [
    "df_filled['profit'] = df_filled['worldwide_gross'] - df_filled['production_budget']\n",
    "df_filled['profit'] "
   ]
  },
  {
   "cell_type": "code",
   "execution_count": null,
   "metadata": {
    "ExecuteTime": {
     "end_time": "2021-06-23T23:12:41.348536Z",
     "start_time": "2021-06-23T23:12:41.338540Z"
    },
    "hidden": true
   },
   "outputs": [],
   "source": [
    "df_filled['ROI'] = (df_filled['worldwide_gross'] - df_filled['production_budget'])/df_filled['production_budget']\n",
    "df_filled['ROI']"
   ]
  },
  {
   "cell_type": "markdown",
   "metadata": {
    "heading_collapsed": true
   },
   "source": [
    "# **Analysis**"
   ]
  },
  {
   "cell_type": "markdown",
   "metadata": {
    "heading_collapsed": true,
    "hidden": true
   },
   "source": [
    "## Q1: What genres perform the best?"
   ]
  },
  {
   "cell_type": "markdown",
   "metadata": {
    "heading_collapsed": true,
    "hidden": true
   },
   "source": [
    "### Splitting Genres into Lists"
   ]
  },
  {
   "cell_type": "code",
   "execution_count": null,
   "metadata": {
    "ExecuteTime": {
     "end_time": "2021-06-23T23:12:41.363536Z",
     "start_time": "2021-06-23T23:12:41.350537Z"
    },
    "hidden": true
   },
   "outputs": [],
   "source": [
    "# ## Via map & lambda - slower than .str\n",
    "# df_filled['genres_list'] = df_filled['genres'].map(lambda x: x.split(','))\n",
    "# df_filled"
   ]
  },
  {
   "cell_type": "code",
   "execution_count": null,
   "metadata": {
    "ExecuteTime": {
     "end_time": "2021-06-23T23:12:43.407616Z",
     "start_time": "2021-06-23T23:12:43.391615Z"
    },
    "hidden": true
   },
   "outputs": [],
   "source": [
    "## Via .str and string methods (faster than map/lambda)\n",
    "df_filled['genres_str'] = df_filled['genres'].str.title().str.split(',')\n",
    "df_filled['genres_str']"
   ]
  },
  {
   "cell_type": "markdown",
   "metadata": {
    "heading_collapsed": true
   },
   "source": [
    "# **Visualizations**"
   ]
  },
  {
   "cell_type": "code",
   "execution_count": null,
   "metadata": {
    "ExecuteTime": {
     "end_time": "2021-06-23T23:12:43.502640Z",
     "start_time": "2021-06-23T23:12:43.410616Z"
    },
    "hidden": true
   },
   "outputs": [],
   "source": [
    "## Creating separate df for plotting with each genre on a separate row\n",
    "plot_df = df_filled.explode('genres_str')\n",
    "plot_df"
   ]
  },
  {
   "cell_type": "markdown",
   "metadata": {
    "heading_collapsed": true,
    "hidden": true
   },
   "source": [
    "## Total Worldwide Gross per Genre"
   ]
  },
  {
   "cell_type": "code",
   "execution_count": null,
   "metadata": {
    "ExecuteTime": {
     "end_time": "2021-06-23T23:12:43.517612Z",
     "start_time": "2021-06-23T23:12:43.505644Z"
    },
    "code_folding": [],
    "hidden": true
   },
   "outputs": [],
   "source": [
    "## Defining a function to perform aggregation and plot the data\n",
    "\n",
    "def sort_genres_sum(df, col_to_sort, agg='sum', verbose=True):\n",
    "    '''Creates a new dataframe from a given dataframe created by the sum of\n",
    "    all values for each genre, then sorted by the specified column name.\n",
    "    \n",
    "    Args & kwargs:\n",
    "    df - original dataframe to be sorted\n",
    "    col_to_sort - column name (str) by which to sort the data\n",
    "    '''\n",
    "    ## Adding functionality to handle different aggregation methods\n",
    "    if agg == 'sum':\n",
    "        agg_func = np.sum\n",
    "        agg_title = 'Total'\n",
    "    elif agg == 'median':\n",
    "        agg_func = np.median\n",
    "        agg_title = 'Median'\n",
    "    else:\n",
    "        agg_func = np.mean\n",
    "        agg_title = 'Average'\n",
    "    \n",
    "    ## Determining performance rankings and creating a list of names for viz\n",
    "    idx = list(df.groupby(\"genres_str\", as_index=True).agg(agg_func).sort_values(by = col_to_sort, ascending=False).index)\n",
    "    \n",
    "    ## Graphing results of agg function ordered by index (above)\n",
    "    fig = plt.figure(figsize=(15,4))\n",
    "    sns.barplot(data=df, x= 'genres_str', y= col_to_sort, order = idx, estimator = agg_func)\n",
    "    plt.xticks(rotation=45, ha= 'right')\n",
    "    plt.suptitle(f'Total {col_to_sort.title().replace(\"_\", \" \")} by Genre')\n",
    "    plt.xlabel('Genres')\n",
    "    plt.ylabel(f'Total {col_to_sort.title().replace(\"_\", \" \")}');\n",
    "    \n",
    "    ## Adding option to turn off dataframe showing results\n",
    "    if verbose == True:\n",
    "        display(df.sort_values(col_to_sort, ascending=False))\n",
    "    \n",
    "    return fig"
   ]
  },
  {
   "cell_type": "code",
   "execution_count": null,
   "metadata": {
    "ExecuteTime": {
     "end_time": "2021-06-23T23:12:43.533615Z",
     "start_time": "2021-06-23T23:12:43.522618Z"
    },
    "hidden": true
   },
   "outputs": [],
   "source": [
    "# df_filled.columns"
   ]
  },
  {
   "cell_type": "code",
   "execution_count": null,
   "metadata": {
    "ExecuteTime": {
     "end_time": "2021-06-23T23:12:43.549618Z",
     "start_time": "2021-06-23T23:12:43.536614Z"
    },
    "hidden": true
   },
   "outputs": [],
   "source": [
    "# df_filled.sort_values('domestic_gross')"
   ]
  },
  {
   "cell_type": "code",
   "execution_count": null,
   "metadata": {
    "ExecuteTime": {
     "end_time": "2021-06-23T23:12:44.841617Z",
     "start_time": "2021-06-23T23:12:43.552622Z"
    },
    "hidden": true,
    "scrolled": false
   },
   "outputs": [],
   "source": [
    "## Testing Function\n",
    "\n",
    "sort_genres_sum(plot_df, col_to_sort='worldwide_gross', agg='sum');"
   ]
  },
  {
   "cell_type": "markdown",
   "metadata": {
    "hidden": true
   },
   "source": [
    "**Observations:**\n",
    ">* **Top three genres:** Adventure, Action, Drama\n",
    ">* **Lowest three genres:** Western, News, Reality-TV\n",
    ">* On this graph, musicals are ranked much lower due to their smaller total gross box office sales (versus calculating the average of all gross values).\n",
    "\n",
    "**Suggestions**\n",
    ">* **Safest Genres (by Gross)** are the top three genres\n",
    "    * Lowest points on the error bars indicate high performance even at their worst.\n",
    ">* **Select from:** Action, Animation, Adventure, Fantasy, Sci-Fi, Family, or Musicals\n",
    "    * All others show poor performance"
   ]
  },
  {
   "cell_type": "markdown",
   "metadata": {
    "heading_collapsed": true,
    "hidden": true
   },
   "source": [
    "## Average Gross per Genre"
   ]
  },
  {
   "cell_type": "code",
   "execution_count": null,
   "metadata": {
    "ExecuteTime": {
     "end_time": "2021-06-23T23:12:44.857612Z",
     "start_time": "2021-06-23T23:12:44.845615Z"
    },
    "code_folding": [],
    "hidden": true
   },
   "outputs": [],
   "source": [
    "## Defining a function to perform aggregation and plot the data\n",
    "\n",
    "def sort_genres_avg(df, col_to_sort):\n",
    "    '''Creates a new dataframe from a given dataframe created by the average of\n",
    "    all values for each genre, then sorted by the specified column name.\n",
    "    \n",
    "    Args & kwargs:\n",
    "    df - original dataframe to be sorted\n",
    "    col_to_sort - column name (str) by which to sort the data\"'''\n",
    "    \n",
    "    df1 = df.groupby(\"genres_str\").mean().reset_index().sort_values(by = col_to_sort, ascending=False)\n",
    "\n",
    "    plt.figure(figsize=(15,4))\n",
    "    sns.barplot(data=df1, x= 'genres_str', y= col_to_sort )\n",
    "    plt.xticks(rotation=45, ha= 'right')\n",
    "    plt.suptitle('Average Worldwide Gross by Genre')\n",
    "    plt.xlabel('Genres')\n",
    "    plt.ylabel('Total Worldwide Gross ($)');\n",
    "    \n",
    "    return df1.head(5)"
   ]
  },
  {
   "cell_type": "code",
   "execution_count": null,
   "metadata": {
    "ExecuteTime": {
     "end_time": "2021-06-23T23:12:45.385612Z",
     "start_time": "2021-06-23T23:12:44.861617Z"
    },
    "hidden": true,
    "scrolled": false
   },
   "outputs": [],
   "source": [
    "sort_genres_avg(plot_df, col_to_sort='worldwide_gross')"
   ]
  },
  {
   "cell_type": "markdown",
   "metadata": {
    "heading_collapsed": true,
    "hidden": true
   },
   "source": [
    "#### Old Code - Saving just in case"
   ]
  },
  {
   "cell_type": "code",
   "execution_count": null,
   "metadata": {
    "ExecuteTime": {
     "end_time": "2021-06-23T23:12:45.400613Z",
     "start_time": "2021-06-23T23:12:45.388613Z"
    },
    "code_folding": [],
    "hidden": true
   },
   "outputs": [],
   "source": [
    "# ## Visualizing sorted sum \n",
    "\n",
    "# df_sorted = sort_genres_sum(plot_df, 'worldwide_gross')\n",
    "\n",
    "# plt.figure(figsize=(15,4))\n",
    "# sns.barplot(data=df_sorted, x= 'genres_str', y='worldwide_gross')\n",
    "# plt.xticks(rotation=45, ha= 'right')\n",
    "# plt.suptitle('Total Worldwide Gross by Genre')\n",
    "# plt.xlabel('Genres')\n",
    "# plt.ylabel('Total Worldwide Gross ($)');"
   ]
  },
  {
   "cell_type": "code",
   "execution_count": null,
   "metadata": {
    "ExecuteTime": {
     "end_time": "2021-06-23T23:12:45.416613Z",
     "start_time": "2021-06-23T23:12:45.404621Z"
    },
    "code_folding": [],
    "hidden": true,
    "scrolled": false
   },
   "outputs": [],
   "source": [
    "# ## Visualizing sorted average \n",
    "\n",
    "# avg_sorted = sort_genres_avg(plot_df, 'worldwide_gross')\n",
    "\n",
    "# plt.figure(figsize=(15,4))\n",
    "# sns.barplot(data=avg_sorted, x= 'genres_str', y='worldwide_gross')\n",
    "# plt.xticks(rotation=45, ha= 'right')\n",
    "# plt.suptitle('Total Worldwide Gross by Genre')\n",
    "# plt.xlabel('Genres')\n",
    "# plt.ylabel('Total Worldwide Gross ($)');"
   ]
  },
  {
   "cell_type": "code",
   "execution_count": null,
   "metadata": {
    "ExecuteTime": {
     "end_time": "2021-06-23T23:12:45.431612Z",
     "start_time": "2021-06-23T23:12:45.418619Z"
    },
    "hidden": true
   },
   "outputs": [],
   "source": [
    "# def sort_genres_avg(df, col_to_sort):\n",
    "#     '''Creates a new dataframe from a given dataframe created by the average of\n",
    "#     all values for each genre, then sorted by the specified column name.\n",
    "    \n",
    "#     Args & kwargs:\n",
    "#     df - original dataframe to be sorted\n",
    "#     col_to_sort - column name (str) by which to sort the data\"'''\n",
    "    \n",
    "#     df1 = df.groupby(\"genres_str\").agg('mean').reset_index().sort_values(by = col_to_sort, ascending=False)\n",
    "    \n",
    "#     return df1"
   ]
  },
  {
   "cell_type": "code",
   "execution_count": null,
   "metadata": {
    "ExecuteTime": {
     "end_time": "2021-06-23T23:12:45.446613Z",
     "start_time": "2021-06-23T23:12:45.433615Z"
    },
    "code_folding": [],
    "hidden": true
   },
   "outputs": [],
   "source": [
    "# ## First version of visualizing results - \n",
    "\n",
    "# plt.figure(figsize=(15,4))\n",
    "# sns.barplot(data=plot_df, x= 'genres_str', y='worldwide_gross')#, order=sum_gross_ww)\n",
    "# plt.xticks(rotation=45, ha= 'right')\n",
    "# plt.suptitle('Worldwide Gross by Genre')\n",
    "# plt.xlabel('Genres')\n",
    "# plt.ylabel('Worldwide Gross ($)');"
   ]
  },
  {
   "cell_type": "code",
   "execution_count": null,
   "metadata": {
    "ExecuteTime": {
     "end_time": "2021-06-23T23:12:45.462614Z",
     "start_time": "2021-06-23T23:12:45.449613Z"
    },
    "code_folding": [],
    "hidden": true
   },
   "outputs": [],
   "source": [
    "# ## Not working - attempted to create function to sort and visualize\n",
    "# def visualize_metrics(df, col_to_sort, sort_order):\n",
    "    \n",
    "#     df_sorted = df.groupby(\"genres_str\").sum().reset_index().sort_values(by = col_to_sort, ascending=False)\n",
    "    \n",
    "#     plt.figure(figsize=(15,4))\n",
    "#     sns.barplot(data=df_sorted, x= 'genres_str', y=col_to_sort, order=sort_order)\n",
    "#     plt.xticks(rotation=45, ha= 'right')\n",
    "#     plt.suptitle('Worldwide Gross by Genre')\n",
    "#     plt.xlabel('Genres')\n",
    "#     plt.ylabel(col_to_sort);\n",
    "    \n",
    "#     return"
   ]
  },
  {
   "cell_type": "markdown",
   "metadata": {
    "heading_collapsed": true,
    "hidden": true
   },
   "source": [
    "## ROI per Genre"
   ]
  },
  {
   "cell_type": "code",
   "execution_count": null,
   "metadata": {
    "ExecuteTime": {
     "end_time": "2021-06-23T23:12:45.477611Z",
     "start_time": "2021-06-23T23:12:45.465614Z"
    },
    "hidden": true
   },
   "outputs": [],
   "source": [
    "## Creating list of genres based on average ROI for graphing purposes\n",
    "\n",
    "mean_roi = list(plot_df.groupby(\"genres_str\").mean()['ROI'].sort_values(ascending=False).index)\n",
    "# mean_roi"
   ]
  },
  {
   "cell_type": "code",
   "execution_count": null,
   "metadata": {
    "ExecuteTime": {
     "end_time": "2021-06-23T23:12:46.757613Z",
     "start_time": "2021-06-23T23:12:45.479614Z"
    },
    "code_folding": [],
    "hidden": true,
    "scrolled": false
   },
   "outputs": [],
   "source": [
    "## Visualizing Average Worldwide Gross per Genre\n",
    "\n",
    "plt.figure(figsize=(15,4))\n",
    "sns.barplot(data=plot_df, x= 'genres_str', y='ROI', order=mean_roi)\n",
    "plt.xticks(rotation=45, ha= 'right')\n",
    "plt.suptitle('Average Return-on-Investment by Genre')\n",
    "plt.xlabel('Genres')\n",
    "plt.ylabel('ROI (%)');"
   ]
  },
  {
   "cell_type": "markdown",
   "metadata": {
    "hidden": true
   },
   "source": [
    "**Observations:**\n",
    ">* **Top three genres:** Animation, Adventure, and Sci-Fi\n",
    ">* **Lowest three genres:** Reality-TV, War and News\n",
    ">* *Musicals are a high-risk, high-reward option*\n",
    "    * Their gross can exceed Animation, or fall below the top 5 genres.\n",
    "\n",
    "**Suggestions**\n",
    ">* **Safest Genres (by Gross)** are the top three genres\n",
    "    * Lowest points on the error bars indicate high gross performance even at their worst\n",
    ">* Select from Action, Animation, Adventure, Fantasy, Sci-Fi, Family, or Musicals\n",
    "    * All others show poor performance"
   ]
  },
  {
   "cell_type": "markdown",
   "metadata": {
    "heading_collapsed": true,
    "hidden": true
   },
   "source": [
    "### **A1: Top Genres**"
   ]
  },
  {
   "cell_type": "markdown",
   "metadata": {
    "hidden": true
   },
   "source": [
    ">* List mean, roi for evaluations"
   ]
  },
  {
   "cell_type": "markdown",
   "metadata": {
    "heading_collapsed": true,
    "hidden": true
   },
   "source": [
    "## Visualizing Seasonal Performance"
   ]
  },
  {
   "cell_type": "markdown",
   "metadata": {
    "heading_collapsed": true,
    "hidden": true
   },
   "source": [
    "### Seasonal Performance - All Movies (ROI)"
   ]
  },
  {
   "cell_type": "code",
   "execution_count": null,
   "metadata": {
    "ExecuteTime": {
     "end_time": "2021-06-23T23:12:47.167615Z",
     "start_time": "2021-06-23T23:12:46.760613Z"
    },
    "code_folding": [],
    "hidden": true,
    "scrolled": true
   },
   "outputs": [],
   "source": [
    "## Creating basic overview\n",
    "g = sns.barplot(data=plot_df, x='release_season_manual', y='ROI', \n",
    "                order=['Spring', 'Summer', 'Fall', 'Winter'], \n",
    "                estimator=np.mean)\n",
    "g.set_xlabel('Seasons')\n",
    "g.set_ylabel('ROI(%)')\n",
    "g.set_title('Seasonal Performance (All Movies)');"
   ]
  },
  {
   "cell_type": "markdown",
   "metadata": {
    "heading_collapsed": true,
    "hidden": true
   },
   "source": [
    "### Seasonal Performance - All Movies (Ww Gross)"
   ]
  },
  {
   "cell_type": "code",
   "execution_count": null,
   "metadata": {
    "ExecuteTime": {
     "end_time": "2021-06-23T23:12:47.572612Z",
     "start_time": "2021-06-23T23:12:47.170626Z"
    },
    "code_folding": [],
    "hidden": true,
    "scrolled": true
   },
   "outputs": [],
   "source": [
    "## Creating basic overview\n",
    "g = sns.barplot(data=plot_df, x='release_season_manual', y='worldwide_gross', \n",
    "                order=['Spring', 'Summer', 'Fall', 'Winter'], \n",
    "                estimator=np.mean)\n",
    "g.set_xlabel('Seasons')\n",
    "g.set_ylabel('Worldwide Gross')\n",
    "g.set_title('Seasonal Performance (All Movies)');"
   ]
  },
  {
   "cell_type": "markdown",
   "metadata": {
    "hidden": true
   },
   "source": [
    "**Observations:**\n",
    ">* Summer is the best season for releases, with winter being the worst time.\n",
    ">* Summer and Spring seasons seem to be the most productive seasons.\n",
    ">* Fall and Winter perform worse.\n",
    "\n",
    "**Suggestions**\n",
    ">* Focus release times in Summer/Spring\n",
    ">* Avoid Fall/Winter"
   ]
  },
  {
   "cell_type": "markdown",
   "metadata": {
    "heading_collapsed": true,
    "hidden": true
   },
   "source": [
    "### Genre Performance by Season"
   ]
  },
  {
   "cell_type": "code",
   "execution_count": null,
   "metadata": {
    "ExecuteTime": {
     "end_time": "2021-06-23T23:12:52.411615Z",
     "start_time": "2021-06-23T23:12:47.576615Z"
    },
    "code_folding": [],
    "hidden": true,
    "scrolled": false
   },
   "outputs": [],
   "source": [
    "## Visualizing each genre's performance by season\n",
    "g = sns.catplot(data=plot_df, col='release_season_manual',\n",
    "            y='ROI', kind='bar', x='genres_str', col_wrap=2, \n",
    "            aspect=1.75, order=mean_roi)\n",
    "(g.set_axis_labels('Category', 'ROI (%)')\n",
    " .set_xticklabels(rotation=45)\n",
    " .set_titles(\"{col_name}\"))\n",
    " \n",
    "plt.tight_layout();"
   ]
  },
  {
   "cell_type": "code",
   "execution_count": null,
   "metadata": {
    "ExecuteTime": {
     "end_time": "2021-06-23T23:12:57.248612Z",
     "start_time": "2021-06-23T23:12:52.413630Z"
    },
    "code_folding": [],
    "hidden": true,
    "scrolled": false
   },
   "outputs": [],
   "source": [
    "## Visualizing each genre's performance by season\n",
    "g = sns.catplot(data=plot_df, col='release_season_manual',\n",
    "            y='worldwide_gross', kind='bar', x='genres_str', col_wrap=2, \n",
    "            aspect=1.75)#, sharex=False)\n",
    "(g.set_axis_labels('Category', 'Worldwide Gross ($)')\n",
    " .set_xticklabels(rotation=45)\n",
    " .set_titles(\"{col_name}\"))\n",
    " \n",
    "plt.tight_layout();"
   ]
  },
  {
   "cell_type": "markdown",
   "metadata": {
    "hidden": true
   },
   "source": [
    "**Observations:**\n",
    ">* Springtime releases show highest gross performance on average\n",
    ">* Wintertime shows lowest performances across all genres\n",
    ">* The results match up with our overall view for all genres\n",
    "\n",
    "**Suggestions**\n",
    ">* To maximize profitability of musicals, release in spring\n",
    ">* Avoid releasing Animations in the winter - all other seasons perform better\n",
    ">* Avoid releasing news-related movies in the Spring"
   ]
  },
  {
   "cell_type": "markdown",
   "metadata": {
    "heading_collapsed": true,
    "hidden": true
   },
   "source": [
    "## Seasonal Performance -  Insights"
   ]
  },
  {
   "cell_type": "markdown",
   "metadata": {
    "hidden": true
   },
   "source": [
    "**Observations:**\n",
    ">\n",
    ">The top five genres tend to perform relatively well regardless of the season with little difference between each season.\n",
    ">\n",
    "> Musicals show a strongest performance in the springtime - it is only worthwhile to release a musical in the spring.\n",
    ">\n",
    "**Questions**\n",
    "> \n",
    ">What is the profitability and return on investment for each genre?"
   ]
  },
  {
   "cell_type": "markdown",
   "metadata": {
    "heading_collapsed": true,
    "hidden": true
   },
   "source": [
    "## Quarterly Performance"
   ]
  },
  {
   "cell_type": "markdown",
   "metadata": {
    "hidden": true
   },
   "source": [
    "How would the data look when comparing seasons to quarters?"
   ]
  },
  {
   "cell_type": "code",
   "execution_count": null,
   "metadata": {
    "ExecuteTime": {
     "end_time": "2021-06-23T23:12:57.264615Z",
     "start_time": "2021-06-23T23:12:57.253615Z"
    },
    "code_folding": [],
    "hidden": true
   },
   "outputs": [],
   "source": [
    "## Sorting by release quarters for graphing\n",
    "df_filled.sort_values('release_quarter', inplace=True)\n",
    "df_filled.reset_index(drop=True, inplace=True)\n",
    "# df_filled"
   ]
  },
  {
   "cell_type": "code",
   "execution_count": null,
   "metadata": {
    "ExecuteTime": {
     "end_time": "2021-06-23T23:12:57.700622Z",
     "start_time": "2021-06-23T23:12:57.267613Z"
    },
    "code_folding": [],
    "hidden": true,
    "scrolled": true
   },
   "outputs": [],
   "source": [
    "## Creating basic overview\n",
    "g = sns.barplot(data=plot_df, x='release_quarter', y='worldwide_gross')\n",
    "g.set_xlabel('Quarters')\n",
    "g.set_ylabel('Worldwide Gross')\n",
    "g.set_title('Quarterly Performance (All Movies)');"
   ]
  },
  {
   "cell_type": "markdown",
   "metadata": {
    "hidden": true
   },
   "source": [
    "**Observations:**\n",
    ">* \n",
    ">* \n",
    ">* \n",
    "\n",
    "**Suggestions**\n",
    ">* \n",
    ">* "
   ]
  },
  {
   "cell_type": "code",
   "execution_count": null,
   "metadata": {
    "ExecuteTime": {
     "end_time": "2021-06-23T23:13:02.962612Z",
     "start_time": "2021-06-23T23:12:57.703628Z"
    },
    "code_folding": [],
    "hidden": true,
    "scrolled": false
   },
   "outputs": [],
   "source": [
    "## Generating figure for quarterly performance breakdown\n",
    "g = sns.catplot(data=plot_df, col='release_quarter',\n",
    "            y='worldwide_gross', kind='bar', x='genres_str', col_wrap=2, \n",
    "            aspect=1.75)#, sharex=False)\n",
    "(g.set_axis_labels('Category', 'Worldwide Gross ($)')\n",
    " .set_xticklabels(rotation=45)\n",
    " .set_titles(\"Quarter {col_name}\"))\n",
    " \n",
    "plt.tight_layout();"
   ]
  },
  {
   "cell_type": "markdown",
   "metadata": {
    "hidden": true
   },
   "source": [
    "**Observations:**\n",
    ">* \n",
    ">* \n",
    ">* \n",
    "\n",
    "**Suggestions**\n",
    ">* \n",
    ">* "
   ]
  },
  {
   "cell_type": "code",
   "execution_count": null,
   "metadata": {
    "ExecuteTime": {
     "end_time": "2021-06-23T23:13:02.978612Z",
     "start_time": "2021-06-23T23:13:02.969615Z"
    },
    "code_folding": [
     0
    ],
    "hidden": true
   },
   "outputs": [],
   "source": [
    "# g = sns.catplot(x = 'genres_list', y='worldwide_gross', \n",
    "#                hue = 'release_quarter',data=plot_df, kind='bar', aspect=3.65)\n",
    "# g.set_xticklabels(rotation=45);"
   ]
  },
  {
   "cell_type": "code",
   "execution_count": null,
   "metadata": {
    "ExecuteTime": {
     "end_time": "2021-06-23T23:13:02.994612Z",
     "start_time": "2021-06-23T23:13:02.983619Z"
    },
    "code_folding": [
     0
    ],
    "hidden": true
   },
   "outputs": [],
   "source": [
    "# g = sns.catplot(x = 'genres_list', y='worldwide_gross',\n",
    "#                 hue = 'release_season_manual',data=plot_df, kind='bar',\n",
    "#                 aspect=3.65)\n",
    "# g.set_xticklabels(rotation=45);"
   ]
  },
  {
   "cell_type": "markdown",
   "metadata": {
    "heading_collapsed": true,
    "hidden": true
   },
   "source": [
    "## **Comparing S & Q**"
   ]
  },
  {
   "cell_type": "code",
   "execution_count": null,
   "metadata": {
    "ExecuteTime": {
     "end_time": "2021-06-23T23:13:03.820613Z",
     "start_time": "2021-06-23T23:13:02.997616Z"
    },
    "code_folding": [],
    "hidden": true
   },
   "outputs": [],
   "source": [
    "## Comparing Seasonal/Quarterly breakdowns\n",
    "\n",
    "fig, axes = plt.subplots(nrows=2, figsize=(7,7))\n",
    "sns.barplot(x = 'release_season_manual', y='worldwide_gross',data=plot_df, \n",
    "            ax=axes[0], order=['Spring', 'Summer', 'Fall', 'Winter'])\n",
    "sns.barplot(x = 'release_quarter', y='worldwide_gross', data=plot_df,\n",
    "            ax=axes[1])\n",
    "\n",
    "## Changing settings\n",
    "axes[0].set_xlabel(\"Seasons\")\n",
    "axes[0].set_ylabel('Worldwide Gross')\n",
    "\n",
    "axes[1].set_xlabel(\"Quarters\")\n",
    "axes[1].set_ylabel('Worldwide Gross')\n",
    "\n",
    "plt.tight_layout();"
   ]
  },
  {
   "cell_type": "code",
   "execution_count": null,
   "metadata": {
    "ExecuteTime": {
     "end_time": "2021-06-23T23:13:12.917613Z",
     "start_time": "2021-06-23T23:13:03.822612Z"
    },
    "code_folding": [],
    "hidden": true,
    "scrolled": false
   },
   "outputs": [],
   "source": [
    "## Creating single visualization to compare seasonal and quarterly performances\n",
    "\n",
    "fig, axes = plt.subplots(nrows=2, figsize=(17,10))\n",
    "sns.barplot(x = 'genres_str', y='worldwide_gross',\n",
    "            hue = 'release_season_manual',data=plot_df, ax=axes[0])\n",
    "sns.barplot(x = 'genres_str', y='worldwide_gross', hue = 'release_quarter',\n",
    "            data=plot_df, ax=axes[1])\n",
    "\n",
    "## Changing settings\n",
    "axes[0].set_xticklabels(axes[0].get_xticklabels(),rotation=45, ha='right')\n",
    "axes[0].set_xlabel(\"Genres\")\n",
    "axes[0].set_ylabel('Worldwide Gross')\n",
    "axes[0].legend(title='Seasons')\n",
    "\n",
    "axes[1].set_xticklabels(axes[1].get_xticklabels(),rotation=45, ha='right')\n",
    "axes[1].set_xlabel(\"Genres\")\n",
    "axes[1].set_ylabel('Worldwide Gross')\n",
    "axes[1].legend(title='Quarters')\n",
    "\n",
    "plt.tight_layout();"
   ]
  },
  {
   "cell_type": "markdown",
   "metadata": {
    "hidden": true
   },
   "source": [
    "**Observations:**\n",
    ">* \n",
    ">* \n",
    ">* \n",
    "\n",
    "**Suggestions**\n",
    ">* \n",
    ">* "
   ]
  },
  {
   "cell_type": "markdown",
   "metadata": {
    "heading_collapsed": true
   },
   "source": [
    "# ✨ TODO"
   ]
  },
  {
   "cell_type": "markdown",
   "metadata": {
    "hidden": true
   },
   "source": [
    "* Change to \"quarterly\"\n",
    "* Move towards linreg (feature selection)"
   ]
  },
  {
   "cell_type": "markdown",
   "metadata": {
    "heading_collapsed": true
   },
   "source": [
    "# Modeling Pre-processing"
   ]
  },
  {
   "cell_type": "markdown",
   "metadata": {
    "heading_collapsed": true,
    "hidden": true
   },
   "source": [
    "## OHE: Genres"
   ]
  },
  {
   "cell_type": "code",
   "execution_count": null,
   "metadata": {
    "ExecuteTime": {
     "end_time": "2021-06-23T23:13:34.596849Z",
     "start_time": "2021-06-23T23:13:34.578843Z"
    },
    "hidden": true
   },
   "outputs": [],
   "source": [
    "## Getting unique values for genres\n",
    "\n",
    "unique_genres = plot_df['genres_str'].unique()\n",
    "unique_genres"
   ]
  },
  {
   "cell_type": "code",
   "execution_count": null,
   "metadata": {
    "ExecuteTime": {
     "end_time": "2021-06-23T23:13:13.501616Z",
     "start_time": "2021-06-23T23:12:43.530Z"
    },
    "hidden": true
   },
   "outputs": [],
   "source": [
    "# df_filled['family'] = (df_filled['genres_str'] == 'Family').astype(int)\n",
    "# df_filled#['family']"
   ]
  },
  {
   "cell_type": "code",
   "execution_count": null,
   "metadata": {
    "ExecuteTime": {
     "end_time": "2021-06-23T23:14:44.237352Z",
     "start_time": "2021-06-23T23:14:44.215352Z"
    },
    "hidden": true
   },
   "outputs": [],
   "source": [
    "df_filled['genres'].str.contains('Family')"
   ]
  },
  {
   "cell_type": "code",
   "execution_count": null,
   "metadata": {
    "ExecuteTime": {
     "end_time": "2021-06-23T23:15:08.778268Z",
     "start_time": "2021-06-23T23:15:08.692248Z"
    },
    "hidden": true
   },
   "outputs": [],
   "source": [
    "## Manually creating OHE columns for each genre\n",
    "\n",
    "for genre in unique_genres:\n",
    "    df_filled[genre] = (df_filled['genres'].str.contains(genre)).astype(int)"
   ]
  },
  {
   "cell_type": "code",
   "execution_count": null,
   "metadata": {
    "ExecuteTime": {
     "end_time": "2021-06-23T23:16:26.187855Z",
     "start_time": "2021-06-23T23:16:26.175857Z"
    },
    "hidden": true
   },
   "outputs": [],
   "source": [
    "df_filled.columns"
   ]
  },
  {
   "cell_type": "code",
   "execution_count": null,
   "metadata": {
    "ExecuteTime": {
     "end_time": "2021-06-23T23:17:26.921554Z",
     "start_time": "2021-06-23T23:17:26.917565Z"
    },
    "hidden": true
   },
   "outputs": [],
   "source": [
    "try:\n",
    "    df_filled.drop(columns=['genres', 'genres_str'], inplace=True)\n",
    "except:\n",
    "    pass"
   ]
  },
  {
   "cell_type": "code",
   "execution_count": null,
   "metadata": {
    "ExecuteTime": {
     "end_time": "2021-06-23T23:17:47.486037Z",
     "start_time": "2021-06-23T23:17:47.436065Z"
    },
    "hidden": true
   },
   "outputs": [],
   "source": [
    "df_filled"
   ]
  },
  {
   "cell_type": "markdown",
   "metadata": {
    "heading_collapsed": true
   },
   "source": [
    "# Correlations/Multicollinearity"
   ]
  },
  {
   "cell_type": "code",
   "execution_count": null,
   "metadata": {
    "ExecuteTime": {
     "end_time": "2021-06-23T23:17:48.233082Z",
     "start_time": "2021-06-23T23:17:48.215077Z"
    },
    "code_folding": [],
    "hidden": true
   },
   "outputs": [],
   "source": [
    "# ## Code copied from P2proj\n",
    "\n",
    "## Determining each feature's relationship with price\n",
    "\n",
    "## 1. Drop categorical columns\n",
    "## 2. Create correlation with target variable \n",
    "## 3. Display top/bottom 5 values\n",
    "\n",
    "# df_corr = df.drop(['price', 'id', 'lat','long'], axis=1).corrwith(df['price']).sort_values(ascending=False)\n",
    "# display(df_corr[0:5],df_corr[-6:-1])"
   ]
  },
  {
   "cell_type": "code",
   "execution_count": null,
   "metadata": {
    "ExecuteTime": {
     "end_time": "2021-06-23T23:17:48.638100Z",
     "start_time": "2021-06-23T23:17:48.634077Z"
    },
    "code_folding": [
     0
    ],
    "hidden": true
   },
   "outputs": [],
   "source": [
    "# ## Attempted to create a loop to check the datetype and add to a list for columns\n",
    "\n",
    "\n",
    "# # for each runtime in the column, check if it is not a string\n",
    "# #  if it is not, then zip that value with the value in the \"primary_title\" column\n",
    "# #  then, add the zipped value to a list\n",
    "# # finally, print the final list\n",
    "\n",
    "# cat_col_list = []\n",
    "\n",
    "# for i in col_list:\n",
    "#     for n in range(len(col_list)):\n",
    "#         if type(i[n]) == float:\n",
    "# #             cat_col_list.append(i)\n",
    "#             print(i)\n",
    "        \n",
    "# # cat_col_list"
   ]
  },
  {
   "cell_type": "code",
   "execution_count": null,
   "metadata": {
    "ExecuteTime": {
     "end_time": "2021-06-23T23:17:49.042078Z",
     "start_time": "2021-06-23T23:17:49.040078Z"
    },
    "code_folding": [
     0
    ],
    "hidden": true
   },
   "outputs": [],
   "source": [
    "## Realized I can't treat the 'runtime' column as either cat/col due to mixed dt w/in col\n",
    "\n",
    "# display(list(df_filled.columns))\n",
    "\n",
    "# display(list(df_filled.dtypes))"
   ]
  },
  {
   "cell_type": "code",
   "execution_count": null,
   "metadata": {
    "ExecuteTime": {
     "end_time": "2021-06-23T23:17:49.501076Z",
     "start_time": "2021-06-23T23:17:49.481077Z"
    },
    "code_folding": [],
    "hidden": true,
    "scrolled": true
   },
   "outputs": [],
   "source": [
    "## Identifying datatypes for each title to split into cat/cont/drop lists\n",
    "cat_col = list(zip(list(df_filled.columns),list(df_filled.dtypes)))\n",
    "cat_col"
   ]
  },
  {
   "cell_type": "code",
   "execution_count": null,
   "metadata": {
    "ExecuteTime": {
     "end_time": "2021-06-23T23:18:09.867159Z",
     "start_time": "2021-06-23T23:18:09.861174Z"
    },
    "hidden": true
   },
   "outputs": [],
   "source": [
    "## Breaking out each feature into either categorical/continuous/\"to be dropped\"\n",
    "\n",
    "targets = ['profit','ROI']\n",
    "\n",
    "cont_feat = ['start_year','production_budget']\n",
    "\n",
    "cat_feat = ['release_month_dt','release_quarter','release_season_manual']\n",
    "\n",
    "drop_feat = ['id','tconst','primary_title','original_title','release_datetime',\n",
    "        'runtime_minutes','release_date','release_month_manual','domestic_gross','worldwide_gross']"
   ]
  },
  {
   "cell_type": "code",
   "execution_count": null,
   "metadata": {
    "ExecuteTime": {
     "end_time": "2021-06-23T23:18:10.477153Z",
     "start_time": "2021-06-23T23:18:10.426154Z"
    },
    "hidden": true
   },
   "outputs": [],
   "source": [
    "## Creating a new dataframe for correlation matrix\n",
    "\n",
    "df_for_corr = df_filled.drop(columns = drop_feat).copy().reset_index(drop=True)\n",
    "df_for_corr"
   ]
  },
  {
   "cell_type": "code",
   "execution_count": null,
   "metadata": {
    "ExecuteTime": {
     "end_time": "2021-06-23T23:18:16.154971Z",
     "start_time": "2021-06-23T23:18:16.134966Z"
    },
    "hidden": true
   },
   "outputs": [],
   "source": [
    "df_corr = df_for_corr.corrwith(df_for_corr['profit']).sort_values(ascending=False)\n",
    "df_corr\n",
    "# display(df_corr[0:5],df_corr[-6:-1])"
   ]
  },
  {
   "cell_type": "code",
   "execution_count": null,
   "metadata": {
    "ExecuteTime": {
     "end_time": "2021-06-23T23:18:18.338059Z",
     "start_time": "2021-06-23T23:18:18.328065Z"
    },
    "hidden": true
   },
   "outputs": [],
   "source": [
    "## Creating function to provide correlation matrix to determine multicollinearity\n",
    "\n",
    "def calc_df_corr(df, list_cats, target_col):\n",
    "    '''Identifying correlations within the data'''\n",
    "    \n",
    "    df_corr = df.drop(list_cats, axis=1).corrwith(df[target_col]).sort_values(ascending=False)\n",
    "    \n",
    "#     display(df_corr[0:5],df_corr[-6:-1])\n",
    "    \n",
    "    return df_corr"
   ]
  },
  {
   "cell_type": "code",
   "execution_count": null,
   "metadata": {
    "ExecuteTime": {
     "end_time": "2021-06-23T23:18:19.276268Z",
     "start_time": "2021-06-23T23:18:19.255280Z"
    },
    "hidden": true
   },
   "outputs": [],
   "source": [
    "calc_df_corr(df=df_for_corr, list_cats=cat_feat, target_col = 'profit')"
   ]
  },
  {
   "cell_type": "markdown",
   "metadata": {
    "heading_collapsed": true
   },
   "source": [
    "# OHE"
   ]
  },
  {
   "cell_type": "code",
   "execution_count": null,
   "metadata": {
    "ExecuteTime": {
     "end_time": "2021-06-23T23:24:20.495556Z",
     "start_time": "2021-06-23T23:24:20.457523Z"
    },
    "hidden": true
   },
   "outputs": [],
   "source": [
    "## Save the features that we used previously - I will use these features \n",
    "## to fit my model.\n",
    "\n",
    "X = df_filled[[*unique_genres,*cont_feat,*cat_feat]].copy()\n",
    "X"
   ]
  },
  {
   "cell_type": "code",
   "execution_count": null,
   "metadata": {
    "ExecuteTime": {
     "end_time": "2021-06-23T23:34:42.716958Z",
     "start_time": "2021-06-23T23:34:42.707958Z"
    },
    "hidden": true
   },
   "outputs": [],
   "source": [
    "## Creating the y values by setting them equal to the 'price' values from the dataframe\n",
    "\n",
    "y = df_filled['profit'].copy()\n",
    "y"
   ]
  },
  {
   "cell_type": "code",
   "execution_count": null,
   "metadata": {
    "ExecuteTime": {
     "end_time": "2021-06-23T23:34:42.968957Z",
     "start_time": "2021-06-23T23:34:42.952959Z"
    },
    "hidden": true
   },
   "outputs": [],
   "source": [
    "## Verifying the two groups are of equal length\n",
    "\n",
    "print(X.shape[0] == y.shape[0])"
   ]
  },
  {
   "cell_type": "code",
   "execution_count": null,
   "metadata": {
    "ExecuteTime": {
     "end_time": "2021-06-23T23:34:43.172988Z",
     "start_time": "2021-06-23T23:34:43.156959Z"
    },
    "hidden": true
   },
   "outputs": [],
   "source": [
    "## Establishing the train and test data before doing anything else\n",
    "\n",
    "X_train, X_test, y_train, y_test = train_test_split(X, y, test_size=0.25,\n",
    "                                                    random_state=5)"
   ]
  },
  {
   "cell_type": "code",
   "execution_count": null,
   "metadata": {
    "ExecuteTime": {
     "end_time": "2021-06-23T23:34:43.345959Z",
     "start_time": "2021-06-23T23:34:43.319960Z"
    },
    "hidden": true
   },
   "outputs": [],
   "source": [
    "## Using OneHotEncoder to create columns for the categorical variables.\n",
    "\n",
    "## Create the OHE without \"drop='first\" as it would throw an error in this case\n",
    "ohe = OneHotEncoder(drop = 'first', sparse=False)\n",
    "\n",
    "## Using OHE on our categorical variables for training (NOT testing)\n",
    "train_ohe = ohe.fit_transform(X_train[cat_feat])\n",
    "test_ohe = ohe.transform(X_test[cat_feat])"
   ]
  },
  {
   "cell_type": "code",
   "execution_count": null,
   "metadata": {
    "ExecuteTime": {
     "end_time": "2021-06-23T23:34:43.546960Z",
     "start_time": "2021-06-23T23:34:43.542960Z"
    },
    "hidden": true
   },
   "outputs": [],
   "source": [
    "## Getting feature names from our list of categories\n",
    "feat_col_name = ohe.get_feature_names(cat_feat)"
   ]
  },
  {
   "cell_type": "code",
   "execution_count": null,
   "metadata": {
    "ExecuteTime": {
     "end_time": "2021-06-23T23:34:43.763958Z",
     "start_time": "2021-06-23T23:34:43.757959Z"
    },
    "hidden": true
   },
   "outputs": [],
   "source": [
    "## Creating dataframes from the results of our fit&transform and transform\n",
    "\n",
    "train_ohe_df = pd.DataFrame(train_ohe, columns=feat_col_name, index=X_train.index)\n",
    "\n",
    "test_ohe_df = pd.DataFrame(test_ohe, columns=feat_col_name, index=X_test.index)"
   ]
  },
  {
   "cell_type": "code",
   "execution_count": null,
   "metadata": {
    "ExecuteTime": {
     "end_time": "2021-06-23T23:34:43.967957Z",
     "start_time": "2021-06-23T23:34:43.934961Z"
    },
    "hidden": true
   },
   "outputs": [],
   "source": [
    "## Reviewing one of the resulting dataframes\n",
    "test_ohe_df"
   ]
  },
  {
   "cell_type": "code",
   "execution_count": null,
   "metadata": {
    "ExecuteTime": {
     "end_time": "2021-06-23T23:34:44.170958Z",
     "start_time": "2021-06-23T23:34:44.155960Z"
    },
    "hidden": true
   },
   "outputs": [],
   "source": [
    "## Concatenating the two training dataframes after OHE\n",
    "X_train_ohe = pd.concat([X_train.drop(cat_feat, axis=1), train_ohe_df], axis=1)"
   ]
  },
  {
   "cell_type": "code",
   "execution_count": null,
   "metadata": {
    "ExecuteTime": {
     "end_time": "2021-06-23T23:34:44.448968Z",
     "start_time": "2021-06-23T23:34:44.425958Z"
    },
    "hidden": true
   },
   "outputs": [],
   "source": [
    "X_train_ohe"
   ]
  },
  {
   "cell_type": "code",
   "execution_count": null,
   "metadata": {
    "ExecuteTime": {
     "end_time": "2021-06-23T23:34:45.135991Z",
     "start_time": "2021-06-23T23:34:45.092957Z"
    },
    "hidden": true
   },
   "outputs": [],
   "source": [
    "## Concatenating the two test dataframes after OHE\n",
    "X_test_ohe = pd.concat([X_test.drop(cat_feat, axis=1), test_ohe_df], axis=1)\n",
    "X_test_ohe"
   ]
  },
  {
   "cell_type": "code",
   "execution_count": null,
   "metadata": {
    "ExecuteTime": {
     "end_time": "2021-06-23T23:34:45.515958Z",
     "start_time": "2021-06-23T23:34:45.494956Z"
    },
    "hidden": true
   },
   "outputs": [],
   "source": [
    "## Instantiating the model and fitting it\n",
    "lr = LinearRegression()\n",
    "\n",
    "lr.fit(X_train_ohe, y_train)"
   ]
  },
  {
   "cell_type": "code",
   "execution_count": null,
   "metadata": {
    "ExecuteTime": {
     "end_time": "2021-06-23T23:34:45.965957Z",
     "start_time": "2021-06-23T23:34:45.933960Z"
    },
    "hidden": true
   },
   "outputs": [],
   "source": [
    "## Checking the R^2 for train and test\n",
    "\n",
    "train_r = lr.score(X_train_ohe, y_train)\n",
    "print(f'R-Square value for training data is {round(train_r,3)}.')\n",
    "\n",
    "test_r = lr.score(X_test_ohe, y_test)\n",
    "print(f'R-Square value for test data is {round(test_r,3)}.')\n",
    "\n",
    "## Getting model coefficients\n",
    "train_coef = pd.Series(lr.coef_, index=X_train_ohe.columns)\n",
    "train_coef['intercept'] = lr.intercept_\n",
    "\n",
    "## Displaying resulting features and coefficients\n",
    "train_coef.sort_values(ascending=False)#.plot(kind='barh');"
   ]
  },
  {
   "cell_type": "markdown",
   "metadata": {
    "heading_collapsed": true
   },
   "source": [
    "# Creating Statsmodels Model"
   ]
  },
  {
   "cell_type": "code",
   "execution_count": null,
   "metadata": {
    "ExecuteTime": {
     "end_time": "2021-06-23T23:35:11.112920Z",
     "start_time": "2021-06-23T23:35:11.094925Z"
    },
    "hidden": true
   },
   "outputs": [],
   "source": [
    "def diagnose_model(model, figsize=(10,5)):\n",
    "    \"\"\" ---\n",
    "    \n",
    "    Argument:\n",
    "        * model: provide the linear regression model for diagnostics\n",
    "    \n",
    "    Keyword Argument:\n",
    "        * figsize: default (10,5); can increase/decrease for larger/smaller\n",
    "    ---\n",
    "    \n",
    "    * Display the summary details of the provided model\n",
    "    * Create two scatter plots to test assumptions of linearity\n",
    "        * Predictions: verifying homoscedasticity (no cone-shapes)\n",
    "        * Residuals: confirming normal distribution of residuals\n",
    "    ---\n",
    "    \n",
    "    \"\"\"\n",
    "    display(model.summary())\n",
    "    \n",
    "    fig, axes = plt.subplots(ncols=2, figsize=figsize)\n",
    "\n",
    "    axes[0].scatter(model.predict(), model.resid)\n",
    "    axes[0].axhline()\n",
    "    axes[0].set_xlabel('Model Predictions')\n",
    "    axes[0].set_ylabel('Model Residuals')\n",
    "    axes[0].set_title('Testing for Homoscedasticity')\n",
    "\n",
    "    sms.graphics.qqplot(data=model.resid, fit=True, line = \"45\", ax=axes[1])\n",
    "    \n",
    "    plt.tight_layout()\n",
    "    \n",
    "    return"
   ]
  },
  {
   "cell_type": "code",
   "execution_count": null,
   "metadata": {
    "ExecuteTime": {
     "end_time": "2021-06-23T23:34:46.477960Z",
     "start_time": "2021-06-23T23:34:46.454956Z"
    },
    "hidden": true
   },
   "outputs": [],
   "source": [
    "X_train_ohe = sms.add_constant(X_train_ohe)"
   ]
  },
  {
   "cell_type": "code",
   "execution_count": null,
   "metadata": {
    "ExecuteTime": {
     "end_time": "2021-06-23T23:34:46.929955Z",
     "start_time": "2021-06-23T23:34:46.905957Z"
    },
    "hidden": true
   },
   "outputs": [],
   "source": [
    "X_test_ohe = sms.add_constant(X_test_ohe)"
   ]
  },
  {
   "cell_type": "code",
   "execution_count": null,
   "metadata": {
    "ExecuteTime": {
     "end_time": "2021-06-23T23:37:09.665295Z",
     "start_time": "2021-06-23T23:37:09.128294Z"
    },
    "hidden": true,
    "scrolled": false
   },
   "outputs": [],
   "source": [
    "model = sms.OLS(y_train, X_train_ohe).fit()\n",
    "\n",
    "diagnose_model(model)"
   ]
  },
  {
   "cell_type": "code",
   "execution_count": null,
   "metadata": {
    "ExecuteTime": {
     "end_time": "2021-06-23T23:38:25.112626Z",
     "start_time": "2021-06-23T23:38:24.117764Z"
    },
    "hidden": true
   },
   "outputs": [],
   "source": [
    "sns.displot(y_train, aspect=2);"
   ]
  },
  {
   "cell_type": "markdown",
   "metadata": {
    "hidden": true
   },
   "source": [
    "* Outliers\n",
    "* Adding features from other df's at start"
   ]
  },
  {
   "cell_type": "markdown",
   "metadata": {
    "heading_collapsed": true
   },
   "source": [
    "# Statistical Testing"
   ]
  },
  {
   "cell_type": "code",
   "execution_count": null,
   "metadata": {
    "hidden": true
   },
   "outputs": [],
   "source": []
  },
  {
   "cell_type": "markdown",
   "metadata": {
    "heading_collapsed": true
   },
   "source": [
    "# Inferential Modeling"
   ]
  },
  {
   "cell_type": "code",
   "execution_count": null,
   "metadata": {
    "hidden": true
   },
   "outputs": [],
   "source": []
  },
  {
   "cell_type": "markdown",
   "metadata": {
    "heading_collapsed": true
   },
   "source": [
    "# Predictive Modeling"
   ]
  },
  {
   "cell_type": "code",
   "execution_count": null,
   "metadata": {
    "hidden": true
   },
   "outputs": [],
   "source": []
  },
  {
   "cell_type": "markdown",
   "metadata": {
    "heading_collapsed": true
   },
   "source": [
    "# Final Results"
   ]
  },
  {
   "cell_type": "code",
   "execution_count": null,
   "metadata": {
    "hidden": true
   },
   "outputs": [],
   "source": []
  }
 ],
 "metadata": {
  "kernelspec": {
   "display_name": "Python (learn-env-bmc)",
   "language": "python",
   "name": "learn-env-bmc"
  },
  "language_info": {
   "codemirror_mode": {
    "name": "ipython",
    "version": 3
   },
   "file_extension": ".py",
   "mimetype": "text/x-python",
   "name": "python",
   "nbconvert_exporter": "python",
   "pygments_lexer": "ipython3",
   "version": "3.8.5"
  },
  "toc": {
   "base_numbering": 1,
   "nav_menu": {},
   "number_sections": true,
   "sideBar": true,
   "skip_h1_title": false,
   "title_cell": "Table of Contents",
   "title_sidebar": "Contents",
   "toc_cell": false,
   "toc_position": {
    "height": "calc(100% - 180px)",
    "left": "10px",
    "top": "150px",
    "width": "318.438px"
   },
   "toc_section_display": true,
   "toc_window_display": true
  }
 },
 "nbformat": 4,
 "nbformat_minor": 2
}
