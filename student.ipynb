{
 "cells": [
  {
   "cell_type": "markdown",
   "metadata": {},
   "source": [
    "# Phases 1 and 2 Revisited"
   ]
  },
  {
   "cell_type": "markdown",
   "metadata": {},
   "source": [
    "## *Prompt*"
   ]
  },
  {
   "cell_type": "markdown",
   "metadata": {},
   "source": [
    "**Microsoft's Making Moves into Movies**\n",
    "\n",
    ">* What types of movies are performing the best a the box offices?\n",
    ">* What actions should they take based on the data?"
   ]
  },
  {
   "cell_type": "markdown",
   "metadata": {},
   "source": [
    "**What questions will guide my process?**\n",
    "\n",
    ">* \n",
    ">* "
   ]
  },
  {
   "cell_type": "markdown",
   "metadata": {},
   "source": [
    "**What preconceived ideas do I have about the data? What guesses can I make now?**\n",
    "\n",
    ">* \n",
    ">* "
   ]
  },
  {
   "cell_type": "markdown",
   "metadata": {},
   "source": [
    "## *Process*\n",
    "\n",
    ">1. Import .csv's\n",
    ">2. Clean data\n",
    ">3. EDA w. visuals\n",
    ">4. **Determine initial insights and actions**\n",
    ">5. Create new features\n",
    ">6. Test for correlations/multicollinearity\n",
    ">7. Perform statistical testing\n",
    ">8. Create LinReg model for **inference**\n",
    ">9. Create LinReg model for **predictions**\n",
    ">10. **Present final results for inferences, predictions**\n",
    "    1. Include initial, final insights and recommendations"
   ]
  },
  {
   "cell_type": "markdown",
   "metadata": {},
   "source": [
    "# Imports"
   ]
  },
  {
   "cell_type": "markdown",
   "metadata": {},
   "source": [
    "## Packages"
   ]
  },
  {
   "cell_type": "code",
   "execution_count": null,
   "metadata": {
    "ExecuteTime": {
     "end_time": "2021-06-17T20:36:35.539880Z",
     "start_time": "2021-06-17T20:36:33.354798Z"
    }
   },
   "outputs": [],
   "source": [
    "## Accessing stored data\n",
    "import csv\n",
    "import os,glob\n",
    "\n",
    "## Data exploration and statistics\n",
    "import pandas as pd\n",
    "import numpy as np\n",
    "\n",
    "## Creating Visualizations\n",
    "import seaborn as sns\n",
    "import matplotlib.pyplot as plt\n",
    "\n",
    "## Settings\n",
    "%matplotlib inline\n",
    "pd.set_option('display.float_format', lambda x: '%.2f' % x)"
   ]
  },
  {
   "cell_type": "markdown",
   "metadata": {},
   "source": [
    "## Data"
   ]
  },
  {
   "cell_type": "code",
   "execution_count": null,
   "metadata": {
    "ExecuteTime": {
     "end_time": "2021-06-17T20:36:35.555824Z",
     "start_time": "2021-06-17T20:36:35.542819Z"
    },
    "code_folding": [
     0
    ]
   },
   "outputs": [],
   "source": [
    "## Creating list of files to loop through for data\n",
    "data_folder = 'zippedData/'\n",
    "data_files = glob.glob(f'{data_folder}*.csv*')\n",
    "data_files"
   ]
  },
  {
   "cell_type": "code",
   "execution_count": null,
   "metadata": {
    "ExecuteTime": {
     "end_time": "2021-06-17T20:36:40.475874Z",
     "start_time": "2021-06-17T20:36:35.558821Z"
    },
    "code_folding": [
     0
    ]
   },
   "outputs": [],
   "source": [
    "## Looping through individual data files\n",
    "\n",
    "## Code adapted from James Irving\n",
    "## Source: youtube.com/watch?v=rufvTgBEYN8&list=PLFknVelSJiSxSwXifV_ysDg50fzbuTzVt&index=41\n",
    "\n",
    "clean_names = {}\n",
    "split = '-----'*25\n",
    "\n",
    "for file in data_files:\n",
    "    name = file.replace('.csv.gz','').split('\\\\')[-1].replace('.','_')\n",
    "    print(split)\n",
    "    \n",
    "    print(f\"Preview of {name}:\")\n",
    "    clean_names[name] = pd.read_csv(file)\n",
    "    display(clean_names[name].head(5))\n",
    "    print()"
   ]
  },
  {
   "cell_type": "markdown",
   "metadata": {},
   "source": [
    "# Functions"
   ]
  },
  {
   "cell_type": "code",
   "execution_count": null,
   "metadata": {
    "ExecuteTime": {
     "end_time": "2021-06-17T20:36:40.491874Z",
     "start_time": "2021-06-17T20:36:40.478875Z"
    }
   },
   "outputs": [],
   "source": [
    "## Not working - unknown error\n",
    "\n",
    "## Data Type Conversion\n",
    "\n",
    "# def split_str(df, list_col, change, result):\n",
    "#     '''Splits strings in a list of columns based on what value to change \n",
    "#     and the desired result.\n",
    "    \n",
    "#     Args:\n",
    "#         * dataframe source\n",
    "#         * list of selected columns\n",
    "#         * charater to change from (str)\n",
    "#         * charater to change to (str)'''\n",
    "    \n",
    "    \n",
    "#     for i in list_col:\n",
    "#         try:\n",
    "#             df[i] = df[i].map((lambda x: int(x.replace(change,result))))\n",
    "\n",
    "#         except Exception:\n",
    "#             print('---'*25)\n",
    "#             print(f'Already converted {df[i]}')\n",
    "#             print()\n",
    "\n",
    "# #         display(df[i])\n",
    "\n",
    "#         return df"
   ]
  },
  {
   "cell_type": "markdown",
   "metadata": {},
   "source": [
    "# Cleaning"
   ]
  },
  {
   "cell_type": "markdown",
   "metadata": {},
   "source": [
    "## Slicing desired DataFrames from Dictionary for Exploration"
   ]
  },
  {
   "cell_type": "code",
   "execution_count": null,
   "metadata": {
    "ExecuteTime": {
     "end_time": "2021-06-17T20:36:40.523873Z",
     "start_time": "2021-06-17T20:36:40.494876Z"
    }
   },
   "outputs": [],
   "source": [
    "## Selecting for genre details\n",
    "title_basics = clean_names['imdb_title_basics']\n",
    "title_basics"
   ]
  },
  {
   "cell_type": "code",
   "execution_count": null,
   "metadata": {
    "ExecuteTime": {
     "end_time": "2021-06-17T20:36:40.553875Z",
     "start_time": "2021-06-17T20:36:40.525874Z"
    }
   },
   "outputs": [],
   "source": [
    "## Selecting for budget and gross details\n",
    "movie_basics = clean_names['tn_movie_budgets']\n",
    "movie_basics"
   ]
  },
  {
   "cell_type": "code",
   "execution_count": null,
   "metadata": {
    "ExecuteTime": {
     "end_time": "2021-06-17T20:36:40.584874Z",
     "start_time": "2021-06-17T20:36:40.555875Z"
    }
   },
   "outputs": [],
   "source": [
    "## Selecting for gross details\n",
    "movie_gross = clean_names['bom_movie_gross']\n",
    "movie_gross"
   ]
  },
  {
   "cell_type": "markdown",
   "metadata": {},
   "source": [
    "## Merging Dataframes"
   ]
  },
  {
   "cell_type": "code",
   "execution_count": null,
   "metadata": {
    "ExecuteTime": {
     "end_time": "2021-06-17T20:36:40.707878Z",
     "start_time": "2021-06-17T20:36:40.587877Z"
    },
    "code_folding": []
   },
   "outputs": [],
   "source": [
    "## Merging title_basics and movie_basics on primary title\n",
    "\n",
    "merged_basics_primary = pd.merge(title_basics,movie_basics, \n",
    "                                 left_on= 'primary_title', right_on= 'movie')\n",
    "merged_basics_primary"
   ]
  },
  {
   "cell_type": "code",
   "execution_count": null,
   "metadata": {
    "ExecuteTime": {
     "end_time": "2021-06-17T20:36:40.723916Z",
     "start_time": "2021-06-17T20:36:40.710881Z"
    },
    "code_folding": [
     0
    ]
   },
   "outputs": [],
   "source": [
    "# ## Deprecated - focused on larger data set - Merging title_basics and movie_basics on original title\n",
    "\n",
    "# merged_basics_original = pd.merge(title_basics,movie_basics, \n",
    "#                                   left_on= 'original_title', right_on= 'movie')\n",
    "# merged_basics_original"
   ]
  },
  {
   "cell_type": "code",
   "execution_count": null,
   "metadata": {
    "ExecuteTime": {
     "end_time": "2021-06-17T20:36:40.739885Z",
     "start_time": "2021-06-17T20:36:40.726879Z"
    }
   },
   "outputs": [],
   "source": [
    "df = merged_basics_primary.copy()"
   ]
  },
  {
   "cell_type": "markdown",
   "metadata": {},
   "source": [
    "## Converting Currencies from Str to Int"
   ]
  },
  {
   "cell_type": "code",
   "execution_count": null,
   "metadata": {
    "ExecuteTime": {
     "end_time": "2021-06-17T20:36:40.755879Z",
     "start_time": "2021-06-17T20:36:40.746880Z"
    }
   },
   "outputs": [],
   "source": [
    "## Testing .map for looping\n",
    "# df['worldwide_gross'] = df['worldwide_gross'].map((lambda x: int(x.replace('$','').replace(',',''))))\n",
    "# df['worldwide_gross']"
   ]
  },
  {
   "cell_type": "code",
   "execution_count": null,
   "metadata": {
    "ExecuteTime": {
     "end_time": "2021-06-17T20:37:00.371188Z",
     "start_time": "2021-06-17T20:37:00.342188Z"
    },
    "code_folding": []
   },
   "outputs": [],
   "source": [
    "## Converting gross amounts from strings to integers and removing \n",
    "\n",
    "dollar_to_int = ['production_budget','worldwide_gross','domestic_gross']\n",
    "\n",
    "for i in dollar_to_int:\n",
    "    try:\n",
    "        df[i] = df[i].map((lambda x: int(x.replace('$','').replace(',',''))))\n",
    "\n",
    "    except Exception:\n",
    "        print('---'*25)\n",
    "        print('Already converted.')\n",
    "        print()\n",
    "        \n",
    "    display(df[i][:5])"
   ]
  },
  {
   "cell_type": "code",
   "execution_count": null,
   "metadata": {
    "ExecuteTime": {
     "end_time": "2021-06-17T20:37:22.010495Z",
     "start_time": "2021-06-17T20:37:21.989463Z"
    }
   },
   "outputs": [],
   "source": [
    "df['worldwide_gross']"
   ]
  },
  {
   "cell_type": "markdown",
   "metadata": {},
   "source": [
    "## Removing Duplicate \"Movie\" Column"
   ]
  },
  {
   "cell_type": "code",
   "execution_count": null,
   "metadata": {
    "ExecuteTime": {
     "end_time": "2021-06-17T20:37:23.103475Z",
     "start_time": "2021-06-17T20:37:22.599470Z"
    },
    "code_folding": []
   },
   "outputs": [],
   "source": [
    "## Verifying primary title and movie columns are matching\n",
    "df[df.loc[:,'primary_title'] != df.loc[:,'movie']]"
   ]
  },
  {
   "cell_type": "code",
   "execution_count": null,
   "metadata": {
    "ExecuteTime": {
     "end_time": "2021-06-17T20:37:23.242481Z",
     "start_time": "2021-06-17T20:37:23.211470Z"
    },
    "code_folding": []
   },
   "outputs": [],
   "source": [
    "## Dropping duplicated \"movie\" column due to dupe date\n",
    "\n",
    "for col in df.columns:\n",
    "    try:\n",
    "        df.drop('movie', axis=1, inplace=True)\n",
    "    except:\n",
    "        pass\n",
    "\n",
    "df"
   ]
  },
  {
   "cell_type": "markdown",
   "metadata": {},
   "source": [
    "## Filling Null Values"
   ]
  },
  {
   "cell_type": "code",
   "execution_count": null,
   "metadata": {
    "ExecuteTime": {
     "end_time": "2021-06-17T20:37:39.335855Z",
     "start_time": "2021-06-17T20:37:39.302858Z"
    },
    "code_folding": []
   },
   "outputs": [],
   "source": [
    "## Filling null values with \"missing\" to allow further processing\n",
    "\n",
    "df_filled = df.fillna('Missing').copy()\n",
    "display(df.isna().sum())\n",
    "display(df_filled.isna().sum())"
   ]
  },
  {
   "cell_type": "markdown",
   "metadata": {},
   "source": [
    "## Splitting genres"
   ]
  },
  {
   "cell_type": "code",
   "execution_count": null,
   "metadata": {
    "ExecuteTime": {
     "end_time": "2021-06-17T20:37:54.404761Z",
     "start_time": "2021-06-17T20:37:54.374767Z"
    },
    "scrolled": true
   },
   "outputs": [],
   "source": [
    "df_filled['genres_list'] = df_filled['genres'].map(lambda x: x.split(','))\n",
    "df_filled"
   ]
  },
  {
   "cell_type": "code",
   "execution_count": null,
   "metadata": {
    "ExecuteTime": {
     "end_time": "2021-06-17T20:38:42.437467Z",
     "start_time": "2021-06-17T20:38:42.423473Z"
    }
   },
   "outputs": [],
   "source": [
    "df_filled['genres_list'][0]"
   ]
  },
  {
   "cell_type": "code",
   "execution_count": null,
   "metadata": {
    "ExecuteTime": {
     "end_time": "2021-06-17T20:36:14.357447Z",
     "start_time": "2021-06-17T20:36:14.342453Z"
    }
   },
   "outputs": [],
   "source": [
    "# plot_df = df_filled.explode('genres_list')\n",
    "# plot_df"
   ]
  },
  {
   "cell_type": "code",
   "execution_count": null,
   "metadata": {
    "ExecuteTime": {
     "end_time": "2021-06-17T20:36:10.476362Z",
     "start_time": "2021-06-17T20:36:10.470364Z"
    }
   },
   "outputs": [],
   "source": [
    "# plot_df['genres_list'].unique().tolist()"
   ]
  },
  {
   "cell_type": "code",
   "execution_count": null,
   "metadata": {
    "ExecuteTime": {
     "end_time": "2021-06-17T20:36:17.923722Z",
     "start_time": "2021-06-17T20:36:17.909650Z"
    }
   },
   "outputs": [],
   "source": [
    "# ## Split genres into separate values for future processing\n",
    "\n",
    "# for i in range(len(df_filled['genres'])):\n",
    "#     df_filled['genres'][i] = df_filled['genres'][i].split(',')\n",
    "#     print(df_filled['genres'][i])\n",
    "        \n",
    "# #     except Exception:\n",
    "# #         print('==='*25)\n",
    "# #         print('Already converted.')\n",
    "# #         print()"
   ]
  },
  {
   "cell_type": "code",
   "execution_count": null,
   "metadata": {
    "ExecuteTime": {
     "end_time": "2021-06-17T20:22:46.340357Z",
     "start_time": "2021-06-17T20:22:46.333357Z"
    }
   },
   "outputs": [],
   "source": [
    "## Changing release date to datetime datatype"
   ]
  },
  {
   "cell_type": "markdown",
   "metadata": {},
   "source": [
    "# Exploration"
   ]
  },
  {
   "cell_type": "markdown",
   "metadata": {},
   "source": [
    "# Initial Insights"
   ]
  },
  {
   "cell_type": "code",
   "execution_count": null,
   "metadata": {},
   "outputs": [],
   "source": []
  },
  {
   "cell_type": "markdown",
   "metadata": {},
   "source": [
    "# Feature Engineering"
   ]
  },
  {
   "cell_type": "code",
   "execution_count": null,
   "metadata": {},
   "outputs": [],
   "source": []
  },
  {
   "cell_type": "markdown",
   "metadata": {},
   "source": [
    "# Correlations/Multicollinearity"
   ]
  },
  {
   "cell_type": "code",
   "execution_count": null,
   "metadata": {},
   "outputs": [],
   "source": []
  },
  {
   "cell_type": "markdown",
   "metadata": {},
   "source": [
    "# Statistical Testing"
   ]
  },
  {
   "cell_type": "code",
   "execution_count": null,
   "metadata": {},
   "outputs": [],
   "source": []
  },
  {
   "cell_type": "markdown",
   "metadata": {},
   "source": [
    "# Inferential Modeling"
   ]
  },
  {
   "cell_type": "code",
   "execution_count": null,
   "metadata": {},
   "outputs": [],
   "source": []
  },
  {
   "cell_type": "markdown",
   "metadata": {},
   "source": [
    "# Predictive Modeling"
   ]
  },
  {
   "cell_type": "code",
   "execution_count": null,
   "metadata": {},
   "outputs": [],
   "source": []
  },
  {
   "cell_type": "markdown",
   "metadata": {},
   "source": [
    "# Final Results"
   ]
  },
  {
   "cell_type": "code",
   "execution_count": null,
   "metadata": {},
   "outputs": [],
   "source": []
  }
 ],
 "metadata": {
  "kernelspec": {
   "display_name": "Python 3",
   "language": "python",
   "name": "python3"
  },
  "language_info": {
   "codemirror_mode": {
    "name": "ipython",
    "version": 3
   },
   "file_extension": ".py",
   "mimetype": "text/x-python",
   "name": "python",
   "nbconvert_exporter": "python",
   "pygments_lexer": "ipython3",
   "version": "3.8.5"
  },
  "toc": {
   "base_numbering": 1,
   "nav_menu": {},
   "number_sections": true,
   "sideBar": true,
   "skip_h1_title": false,
   "title_cell": "Table of Contents",
   "title_sidebar": "Contents",
   "toc_cell": false,
   "toc_position": {},
   "toc_section_display": true,
   "toc_window_display": true
  }
 },
 "nbformat": 4,
 "nbformat_minor": 2
}
